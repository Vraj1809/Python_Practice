{
 "cells": [
  {
   "cell_type": "code",
   "execution_count": 1,
   "metadata": {},
   "outputs": [],
   "source": [
    "import pandas as pd\n",
    "import numpy as np"
   ]
  },
  {
   "cell_type": "code",
   "execution_count": 8,
   "metadata": {},
   "outputs": [
    {
     "name": "stdout",
     "output_type": "stream",
     "text": [
      "0    2012-01-01\n",
      "1    2012-01-02\n",
      "2    2012-01-03\n",
      "Name: DateTime, dtype: object\n",
      "0    08:30:00\n",
      "1    12:45:00\n",
      "2    18:15:00\n",
      "Name: DateTime, dtype: object\n"
     ]
    }
   ],
   "source": [
    "# Extract the date and time components from a DateTime column.\n",
    "# Create a sample DataFrame with a DateTime column\n",
    "data = {'DateTime': ['2012-01-01 08:30:00', '2012-01-02 12:45:00', '2012-01-03 18:15:00']}\n",
    "df = pd.DataFrame(data)\n",
    "\n",
    "df.DateTime = pd.to_datetime(df.DateTime)\n",
    "\n",
    "print(df.DateTime.dt.date)\n",
    "print(df.DateTime.dt.time)"
   ]
  },
  {
   "cell_type": "code",
   "execution_count": 10,
   "metadata": {},
   "outputs": [
    {
     "data": {
      "text/html": [
       "<div>\n",
       "<style scoped>\n",
       "    .dataframe tbody tr th:only-of-type {\n",
       "        vertical-align: middle;\n",
       "    }\n",
       "\n",
       "    .dataframe tbody tr th {\n",
       "        vertical-align: top;\n",
       "    }\n",
       "\n",
       "    .dataframe thead th {\n",
       "        text-align: right;\n",
       "    }\n",
       "</style>\n",
       "<table border=\"1\" class=\"dataframe\">\n",
       "  <thead>\n",
       "    <tr style=\"text-align: right;\">\n",
       "      <th></th>\n",
       "      <th>ID</th>\n",
       "      <th>Name</th>\n",
       "      <th>Department</th>\n",
       "      <th>Salary</th>\n",
       "    </tr>\n",
       "  </thead>\n",
       "  <tbody>\n",
       "    <tr>\n",
       "      <th>0</th>\n",
       "      <td>1</td>\n",
       "      <td>Imen</td>\n",
       "      <td>HR</td>\n",
       "      <td>50000</td>\n",
       "    </tr>\n",
       "    <tr>\n",
       "      <th>1</th>\n",
       "      <td>2</td>\n",
       "      <td>Karthika</td>\n",
       "      <td>IT</td>\n",
       "      <td>60000</td>\n",
       "    </tr>\n",
       "    <tr>\n",
       "      <th>2</th>\n",
       "      <td>3</td>\n",
       "      <td>Cosimo</td>\n",
       "      <td>Finance</td>\n",
       "      <td>45000</td>\n",
       "    </tr>\n",
       "  </tbody>\n",
       "</table>\n",
       "</div>"
      ],
      "text/plain": [
       "   ID      Name Department  Salary\n",
       "0   1      Imen         HR   50000\n",
       "1   2  Karthika         IT   60000\n",
       "2   3    Cosimo    Finance   45000"
      ]
     },
     "execution_count": 10,
     "metadata": {},
     "output_type": "execute_result"
    }
   ],
   "source": [
    "# Merge two DataFrames based on multiple columns.\n",
    "\n",
    "data1 = {'ID': [1, 2, 3, 4],\n",
    "         'Name': ['Imen', 'Karthika', 'Cosimo', 'Cathrine'],\n",
    "         'Department': ['HR', 'IT', 'Finance', 'IT']}\n",
    "\n",
    "data2 = {'ID': [1, 2, 3, 5],\n",
    "         'Salary': [50000, 60000, 45000, 70000],\n",
    "         'Department': ['HR', 'IT', 'Finance', 'Marketing']}\n",
    "\n",
    "df1 = pd.DataFrame(data1)\n",
    "df2 = pd.DataFrame(data2)\n",
    "\n",
    "pd.merge(df1, df2, on=['ID', 'Department'])\n"
   ]
  },
  {
   "cell_type": "code",
   "execution_count": 11,
   "metadata": {},
   "outputs": [
    {
     "data": {
      "text/html": [
       "<div>\n",
       "<style scoped>\n",
       "    .dataframe tbody tr th:only-of-type {\n",
       "        vertical-align: middle;\n",
       "    }\n",
       "\n",
       "    .dataframe tbody tr th {\n",
       "        vertical-align: top;\n",
       "    }\n",
       "\n",
       "    .dataframe thead th {\n",
       "        text-align: right;\n",
       "    }\n",
       "</style>\n",
       "<table border=\"1\" class=\"dataframe\">\n",
       "  <thead>\n",
       "    <tr style=\"text-align: right;\">\n",
       "      <th></th>\n",
       "      <th>total_salary</th>\n",
       "      <th>avg_salary</th>\n",
       "      <th>avg_experience</th>\n",
       "    </tr>\n",
       "    <tr>\n",
       "      <th>Department</th>\n",
       "      <th></th>\n",
       "      <th></th>\n",
       "      <th></th>\n",
       "    </tr>\n",
       "  </thead>\n",
       "  <tbody>\n",
       "    <tr>\n",
       "      <th>Finance</th>\n",
       "      <td>105000</td>\n",
       "      <td>52500.0</td>\n",
       "      <td>2.5</td>\n",
       "    </tr>\n",
       "    <tr>\n",
       "      <th>HR</th>\n",
       "      <td>105000</td>\n",
       "      <td>52500.0</td>\n",
       "      <td>2.5</td>\n",
       "    </tr>\n",
       "    <tr>\n",
       "      <th>IT</th>\n",
       "      <td>130000</td>\n",
       "      <td>65000.0</td>\n",
       "      <td>6.0</td>\n",
       "    </tr>\n",
       "  </tbody>\n",
       "</table>\n",
       "</div>"
      ],
      "text/plain": [
       "            total_salary  avg_salary  avg_experience\n",
       "Department                                          \n",
       "Finance           105000     52500.0             2.5\n",
       "HR                105000     52500.0             2.5\n",
       "IT                130000     65000.0             6.0"
      ]
     },
     "execution_count": 11,
     "metadata": {},
     "output_type": "execute_result"
    }
   ],
   "source": [
    "# Aggregate data in a DataFrame by multiple functions.\n",
    "\n",
    "data = {'Department': ['HR', 'IT', 'Finance', 'IT', 'HR', 'Finance'],\n",
    "        'Salary': [50000, 60000, 45000, 70000, 55000, 60000],\n",
    "        'Experience': [2, 5, 1, 7, 3, 4]}\n",
    "\n",
    "df = pd.DataFrame(data)\n",
    "\n",
    "group_data = df.groupby('Department').agg(\n",
    "    total_salary = ('Salary', 'sum'),\n",
    "    avg_salary = ('Salary', 'mean'),\n",
    "    avg_experience = ('Experience', 'mean'),\n",
    ")\n",
    "\n",
    "group_data"
   ]
  }
 ],
 "metadata": {
  "kernelspec": {
   "display_name": "base",
   "language": "python",
   "name": "python3"
  },
  "language_info": {
   "codemirror_mode": {
    "name": "ipython",
    "version": 3
   },
   "file_extension": ".py",
   "mimetype": "text/x-python",
   "name": "python",
   "nbconvert_exporter": "python",
   "pygments_lexer": "ipython3",
   "version": "3.12.7"
  }
 },
 "nbformat": 4,
 "nbformat_minor": 2
}
