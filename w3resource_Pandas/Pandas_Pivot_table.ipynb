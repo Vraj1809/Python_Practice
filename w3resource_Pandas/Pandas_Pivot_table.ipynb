{
 "cells": [
  {
   "cell_type": "code",
   "execution_count": 3,
   "metadata": {},
   "outputs": [],
   "source": [
    "import pandas as pd"
   ]
  },
  {
   "cell_type": "code",
   "execution_count": 13,
   "metadata": {},
   "outputs": [
    {
     "name": "stderr",
     "output_type": "stream",
     "text": [
      "C:\\Users\\VrajDesai\\AppData\\Local\\Temp\\ipykernel_5424\\334740441.py:7: FutureWarning: The provided callable <function max at 0x000001D767430180> is currently using DataFrameGroupBy.max. In a future version of pandas, the provided callable will be used directly. To keep current behavior pass the string \"max\" instead.\n",
      "  df.pivot_table(index='Item', values='Sale_amt', aggfunc=[np.max, np.min])\n",
      "C:\\Users\\VrajDesai\\AppData\\Local\\Temp\\ipykernel_5424\\334740441.py:7: FutureWarning: The provided callable <function min at 0x000001D7674302C0> is currently using DataFrameGroupBy.min. In a future version of pandas, the provided callable will be used directly. To keep current behavior pass the string \"min\" instead.\n",
      "  df.pivot_table(index='Item', values='Sale_amt', aggfunc=[np.max, np.min])\n"
     ]
    },
    {
     "data": {
      "text/html": [
       "<div>\n",
       "<style scoped>\n",
       "    .dataframe tbody tr th:only-of-type {\n",
       "        vertical-align: middle;\n",
       "    }\n",
       "\n",
       "    .dataframe tbody tr th {\n",
       "        vertical-align: top;\n",
       "    }\n",
       "\n",
       "    .dataframe thead tr th {\n",
       "        text-align: left;\n",
       "    }\n",
       "\n",
       "    .dataframe thead tr:last-of-type th {\n",
       "        text-align: right;\n",
       "    }\n",
       "</style>\n",
       "<table border=\"1\" class=\"dataframe\">\n",
       "  <thead>\n",
       "    <tr>\n",
       "      <th></th>\n",
       "      <th>max</th>\n",
       "      <th>min</th>\n",
       "    </tr>\n",
       "    <tr>\n",
       "      <th></th>\n",
       "      <th>Sale_amt</th>\n",
       "      <th>Sale_amt</th>\n",
       "    </tr>\n",
       "    <tr>\n",
       "      <th>Item</th>\n",
       "      <th></th>\n",
       "      <th></th>\n",
       "    </tr>\n",
       "  </thead>\n",
       "  <tbody>\n",
       "    <tr>\n",
       "      <th>Cell Phone</th>\n",
       "      <td>21600.0</td>\n",
       "      <td>3375.0</td>\n",
       "    </tr>\n",
       "    <tr>\n",
       "      <th>Desk</th>\n",
       "      <td>625.0</td>\n",
       "      <td>250.0</td>\n",
       "    </tr>\n",
       "    <tr>\n",
       "      <th>Home Theater</th>\n",
       "      <td>47000.0</td>\n",
       "      <td>2000.0</td>\n",
       "    </tr>\n",
       "    <tr>\n",
       "      <th>Television</th>\n",
       "      <td>113810.0</td>\n",
       "      <td>8386.0</td>\n",
       "    </tr>\n",
       "    <tr>\n",
       "      <th>Video Games</th>\n",
       "      <td>5616.0</td>\n",
       "      <td>936.0</td>\n",
       "    </tr>\n",
       "  </tbody>\n",
       "</table>\n",
       "</div>"
      ],
      "text/plain": [
       "                   max      min\n",
       "              Sale_amt Sale_amt\n",
       "Item                           \n",
       "Cell Phone     21600.0   3375.0\n",
       "Desk             625.0    250.0\n",
       "Home Theater   47000.0   2000.0\n",
       "Television    113810.0   8386.0\n",
       "Video Games     5616.0    936.0"
      ]
     },
     "execution_count": 13,
     "metadata": {},
     "output_type": "execute_result"
    }
   ],
   "source": [
    "# Write a Pandas program to create a Pivot table and find the maximum and minimum sale value of the items\n",
    "import numpy as np\n",
    "df = pd.read_excel('SaleData.xlsx')\n",
    "\n",
    "df\n",
    "\n",
    "df.pivot_table(index='Item', values='Sale_amt', aggfunc=[np.max, np.min])"
   ]
  },
  {
   "cell_type": "code",
   "execution_count": null,
   "metadata": {},
   "outputs": [
    {
     "name": "stdout",
     "output_type": "stream",
     "text": [
      "                              Sale_amt\n",
      "Region  Manager SalesMan              \n",
      "Central Douglas John      41338.666667\n",
      "East    Douglas Karen     16068.000000\n",
      "West    Douglas Michael   33418.000000\n"
     ]
    }
   ],
   "source": [
    "# Write a Pandas program to create a Pivot table and find the total sale amount region wise, manager wise, sales man wise where Manager = \"Douglas\"\n",
    "\n",
    "import pandas as pd\n",
    "df = pd.read_excel('SaleData.xlsx')\n",
    "table = pd.pivot_table(df,index=[\"Region\",\"Manager\",\"SalesMan\"], values=\"Sale_amt\")\n",
    "print(table.query('Manager == \"Douglas\"'))"
   ]
  },
  {
   "cell_type": "code",
   "execution_count": 40,
   "metadata": {},
   "outputs": [
    {
     "name": "stdout",
     "output_type": "stream",
     "text": [
      "Survival Probability by Class: \n",
      "         len  sum  probability\n",
      "class                        \n",
      "First   216  136     0.629630\n",
      "Second  184   87     0.472826\n",
      "Third   491  119     0.242363\n",
      "Survival Probability by Class: \n",
      "         len  sum  probability\n",
      "sex                          \n",
      "female  314  233     0.742038\n",
      "male    577  109     0.188908\n",
      "Survival Probability by Class: \n",
      "        len  sum  probability\n",
      "alone                       \n",
      "False  354  179     0.505650\n",
      "True   537  163     0.303538\n",
      "Survival Probability by Class: \n",
      "           len  sum  probability\n",
      "embarked                       \n",
      "C         168   93     0.553571\n",
      "Q          77   30     0.389610\n",
      "S         644  217     0.336957\n"
     ]
    },
    {
     "name": "stderr",
     "output_type": "stream",
     "text": [
      "C:\\Users\\VrajDesai\\AppData\\Local\\Temp\\ipykernel_5424\\2381592460.py:7: FutureWarning: The provided callable <function sum at 0x000001D767407A60> is currently using SeriesGroupBy.sum. In a future version of pandas, the provided callable will be used directly. To keep current behavior pass the string \"sum\" instead.\n",
      "  class_df = pd.pivot_table(df, index='class', values='survived', aggfunc={np.sum,len})\n",
      "C:\\Users\\VrajDesai\\AppData\\Local\\Temp\\ipykernel_5424\\2381592460.py:12: FutureWarning: The provided callable <function sum at 0x000001D767407A60> is currently using SeriesGroupBy.sum. In a future version of pandas, the provided callable will be used directly. To keep current behavior pass the string \"sum\" instead.\n",
      "  gender_df = pd.pivot_table(df, index='sex', values='survived', aggfunc={np.sum,len})\n",
      "C:\\Users\\VrajDesai\\AppData\\Local\\Temp\\ipykernel_5424\\2381592460.py:17: FutureWarning: The provided callable <function sum at 0x000001D767407A60> is currently using SeriesGroupBy.sum. In a future version of pandas, the provided callable will be used directly. To keep current behavior pass the string \"sum\" instead.\n",
      "  alone_df = pd.pivot_table(df, index='alone', values='survived', aggfunc={np.sum,len})\n",
      "C:\\Users\\VrajDesai\\AppData\\Local\\Temp\\ipykernel_5424\\2381592460.py:22: FutureWarning: The provided callable <function sum at 0x000001D767407A60> is currently using SeriesGroupBy.sum. In a future version of pandas, the provided callable will be used directly. To keep current behavior pass the string \"sum\" instead.\n",
      "  embarked_df = pd.pivot_table(df, index='embarked', values='survived', aggfunc={np.sum,len})\n"
     ]
    }
   ],
   "source": [
    "#  Write a Pandas program to create a Pivot table and find the probability of survival by class, gender, solo boarding and port of embarkation.\n",
    "\n",
    "df = pd.read_csv('titanic.csv')\n",
    "df.head()\n",
    "\n",
    "# Probability by class\n",
    "class_df = pd.pivot_table(df, index='class', values='survived', aggfunc={np.sum,len})\n",
    "class_df['probability'] = class_df['sum'] / class_df['len']\n",
    "print(\"Survival Probability by Class: \\n\",class_df)\n",
    "\n",
    "# Probability by gender\n",
    "gender_df = pd.pivot_table(df, index='sex', values='survived', aggfunc={np.sum,len})\n",
    "gender_df['probability'] = gender_df['sum'] / gender_df['len']\n",
    "print(\"Survival Probability by Class: \\n\",gender_df)\n",
    "\n",
    "# Probability by solo_boarding\n",
    "alone_df = pd.pivot_table(df, index='alone', values='survived', aggfunc={np.sum,len})\n",
    "alone_df['probability'] = alone_df['sum'] / alone_df['len']\n",
    "print(\"Survival Probability by Class: \\n\",alone_df)\n",
    "\n",
    "# Probability by embarked\n",
    "embarked_df = pd.pivot_table(df, index='embarked', values='survived', aggfunc={np.sum,len})\n",
    "embarked_df['probability'] = embarked_df['sum'] / embarked_df['len']\n",
    "print(\"Survival Probability by Class: \\n\",embarked_df)"
   ]
  },
  {
   "cell_type": "code",
   "execution_count": 50,
   "metadata": {},
   "outputs": [
    {
     "name": "stdout",
     "output_type": "stream",
     "text": [
      "Survival Probability by Class: \n",
      "               len  sum  probability\n",
      "sex    alone                       \n",
      "female False  188  134     0.712766\n",
      "       True   126   99     0.785714\n",
      "male   False  166   45     0.271084\n",
      "       True   411   64     0.155718\n"
     ]
    },
    {
     "name": "stderr",
     "output_type": "stream",
     "text": [
      "C:\\Users\\VrajDesai\\AppData\\Local\\Temp\\ipykernel_5424\\1426636226.py:5: FutureWarning: The provided callable <function sum at 0x000001D767407A60> is currently using SeriesGroupBy.sum. In a future version of pandas, the provided callable will be used directly. To keep current behavior pass the string \"sum\" instead.\n",
      "  gender_df = pd.pivot_table(df, index=['sex','alone'], values='survived', aggfunc={np.sum, len})\n"
     ]
    }
   ],
   "source": [
    "# Write a Pandas program to create a Pivot table and separate the gender according to whether they traveled alone or not to get the probability of survival.\n",
    "\n",
    "df.head()\n",
    "\n",
    "gender_df = pd.pivot_table(df, index=['sex','alone'], values='survived', aggfunc={np.sum, len})\n",
    "gender_df['probability'] = gender_df['sum'] / gender_df['len']\n",
    "print(\"Survival Probability by Class: \\n\",gender_df)"
   ]
  }
 ],
 "metadata": {
  "kernelspec": {
   "display_name": "base",
   "language": "python",
   "name": "python3"
  },
  "language_info": {
   "codemirror_mode": {
    "name": "ipython",
    "version": 3
   },
   "file_extension": ".py",
   "mimetype": "text/x-python",
   "name": "python",
   "nbconvert_exporter": "python",
   "pygments_lexer": "ipython3",
   "version": "3.12.7"
  }
 },
 "nbformat": 4,
 "nbformat_minor": 2
}
