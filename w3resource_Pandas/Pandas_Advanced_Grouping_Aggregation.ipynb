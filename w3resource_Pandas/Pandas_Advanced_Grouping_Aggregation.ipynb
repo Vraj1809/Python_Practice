{
 "cells": [
  {
   "cell_type": "code",
   "execution_count": 1,
   "metadata": {},
   "outputs": [],
   "source": [
    "import pandas as pd"
   ]
  },
  {
   "cell_type": "code",
   "execution_count": 8,
   "metadata": {},
   "outputs": [
    {
     "name": "stdout",
     "output_type": "stream",
     "text": [
      "Sample DataFrame:\n",
      "  Category  Value1  Value2\n",
      "0        A       5      50\n",
      "1        A      10     100\n",
      "2        B      15     150\n",
      "3        B      20     200\n",
      "4        C      25     250\n",
      "5        C      30     300\n"
     ]
    },
    {
     "data": {
      "text/html": [
       "<div>\n",
       "<style scoped>\n",
       "    .dataframe tbody tr th:only-of-type {\n",
       "        vertical-align: middle;\n",
       "    }\n",
       "\n",
       "    .dataframe tbody tr th {\n",
       "        vertical-align: top;\n",
       "    }\n",
       "\n",
       "    .dataframe thead th {\n",
       "        text-align: right;\n",
       "    }\n",
       "</style>\n",
       "<table border=\"1\" class=\"dataframe\">\n",
       "  <thead>\n",
       "    <tr style=\"text-align: right;\">\n",
       "      <th></th>\n",
       "      <th>Total_Value</th>\n",
       "      <th>Average_Value</th>\n",
       "    </tr>\n",
       "    <tr>\n",
       "      <th>Category</th>\n",
       "      <th></th>\n",
       "      <th></th>\n",
       "    </tr>\n",
       "  </thead>\n",
       "  <tbody>\n",
       "    <tr>\n",
       "      <th>A</th>\n",
       "      <td>15</td>\n",
       "      <td>75.0</td>\n",
       "    </tr>\n",
       "    <tr>\n",
       "      <th>B</th>\n",
       "      <td>35</td>\n",
       "      <td>175.0</td>\n",
       "    </tr>\n",
       "    <tr>\n",
       "      <th>C</th>\n",
       "      <td>55</td>\n",
       "      <td>275.0</td>\n",
       "    </tr>\n",
       "  </tbody>\n",
       "</table>\n",
       "</div>"
      ],
      "text/plain": [
       "          Total_Value  Average_Value\n",
       "Category                            \n",
       "A                  15           75.0\n",
       "B                  35          175.0\n",
       "C                  55          275.0"
      ]
     },
     "execution_count": 8,
     "metadata": {},
     "output_type": "execute_result"
    }
   ],
   "source": [
    "# GroupBy and Applying Multiple Aggregations with Named Functions:\n",
    "# Write a Pandas program to apply multiple aggregations with named functions in GroupBy for detailed  data analysis.\n",
    "\n",
    "data = {'Category': ['A', 'A', 'B', 'B', 'C', 'C'],\n",
    "        'Value1': [5, 10, 15, 20, 25, 30],\n",
    "        'Value2': [50, 100, 150, 200, 250, 300]}\n",
    "\n",
    "df = pd.DataFrame(data)\n",
    "print(\"Sample DataFrame:\")\n",
    "print(df)\n",
    "\n",
    "group = df.groupby('Category').agg(\n",
    "    Total_Value = ('Value1', 'sum'),\n",
    "    Average_Value = (\"Value2\", 'mean')\n",
    ")\n",
    "\n",
    "group"
   ]
  },
  {
   "cell_type": "code",
   "execution_count": 16,
   "metadata": {},
   "outputs": [
    {
     "name": "stdout",
     "output_type": "stream",
     "text": [
      "Sample DataFrame:\n",
      "  Category  Value\n",
      "0        A   10.0\n",
      "1        A    NaN\n",
      "2        B   30.0\n",
      "3        B   40.0\n",
      "4        C    NaN\n",
      "5        C   60.0\n",
      "Summation before filling missing values: \n",
      "           Value\n",
      "Category       \n",
      "A          10.0\n",
      "B          35.0\n",
      "C          60.0\n",
      "Summation after filling missing values: \n",
      "           Value\n",
      "Category       \n",
      "A          10.0\n",
      "B          35.0\n",
      "C          50.0\n"
     ]
    }
   ],
   "source": [
    "# Write a Pandas program to handle missing data in GroupBy operations to ensure accurate and reliable  data analysis.\n",
    "\n",
    "data = {'Category': ['A', 'A', 'B', 'B', 'C', 'C'],\n",
    "        'Value': [10, None, 30, 40, None, 60]}\n",
    "\n",
    "df = pd.DataFrame(data)\n",
    "print(\"Sample DataFrame:\")\n",
    "print(df)\n",
    "print(\"Summation before filling missing values: \\n\",df.groupby('Category').mean())\n",
    "print(\"Summation after filling missing values: \\n\",df.ffill().groupby('Category').mean())\n"
   ]
  }
 ],
 "metadata": {
  "kernelspec": {
   "display_name": "base",
   "language": "python",
   "name": "python3"
  },
  "language_info": {
   "codemirror_mode": {
    "name": "ipython",
    "version": 3
   },
   "file_extension": ".py",
   "mimetype": "text/x-python",
   "name": "python",
   "nbconvert_exporter": "python",
   "pygments_lexer": "ipython3",
   "version": "3.12.7"
  }
 },
 "nbformat": 4,
 "nbformat_minor": 2
}
