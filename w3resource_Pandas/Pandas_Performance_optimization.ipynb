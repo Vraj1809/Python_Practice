{
 "cells": [
  {
   "cell_type": "code",
   "execution_count": 2,
   "metadata": {},
   "outputs": [
    {
     "name": "stdout",
     "output_type": "stream",
     "text": [
      "   emp_id first_name last_name\n",
      "0     100     Steven      King\n",
      "1     101      Neena   Kochhar\n",
      "2     102        Lex   De Haan\n",
      "3     103  Alexander    Hunold\n",
      "4     104      Bruce     Ernst\n"
     ]
    }
   ],
   "source": [
    "# Write a Pandas program to optimize the performance of reading a large Excel file into a DataFrame by specifying data types and using the \"usecols\" parameter.\n",
    "\n",
    "# Import necessary libraries\n",
    "import pandas as pd\n",
    "\n",
    "# Specify the path to the large Excel file\n",
    "file_path = 'All_employee.xlsx'\n",
    "\n",
    "# Define the data types for the columns\n",
    "dtypes = {\n",
    "    'emp_id': 'int8',\n",
    "    'first_name': 'U16',\n",
    "    'last_name': 'U16',\n",
    "    # Add more column types as needed\n",
    "}\n",
    "\n",
    "# Define the columns to read\n",
    "usecols = ['emp_id', 'first_name', 'last_name']\n",
    "\n",
    "# Use read_excel with specified data types and columns to read\n",
    "df = pd.read_excel(file_path, dtype=dtypes, usecols=usecols)\n",
    "\n",
    "# Display the DataFrame\n",
    "print(df.head())"
   ]
  },
  {
   "cell_type": "code",
   "execution_count": 3,
   "metadata": {},
   "outputs": [
    {
     "name": "stdout",
     "output_type": "stream",
     "text": [
      "Memory usage before optimization:\n",
      "<class 'pandas.core.frame.DataFrame'>\n",
      "RangeIndex: 100000 entries, 0 to 99999\n",
      "Data columns (total 4 columns):\n",
      " #   Column        Non-Null Count   Dtype  \n",
      "---  ------        --------------   -----  \n",
      " 0   int_col       100000 non-null  int32  \n",
      " 1   float_col     100000 non-null  float64\n",
      " 2   category_col  100000 non-null  object \n",
      " 3   object_col    100000 non-null  object \n",
      "dtypes: float64(1), int32(1), object(2)\n",
      "memory usage: 10.9 MB\n",
      "None\n",
      "\n",
      "Memory usage after optimization:\n",
      "<class 'pandas.core.frame.DataFrame'>\n",
      "RangeIndex: 100000 entries, 0 to 99999\n",
      "Data columns (total 4 columns):\n",
      " #   Column        Non-Null Count   Dtype   \n",
      "---  ------        --------------   -----   \n",
      " 0   int_col       100000 non-null  int16   \n",
      " 1   float_col     100000 non-null  float32 \n",
      " 2   category_col  100000 non-null  category\n",
      " 3   object_col    100000 non-null  category\n",
      "dtypes: category(2), float32(1), int16(1)\n",
      "memory usage: 781.9 KB\n",
      "None\n"
     ]
    }
   ],
   "source": [
    "# Write a Pandas program that uses the \"astype\" method to convert the data types of a DataFrame and measures the reduction in memory usage.\n",
    "\n",
    "import pandas as pd  # Import the Pandas library\n",
    "import numpy as np  # Import the NumPy library\n",
    "\n",
    "# Create a sample DataFrame with mixed data types\n",
    "np.random.seed(0)  # Set seed for reproducibility\n",
    "data = {\n",
    "    'int_col': np.random.randint(0, 100, size=100000),\n",
    "    'float_col': np.random.random(size=100000) * 100,\n",
    "    'category_col': np.random.choice(['A', 'B', 'C'], size=100000),\n",
    "    'object_col': np.random.choice(['foo', 'bar', 'baz'], size=100000)\n",
    "}\n",
    "df = pd.DataFrame(data)\n",
    "\n",
    "# Print memory usage before optimization\n",
    "print(\"Memory usage before optimization:\")\n",
    "print(df.info(memory_usage='deep'))\n",
    "\n",
    "# Convert data types using astype method\n",
    "df['int_col'] = df['int_col'].astype('int16')\n",
    "df['float_col'] = df['float_col'].astype('float32')\n",
    "df['category_col'] = df['category_col'].astype('category')\n",
    "df['object_col'] = df['object_col'].astype('category')\n",
    "\n",
    "# Print memory usage after optimization\n",
    "print(\"\\nMemory usage after optimization:\")\n",
    "print(df.info(memory_usage='deep'))\n"
   ]
  },
  {
   "cell_type": "code",
   "execution_count": null,
   "metadata": {},
   "outputs": [],
   "source": []
  }
 ],
 "metadata": {
  "kernelspec": {
   "display_name": "base",
   "language": "python",
   "name": "python3"
  },
  "language_info": {
   "codemirror_mode": {
    "name": "ipython",
    "version": 3
   },
   "file_extension": ".py",
   "mimetype": "text/x-python",
   "name": "python",
   "nbconvert_exporter": "python",
   "pygments_lexer": "ipython3",
   "version": "3.12.7"
  }
 },
 "nbformat": 4,
 "nbformat_minor": 2
}
