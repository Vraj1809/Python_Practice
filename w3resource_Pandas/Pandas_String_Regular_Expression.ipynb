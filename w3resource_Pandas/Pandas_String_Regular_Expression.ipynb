{
 "cells": [
  {
   "cell_type": "code",
   "execution_count": 3,
   "metadata": {},
   "outputs": [
    {
     "name": "stdout",
     "output_type": "stream",
     "text": [
      "Original DataFrame:\n",
      "  company_code date_of_sale                      address\n",
      "0         Abcd   12/05/2002    9910 Surrey <b>Avenue</b>\n",
      "1         EFGF   16/02/1999          92 N. Bishop Avenue\n",
      "2      zefsalf   05/09/1998  9910 <br>Golden Star Avenue\n",
      "3      sdfslew   12/02/2022        102 Dunbar <i></i>St.\n",
      "4      zekfsdf   15/09/1997     17 West Livingston Court\n",
      "\n",
      "Sentences without tags':\n",
      "  company_code date_of_sale                      address  \\\n",
      "0         Abcd   12/05/2002    9910 Surrey <b>Avenue</b>   \n",
      "1         EFGF   16/02/1999          92 N. Bishop Avenue   \n",
      "2      zefsalf   05/09/1998  9910 <br>Golden Star Avenue   \n",
      "3      sdfslew   12/02/2022        102 Dunbar <i></i>St.   \n",
      "4      zekfsdf   15/09/1997     17 West Livingston Court   \n",
      "\n",
      "              with_out_tags  \n",
      "0        9910 Surrey Avenue  \n",
      "1       92 N. Bishop Avenue  \n",
      "2   9910 Golden Star Avenue  \n",
      "3            102 Dunbar St.  \n",
      "4  17 West Livingston Court  \n"
     ]
    }
   ],
   "source": [
    "# Write a Pandas program to remove the html tags within the specified column of a given DataFrame.\n",
    "import pandas as pd\n",
    "import re as re\n",
    "df = pd.DataFrame({\n",
    "    'company_code': ['Abcd','EFGF', 'zefsalf', 'sdfslew', 'zekfsdf'],\n",
    "    'date_of_sale': ['12/05/2002','16/02/1999','05/09/1998','12/02/2022','15/09/1997'],\n",
    "    'address': ['9910 Surrey <b>Avenue</b>','92 N. Bishop Avenue','9910 <br>Golden Star Avenue', '102 Dunbar <i></i>St.', '17 West Livingston Court']\n",
    "})\n",
    "print(\"Original DataFrame:\")\n",
    "print(df)\n",
    "\n",
    "def remove_tags(string):\n",
    "    result = re.sub('<.*?>', '', string)\n",
    "    return result\n",
    "\n",
    "df['with_out_tags']=df['address'].apply(lambda cw : remove_tags(cw))\n",
    "print(\"\\nSentences without tags':\")\n",
    "print(df)"
   ]
  },
  {
   "cell_type": "code",
   "execution_count": 4,
   "metadata": {},
   "outputs": [
    {
     "name": "stdout",
     "output_type": "stream",
     "text": [
      "\n",
      "Extract words starting with capital words from the sentences':\n",
      "  company_code date_of_sale                      address  \\\n",
      "0         Abcd   12/05/2002    9910 Surrey <b>Avenue</b>   \n",
      "1         EFGF   16/02/1999          92 N. Bishop Avenue   \n",
      "2      zefsalf   05/09/1998  9910 <br>Golden Star Avenue   \n",
      "3      sdfslew   12/02/2022        102 Dunbar <i></i>St.   \n",
      "4      zekfsdf   15/09/1997     17 West Livingston Court   \n",
      "\n",
      "              with_out_tags               caps_word_in  \n",
      "0        9910 Surrey Avenue           [Surrey, Avenue]  \n",
      "1       92 N. Bishop Avenue           [Bishop, Avenue]  \n",
      "2   9910 Golden Star Avenue     [Golden, Star, Avenue]  \n",
      "3            102 Dunbar St.               [Dunbar, St]  \n",
      "4  17 West Livingston Court  [West, Livingston, Court]  \n"
     ]
    }
   ],
   "source": [
    "# Write a Pandas program to extract words starting with capital words from a given column of a given DataFrame.\n",
    "def find_capital_word(str1):\n",
    "    result = re.findall(r'\\b[A-Z]\\w+', str1)\n",
    "    return result\n",
    "\n",
    "df['caps_word_in']=df['address'].apply(lambda cw : find_capital_word(cw))\n",
    "print(\"\\nExtract words starting with capital words from the sentences':\")\n",
    "print(df)"
   ]
  }
 ],
 "metadata": {
  "kernelspec": {
   "display_name": "base",
   "language": "python",
   "name": "python3"
  },
  "language_info": {
   "codemirror_mode": {
    "name": "ipython",
    "version": 3
   },
   "file_extension": ".py",
   "mimetype": "text/x-python",
   "name": "python",
   "nbconvert_exporter": "python",
   "pygments_lexer": "ipython3",
   "version": "3.12.7"
  }
 },
 "nbformat": 4,
 "nbformat_minor": 2
}
