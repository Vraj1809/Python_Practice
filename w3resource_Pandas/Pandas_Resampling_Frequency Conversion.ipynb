{
 "cells": [
  {
   "cell_type": "code",
   "execution_count": 2,
   "metadata": {},
   "outputs": [],
   "source": [
    "import pandas as pd\n",
    "import numpy as np"
   ]
  },
  {
   "cell_type": "code",
   "execution_count": 8,
   "metadata": {},
   "outputs": [
    {
     "name": "stdout",
     "output_type": "stream",
     "text": [
      "2025-01-31         NaN\n",
      "2025-02-01    0.000000\n",
      "2025-02-02    0.000000\n",
      "2025-02-03    0.000000\n",
      "2025-02-04    0.000000\n",
      "                ...   \n",
      "2025-05-27    0.000000\n",
      "2025-05-28    0.000000\n",
      "2025-05-29    0.000000\n",
      "2025-05-30    0.000000\n",
      "2025-05-31   -0.111111\n",
      "Freq: D, Length: 121, dtype: float64\n"
     ]
    },
    {
     "name": "stderr",
     "output_type": "stream",
     "text": [
      "C:\\Users\\VrajDesai\\AppData\\Local\\Temp\\ipykernel_11404\\2171711733.py:11: FutureWarning: The default fill_method='pad' in Series.pct_change is deprecated and will be removed in a future version. Either fill in any non-leading NA values prior to calling pct_change or specify 'fill_method=None' to not fill NA values.\n",
      "  df_pct_change = df_daily.pct_change()\n"
     ]
    }
   ],
   "source": [
    "# Write a Pandas program to calculate percentage change in Resampled data.\n",
    "\n",
    "date_rng = pd.date_range(start='2025-01-01', periods=5, freq='ME')\n",
    "\n",
    "df = pd.Series(np.random.randint(1,10, len(date_rng)), index=date_rng)\n",
    "\n",
    "df\n",
    "# resampling\n",
    "df_daily = df.resample('D').mean()\n",
    "\n",
    "df_pct_change = df_daily.pct_change()\n",
    "\n",
    "# Display the percentage change in the resampled time series\n",
    "print(df_pct_change)"
   ]
  },
  {
   "cell_type": "code",
   "execution_count": 9,
   "metadata": {},
   "outputs": [
    {
     "name": "stdout",
     "output_type": "stream",
     "text": [
      "2023-01-01    0.055423\n",
      "2023-01-03   -0.157719\n",
      "2023-01-05    0.319143\n",
      "2023-01-07   -0.225543\n",
      "2023-01-09   -0.516305\n",
      "Freq: 2D, dtype: float64\n"
     ]
    },
    {
     "name": "stderr",
     "output_type": "stream",
     "text": [
      "C:\\Users\\VrajDesai\\AppData\\Local\\Temp\\ipykernel_11404\\1475690369.py:1: FutureWarning: 'H' is deprecated and will be removed in a future version, please use 'h' instead.\n",
      "  date_rng = pd.date_range(start='2023-01-01', end='2023-01-10', freq='H')\n"
     ]
    }
   ],
   "source": [
    "# Write a Pandas program to create custom Resampling periods.\n",
    "\n",
    "date_rng = pd.date_range(start='2023-01-01', end='2023-01-10', freq='H')\n",
    "ts = pd.Series(np.random.randn(len(date_rng)), index=date_rng)\n",
    "\n",
    "# Define a custom function to resample using Grouper\n",
    "def custom_resample(ts, freq):\n",
    "    return ts.groupby(pd.Grouper(freq=freq)).mean()\n",
    "\n",
    "# Resample the time series to a custom period of 2 days\n",
    "ts_custom = custom_resample(ts, '2D')\n",
    "\n",
    "# Display the resampled time series\n",
    "print(ts_custom)"
   ]
  },
  {
   "cell_type": "code",
   "execution_count": 17,
   "metadata": {},
   "outputs": [
    {
     "name": "stdout",
     "output_type": "stream",
     "text": [
      "Before Resampling:\n",
      " 2025-01-31    8\n",
      "2025-02-28    4\n",
      "2025-03-31    2\n",
      "2025-04-30    1\n",
      "2025-05-31    9\n",
      "Freq: ME, dtype: int32\n",
      "\n",
      "After Resampling: \n",
      " 2025-01-31    8.0\n",
      "2025-02-01    NaN\n",
      "2025-02-02    NaN\n",
      "2025-02-03    NaN\n",
      "2025-02-04    NaN\n",
      "             ... \n",
      "2025-05-27    NaN\n",
      "2025-05-28    NaN\n",
      "2025-05-29    NaN\n",
      "2025-05-30    NaN\n",
      "2025-05-31    9.0\n",
      "Freq: D, Length: 121, dtype: float64\n",
      "\n",
      "After Filling Missing Values: \n",
      " 3.7024793388429753\n"
     ]
    }
   ],
   "source": [
    "# Write a Pandas program to handle missing data before Resampling.\n",
    "date_rng = pd.date_range(start='2025-01-01', periods=5, freq='ME')\n",
    "\n",
    "df = pd.Series(np.random.randint(1,10, len(date_rng)), index=date_rng)\n",
    "\n",
    "print(\"Before Resampling:\\n\",df)\n",
    "# resampling\n",
    "df_daily = df.resample('D')\n",
    "print(\"\\nAfter Resampling: \\n\",df_daily.mean())\n",
    "\n",
    "df_filled = df_daily.ffill()\n",
    "print(\"\\nAfter Filling Missing Values: \\n\",df_filled.mean())"
   ]
  }
 ],
 "metadata": {
  "kernelspec": {
   "display_name": "base",
   "language": "python",
   "name": "python3"
  },
  "language_info": {
   "codemirror_mode": {
    "name": "ipython",
    "version": 3
   },
   "file_extension": ".py",
   "mimetype": "text/x-python",
   "name": "python",
   "nbconvert_exporter": "python",
   "pygments_lexer": "ipython3",
   "version": "3.12.7"
  }
 },
 "nbformat": 4,
 "nbformat_minor": 2
}
