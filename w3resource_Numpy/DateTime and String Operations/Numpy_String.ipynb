{
 "cells": [
  {
   "cell_type": "code",
   "execution_count": 1,
   "metadata": {},
   "outputs": [],
   "source": [
    "import numpy as np"
   ]
  },
  {
   "cell_type": "code",
   "execution_count": 2,
   "metadata": {},
   "outputs": [
    {
     "data": {
      "text/plain": [
       "array(['Python Java', 'PHP C++'], dtype='<U11')"
      ]
     },
     "execution_count": 2,
     "metadata": {},
     "output_type": "execute_result"
    }
   ],
   "source": [
    "# # Write a NumPy program to concatenate element-wise two arrays of string.\n",
    "# Expected Output:\n",
    "# Array1:\n",
    "# ['Python' 'PHP']\n",
    "# Array2:\n",
    "# [' Java' ' C++']\n",
    "# new array:\n",
    "# ['Python Java' 'PHP C++']\n",
    "\n",
    "arr1 = np.array(['Python', 'PHP'])\n",
    "arr2 = np.array([' Java', ' C++'])\n",
    "\n",
    "np.char.add(arr1, arr2)"
   ]
  },
  {
   "cell_type": "code",
   "execution_count": 3,
   "metadata": {},
   "outputs": [
    {
     "data": {
      "text/plain": [
       "array(['PythonPythonPython', 'PHPPHPPHP', 'JavaJavaJava', 'C++C++C++'],\n",
       "      dtype='<U18')"
      ]
     },
     "execution_count": 3,
     "metadata": {},
     "output_type": "execute_result"
    }
   ],
   "source": [
    "# Write a NumPy program to repeat all the elements three times of a given array of string\n",
    "# Expected Output:\n",
    "# Original Array:\n",
    "# ['Python' 'PHP' 'Java' 'C++']\n",
    "# New array:\n",
    "# ['PythonPythonPython' 'PHPPHPPHP' 'JavaJavaJava' 'C++C++C++']\n",
    "\n",
    "arr = np.array(['Python', 'PHP', 'Java', 'C++'])\n",
    "\n",
    "np.char.multiply(arr, 3)"
   ]
  },
  {
   "cell_type": "code",
   "execution_count": 4,
   "metadata": {},
   "outputs": [
    {
     "name": "stdout",
     "output_type": "stream",
     "text": [
      "['Python' 'Php' 'Java' 'C++']\n",
      "['python' 'php' 'java' 'c++']\n",
      "['PYTHON' 'PHP' 'JAVA' 'C++']\n",
      "['pYTHON' 'php' 'jAVA' 'c++']\n",
      "['Python' 'Php' 'Java' 'C++']\n"
     ]
    }
   ],
   "source": [
    "#  Write a NumPy program to capitalize the first letter, lowercase, uppercase, swapcase, title-case of all the elements of a given array.\n",
    "# Expected Output:\n",
    "# Original Array:\n",
    "# ['python' 'PHP' 'java' 'C++']\n",
    "# Capitalized: ['Python' 'Php' 'Java' 'C++']\n",
    "# Lowered: ['python' 'php' 'java' 'c++']\n",
    "# Uppered: ['PYTHON' 'PHP' 'JAVA' 'C++']\n",
    "# Swapcased: ['PYTHON' 'php' 'JAVA' 'c++']\n",
    "# Titlecased: ['Python' 'Php' 'Java' 'C++']\n",
    "\n",
    "arr = np.array(['Python', 'PHP', 'Java', 'C++'])\n",
    "\n",
    "print(np.char.capitalize(arr))\n",
    "\n",
    "print(np.char.lower(arr))\n",
    "\n",
    "print(np.char.upper(arr))\n",
    "\n",
    "print(np.char.swapcase(arr))\n",
    "\n",
    "print(np.char.title(arr))\n"
   ]
  }
 ],
 "metadata": {
  "kernelspec": {
   "display_name": "base",
   "language": "python",
   "name": "python3"
  },
  "language_info": {
   "codemirror_mode": {
    "name": "ipython",
    "version": 3
   },
   "file_extension": ".py",
   "mimetype": "text/x-python",
   "name": "python",
   "nbconvert_exporter": "python",
   "pygments_lexer": "ipython3",
   "version": "3.12.7"
  }
 },
 "nbformat": 4,
 "nbformat_minor": 2
}
