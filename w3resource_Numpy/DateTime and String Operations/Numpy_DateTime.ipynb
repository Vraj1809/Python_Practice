{
 "cells": [
  {
   "cell_type": "code",
   "execution_count": 5,
   "metadata": {},
   "outputs": [
    {
     "data": {
      "text/plain": [
       "21"
      ]
     },
     "execution_count": 5,
     "metadata": {},
     "output_type": "execute_result"
    }
   ],
   "source": [
    "# Write a NumPy program to find the number of weekdays in March 2017.\n",
    "\n",
    "import numpy as np\n",
    "\n",
    "np.absolute(np.busday_count('2024-04', '2024-03'))"
   ]
  },
  {
   "cell_type": "code",
   "execution_count": 7,
   "metadata": {},
   "outputs": [
    {
     "name": "stdout",
     "output_type": "stream",
     "text": [
      "First Monday: \n"
     ]
    },
    {
     "data": {
      "text/plain": [
       "numpy.datetime64('2017-05-01')"
      ]
     },
     "execution_count": 7,
     "metadata": {},
     "output_type": "execute_result"
    }
   ],
   "source": [
    "# 5. Write a NumPy program to find the first Monday in May 2017.\n",
    "# Expected Output:\n",
    "# First Monday in May 2017:\n",
    "# 2017-05-01\n",
    "\n",
    "print(\"First Monday: \")\n",
    "\n",
    "np.busday_offset('2017-05', 0, roll= 'forward', weekmask='Mon')"
   ]
  }
 ],
 "metadata": {
  "kernelspec": {
   "display_name": "base",
   "language": "python",
   "name": "python3"
  },
  "language_info": {
   "codemirror_mode": {
    "name": "ipython",
    "version": 3
   },
   "file_extension": ".py",
   "mimetype": "text/x-python",
   "name": "python",
   "nbconvert_exporter": "python",
   "pygments_lexer": "ipython3",
   "version": "3.12.7"
  }
 },
 "nbformat": 4,
 "nbformat_minor": 2
}
