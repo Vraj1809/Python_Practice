{
 "cells": [
  {
   "cell_type": "code",
   "execution_count": 4,
   "metadata": {},
   "outputs": [
    {
     "name": "stdout",
     "output_type": "stream",
     "text": [
      "Numbers:  [0.5 0.7 1.  1.2 1.3 2.1]\n",
      "Bins:  [0 1 2 3]\n",
      "Result:  (array([2, 3, 1], dtype=int64), array([0, 1, 2, 3]))\n"
     ]
    },
    {
     "data": {
      "image/png": "[encoded data removed]",
      "text/plain": [
       "<Figure size 640x480 with 1 Axes>"
      ]
     },
     "metadata": {},
     "output_type": "display_data"
    }
   ],
   "source": [
    "# Write a NumPy program to compute the histogram of nums against the bins.\n",
    "# Sample Output:\n",
    "# nums: [0.5 0.7 1. 1.2 1.3 2.1]\n",
    "# bins: [0 1 2 3]\n",
    "# Result: (array([2, 3, 1], dtype=int64), array([0, 1, 2, 3]))\n",
    "\n",
    "import numpy as np\n",
    "import matplotlib.pyplot as plt\n",
    "\n",
    "nums = np.array([0.5, 0.7, 1.0, 1.2, 1.3, 2.1])\n",
    "\n",
    "bins = np.array([0,1,2,3])\n",
    "\n",
    "print(\"Numbers: \", nums)\n",
    "print(\"Bins: \", bins)\n",
    "\n",
    "print(\"Result: \", np.histogram(nums, bins))\n",
    "\n",
    "plt.hist(nums, bins = bins)\n",
    "\n",
    "plt.show()\n"
   ]
  },
  {
   "cell_type": "code",
   "execution_count": 11,
   "metadata": {},
   "outputs": [
    {
     "data": {
      "text/plain": [
       "(array([0, 1, 2, 4, 6, 7]), array([1, 3, 2, 1, 1, 1], dtype=int64))"
      ]
     },
     "execution_count": 11,
     "metadata": {},
     "output_type": "execute_result"
    }
   ],
   "source": [
    "# Write a Python program to count number of occurrences of each value in a given array of non-negative integers.\n",
    "# Note: bincount() function count number of occurrences of each value in an array of non-negative integers in the range of the array between the minimum and maximum values including the values that did not occur.\n",
    "# Sample Output:\n",
    "# Original array:\n",
    "# [0, 1, 6, 1, 4, 1, 2, 2, 7]\n",
    "# Number of occurrences of each value in array:\n",
    "# [1 3 2 0 1 0 1 1]\n",
    "\n",
    "\n",
    "arr = np.array([0,1,6,1,4,1,2,2,7])\n",
    "\n",
    "# count of all numbers in range of minimum and maximumm numbers in the array\n",
    "np.bincount(arr)\n",
    "\n",
    "# count of elements in the array\n",
    "np.unique(arr, return_counts=True)"
   ]
  }
 ],
 "metadata": {
  "kernelspec": {
   "display_name": "base",
   "language": "python",
   "name": "python3"
  },
  "language_info": {
   "codemirror_mode": {
    "name": "ipython",
    "version": 3
   },
   "file_extension": ".py",
   "mimetype": "text/x-python",
   "name": "python",
   "nbconvert_exporter": "python",
   "pygments_lexer": "ipython3",
   "version": "3.12.7"
  }
 },
 "nbformat": 4,
 "nbformat_minor": 2
}
