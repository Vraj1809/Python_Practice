{
 "cells": [
  {
   "cell_type": "code",
   "execution_count": 1,
   "metadata": {},
   "outputs": [],
   "source": [
    "import numpy as np"
   ]
  },
  {
   "cell_type": "code",
   "execution_count": 2,
   "metadata": {},
   "outputs": [
    {
     "data": {
      "text/plain": [
       "array([ 1,  1,  1,  0, -1, -1,  0,  1])"
      ]
     },
     "execution_count": 2,
     "metadata": {},
     "output_type": "execute_result"
    }
   ],
   "source": [
    "# Write a NumPy program to compute an element-wise indication of the sign for all elements in a given array.\n",
    "# Sample output:\n",
    "# Original array;\n",
    "# [ 1 3 5 0 -1 -7 0 5]\n",
    "# Element-wise indication of the sign for all elements of the said array:\n",
    "# [ 1 1 1 0 -1 -1 0 1]\n",
    "\n",
    "arr = np.array([1,3,5,0,-1,-7,0,5])\n",
    "arr[arr < 0] = -1\n",
    "arr[arr > 0] = 1\n",
    "\n",
    "arr"
   ]
  },
  {
   "cell_type": "code",
   "execution_count": 3,
   "metadata": {},
   "outputs": [
    {
     "data": {
      "text/plain": [
       "array([[ 1,  4],\n",
       "       [ 3, 16]])"
      ]
     },
     "execution_count": 3,
     "metadata": {},
     "output_type": "execute_result"
    }
   ],
   "source": [
    "# Write a NumPy program to compute xy, element-wise where x, y are two given arrays.\n",
    "# Sample output:\n",
    "# Array1:\n",
    "# [[1 2]\n",
    "# [3 4]]\n",
    "# Array1:\n",
    "# [[1 2]\n",
    "# [1 2]]\n",
    "# Result- x^y:\n",
    "# [[ 1 4]\n",
    "# [ 3 16]]\n",
    "\n",
    "arr1 = np.array([[1,2], [3,4]])\n",
    "arr2 = np.array([[1,2],[1,2]])\n",
    "np.power(arr1,arr2)"
   ]
  },
  {
   "cell_type": "code",
   "execution_count": 6,
   "metadata": {},
   "outputs": [
    {
     "name": "stdout",
     "output_type": "stream",
     "text": [
      "Original Array: \n",
      " [1.  2.  0.2 0.3]\n"
     ]
    },
    {
     "data": {
      "text/plain": [
       "array([1.        , 0.5       , 5.        , 3.33333333])"
      ]
     },
     "execution_count": 6,
     "metadata": {},
     "output_type": "execute_result"
    }
   ],
   "source": [
    "# Write a NumPy program to compute the reciprocal for all elements in a given array.\n",
    "# Sample output:\n",
    "# Original array:\n",
    "# [1. 2. 0.2 0.3]\n",
    "# Reciprocal for all elements of the said array:\n",
    "# [1. 0.5 5. 3.33333333]\n",
    "\n",
    "arr = np.array([1,2,0.2,0.3], dtype=float)\n",
    "\n",
    "print(\"Original Array: \\n\", arr)\n",
    "\n",
    "arr = 1 / arr\n",
    "\n",
    "arr"
   ]
  },
  {
   "cell_type": "code",
   "execution_count": 8,
   "metadata": {},
   "outputs": [
    {
     "name": "stdout",
     "output_type": "stream",
     "text": [
      "Original Array: \n",
      " [ 1  0 -1]\n"
     ]
    },
    {
     "data": {
      "text/plain": [
       "array([-1,  0,  1])"
      ]
     },
     "execution_count": 8,
     "metadata": {},
     "output_type": "execute_result"
    }
   ],
   "source": [
    "# Write a NumPy program to compute numerical negative value for all elements in a given array.\n",
    "# Sample output:\n",
    "# Original array:\n",
    "# [ 0 1 -1]\n",
    "# Numerical negative value for all elements of the said array:\n",
    "# [ 0 -1 1]\n",
    "\n",
    "arr = np.array([1,0,-1])\n",
    "\n",
    "print(\"Original Array: \\n\", arr)\n",
    "\n",
    "arr = - arr\n",
    "\n",
    "arr\n"
   ]
  },
  {
   "cell_type": "code",
   "execution_count": 9,
   "metadata": {},
   "outputs": [
    {
     "data": {
      "text/plain": [
       "array([ 2,  2,  2, -7])"
      ]
     },
     "execution_count": 9,
     "metadata": {},
     "output_type": "execute_result"
    }
   ],
   "source": [
    "# Write a NumPy program to calculate the difference between neighboring elements, element-wise of a given array.\n",
    "# Sample output:\n",
    "# Original array:\n",
    "# [1 3 5 7 0]\n",
    "# Difference between neighboring elements, element-wise of the said array.\n",
    "# [ 2 2 2 -7]\n",
    "\n",
    "arr = np.array([1,3,5,7,0])\n",
    "\n",
    "np.diff(arr)"
   ]
  }
 ],
 "metadata": {
  "kernelspec": {
   "display_name": "base",
   "language": "python",
   "name": "python3"
  },
  "language_info": {
   "codemirror_mode": {
    "name": "ipython",
    "version": 3
   },
   "file_extension": ".py",
   "mimetype": "text/x-python",
   "name": "python",
   "nbconvert_exporter": "python",
   "pygments_lexer": "ipython3",
   "version": "3.12.7"
  }
 },
 "nbformat": 4,
 "nbformat_minor": 2
}
