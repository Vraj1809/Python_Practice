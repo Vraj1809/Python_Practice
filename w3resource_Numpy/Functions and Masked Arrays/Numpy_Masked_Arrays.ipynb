{
 "cells": [
  {
   "cell_type": "code",
   "execution_count": 3,
   "metadata": {},
   "outputs": [],
   "source": [
    "import numpy as np\n",
    "import numpy.ma as ma"
   ]
  },
  {
   "cell_type": "code",
   "execution_count": 7,
   "metadata": {},
   "outputs": [
    {
     "name": "stdout",
     "output_type": "stream",
     "text": [
      "Original Array: \n",
      " [[9 9 4 7 7]\n",
      " [7 5 9 5 5]\n",
      " [9 3 7 3 7]\n",
      " [4 3 1 6 6]]\n",
      "\n",
      "Is There any Values?  True\n",
      "\n",
      "Masked Array: \n",
      " [[9 9 -- 7 7]\n",
      " [7 5 9 5 5]\n",
      " [9 -- 7 -- 7]\n",
      " [-- -- -- 6 6]]\n"
     ]
    }
   ],
   "source": [
    "# Write a NumPy program that creates a masked array and checks if any masked elements are present.\n",
    "arr = np.random.randint(1,10,20).reshape(4,5)\n",
    "\n",
    "print(\"Original Array: \\n\", arr)\n",
    "\n",
    "condition = arr < 5\n",
    "\n",
    "masked_array = ma.masked_array(arr, mask = condition)\n",
    "\n",
    "has_masked_value = masked_array.mask.any()\n",
    "print(\"\\nIs There any Values? \", has_masked_value)\n",
    "\n",
    "print(\"\\nMasked Array: \\n\", masked_array)\n",
    "\n"
   ]
  },
  {
   "cell_type": "code",
   "execution_count": 8,
   "metadata": {},
   "outputs": [
    {
     "name": "stdout",
     "output_type": "stream",
     "text": [
      "Original Array: \n",
      " [[5 1 8 5 5]\n",
      " [7 4 6 7 6]\n",
      " [2 8 4 7 1]\n",
      " [7 5 7 4 4]]\n",
      "\n",
      "Masked Array: \n",
      " [[5 -- 8 5 5]\n",
      " [7 -- 6 7 6]\n",
      " [-- 8 -- 7 --]\n",
      " [7 5 7 -- --]]\n",
      "\n",
      " Result Array after function Applied on the unmasked elements: \n",
      " [[-0.9589242746631385 -- 0.9893582466233818 -0.9589242746631385\n",
      "  -0.9589242746631385]\n",
      " [0.6569865987187891 -- -0.27941549819892586 0.6569865987187891\n",
      "  -0.27941549819892586]\n",
      " [-- 0.9893582466233818 -- 0.6569865987187891 --]\n",
      " [0.6569865987187891 -0.9589242746631385 0.6569865987187891 -- --]]\n"
     ]
    }
   ],
   "source": [
    "# Write a NumPy program that creates a masked array and applies a mathematical function (e.g., sin, cos) only to the unmasked elements.\n",
    "arr = np.random.randint(1,10,20).reshape(4,5)\n",
    "\n",
    "print(\"Original Array: \\n\", arr)\n",
    "\n",
    "condition = arr < 5\n",
    "\n",
    "masked_array = ma.masked_array(arr, mask = condition)\n",
    "\n",
    "print(\"\\nMasked Array: \\n\", masked_array)\n",
    "\n",
    "result_array = ma.sin(masked_array)\n",
    "print(\"\\n Result Array after function Applied on the unmasked elements: \\n\", result_array)\n"
   ]
  }
 ],
 "metadata": {
  "kernelspec": {
   "display_name": "base",
   "language": "python",
   "name": "python3"
  },
  "language_info": {
   "codemirror_mode": {
    "name": "ipython",
    "version": 3
   },
   "file_extension": ".py",
   "mimetype": "text/x-python",
   "name": "python",
   "nbconvert_exporter": "python",
   "pygments_lexer": "ipython3",
   "version": "3.12.7"
  }
 },
 "nbformat": 4,
 "nbformat_minor": 2
}
