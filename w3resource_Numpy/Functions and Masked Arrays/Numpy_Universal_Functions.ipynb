{
 "cells": [
  {
   "cell_type": "code",
   "execution_count": 1,
   "metadata": {},
   "outputs": [],
   "source": [
    "import numpy as np"
   ]
  },
  {
   "cell_type": "code",
   "execution_count": 2,
   "metadata": {},
   "outputs": [
    {
     "name": "stdout",
     "output_type": "stream",
     "text": [
      "The Array: \n",
      " [[1 2 3]\n",
      " [4 5 6]\n",
      " [7 8 9]]\n",
      "The Maximum Along Zero Axis: \n",
      " [7 8 9]\n",
      "The Minimum Along One Axis: \n",
      " [3 6 9]\n"
     ]
    }
   ],
   "source": [
    "# Write a NumPy program that uses np.maximum.reduce to find the maximum element along a specified axis of a 2D array.\n",
    "\n",
    "array_2d = np.array([[1, 2, 3], [4, 5, 6], [7, 8, 9]])\n",
    "\n",
    "print(\"The Array: \\n\", array_2d)\n",
    "\n",
    "max_along_zero = np.maximum.reduce(array_2d, axis=0)\n",
    "max_along_one = np.maximum.reduce(array_2d, axis=1)\n",
    "\n",
    "print(\"The Maximum Along Zero Axis: \\n\", max_along_zero)\n",
    "print(\"The Minimum Along One Axis: \\n\", max_along_one)"
   ]
  },
  {
   "cell_type": "code",
   "execution_count": 6,
   "metadata": {},
   "outputs": [
    {
     "name": "stdout",
     "output_type": "stream",
     "text": [
      "Array 1: \n",
      " [ True  True False False]\n",
      "\n",
      "\n",
      "Array 2: \n",
      " [ True False  True False]\n",
      "\n",
      "Logical AND: \n",
      " [ True False False False]\n",
      "\n",
      "Logical OR: \n",
      " [ True  True  True False]\n"
     ]
    }
   ],
   "source": [
    "# Write a NumPy program that uses np.logical_and to combine two boolean arrays based on element-wise logical AND operation.\n",
    "\n",
    "arr1 = np.array([True, True, False, False])\n",
    "arr2 = np.array([True, False, True, False])\n",
    "\n",
    "print(\"Array 1: \\n\", arr1)\n",
    "print(\"\\n\\nArray 2: \\n\", arr2)\n",
    "\n",
    "print(\"\\nLogical AND: \\n\", np.logical_and(arr1, arr2))\n",
    "print(\"\\nLogical OR: \\n\", np.logical_or(arr1, arr2))"
   ]
  }
 ],
 "metadata": {
  "kernelspec": {
   "display_name": "base",
   "language": "python",
   "name": "python3"
  },
  "language_info": {
   "codemirror_mode": {
    "name": "ipython",
    "version": 3
   },
   "file_extension": ".py",
   "mimetype": "text/x-python",
   "name": "python",
   "nbconvert_exporter": "python",
   "pygments_lexer": "ipython3",
   "version": "3.12.7"
  }
 },
 "nbformat": 4,
 "nbformat_minor": 2
}
