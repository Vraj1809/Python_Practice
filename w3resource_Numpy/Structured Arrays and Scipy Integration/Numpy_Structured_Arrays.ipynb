{
 "cells": [
  {
   "cell_type": "code",
   "execution_count": 1,
   "metadata": {},
   "outputs": [],
   "source": [
    "import numpy as np"
   ]
  },
  {
   "cell_type": "code",
   "execution_count": 3,
   "metadata": {},
   "outputs": [
    {
     "name": "stdout",
     "output_type": "stream",
     "text": [
      "Strucutred Array: \n",
      " [('Vraj', 21, 180.) ('Vipul', 48, 184.) ('Anuradha', 44, 166.)]\n",
      "\n",
      "\n",
      "Structured Array with height set: \n",
      " [('Vraj', 21, 150.) ('Vipul', 48, 150.) ('Anuradha', 44, 150.)]\n"
     ]
    }
   ],
   "source": [
    "# Write a NumPy program to broadcast a value (e.g., set all 'height' values to 6.0) across the 'height' field in the structured array created with fields for 'name' (string), 'age' (integer), and 'height' (float).\n",
    "\n",
    "datatype = [('name', 'U10'), ('age', 'i4'), ('height', 'f4')]\n",
    "\n",
    "structured_array = np.array([\n",
    "    ('Vraj', 21, 180),\n",
    "    ('Vipul', 48, 184),\n",
    "    ('Anuradha', 44, 166)\n",
    "], dtype=datatype)\n",
    "\n",
    "print(\"Strucutred Array: \\n\", structured_array)\n",
    "\n",
    "structured_array['height'] = 150\n",
    "\n",
    "print(\"\\n\\nStructured Array with height set: \\n\", structured_array)"
   ]
  },
  {
   "cell_type": "code",
   "execution_count": 15,
   "metadata": {},
   "outputs": [
    {
     "name": "stdout",
     "output_type": "stream",
     "text": [
      "Strucutred Array: \n",
      " [('Vraj', 21, 150.) ('Vipul', 48, 150.) ('Anuradha', 44, 150.)]\n",
      "\n",
      "\n",
      "Structured Array with new field name_age: \n",
      " [('Vraj', 21, 150., 'Vraj_21') ('Vipul', 48, 150., 'Vipul_48')\n",
      " ('Anuradha', 44, 150., 'Anuradha_4')]\n"
     ]
    }
   ],
   "source": [
    "# Write a NumPy program that creates a new field 'name_age' that concatenates the 'name' and 'age' fields from the structured array created with fields for 'name' (string), 'age' (integer), and 'height' (float).\n",
    "\n",
    "datatype = [('name', 'U10'), ('age', 'i4'), ('height', 'f4')]\n",
    "\n",
    "strucutred_array = np.array([\n",
    "    ('Vraj', 21, 180),\n",
    "    ('Vipul', 48, 184),\n",
    "    ('Anuradha', 44, 166)\n",
    "], dtype=datatype)\n",
    "\n",
    "print(\"Strucutred Array: \\n\", structured_array)\n",
    "\n",
    "new_datatype = [('name', 'U10'), ('age', 'i4'), ('height', 'f4'), ('name_age', 'U10')]\n",
    "\n",
    "new_structured_array = np.empty_like(structured_array, dtype=new_datatype)\n",
    "\n",
    "for field in structured_array.dtype.names:\n",
    "    new_structured_array[field] = structured_array[field]\n",
    "\n",
    "new_structured_array['name_age'] = np.array([f\"{name}_{age}\" for name, age in zip(structured_array['name'], structured_array['age'])])\n",
    "\n",
    "print(\"\\n\\nStructured Array with new field name_age: \\n\", new_structured_array)"
   ]
  }
 ],
 "metadata": {
  "kernelspec": {
   "display_name": "base",
   "language": "python",
   "name": "python3"
  },
  "language_info": {
   "codemirror_mode": {
    "name": "ipython",
    "version": 3
   },
   "file_extension": ".py",
   "mimetype": "text/x-python",
   "name": "python",
   "nbconvert_exporter": "python",
   "pygments_lexer": "ipython3",
   "version": "3.12.7"
  }
 },
 "nbformat": 4,
 "nbformat_minor": 2
}
