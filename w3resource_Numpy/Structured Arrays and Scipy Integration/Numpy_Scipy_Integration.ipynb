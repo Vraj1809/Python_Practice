{
 "cells": [
  {
   "cell_type": "code",
   "execution_count": 2,
   "metadata": {},
   "outputs": [],
   "source": [
    "import numpy as np\n",
    "\n",
    "from scipy import stats"
   ]
  },
  {
   "cell_type": "code",
   "execution_count": 3,
   "metadata": {},
   "outputs": [
    {
     "name": "stdout",
     "output_type": "stream",
     "text": [
      "Numpy Array: \n",
      " [1 2 8 5 5 1 4 9 8 6 3 2 7 4 1 6 8 9 7 3]\n",
      "\n",
      "Mean of the Array using Scipy:  4.95\n",
      "\n",
      "Mean of the Array using Scipy:  5.0\n",
      "\n",
      "Mean of the Array using Scipy:  7.628947368421052\n"
     ]
    }
   ],
   "source": [
    "# Write a NumPy program that creates a NumPy array of random numbers and uses SciPy to compute the statistical properties (mean, median, variance) of the array.\n",
    "\n",
    "arr = np.random.randint(1,10,20)\n",
    "\n",
    "print(\"Numpy Array: \\n\", arr)\n",
    "\n",
    "print(\"\\nMean of the Array using Scipy: \", stats.tmean(arr))\n",
    "print(\"\\nMean of the Array using Scipy: \", np.median(arr))\n",
    "print(\"\\nMean of the Array using Scipy: \", stats.tvar(arr))"
   ]
  },
  {
   "cell_type": "code",
   "execution_count": 4,
   "metadata": {},
   "outputs": [
    {
     "name": "stdout",
     "output_type": "stream",
     "text": [
      "Array: \n",
      " [[1 2]\n",
      " [3 4]]\n",
      "\n",
      "Determinent of the Matrix:  -2.0\n",
      "\n",
      "Inverse of the Matrix:  [[-2.   1. ]\n",
      " [ 1.5 -0.5]]\n",
      "\n",
      "Eigen Values of the Matrix:  [-0.37228132+0.j  5.37228132+0.j]\n"
     ]
    }
   ],
   "source": [
    "# Write a NumPy program that creates a NumPy array and uses SciPy to solve a linear algebra problem. For example, finding the determinant, inverse, and eigenvalues of a matrix.\n",
    "from scipy import linalg\n",
    "\n",
    "arr = np.array([[1,2],[3,4]])\n",
    "\n",
    "print(\"Array: \\n\", arr)\n",
    "\n",
    "print(\"\\nDeterminent of the Matrix: \", linalg.det(arr))\n",
    "print(\"\\nInverse of the Matrix: \", linalg.inv(arr))\n",
    "print(\"\\nEigen Values of the Matrix: \", linalg.eigvals(arr))"
   ]
  }
 ],
 "metadata": {
  "kernelspec": {
   "display_name": "base",
   "language": "python",
   "name": "python3"
  },
  "language_info": {
   "codemirror_mode": {
    "name": "ipython",
    "version": 3
   },
   "file_extension": ".py",
   "mimetype": "text/x-python",
   "name": "python",
   "nbconvert_exporter": "python",
   "pygments_lexer": "ipython3",
   "version": "3.12.7"
  }
 },
 "nbformat": 4,
 "nbformat_minor": 2
}
