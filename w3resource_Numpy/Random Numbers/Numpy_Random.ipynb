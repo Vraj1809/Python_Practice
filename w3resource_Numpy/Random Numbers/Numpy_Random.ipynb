{
 "cells": [
  {
   "cell_type": "code",
   "execution_count": 1,
   "metadata": {},
   "outputs": [],
   "source": [
    "import numpy as np"
   ]
  },
  {
   "cell_type": "code",
   "execution_count": 4,
   "metadata": {},
   "outputs": [
    {
     "data": {
      "text/plain": [
       "array([[[254,  61,   3,   0,  30],\n",
       "        [ 77, 145, 152,  93,  15],\n",
       "        [253, 146, 175, 234,  12],\n",
       "        ...,\n",
       "        [ 94,  32, 124, 200,  66],\n",
       "        [ 14,  81, 234, 147,  42],\n",
       "        [128, 150, 178, 187,  46]],\n",
       "\n",
       "       [[180, 177,  91, 240, 101],\n",
       "        [255, 236, 141,   5,  53],\n",
       "        [213, 112,  63, 234,  80],\n",
       "        ...,\n",
       "        [118, 109,  67, 215,   6],\n",
       "        [200, 206, 107,  73, 111],\n",
       "        [132, 114, 155, 183,  71]],\n",
       "\n",
       "       [[218,  65, 247, 120,  96],\n",
       "        [134,  81, 240,  44, 206],\n",
       "        [ 76, 129, 177,  77, 173],\n",
       "        ...,\n",
       "        [ 68,  94, 169,  73, 132],\n",
       "        [230, 128, 200, 141,  37],\n",
       "        [173, 150, 201, 126,  69]],\n",
       "\n",
       "       ...,\n",
       "\n",
       "       [[110,  54, 106, 104,  68],\n",
       "        [151, 255, 195,  38,  68],\n",
       "        [109, 235, 203,  61, 189],\n",
       "        ...,\n",
       "        [245,  35,  80, 191,   0],\n",
       "        [200,  26, 116, 239, 248],\n",
       "        [ 84,  22, 201,  83, 146]],\n",
       "\n",
       "       [[ 70, 223, 221,  50, 124],\n",
       "        [213,  55, 187,  82, 146],\n",
       "        [ 39,  39,  47, 185, 141],\n",
       "        ...,\n",
       "        [ 84, 161,  25, 126, 191],\n",
       "        [170,  34, 215,  58, 239],\n",
       "        [ 16,  56, 208,   8,  75]],\n",
       "\n",
       "       [[198, 187,  28, 157, 191],\n",
       "        [202,  36, 210,  88, 172],\n",
       "        [  6, 248, 238, 119,  69],\n",
       "        ...,\n",
       "        [198,  61, 118,  39,   7],\n",
       "        [144, 177,  64,  94, 143],\n",
       "        [ 93, 187,  63, 115,  62]]])"
      ]
     },
     "execution_count": 4,
     "metadata": {},
     "output_type": "execute_result"
    }
   ],
   "source": [
    "# Write a NumPy program to create a three-dimension array with shape (300,400,5) and set to a variable. Fill the array elements with values using unsigned integer (0 to 255).\n",
    "\n",
    "arr = np.random.randint(0,256, size=(300,400,5))\n",
    "\n",
    "arr"
   ]
  },
  {
   "cell_type": "code",
   "execution_count": 7,
   "metadata": {},
   "outputs": [
    {
     "name": "stdout",
     "output_type": "stream",
     "text": [
      "Original Array: \n",
      " [0 1 2 3 4 5 6 7 8 9]\n",
      "\n",
      "\n",
      "Array after shuffling: \n",
      " [8 7 1 5 2 0 9 6 4 3]\n"
     ]
    },
    {
     "data": {
      "text/plain": [
       "array([8, 9])"
      ]
     },
     "execution_count": 7,
     "metadata": {},
     "output_type": "execute_result"
    }
   ],
   "source": [
    "# Write a  NumPy program to get the n largest values of an array.\n",
    "x = np.arange(10)\n",
    "\n",
    "print(\"Original Array: \\n\", x)\n",
    "\n",
    "np.random.shuffle(x)\n",
    "\n",
    "print(\"\\n\\nArray after shuffling: \\n\", x)\n",
    "\n",
    "n = 2\n",
    "x[np.argsort(x)[-n:]]"
   ]
  },
  {
   "cell_type": "code",
   "execution_count": 10,
   "metadata": {},
   "outputs": [
    {
     "name": "stdout",
     "output_type": "stream",
     "text": [
      "Original Array: \n",
      " [ 0  1  2  3  4  5  6  7  8  9 10 11 12 13 14 15 16 17 18 19 20 21 22 23\n",
      " 24 25 26 27 28 29 30 31 32 33 34 35 36 37 38 39 40 41 42 43 44 45 46 47\n",
      " 48 49 50 51 52 53 54 55 56 57 58 59 60 61 62 63 64 65 66 67 68 69 70 71\n",
      " 72 73 74 75 76 77 78 79 80 81 82 83 84 85 86 87 88 89 90 91 92 93 94 95\n",
      " 96 97 98 99]\n",
      "69.4616895318626\n"
     ]
    },
    {
     "data": {
      "text/plain": [
       "69"
      ]
     },
     "execution_count": 10,
     "metadata": {},
     "output_type": "execute_result"
    }
   ],
   "source": [
    "# Write a  NumPy program to find the closest value (to a given scalar) in an array.\n",
    "x = np.arange(100)\n",
    "\n",
    "print(\"Original Array: \\n\", x)\n",
    "\n",
    "value = np.random.uniform(0,100)\n",
    "\n",
    "print(value)\n",
    "index = (np.abs(x - value)).argmin()\n",
    "\n",
    "x[index]"
   ]
  },
  {
   "cell_type": "code",
   "execution_count": 22,
   "metadata": {},
   "outputs": [
    {
     "name": "stdout",
     "output_type": "stream",
     "text": [
      "[6 9 5 1 7 5 1 0 1 5 5 0 8 9 0 7 0 7 6 5 1 1 9 5 3 8 7 9 6 3 4 5 9 7 2 7 0\n",
      " 2 2 6]\n"
     ]
    },
    {
     "data": {
      "text/plain": [
       "5"
      ]
     },
     "execution_count": 22,
     "metadata": {},
     "output_type": "execute_result"
    }
   ],
   "source": [
    "# Write a NumPy program to find the most frequent value in an array.\n",
    "# Sample Output:\n",
    "# Original array:\n",
    "# [6 9 5 1 7 5 1 0 1 5 5 0 8 9 0 7 0 7 6 5 1 1 9 5 3 8 7 9 6 3 4 5 9 7 2 7 0\n",
    "# 2 2 6]\n",
    "# Most frequent value in the above array:\n",
    "# 5\n",
    "\n",
    "arr = np.array([6,9,5,1,7,5,1,0,1,5,5,0,8,9,0,7,0,7,6,5,1,1,9,5,3,8,7,9,6,3,4,5,9,7,2,7,0,2,2,6])\n",
    "\n",
    "print(arr)\n",
    "\n",
    "element = np.bincount(arr).argmax()\n",
    "\n",
    "element"
   ]
  }
 ],
 "metadata": {
  "kernelspec": {
   "display_name": "base",
   "language": "python",
   "name": "python3"
  },
  "language_info": {
   "codemirror_mode": {
    "name": "ipython",
    "version": 3
   },
   "file_extension": ".py",
   "mimetype": "text/x-python",
   "name": "python",
   "nbconvert_exporter": "python",
   "pygments_lexer": "ipython3",
   "version": "3.12.7"
  }
 },
 "nbformat": 4,
 "nbformat_minor": 2
}
