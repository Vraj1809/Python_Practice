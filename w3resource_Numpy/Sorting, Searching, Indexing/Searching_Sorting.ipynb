{
 "cells": [
  {
   "cell_type": "code",
   "execution_count": 1,
   "metadata": {},
   "outputs": [],
   "source": [
    "import numpy as np"
   ]
  },
  {
   "cell_type": "code",
   "execution_count": 7,
   "metadata": {},
   "outputs": [
    {
     "name": "stdout",
     "output_type": "stream",
     "text": [
      "Original Array: \n",
      " [[1 5 0]\n",
      " [3 2 5]\n",
      " [8 7 6]]\n"
     ]
    },
    {
     "data": {
      "text/plain": [
       "array([[3, 2, 5],\n",
       "       [1, 5, 0],\n",
       "       [8, 7, 6]])"
      ]
     },
     "execution_count": 7,
     "metadata": {},
     "output_type": "execute_result"
    }
   ],
   "source": [
    "# Write a NumPy program to sort an given array by the nth column.\n",
    "# Original array:\n",
    "# [[1 5 0]\n",
    "# [3 2 5]\n",
    "# [8 7 6]]\n",
    "# Sort the said array by the nth column:\n",
    "# [[3 2 5]\n",
    "# [1 5 0]\n",
    "# [8 7 6]]\n",
    "\n",
    "arr = np.array([[1,5,0],[3,2,5],[8,7,6]])\n",
    "print(\"Original Array: \\n\", arr)\n",
    "\n",
    "n = 1\n",
    "\n",
    "arr[arr[:,n].argsort()]"
   ]
  },
  {
   "cell_type": "code",
   "execution_count": 12,
   "metadata": {},
   "outputs": [
    {
     "name": "stdout",
     "output_type": "stream",
     "text": [
      "Original array:\n",
      "[0.62149194 0.13209619 0.27833241 0.92660933 0.27990662 0.60137262\n",
      " 0.70987933 0.79137517 0.72227555 0.18773482]\n",
      "\n",
      "Sorted first 5 elements:\n",
      "[0.13209619 0.18773482 0.27833241 0.27990662 0.60137262 0.92660933\n",
      " 0.70987933 0.79137517 0.72227555 0.62149194]\n"
     ]
    }
   ],
   "source": [
    "# Write a  NumPy program to sort the specified number of elements from beginning of a given array.\n",
    "# Sample output:\n",
    "# Original array:\n",
    "# [0.39536213 0.11779404 0.32612381 0.16327394 0.98837963 0.25510787 0.01398678 0.15188239 0.12057667 0.67278699]\n",
    "# Sorted first 5 elements:\n",
    "# [0.01398678 0.11779404 0.12057667 0.15188239 0.16327394 0.25510787 0.39536213 0.98837963 0.32612381 0.67278699]\n",
    "\n",
    "# Creating an array of 10 random numbers\n",
    "nums = np.random.rand(10)\n",
    "\n",
    "# Displaying the original array\n",
    "print(\"Original array:\")\n",
    "print(nums)\n",
    "\n",
    "# Sorting the first 5 elements using argpartition\n",
    "print(\"\\nSorted first 5 elements:\")\n",
    "print(nums[np.argpartition(nums, range(5))]) \n"
   ]
  },
  {
   "cell_type": "code",
   "execution_count": 14,
   "metadata": {},
   "outputs": [
    {
     "data": {
      "text/plain": [
       "array([(b'Pit', 5, 40.11), (b'Paul', 5, 42.1 ), (b'James', 5, 48.5 ),\n",
       "       (b'Nail', 6, 52.5 )],\n",
       "      dtype=[('name', 'S15'), ('class', '<i4'), ('height', '<f8')])"
      ]
     },
     "execution_count": 14,
     "metadata": {},
     "output_type": "execute_result"
    }
   ],
   "source": [
    "#  Write a NumPy program to create a structured array from given student name, height, class and their data types. Now sort by class, then height if class are equal.\n",
    "# Expected Output:\n",
    "# Original array:\n",
    "# [(b'James', 5, 48.5 ) (b'Nail', 6, 52.5 ) (b'Paul', 5, 42.1 ) (b'Pit', 5, 40.11)]\n",
    "# Sort by age, then height if class are equal:\n",
    "# [(b'Pit', 5, 40.11) (b'Paul', 5, 42.1 ) (b'James', 5, 48.5 ) (b'Nail', 6, 52.5 )]\n",
    "\n",
    "# Defining the data types for the structured array\n",
    "data_type = [('name', 'S15'), ('class', int), ('height', float)]\n",
    "\n",
    "# Defining the details of students as a list of tuples\n",
    "students_details = [('James', 5, 48.5), ('Nail', 6, 52.5), ('Paul', 5, 42.10), ('Pit', 5, 40.11)]\n",
    "\n",
    "# Creating a structured array 'students' using the defined data type and provided details\n",
    "students = np.array(students_details, dtype=data_type)\n",
    "\n",
    "np.sort(students, order=['class', 'height'])"
   ]
  }
 ],
 "metadata": {
  "kernelspec": {
   "display_name": "base",
   "language": "python",
   "name": "python3"
  },
  "language_info": {
   "codemirror_mode": {
    "name": "ipython",
    "version": 3
   },
   "file_extension": ".py",
   "mimetype": "text/x-python",
   "name": "python",
   "nbconvert_exporter": "python",
   "pygments_lexer": "ipython3",
   "version": "3.12.7"
  }
 },
 "nbformat": 4,
 "nbformat_minor": 2
}
