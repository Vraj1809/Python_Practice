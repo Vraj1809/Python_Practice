{
 "cells": [
  {
   "cell_type": "code",
   "execution_count": 1,
   "metadata": {},
   "outputs": [],
   "source": [
    "import numpy as np"
   ]
  },
  {
   "cell_type": "code",
   "execution_count": 4,
   "metadata": {},
   "outputs": [
    {
     "name": "stdout",
     "output_type": "stream",
     "text": [
      "Original Array: \n",
      " [[ 3 11 86 17 85 50 61 79 25 51 81 29 69 40 90 90 62  7 67 89 76 82 55 11\n",
      "  38 94  8 68 36 96 38 94 13  5 19  8 34 14 69 97 49 13 76 60 38 27 31 87\n",
      "   8 87]\n",
      " [35 84 48 93 23 97 69 20 64 96 63 49 50  2 37 94 51 74 53 20  5  8 30 50\n",
      "  34 48 41 38 40 93 68 30 15 99 45 68 93 28 59 38 78 80 99 37 25 85 62 91\n",
      "  81 18]]\n"
     ]
    },
    {
     "data": {
      "text/plain": [
       "array([86, 85, 61, 79, 51, 81, 69, 90, 90, 62, 67, 89, 76, 82, 55, 94, 68,\n",
       "       96, 94, 69, 97, 76, 60, 87, 87, 84, 93, 97, 69, 64, 96, 63, 94, 51,\n",
       "       74, 53, 93, 68, 99, 68, 93, 59, 78, 80, 99, 85, 62, 91, 81])"
      ]
     },
     "execution_count": 4,
     "metadata": {},
     "output_type": "execute_result"
    }
   ],
   "source": [
    "# Write a NumPy program that creates a 2D NumPy array of random integers. Use boolean indexing to select all elements greater than a specified value.\n",
    "\n",
    "arr = np.random.randint(1,100,100).reshape(2,50)\n",
    "\n",
    "print(\"Original Array: \\n\", arr)\n",
    "\n",
    "value = 50\n",
    "arr[ arr > value]"
   ]
  },
  {
   "cell_type": "code",
   "execution_count": 6,
   "metadata": {},
   "outputs": [
    {
     "name": "stdout",
     "output_type": "stream",
     "text": [
      "Original Array:  [86 76 79 35 58 13 29 91 19 10]\n"
     ]
    },
    {
     "data": {
      "text/plain": [
       "array([86, 76, 79, 35, 58])"
      ]
     },
     "execution_count": 6,
     "metadata": {},
     "output_type": "execute_result"
    }
   ],
   "source": [
    "# Write a NumPy program that creates a 1D NumPy array and uses integer array indexing to select a subset of elements based on an index array.\n",
    "\n",
    "arr = np.random.randint(1,100,10)\n",
    "\n",
    "print(\"Original Array: \", arr)\n",
    "arr[:5]"
   ]
  },
  {
   "cell_type": "code",
   "execution_count": 7,
   "metadata": {},
   "outputs": [
    {
     "name": "stdout",
     "output_type": "stream",
     "text": [
      "Original Array: \n",
      " [44 20 40 99 78 39  3 76 89 53]\n"
     ]
    },
    {
     "data": {
      "text/plain": [
       "array([99, 78, 76, 89, 53])"
      ]
     },
     "execution_count": 7,
     "metadata": {},
     "output_type": "execute_result"
    }
   ],
   "source": [
    "# Write a NumPy program that creates a 2D NumPy array and uses a mask array (boolean array) for indexing to select a subset of elements that match the mask criteria.\n",
    "arr = np.random.randint(1,100,10)\n",
    "\n",
    "print(\"Original Array: \\n\", arr)\n",
    "\n",
    "value = 50\n",
    "\n",
    "mask = arr > value\n",
    "arr[mask]"
   ]
  },
  {
   "cell_type": "code",
   "execution_count": 8,
   "metadata": {},
   "outputs": [
    {
     "name": "stdout",
     "output_type": "stream",
     "text": [
      "[[[[[97 90 10 74 47]\n",
      "    [62 62 37 17 53]\n",
      "    [40 89 59 57 73]]\n",
      "\n",
      "   [[31 48 97 59 69]\n",
      "    [10 62 72 56 66]\n",
      "    [ 0 68 71 68 74]]]\n",
      "\n",
      "\n",
      "  [[[80 74 77 18 14]\n",
      "    [ 9 24  9 54 83]\n",
      "    [60 77 95 31 14]]\n",
      "\n",
      "   [[48 24 65 29 17]\n",
      "    [32  5 71 64 38]\n",
      "    [12 70 22 83 23]]]\n",
      "\n",
      "\n",
      "  [[[74 83 35 81 36]\n",
      "    [56 93 22 60 86]\n",
      "    [ 7 58 96 54 32]]\n",
      "\n",
      "   [[62 71 46 24 98]\n",
      "    [42 75  0 53 13]\n",
      "    [19  7 80 91 38]]]\n",
      "\n",
      "\n",
      "  [[[91  3 29  1 65]\n",
      "    [70 57  5 17 71]\n",
      "    [38 86 26 64 63]]\n",
      "\n",
      "   [[24 97 46 76 98]\n",
      "    [21 67 97 17  9]\n",
      "    [63 76 67 68  2]]]]\n",
      "\n",
      "\n",
      "\n",
      " [[[[61 65 55 17 85]\n",
      "    [45 97 31 74 26]\n",
      "    [33 39 78 46 34]]\n",
      "\n",
      "   [[59 54 49 40 16]\n",
      "    [63 39 20 13 76]\n",
      "    [75 13 42 36 57]]]\n",
      "\n",
      "\n",
      "  [[[40 79 33 68 77]\n",
      "    [85 42 95 22 38]\n",
      "    [41 37 75 26 18]]\n",
      "\n",
      "   [[65 73 21 50  9]\n",
      "    [48 56 77 47 25]\n",
      "    [79 90 95  6 33]]]\n",
      "\n",
      "\n",
      "  [[[12 84 96 53 89]\n",
      "    [45 95  5 20 13]\n",
      "    [13 76 79 23 82]]\n",
      "\n",
      "   [[67 66 47 51 36]\n",
      "    [ 5  3 75 71 80]\n",
      "    [82 49 17 38 22]]]\n",
      "\n",
      "\n",
      "  [[[34 58 45 48 47]\n",
      "    [76 74  2 71 40]\n",
      "    [22 43 93 52 18]]\n",
      "\n",
      "   [[44 49 50  8 95]\n",
      "    [34 66 89 81 58]\n",
      "    [40 38 43 50 84]]]]\n",
      "\n",
      "\n",
      "\n",
      " [[[[ 0 17 19 27 84]\n",
      "    [18 68 60 55  0]\n",
      "    [39 94 57  0 63]]\n",
      "\n",
      "   [[86 74 63 41 33]\n",
      "    [51 56 36 56 64]\n",
      "    [59 66 94 73 10]]]\n",
      "\n",
      "\n",
      "  [[[87 57 79 41  5]\n",
      "    [78 73 13  2 41]\n",
      "    [42 44 39 48 45]]\n",
      "\n",
      "   [[51 75 25 91 78]\n",
      "    [76 58  9 42 55]\n",
      "    [90 33 53 38  7]]]\n",
      "\n",
      "\n",
      "  [[[66 55 72  1  1]\n",
      "    [85 32 41 14  6]\n",
      "    [51 63 48 73 21]]\n",
      "\n",
      "   [[11 64 57 50 84]\n",
      "    [46 78 15  4 48]\n",
      "    [74 23 46 96 53]]]\n",
      "\n",
      "\n",
      "  [[[53 11 27 30 49]\n",
      "    [99 95 94  4 82]\n",
      "    [28 31 63 68 16]]\n",
      "\n",
      "   [[88 98 58 39 24]\n",
      "    [22 92 89 32 39]\n",
      "    [99 86 81 14 49]]]]]\n"
     ]
    },
    {
     "data": {
      "text/plain": [
       "array([97, 90, 74, 62, 62, 53, 89, 59, 57, 73, 97, 59, 69, 62, 72, 56, 66,\n",
       "       68, 71, 68, 74, 80, 74, 77, 54, 83, 60, 77, 95, 65, 71, 64, 70, 83,\n",
       "       74, 83, 81, 56, 93, 60, 86, 58, 96, 54, 62, 71, 98, 75, 53, 80, 91,\n",
       "       91, 65, 70, 57, 71, 86, 64, 63, 97, 76, 98, 67, 97, 63, 76, 67, 68,\n",
       "       61, 65, 55, 85, 97, 74, 78, 59, 54, 63, 76, 75, 57, 79, 68, 77, 85,\n",
       "       95, 75, 65, 73, 56, 77, 79, 90, 95, 84, 96, 53, 89, 95, 76, 79, 82,\n",
       "       67, 66, 51, 75, 71, 80, 82, 58, 76, 74, 71, 93, 52, 95, 66, 89, 81,\n",
       "       58, 84, 84, 68, 60, 55, 94, 57, 63, 86, 74, 63, 51, 56, 56, 64, 59,\n",
       "       66, 94, 73, 87, 57, 79, 78, 73, 51, 75, 91, 78, 76, 58, 55, 90, 53,\n",
       "       66, 55, 72, 85, 51, 63, 73, 64, 57, 84, 78, 74, 96, 53, 53, 99, 95,\n",
       "       94, 82, 63, 68, 88, 98, 58, 92, 89, 99, 86, 81])"
      ]
     },
     "execution_count": 8,
     "metadata": {},
     "output_type": "execute_result"
    }
   ],
   "source": [
    "# Write a NumPy program that creates a 5D NumPy array. Use boolean indexing to select elements along specific dimensions based on conditions applied to other dimensions.\n",
    "\n",
    "array_5d = np.random.randint(0, 100, size=(3, 4, 2, 3, 5))\n",
    "\n",
    "print(array_5d)\n",
    "condition = array_5d > 50\n",
    "\n",
    "array_5d[condition]"
   ]
  }
 ],
 "metadata": {
  "kernelspec": {
   "display_name": "base",
   "language": "python",
   "name": "python3"
  },
  "language_info": {
   "codemirror_mode": {
    "name": "ipython",
    "version": 3
   },
   "file_extension": ".py",
   "mimetype": "text/x-python",
   "name": "python",
   "nbconvert_exporter": "python",
   "pygments_lexer": "ipython3",
   "version": "3.12.7"
  }
 },
 "nbformat": 4,
 "nbformat_minor": 2
}
