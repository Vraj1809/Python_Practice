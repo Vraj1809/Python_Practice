{
 "cells": [
  {
   "cell_type": "code",
   "execution_count": 1,
   "metadata": {},
   "outputs": [],
   "source": [
    "import numpy as np"
   ]
  },
  {
   "cell_type": "code",
   "execution_count": 9,
   "metadata": {},
   "outputs": [
    {
     "data": {
      "text/plain": [
       "array([[  1,   2,   3],\n",
       "       [  8,  10,  12],\n",
       "       [ 21,  24,  27],\n",
       "       [ 40,  44,  48],\n",
       "       [ 65,  70,  75],\n",
       "       [ 96, 102, 108],\n",
       "       [133, 140, 147]])"
      ]
     },
     "execution_count": 9,
     "metadata": {},
     "output_type": "execute_result"
    }
   ],
   "source": [
    "# Write a NumPy program that Multiplies each column of a 2D array x of shape (7, 3) by a 1D array y of shape (7,) using broadcasting.\n",
    "\n",
    "# Create a 2D array x of shape (7, 3)\n",
    "x = np.array([[1, 2, 3],\n",
    "              [4, 5, 6],\n",
    "              [7, 8, 9],\n",
    "              [10, 11, 12],\n",
    "              [13, 14, 15],\n",
    "              [16, 17, 18],\n",
    "              [19, 20, 21]])\n",
    "\n",
    "# Create a 1D array y of shape (7,)\n",
    "y = np.array([1, 2, 3, 4, 5, 6, 7])\n",
    "\n",
    "y[:,None] * x\n"
   ]
  },
  {
   "cell_type": "code",
   "execution_count": 16,
   "metadata": {},
   "outputs": [
    {
     "name": "stdout",
     "output_type": "stream",
     "text": [
      "[[[ 1  2  3  4  5]]\n",
      "\n",
      " [[ 6  7  8  9 10]]\n",
      "\n",
      " [[11 12 13 14 15]]]\n",
      "\n",
      "[[10 20 30 40 50]\n",
      " [15 25 35 45 55]\n",
      " [20 30 40 50 60]]\n"
     ]
    },
    {
     "data": {
      "text/plain": [
       "array([[[11, 22, 33, 44, 55]],\n",
       "\n",
       "       [[21, 32, 43, 54, 65]],\n",
       "\n",
       "       [[31, 42, 53, 64, 75]]])"
      ]
     },
     "execution_count": 16,
     "metadata": {},
     "output_type": "execute_result"
    }
   ],
   "source": [
    "# Write a NumPy program to create a 3D array x of shape (3, 1, 5) and a 2D array y of shape (3, 5). Add x and y using broadcasting.\n",
    "\n",
    "x = np.array([[[1, 2, 3, 4, 5]],\n",
    "              [[6, 7, 8, 9, 10]],\n",
    "              [[11, 12, 13, 14, 15]]])\n",
    "\n",
    "y = np.array([[10, 20, 30, 40, 50],\n",
    "              [15, 25, 35, 45, 55],\n",
    "              [20, 30, 40, 50, 60]])\n",
    "\n",
    "print(x)\n",
    "print()\n",
    "print(y)\n",
    "\n",
    "x + y[:, np.newaxis]"
   ]
  },
  {
   "cell_type": "code",
   "execution_count": 17,
   "metadata": {},
   "outputs": [
    {
     "data": {
      "text/plain": [
       "array([[11, 21, 31, 41],\n",
       "       [12, 22, 32, 42],\n",
       "       [13, 23, 33, 43],\n",
       "       [14, 24, 34, 44],\n",
       "       [15, 25, 35, 45],\n",
       "       [16, 26, 36, 46],\n",
       "       [17, 27, 37, 47],\n",
       "       [18, 28, 38, 48]])"
      ]
     },
     "execution_count": 17,
     "metadata": {},
     "output_type": "execute_result"
    }
   ],
   "source": [
    "# Given two 1D arrays a of shape (8,) and b of shape (4,), write a NumPy program to reshape them and perform element-wise addition using broadcasting to get a 2D array of shape (8, 4).\n",
    "# Create 1D array a of shape (8,)\n",
    "a = np.array([1, 2, 3, 4, 5, 6, 7, 8])\n",
    "\n",
    "# Create 1D array b of shape (4,)\n",
    "b = np.array([10, 20, 30, 40])\n",
    "\n",
    "a = a[:, np.newaxis]\n",
    "\n",
    "a + b"
   ]
  }
 ],
 "metadata": {
  "kernelspec": {
   "display_name": "base",
   "language": "python",
   "name": "python3"
  },
  "language_info": {
   "codemirror_mode": {
    "name": "ipython",
    "version": 3
   },
   "file_extension": ".py",
   "mimetype": "text/x-python",
   "name": "python",
   "nbconvert_exporter": "python",
   "pygments_lexer": "ipython3",
   "version": "3.12.7"
  }
 },
 "nbformat": 4,
 "nbformat_minor": 2
}
