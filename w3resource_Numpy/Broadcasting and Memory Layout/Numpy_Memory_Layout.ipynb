{
 "cells": [
  {
   "cell_type": "code",
   "execution_count": 3,
   "metadata": {},
   "outputs": [
    {
     "name": "stdout",
     "output_type": "stream",
     "text": [
      "Strides of the array: (60, 20, 4)\n"
     ]
    }
   ],
   "source": [
    "# Write NumPy program to create a 3D array of shape (2, 3, 4) and print its strides.\n",
    "import numpy as np\n",
    "\n",
    "# Create a 3D array of shape (2, 3, 4)\n",
    "x = np.array([[[1, 2, 3, 4,5], \n",
    "               [5, 6, 7, 8,9], \n",
    "               [9, 10, 11, 12,13]],\n",
    "\n",
    "              [[13, 14, 15, 16,20], \n",
    "               [17, 18, 19, 20,21], \n",
    "               [21, 22, 23, 24,25]]])\n",
    "\n",
    "# Print the strides of the array\n",
    "print(\"Strides of the array:\", x.strides)"
   ]
  },
  {
   "cell_type": "code",
   "execution_count": 2,
   "metadata": {},
   "outputs": [
    {
     "name": "stdout",
     "output_type": "stream",
     "text": [
      "Stride of 1D array:  (4,)\n",
      "Stride of 2D Array:  (16, 4)\n"
     ]
    }
   ],
   "source": [
    "# Write a NumPy program that reshapes a 1D array of 12 elements into a 2D array of shape (3, 4) and print its strides.\n",
    "x = np.arange(12)\n",
    "\n",
    "print(\"Stride of 1D array: \", x.strides)\n",
    "\n",
    "x = x.reshape(3,4)\n",
    "\n",
    "print(\"Stride of 2D Array: \", x.strides)"
   ]
  }
 ],
 "metadata": {
  "kernelspec": {
   "display_name": "base",
   "language": "python",
   "name": "python3"
  },
  "language_info": {
   "codemirror_mode": {
    "name": "ipython",
    "version": 3
   },
   "file_extension": ".py",
   "mimetype": "text/x-python",
   "name": "python",
   "nbconvert_exporter": "python",
   "pygments_lexer": "ipython3",
   "version": "3.12.7"
  }
 },
 "nbformat": 4,
 "nbformat_minor": 2
}
