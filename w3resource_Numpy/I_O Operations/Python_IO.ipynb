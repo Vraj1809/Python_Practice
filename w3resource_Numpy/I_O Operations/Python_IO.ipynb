{
 "cells": [
  {
   "cell_type": "code",
   "execution_count": 1,
   "metadata": {},
   "outputs": [],
   "source": [
    "import numpy as np"
   ]
  },
  {
   "cell_type": "code",
   "execution_count": 2,
   "metadata": {},
   "outputs": [
    {
     "name": "stdout",
     "output_type": "stream",
     "text": [
      "Python List:  <class 'list'>\n",
      "Numpy Array: \n",
      " [1 2 3 4 5] <class 'numpy.ndarray'>\n",
      "Numpy Array appended to the list: \n",
      " [1, 2, 3, 4, 5] <class 'list'>\n"
     ]
    }
   ],
   "source": [
    "# Write a NumPy program to append a NumPy array to a Python list and print the result.\n",
    "\n",
    "list1 = []\n",
    "print(\"Python List: \", type(list1))\n",
    "\n",
    "arr = np.array([1,2,3,4,5])\n",
    "print(\"Numpy Array: \\n\", arr, type(arr))\n",
    "\n",
    "list1.extend(arr.tolist())\n",
    "\n",
    "print(\"Numpy Array appended to the list: \\n\", list1, type(list1))"
   ]
  },
  {
   "cell_type": "code",
   "execution_count": 3,
   "metadata": {},
   "outputs": [
    {
     "name": "stdout",
     "output_type": "stream",
     "text": [
      "Original Data: \n",
      " [[1 2 3]\n",
      " [4 5 6]\n",
      " [7 8 9]]\n",
      "\n",
      "\n",
      "Text File Data: \n",
      " [[1. 2. 3.]\n",
      " [4. 5. 6.]\n",
      " [7. 8. 9.]]\n"
     ]
    }
   ],
   "source": [
    "data_array = np.array([[1,2,3],[4,5,6],[7,8,9]])\n",
    "print(\"Original Data: \\n\", data_array)\n",
    "text_file = 'data.txt'\n",
    "\n",
    "np.savetxt(text_file, data_array, delimiter=\" \")\n",
    "\n",
    "text_file_data = np.loadtxt('data.txt', delimiter=\" \")\n",
    "\n",
    "print(\"\\n\\nText File Data: \\n\",text_file_data)"
   ]
  },
  {
   "cell_type": "code",
   "execution_count": null,
   "metadata": {},
   "outputs": [],
   "source": []
  }
 ],
 "metadata": {
  "kernelspec": {
   "display_name": "base",
   "language": "python",
   "name": "python3"
  },
  "language_info": {
   "codemirror_mode": {
    "name": "ipython",
    "version": 3
   },
   "file_extension": ".py",
   "mimetype": "text/x-python",
   "name": "python",
   "nbconvert_exporter": "python",
   "pygments_lexer": "ipython3",
   "version": "3.12.7"
  }
 },
 "nbformat": 4,
 "nbformat_minor": 2
}
