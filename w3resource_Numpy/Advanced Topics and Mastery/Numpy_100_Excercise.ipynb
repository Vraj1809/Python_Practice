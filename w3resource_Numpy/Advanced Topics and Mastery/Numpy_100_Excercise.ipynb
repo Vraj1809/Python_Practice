{
 "cells": [
  {
   "cell_type": "code",
   "execution_count": 1,
   "metadata": {},
   "outputs": [],
   "source": [
    "import numpy as np"
   ]
  },
  {
   "cell_type": "code",
   "execution_count": 5,
   "metadata": {},
   "outputs": [
    {
     "name": "stdout",
     "output_type": "stream",
     "text": [
      "Array: \n",
      " [[1 8 4]\n",
      " [2 8 5]\n",
      " [8 9 4]]\n"
     ]
    },
    {
     "data": {
      "text/plain": [
       "array([[0.        , 1.41421356, 7.07106781],\n",
       "       [1.41421356, 0.        , 6.164414  ],\n",
       "       [7.07106781, 6.164414  , 0.        ]])"
      ]
     },
     "execution_count": 5,
     "metadata": {},
     "output_type": "execute_result"
    }
   ],
   "source": [
    "# Write a NumPy program to create a 3x3 array with random values and calculate the pairwise Euclidean distance between each pair of rows.\n",
    "\n",
    "from scipy.spatial import distance\n",
    "arr = np.random.randint(1,10,9).reshape(3,3)\n",
    "print(\"Array: \\n\", arr)\n",
    "\n",
    "euclidean_distance = distance.cdist(arr, arr, 'euclidean')\n",
    "\n",
    "euclidean_distance        "
   ]
  },
  {
   "cell_type": "code",
   "execution_count": 23,
   "metadata": {},
   "outputs": [
    {
     "name": "stdout",
     "output_type": "stream",
     "text": [
      "Array: \n",
      " [[9 5 3]\n",
      " [1 1 1]\n",
      " [4 3 9]]\n"
     ]
    },
    {
     "data": {
      "text/plain": [
       "array([[4, 3, 9],\n",
       "       [9, 5, 3],\n",
       "       [1, 1, 1]])"
      ]
     },
     "execution_count": 23,
     "metadata": {},
     "output_type": "execute_result"
    }
   ],
   "source": [
    "# Write a NumPy program to create a 4x4 array with random values and shift all elements one position downwards.\n",
    "arr = np.random.randint(1,10,9).reshape(3,3)\n",
    "print(\"Array: \\n\", arr)\n",
    "\n",
    "temp = arr[-1, :].copy()\n",
    "arr[1:,:] = arr[:-1,:]\n",
    "arr[0,:] = temp   \n",
    "arr"
   ]
  }
 ],
 "metadata": {
  "kernelspec": {
   "display_name": "base",
   "language": "python",
   "name": "python3"
  },
  "language_info": {
   "codemirror_mode": {
    "name": "ipython",
    "version": 3
   },
   "file_extension": ".py",
   "mimetype": "text/x-python",
   "name": "python",
   "nbconvert_exporter": "python",
   "pygments_lexer": "ipython3",
   "version": "3.12.7"
  }
 },
 "nbformat": 4,
 "nbformat_minor": 2
}
