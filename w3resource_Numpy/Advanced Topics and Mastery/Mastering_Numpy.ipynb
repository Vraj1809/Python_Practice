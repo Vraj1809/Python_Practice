{
 "cells": [
  {
   "cell_type": "code",
   "execution_count": 1,
   "metadata": {},
   "outputs": [],
   "source": [
    "import numpy as np"
   ]
  },
  {
   "cell_type": "code",
   "execution_count": 2,
   "metadata": {},
   "outputs": [
    {
     "name": "stdout",
     "output_type": "stream",
     "text": [
      "original array: \n",
      " [[9 1 8 3 1]\n",
      " [8 1 6 8 5]\n",
      " [5 7 3 8 9]\n",
      " [8 2 8 3 5]]\n",
      "After setting the threshold value: \n",
      " [[5 1 5 3 1]\n",
      " [5 1 5 5 5]\n",
      " [5 5 3 5 5]\n",
      " [5 2 5 3 5]]\n"
     ]
    }
   ],
   "source": [
    "# Create a 2D array with random integers and replace all values greater than a certain threshold with that threshold.\n",
    "\n",
    "arr = np.random.randint(1,10,20).reshape(4,5)\n",
    "\n",
    "print(\"original array: \\n\", arr)\n",
    "\n",
    "threshold_value = 5\n",
    "\n",
    "condition = arr > threshold_value\n",
    "\n",
    "arr[condition] = threshold_value\n",
    "\n",
    "print(\"After setting the threshold value: \\n\", arr)"
   ]
  },
  {
   "cell_type": "code",
   "execution_count": 6,
   "metadata": {},
   "outputs": [
    {
     "name": "stdout",
     "output_type": "stream",
     "text": [
      "True\n"
     ]
    }
   ],
   "source": [
    "# Check if any element in a 1D array is non-zero.\n",
    "\n",
    "import numpy as np\n",
    "arr = np.array([0, 0, 0, 1, 0])\n",
    "any_nonzero = np.any(arr)\n",
    "print(any_nonzero)"
   ]
  }
 ],
 "metadata": {
  "kernelspec": {
   "display_name": "base",
   "language": "python",
   "name": "python3"
  },
  "language_info": {
   "codemirror_mode": {
    "name": "ipython",
    "version": 3
   },
   "file_extension": ".py",
   "mimetype": "text/x-python",
   "name": "python",
   "nbconvert_exporter": "python",
   "pygments_lexer": "ipython3",
   "version": "3.12.7"
  }
 },
 "nbformat": 4,
 "nbformat_minor": 2
}
