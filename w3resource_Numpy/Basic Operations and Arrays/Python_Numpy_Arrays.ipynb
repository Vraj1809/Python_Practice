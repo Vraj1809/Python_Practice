{
 "cells": [
  {
   "cell_type": "code",
   "execution_count": 3,
   "metadata": {},
   "outputs": [],
   "source": [
    "import numpy as np"
   ]
  },
  {
   "cell_type": "code",
   "execution_count": 4,
   "metadata": {},
   "outputs": [
    {
     "name": "stdout",
     "output_type": "stream",
     "text": [
      "Original Array: \n",
      " [[24 11 24  6  6]\n",
      " [ 1 25 27 29 18]\n",
      " [13 26 23 10 11]\n",
      " [20 26  9  5 12]\n",
      " [ 7 10 11 17 14]]\n",
      "Padded Array \n",
      ": [[ 0  0  0  0  0  0  0]\n",
      " [ 0 24 11 24  6  6  0]\n",
      " [ 0  1 25 27 29 18  0]\n",
      " [ 0 13 26 23 10 11  0]\n",
      " [ 0 20 26  9  5 12  0]\n",
      " [ 0  7 10 11 17 14  0]\n",
      " [ 0  0  0  0  0  0  0]]\n"
     ]
    }
   ],
   "source": [
    "# Write a NumPy program to add a border (filled with 0's) around an existing array.\n",
    "array = np.random.randint(1,30,25).reshape(5,5)\n",
    "\n",
    "print(\"Original Array: \\n\", array)\n",
    "\n",
    "array = np.pad(array, pad_width=1, constant_values=0)\n",
    "\n",
    "print(\"Padded Array \\n:\", array)"
   ]
  },
  {
   "cell_type": "code",
   "execution_count": 5,
   "metadata": {},
   "outputs": [
    {
     "name": "stdout",
     "output_type": "stream",
     "text": [
      "original array: \n",
      " [[0. 0. 0. 0. 0. 0. 0. 0.]\n",
      " [0. 0. 0. 0. 0. 0. 0. 0.]\n",
      " [0. 0. 0. 0. 0. 0. 0. 0.]\n",
      " [0. 0. 0. 0. 0. 0. 0. 0.]\n",
      " [0. 0. 0. 0. 0. 0. 0. 0.]\n",
      " [0. 0. 0. 0. 0. 0. 0. 0.]\n",
      " [0. 0. 0. 0. 0. 0. 0. 0.]\n",
      " [0. 0. 0. 0. 0. 0. 0. 0.]]\n",
      "\n",
      "Chess board pattern array: \n",
      " [[0. 1. 0. 1. 0. 1. 0. 1.]\n",
      " [1. 0. 1. 0. 1. 0. 1. 0.]\n",
      " [0. 1. 0. 1. 0. 1. 0. 1.]\n",
      " [1. 0. 1. 0. 1. 0. 1. 0.]\n",
      " [0. 1. 0. 1. 0. 1. 0. 1.]\n",
      " [1. 0. 1. 0. 1. 0. 1. 0.]\n",
      " [0. 1. 0. 1. 0. 1. 0. 1.]\n",
      " [1. 0. 1. 0. 1. 0. 1. 0.]]\n"
     ]
    }
   ],
   "source": [
    "# Write a NumPy program to create an 8x8 matrix and fill it with a checkerboard pattern.\n",
    "array = np.zeros((8,8))\n",
    "\n",
    "print(\"original array: \\n\", array)\n",
    "\n",
    "# for even rows\n",
    "array[::2, 1::2] = 1\n",
    "\n",
    "# for odd rows\n",
    "array[1::2, ::2] = 1\n",
    "\n",
    "print(\"\\nChess board pattern array: \\n\", array)"
   ]
  },
  {
   "cell_type": "code",
   "execution_count": 6,
   "metadata": {},
   "outputs": [
    {
     "name": "stdout",
     "output_type": "stream",
     "text": [
      "[ True False False  True False]\n",
      "[ 0 40]\n",
      "[10 20 60]\n",
      "[30]\n",
      "[10 20 30 60]\n",
      "[ 0 10 20 30 40 60]\n"
     ]
    }
   ],
   "source": [
    "# Element Check in 1D Array and Intersection Checking between 2 1D array\n",
    "\n",
    "arr1 = np.array([0,10,20,40,60])\n",
    "arr2 = np.array([0,30,40])\n",
    "\n",
    "print(np.in1d(arr1, arr2))\n",
    "\n",
    "print(np.intersect1d(arr1,arr2))\n",
    "\n",
    "# Set Difference\n",
    "print(np.setdiff1d(arr1, arr2))\n",
    "print(np.setdiff1d(arr2, arr1))\n",
    "\n",
    "# Set Exclusive\n",
    "print(np.setxor1d(arr1,arr2))\n",
    "\n",
    "# Union\n",
    "print(np.union1d(arr1, arr2))\n"
   ]
  },
  {
   "cell_type": "code",
   "execution_count": 7,
   "metadata": {},
   "outputs": [
    {
     "data": {
      "text/plain": [
       "array([1, 2, 3, 4])"
      ]
     },
     "execution_count": 7,
     "metadata": {},
     "output_type": "execute_result"
    }
   ],
   "source": [
    "# Finding the unique elements in the array\n",
    "arr = np.array([1,2,3,1,2,3,4,2,3])\n",
    "np.unique(arr)\n"
   ]
  },
  {
   "cell_type": "code",
   "execution_count": 9,
   "metadata": {},
   "outputs": [],
   "source": [
    "# Write a NumPy program to save a NumPy array to a text file.\n",
    "\n",
    "arr = np.random.randint(1,20,16).reshape(4,4)\n",
    "\n",
    "np.savetxt('test.txt', arr)"
   ]
  },
  {
   "cell_type": "code",
   "execution_count": 14,
   "metadata": {},
   "outputs": [
    {
     "name": "stdout",
     "output_type": "stream",
     "text": [
      "Original Array: \n",
      " [[15 14  7 18]\n",
      " [ 2 18 13  6]\n",
      " [ 5  4 13 10]\n",
      " [ 2 15  7  6]]\n",
      "\n",
      "\n",
      "Using flatten method: \n",
      " [15 14  7 18  2 18 13  6  5  4 13 10  2 15  7  6]\n"
     ]
    }
   ],
   "source": [
    "# Write a NumPy program to create a contiguous flattened array.\n",
    "\n",
    "print(\"Original Array: \\n\", arr)\n",
    "\n",
    "# flatten returns a array that is flatten\n",
    "arr2 = arr.flatten()\n",
    "print(\"\\n\\nUsing flatten method: \\n\", arr2)"
   ]
  },
  {
   "cell_type": "code",
   "execution_count": 26,
   "metadata": {},
   "outputs": [
    {
     "data": {
      "text/plain": [
       "array([[4, 0, 0, 0],\n",
       "       [0, 5, 0, 0],\n",
       "       [0, 0, 6, 0],\n",
       "       [0, 0, 0, 8]])"
      ]
     },
     "execution_count": 26,
     "metadata": {},
     "output_type": "execute_result"
    }
   ],
   "source": [
    "# Write a NumPy program to create a 2-D array whose diagonal equals [4, 5, 6, 8] and 0's elsewhere.\n",
    "\n",
    "arr = np.diag([4,5,6,8])\n",
    "\n",
    "arr"
   ]
  },
  {
   "cell_type": "code",
   "execution_count": 27,
   "metadata": {},
   "outputs": [
    {
     "name": "stdout",
     "output_type": "stream",
     "text": [
      "[2.5        2.63793103 2.77586207 2.9137931  3.05172414 3.18965517\n",
      " 3.32758621 3.46551724 3.60344828 3.74137931 3.87931034 4.01724138\n",
      " 4.15517241 4.29310345 4.43103448 4.56896552 4.70689655 4.84482759\n",
      " 4.98275862 5.12068966 5.25862069 5.39655172 5.53448276 5.67241379\n",
      " 5.81034483 5.94827586 6.0862069  6.22413793 6.36206897 6.5       ]\n"
     ]
    }
   ],
   "source": [
    "# Write a NumPy program to create a 1-D array of 30 evenly spaced elements between 2.5 and 6.5, inclusive.\n",
    "\n",
    "arr = np.linspace(2.5,6.5,30)\n",
    "\n",
    "print(arr)"
   ]
  },
  {
   "cell_type": "code",
   "execution_count": 33,
   "metadata": {},
   "outputs": [
    {
     "name": "stdout",
     "output_type": "stream",
     "text": [
      "original array: \n",
      " [[1 2 3]]\n",
      "With Changed Axes: \n",
      " [[1]\n",
      " [2]\n",
      " [3]]\n"
     ]
    }
   ],
   "source": [
    "# Write a NumPy program to change two array axes\n",
    "\n",
    "arr = np.array([[1,2,3]])\n",
    "\n",
    "print(\"original array: \\n\", arr)\n",
    "\n",
    "\n",
    "\n",
    "print(\"With Changed Axes: \\n\", arr.reshape(3,1))"
   ]
  },
  {
   "cell_type": "code",
   "execution_count": 34,
   "metadata": {},
   "outputs": [
    {
     "name": "stdout",
     "output_type": "stream",
     "text": [
      "Original Array: \n",
      " [[0. 1.]\n",
      " [2. 3.]]\n",
      "\n",
      "\n",
      "At least 1 dimension: \n",
      " [[0. 1.]\n",
      " [2. 3.]]\n",
      "\n",
      "\n",
      "At least 2 dimension: \n",
      " [[0. 1.]\n",
      " [2. 3.]]\n",
      "\n",
      "\n",
      "At least 3 dimension: \n",
      " [[[0.]\n",
      "  [1.]]\n",
      "\n",
      " [[2.]\n",
      "  [3.]]]\n"
     ]
    }
   ],
   "source": [
    "# Write a NumPy program to view inputs as arrays with at least one dimension, two dimensions, three dimensions.\n",
    "\n",
    "x = np.arange(4.0).reshape(2, 2)\n",
    "\n",
    "print(\"Original Array: \\n\", x)\n",
    "\n",
    "print(\"\\n\\nAt least 1 dimension: \\n\", np.atleast_1d(x))\n",
    "print(\"\\n\\nAt least 2 dimension: \\n\", np.atleast_2d(x))\n",
    "print(\"\\n\\nAt least 3 dimension: \\n\", np.atleast_3d(x))"
   ]
  },
  {
   "cell_type": "code",
   "execution_count": 37,
   "metadata": {},
   "outputs": [
    {
     "name": "stdout",
     "output_type": "stream",
     "text": [
      "Original Array: \n",
      " [[1 2]\n",
      " [1 2]]\n",
      "New Array with additional Axes: \n",
      " [[[1 2]]\n",
      "\n",
      " [[1 2]]]\n"
     ]
    }
   ],
   "source": [
    "# Write a  NumPy program to insert a new axis within a 2-D array.\n",
    "arr = np.random.randint(1,4,4).reshape(2,2)\n",
    "\n",
    "print(\"Original Array: \\n\", arr)\n",
    "\n",
    "arr = arr.reshape(2,1,2)\n",
    "\n",
    "print(\"New Array with additional Axes: \\n\", arr)"
   ]
  },
  {
   "cell_type": "code",
   "execution_count": 44,
   "metadata": {},
   "outputs": [
    {
     "name": "stdout",
     "output_type": "stream",
     "text": [
      "Array 1: \n",
      " [[1 2 3]\n",
      " [4 5 6]]\n",
      "\n",
      "Array 2: \n",
      " [[ 7  8  9]\n",
      " [10 11 12]]\n",
      "\n",
      "Appended Array: \n",
      " [[ 1  2  3]\n",
      " [ 4  5  6]\n",
      " [ 7  8  9]\n",
      " [10 11 12]]\n",
      "\n",
      "Appended Array: \n",
      " [[ 1  2  3  7  8  9]\n",
      " [ 4  5  6 10 11 12]]\n"
     ]
    }
   ],
   "source": [
    "# Write a NumPy program to concatenate two 2-dimensional arrays.\n",
    "arr1 = np.array([[1,2,3],[4,5,6]])\n",
    "arr2 = np.array([[7,8,9],[10,11,12]])\n",
    "\n",
    "print(\"Array 1: \\n\", arr1)\n",
    "print(\"\\nArray 2: \\n\", arr2)\n",
    "\n",
    "# Row wise\n",
    "arr3 = np.concatenate((arr1, arr2), 0)\n",
    "\n",
    "# Column wise\n",
    "arr4 = np.concatenate((arr1, arr2), 1)\n",
    "\n",
    "print(\"\\nAppended Array: \\n\",arr3)\n",
    "print(\"\\nAppended Array: \\n\",arr4)"
   ]
  },
  {
   "cell_type": "code",
   "execution_count": 48,
   "metadata": {},
   "outputs": [
    {
     "name": "stdout",
     "output_type": "stream",
     "text": [
      "Original Array: \n",
      " [57 44 52 55 15 38  4 54 11 48 44 64 42 20]\n"
     ]
    },
    {
     "data": {
      "text/plain": [
       "[array([57, 44]),\n",
       " array([52, 55, 15, 38]),\n",
       " array([ 4, 54, 11, 48, 44, 64, 42, 20])]"
      ]
     },
     "execution_count": 48,
     "metadata": {},
     "output_type": "execute_result"
    }
   ],
   "source": [
    "# Write a NumPy program to split an array of 14 elements into 3 arrays, each with 2, 4, and 8 elements in the original order.\n",
    "\n",
    "arr = np.random.randint(1,100,14)\n",
    "\n",
    "print(\"Original Array: \\n\", arr)\n",
    "\n",
    "# in this the index from which you want to split are given\n",
    "np.split(arr, [2,6])"
   ]
  },
  {
   "cell_type": "code",
   "execution_count": 53,
   "metadata": {},
   "outputs": [
    {
     "data": {
      "text/plain": [
       "array([0.09, 0.18, 0.27, 0.36, 0.45, 0.54, 0.63, 0.72, 0.81, 0.9 ])"
      ]
     },
     "execution_count": 53,
     "metadata": {},
     "output_type": "execute_result"
    }
   ],
   "source": [
    "arr = np.linspace(0.09,0.9,10)\n",
    "\n",
    "arr"
   ]
  },
  {
   "cell_type": "code",
   "execution_count": 64,
   "metadata": {},
   "outputs": [
    {
     "data": {
      "text/plain": [
       "2318"
      ]
     },
     "execution_count": 64,
     "metadata": {},
     "output_type": "execute_result"
    }
   ],
   "source": [
    "arr = np.arange(1,100)\n",
    "\n",
    "arr1 = arr[(arr % 3 == 0) | (arr % 5 == 0)]\n",
    "\n",
    "arr1.sum()"
   ]
  },
  {
   "cell_type": "code",
   "execution_count": 76,
   "metadata": {},
   "outputs": [
    {
     "name": "stdout",
     "output_type": "stream",
     "text": [
      "3 79 91 88 33 6 1 69 73 62 95 88 49 83 92 98 \n",
      "3 79 91 88 33 6 1 69 73 62 95 88 49 83 92 98 "
     ]
    }
   ],
   "source": [
    "# Write a NumPy program to create and display every element of a NumPy array.\n",
    "\n",
    "arr = np.random.randint(1,100,16).reshape(4,4)\n",
    "\n",
    "# normal Method\n",
    "for row in range(len(arr)):\n",
    "    for col in range (len(arr)):\n",
    "        print(arr[row][col], end=\" \")\n",
    "\n",
    "print()       \n",
    "# using diter method\n",
    "for ele in np.nditer(arr):\n",
    "    print(ele, end=\" \")"
   ]
  },
  {
   "cell_type": "code",
   "execution_count": 78,
   "metadata": {},
   "outputs": [
    {
     "data": {
      "text/plain": [
       "array([[[1., 1., 1., 1., 1.],\n",
       "        [1., 1., 1., 1., 1.],\n",
       "        [1., 1., 1., 1., 1.],\n",
       "        [1., 1., 1., 1., 1.],\n",
       "        [1., 1., 1., 1., 1.]],\n",
       "\n",
       "       [[1., 1., 1., 1., 1.],\n",
       "        [1., 1., 1., 1., 1.],\n",
       "        [1., 1., 1., 1., 1.],\n",
       "        [1., 1., 1., 1., 1.],\n",
       "        [1., 1., 1., 1., 1.]],\n",
       "\n",
       "       [[1., 1., 1., 1., 1.],\n",
       "        [1., 1., 1., 1., 1.],\n",
       "        [1., 1., 1., 1., 1.],\n",
       "        [1., 1., 1., 1., 1.],\n",
       "        [1., 1., 1., 1., 1.]],\n",
       "\n",
       "       [[1., 1., 1., 1., 1.],\n",
       "        [1., 1., 1., 1., 1.],\n",
       "        [1., 1., 1., 1., 1.],\n",
       "        [1., 1., 1., 1., 1.],\n",
       "        [1., 1., 1., 1., 1.]],\n",
       "\n",
       "       [[1., 1., 1., 1., 1.],\n",
       "        [1., 1., 1., 1., 1.],\n",
       "        [1., 1., 1., 1., 1.],\n",
       "        [1., 1., 1., 1., 1.],\n",
       "        [1., 1., 1., 1., 1.]]])"
      ]
     },
     "execution_count": 78,
     "metadata": {},
     "output_type": "execute_result"
    }
   ],
   "source": [
    "# Write a NumPy program to create a 5x5x5 cube of 1's.\n",
    "\n",
    "arr = np.ones((5,5,5))\n",
    "\n",
    "arr"
   ]
  },
  {
   "cell_type": "code",
   "execution_count": 82,
   "metadata": {},
   "outputs": [
    {
     "name": "stdout",
     "output_type": "stream",
     "text": [
      "Original Array: \n",
      " [[ 0  1  2  3]\n",
      " [ 4  5  6  7]\n",
      " [ 8  9 10 11]]\n",
      "\n",
      "\n",
      "Array with 3 Multipplied: \n",
      " [[ 0  3  6  9]\n",
      " [12 15 18 21]\n",
      " [24 27 30 33]]\n",
      "\n",
      "\n",
      "Array with 3 Multipplied: \n",
      " [[   0    1    8   27]\n",
      " [  64  125  216  343]\n",
      " [ 512  729 1000 1331]]\n"
     ]
    }
   ],
   "source": [
    "arr = np.arange(0,12).reshape(3,4)\n",
    "\n",
    "print(\"Original Array: \\n\", arr)\n",
    "\n",
    "print(\"\\n\\nArray with 3 Multipplied: \\n\", arr * 3)\n",
    "\n",
    "print(\"\\n\\nArray with 3 Multipplied: \\n\", arr ** 3)"
   ]
  },
  {
   "cell_type": "code",
   "execution_count": 89,
   "metadata": {},
   "outputs": [
    {
     "name": "stdout",
     "output_type": "stream",
     "text": [
      "<class 'numpy.ndarray'>\n",
      "<class 'list'>\n"
     ]
    }
   ],
   "source": [
    "# Write a NumPy program to convert a NumPy array into a Python list structure.\n",
    "\n",
    "arr = np.random.randint(1,100,16).reshape(4,4)\n",
    "\n",
    "print(type(arr))\n",
    "\n",
    "py_list = arr.tolist()\n",
    "\n",
    "print(type(py_list))    "
   ]
  },
  {
   "cell_type": "code",
   "execution_count": 94,
   "metadata": {},
   "outputs": [
    {
     "name": "stdout",
     "output_type": "stream",
     "text": [
      "[[12.   12.51]\n",
      " [ 2.34  7.98]\n",
      " [25.23 36.5 ]]\n",
      "[[12 12]\n",
      " [ 2  7]\n",
      " [25 36]]\n"
     ]
    }
   ],
   "source": [
    "# Write a NumPy program to convert a NumPy array of floating values to a numpy array of integer values.\n",
    "\n",
    "arr = np.array([[ 12.,12.51],[ 2.34,7.98],[ 25.23,36.5 ]])\n",
    "\n",
    "print(arr)\n",
    "\n",
    "print(arr.astype(int))"
   ]
  },
  {
   "cell_type": "code",
   "execution_count": 96,
   "metadata": {},
   "outputs": [
    {
     "data": {
      "text/plain": [
       "array([  0.        ,  18.0186292 ,   0.        , 143.77187313,\n",
       "         0.        ,   0.        ,  40.50532596,  42.59158527,\n",
       "         0.        , 115.73009149,   0.        ,   0.        ,\n",
       "         0.        ,   0.        ,   0.        ,   4.05202475])"
      ]
     },
     "execution_count": 96,
     "metadata": {},
     "output_type": "execute_result"
    }
   ],
   "source": [
    "# Write a NumPy program to replace all elements of  NumPy array that are greater than the specified array.\n",
    "\n",
    "arr = np.random.normal(1,100,16)\n",
    "\n",
    "arr[arr < 0] = 0\n",
    "\n",
    "arr"
   ]
  },
  {
   "cell_type": "code",
   "execution_count": 113,
   "metadata": {},
   "outputs": [
    {
     "data": {
      "text/plain": [
       "array([1., 2., 3., 4., 5., 7., 8., 9., 1., 0., 1.])"
      ]
     },
     "execution_count": 113,
     "metadata": {},
     "output_type": "execute_result"
    }
   ],
   "source": [
    "# Write a  NumPy program to remove all rows in a NumPy array that contain non-numeric values.\n",
    "x = np.array([[1, 2, 3], [4, 5, np.nan], [7, 8, 9], [True, False, True]])\n",
    "\n",
    "x_cleaned = x[~np.isnan(x)]\n",
    "\n",
    "x_cleaned"
   ]
  },
  {
   "cell_type": "code",
   "execution_count": 118,
   "metadata": {},
   "outputs": [
    {
     "data": {
      "text/plain": [
       "array([[10, 20, 30, 40, 50],\n",
       "       [ 3,  4,  2,  2,  1]], dtype=int64)"
      ]
     },
     "execution_count": 118,
     "metadata": {},
     "output_type": "execute_result"
    }
   ],
   "source": [
    "# Write a  NumPy program to count the frequency of distinct values in a NumPy array.\n",
    "\n",
    "a = np.array([10, 10, 20, 10, 20, 20, 20, 30, 30, 50, 40, 40])\n",
    "\n",
    "array, count = np.unique(a, return_counts=True)\n",
    "\n",
    "np.asarray((array, count))"
   ]
  },
  {
   "cell_type": "code",
   "execution_count": 125,
   "metadata": {},
   "outputs": [
    {
     "name": "stdout",
     "output_type": "stream",
     "text": [
      "[[20 20 20]\n",
      " [30 30 30]\n",
      " [40 40 40]]\n",
      "[20 30 40]\n"
     ]
    },
    {
     "data": {
      "text/plain": [
       "array([[1., 1., 1.],\n",
       "       [1., 1., 1.],\n",
       "       [1., 1., 1.]])"
      ]
     },
     "execution_count": 125,
     "metadata": {},
     "output_type": "execute_result"
    }
   ],
   "source": [
    "# Write a  NumPy program to divide each row by a vector element.\n",
    "x = np.array([[20, 20, 20], [30, 30, 30], [40, 40, 40]])\n",
    "print(x)\n",
    "\n",
    "v = np.array([20, 30, 40])\n",
    "print(v)\n",
    "\n",
    "x / v[:, None]"
   ]
  },
  {
   "cell_type": "code",
   "execution_count": 127,
   "metadata": {},
   "outputs": [
    {
     "name": "stdout",
     "output_type": "stream",
     "text": [
      "[[1 2 3]\n",
      " [4 5 6]\n",
      " [7 8 9]]\n",
      "\n",
      "\n",
      " [[2 3]\n",
      " [5 6]\n",
      " [8 9]]\n"
     ]
    }
   ],
   "source": [
    "# Write a NumPy program to access the last two columns of a multidimensional column.\n",
    "\n",
    "arra = np.array([[1, 2, 3], [4, 5, 6], [7, 8, 9]])\n",
    "\n",
    "print(arra)\n",
    "\n",
    "print(\"\\n\\n\", arra[:,1:3])"
   ]
  },
  {
   "cell_type": "code",
   "execution_count": 138,
   "metadata": {},
   "outputs": [
    {
     "data": {
      "text/plain": [
       "5"
      ]
     },
     "execution_count": 138,
     "metadata": {},
     "output_type": "execute_result"
    }
   ],
   "source": [
    "# Write a NumPy program to find the position of the index of a specified value ranked higher than an existing value in a NumPy array.\n",
    "arr = np.array([1,0,2,3,0,9,4,5,6,7,8])\n",
    "np.argmax(arr)"
   ]
  },
  {
   "cell_type": "code",
   "execution_count": 141,
   "metadata": {},
   "outputs": [
    {
     "data": {
      "text/plain": [
       "5"
      ]
     },
     "execution_count": 141,
     "metadata": {},
     "output_type": "execute_result"
    }
   ],
   "source": [
    "arr = np.array([1,0,2,3,0,9,4,5,6,7]).reshape(2,5)\n",
    "arr\n",
    "np.argmax(arr)"
   ]
  },
  {
   "cell_type": "code",
   "execution_count": 143,
   "metadata": {},
   "outputs": [
    {
     "data": {
      "text/plain": [
       "array([[10, 11, 12],\n",
       "       [11, 13, 15],\n",
       "       [14, 16, 18]])"
      ]
     },
     "execution_count": 143,
     "metadata": {},
     "output_type": "execute_result"
    }
   ],
   "source": [
    "# Write a  NumPy program to broadcast on different shapes of arrays where p(3,3) + q(3).\n",
    "\n",
    "# The p variable has a shape of (3, 3), while q only has a shape of 3.\n",
    "# Creating a NumPy array 'p' with 3x3 elements\n",
    "p = np.array([[0, 0, 0],\n",
    "              [1, 2, 3],\n",
    "              [4, 5, 6]])\n",
    "\n",
    "# Creating another NumPy array 'q' with 1x3 elements\n",
    "q = np.array([10, 11, 12])\n",
    "\n",
    "p + q"
   ]
  },
  {
   "cell_type": "code",
   "execution_count": 144,
   "metadata": {},
   "outputs": [
    {
     "data": {
      "text/plain": [
       "array([[10, 11, 12],\n",
       "       [20, 21, 22],\n",
       "       [30, 31, 32]])"
      ]
     },
     "execution_count": 144,
     "metadata": {},
     "output_type": "execute_result"
    }
   ],
   "source": [
    "# Write a NumPy program to broadcast on different shapes of arrays where a(,3) + b(3).\n",
    "\n",
    "p = np.array([[0],\n",
    "              [10],\n",
    "              [20]])\n",
    "\n",
    "# Creating another NumPy array 'q' with 1x3 elements\n",
    "q = np.array([10, 11, 12])\n",
    "\n",
    "p + q"
   ]
  },
  {
   "cell_type": "code",
   "execution_count": 145,
   "metadata": {},
   "outputs": [
    {
     "name": "stdout",
     "output_type": "stream",
     "text": [
      "Original Array: \n",
      " [[ 0  1  2  3  4]\n",
      " [ 5  6  7  8  9]\n",
      " [10 11 12 13 14]\n",
      " [15 16 17 18 19]]\n",
      "\n",
      "\n",
      " Rearranged Array: \n",
      " [[ 0  5 10 15]\n",
      " [ 1  6 11 16]\n",
      " [ 2  7 12 17]\n",
      " [ 3  8 13 18]\n",
      " [ 4  9 14 19]]\n"
     ]
    }
   ],
   "source": [
    "# Write a NumPy program to rearrange array dimensions.\n",
    "\n",
    "arr = np.arange(20).reshape(4,5)\n",
    "\n",
    "print(\"Original Array: \\n\", arr)\n",
    "\n",
    "print(\"\\n\\n Rearranged Array: \\n\", arr.T)"
   ]
  },
  {
   "cell_type": "code",
   "execution_count": 150,
   "metadata": {},
   "outputs": [
    {
     "name": "stdout",
     "output_type": "stream",
     "text": [
      "[[0 1 2]\n",
      " [3 4 5]\n",
      " [6 7 8]]\n",
      "\n",
      "[[ 60  60  60]\n",
      " [ 90  90  90]\n",
      " [120 120 120]]\n",
      "\n",
      "[[  0   1   2  60  60  60]\n",
      " [  3   4   5  90  90  90]\n",
      " [  6   7   8 120 120 120]]\n",
      "\n",
      "[[  0   1   2]\n",
      " [  3   4   5]\n",
      " [  6   7   8]\n",
      " [ 60  60  60]\n",
      " [ 90  90  90]\n",
      " [120 120 120]]\n"
     ]
    }
   ],
   "source": [
    "# Creating a 3x3 NumPy array 'x' with elements from 0 to 8 using np.arange() and reshaping it\n",
    "arr1 = np.arange(9).reshape(3, 3)\n",
    "\n",
    "# Creating another 3x3 NumPy array 'y' by multiplying each element of 'x' by 3\n",
    "arr2 = x * 3\n",
    "\n",
    "print(arr1)\n",
    "print()\n",
    "print(arr2)\n",
    "print()\n",
    "arr3 = np.hstack((arr1,arr2))\n",
    "print(arr3)\n",
    "\n",
    "print()\n",
    "arr4 = np.vstack((arr1,arr2))\n",
    "print(arr4)"
   ]
  },
  {
   "cell_type": "code",
   "execution_count": 154,
   "metadata": {},
   "outputs": [
    {
     "name": "stdout",
     "output_type": "stream",
     "text": [
      "[[1 2]\n",
      " [2 3]\n",
      " [3 4]]\n",
      "\n",
      "[[1 2 3]\n",
      " [2 3 4]]\n"
     ]
    }
   ],
   "source": [
    "arr1 = np.array([1,2,3])\n",
    "arr2 = np.array([2,3,4])\n",
    "\n",
    "# Stackig 1 D arrays as columns\n",
    "print(np.column_stack((arr1,arr2)))\n",
    "print() \n",
    "\n",
    "# Stackig 1 D arrays as row\n",
    "print(np.row_stack((arr1,arr2)))"
   ]
  },
  {
   "cell_type": "code",
   "execution_count": 163,
   "metadata": {},
   "outputs": [
    {
     "name": "stdout",
     "output_type": "stream",
     "text": [
      "Original Array: \n",
      " [[[ 0  1  2  3]]\n",
      "\n",
      " [[ 4  5  6  7]]\n",
      "\n",
      " [[ 8  9 10 11]]\n",
      "\n",
      " [[12 13 14 15]]]\n",
      "\n",
      "[array([[[0, 1, 2, 3]],\n",
      "\n",
      "       [[4, 5, 6, 7]]]), array([[[ 8,  9, 10, 11]],\n",
      "\n",
      "       [[12, 13, 14, 15]]])]\n",
      "[array([[[ 0,  1]],\n",
      "\n",
      "       [[ 4,  5]],\n",
      "\n",
      "       [[ 8,  9]],\n",
      "\n",
      "       [[12, 13]]]), array([[[ 2,  3]],\n",
      "\n",
      "       [[ 6,  7]],\n",
      "\n",
      "       [[10, 11]],\n",
      "\n",
      "       [[14, 15]]])]\n"
     ]
    }
   ],
   "source": [
    "arr = np.arange(16).reshape(4,1,4)\n",
    "\n",
    "print(\"Original Array: \\n\", arr)\n",
    "print()\n",
    "\n",
    "# Splittng the array vertically\n",
    "print(np.vsplit(arr,2))\n",
    "\n",
    "# splitting the array dimensionally\n",
    "print(np.dsplit(arr,2))"
   ]
  },
  {
   "cell_type": "code",
   "execution_count": 166,
   "metadata": {},
   "outputs": [
    {
     "data": {
      "text/plain": [
       "array([1, 2, 3, 4, 5, 6])"
      ]
     },
     "execution_count": 166,
     "metadata": {},
     "output_type": "execute_result"
    }
   ],
   "source": [
    "# Write a NumPy program to copy data from a given array to another array.\n",
    "\n",
    "arr = np.array([1,2,3,4,5,6])\n",
    "\n",
    "arr_copy = arr.copy()\n",
    "arr[0] = 10\n",
    "arr_copy"
   ]
  },
  {
   "cell_type": "code",
   "execution_count": 173,
   "metadata": {},
   "outputs": [
    {
     "name": "stdout",
     "output_type": "stream",
     "text": [
      "Original Array: \n",
      " [[ 0  1  2  3  4  5  6  7  8]\n",
      " [ 9 10 11 12 13 14 15 16 17]\n",
      " [18 19 20 21 22 23 24 25 26]\n",
      " [27 28 29 30 31 32 33 34 35]]\n"
     ]
    },
    {
     "data": {
      "text/plain": [
       "(array([1, 2, 3], dtype=int64),)"
      ]
     },
     "execution_count": 173,
     "metadata": {},
     "output_type": "execute_result"
    }
   ],
   "source": [
    "# Write a  NumPy program to get the row numbers in a given array where at least one item is larger than a specified value.\n",
    "\n",
    "arr = np.arange(36).reshape(4,9)\n",
    "\n",
    "print(\"Original Array: \\n\", arr)\n",
    "\n",
    "np.where(np.any(arr> 10, axis = 1))"
   ]
  },
  {
   "cell_type": "code",
   "execution_count": 179,
   "metadata": {},
   "outputs": [
    {
     "name": "stdout",
     "output_type": "stream",
     "text": [
      "Original Array: \n",
      " [[ 0  1  2]\n",
      " [ 3  4  5]\n",
      " [ 6  7  8]\n",
      " [ 9 10 11]\n",
      " [12 13 14]\n",
      " [15 16 17]]\n",
      "Upper Triangle: \n",
      " [0 1 2 4 5 8]\n"
     ]
    }
   ],
   "source": [
    "# Write a NumPy program to extract the upper triangular part of a NumPy matrix.\n",
    "arr = np.arange(18).reshape(6,3)\n",
    "\n",
    "print(\"Original Array: \\n\", arr)\n",
    "\n",
    "print('Upper Triangle: \\n', arr[np.triu_indices(3)])"
   ]
  },
  {
   "cell_type": "code",
   "execution_count": 183,
   "metadata": {},
   "outputs": [
    {
     "name": "stdout",
     "output_type": "stream",
     "text": [
      "Original Array: \n",
      " [[ 11  22  33  44  55]\n",
      " [ 66  77  88  99 100]]\n",
      "\n",
      "\n",
      "New array: \n",
      " [[ 22  44  11  55  33]\n",
      " [ 77  99  66 100  88]]\n"
     ]
    }
   ],
   "source": [
    "# Write a NumPy program to rearrange columns of a given numpy 2D array using given index positions.\n",
    "\n",
    "array1 = np.array([[11, 22, 33, 44, 55],\n",
    "                    [66, 77, 88, 99, 100]])\n",
    "\n",
    "print(\"Original Array: \\n\", array1)\n",
    "\n",
    "i = [1,3,0,4,2]\n",
    "\n",
    "result = array1[:, i]\n",
    "\n",
    "print(\"\\n\\nNew array: \\n\",result)"
   ]
  },
  {
   "cell_type": "code",
   "execution_count": 198,
   "metadata": {},
   "outputs": [
    {
     "data": {
      "text/plain": [
       "array(['PHP', 'JS', 'C++Python', 'C#', 'Numpy'], dtype='<U9')"
      ]
     },
     "execution_count": 198,
     "metadata": {},
     "output_type": "execute_result"
    }
   ],
   "source": [
    "# Write a NumPy program to combine the last element with the first element of two given ndarray with different shapes.\n",
    "\n",
    "arr1 = np.array(['PHP', 'JS', 'C++'])\n",
    "arr2 = np.array(['Python', 'C#', 'Numpy'])\n",
    "f_arr = arr1[0:-1]\n",
    "s_arr = arr1[-1] + arr2[0]\n",
    "t_arr = arr2[1:]\n",
    "\n",
    "np.concatenate((f_arr, [s_arr], t_arr))\n",
    "\n"
   ]
  },
  {
   "cell_type": "code",
   "execution_count": 207,
   "metadata": {},
   "outputs": [
    {
     "data": {
      "text/plain": [
       "array([1, 1, 1], dtype=int64)"
      ]
     },
     "execution_count": 207,
     "metadata": {},
     "output_type": "execute_result"
    }
   ],
   "source": [
    "# Write a  NumPy program to search the index of a given array in another given array.\n",
    "\n",
    "np_array = np.array([[1, 2, 3], [4, 5, 6], [7, 8, 9], [10, 11, 12]])\n",
    "\n",
    "test_array = np.array([4, 5, 6])\n",
    "\n",
    "result = np.where((test_array == np_array))[0]\n",
    "\n",
    "result"
   ]
  },
  {
   "cell_type": "code",
   "execution_count": 217,
   "metadata": {},
   "outputs": [
    {
     "data": {
      "text/plain": [
       "array([ 0, -1,  1,  0,  0,  0,  0,  2,  3,  1,  1,  0])"
      ]
     },
     "execution_count": 217,
     "metadata": {},
     "output_type": "execute_result"
    }
   ],
   "source": [
    "arra = np.array([[1, 1, 0],\n",
    "                 [0, 0, 0],\n",
    "                 [0, 2, 3],\n",
    "                 [0, 0, 0],\n",
    "                 [0, -1, 1],\n",
    "                 [0, 0, 0]])\n",
    "\n",
    "result = np.unique(arra, axis = 0)\n"
   ]
  },
  {
   "cell_type": "code",
   "execution_count": 222,
   "metadata": {},
   "outputs": [
    {
     "name": "stdout",
     "output_type": "stream",
     "text": [
      "Original Array: \n",
      " [1 2 3 4 5 6 7 8]\n",
      "[1. 0. 0. 2. 0. 0. 3. 0. 0. 4. 0. 0. 5. 0. 0. 6. 0. 0. 7. 0. 0. 8.]\n"
     ]
    }
   ],
   "source": [
    "array = np.array([1,2,3,4,5,6,7,8])\n",
    "\n",
    "print(\"Original Array: \\n\",array)\n",
    "\n",
    "zero_array = np.zeros(len(array) * 3)\n",
    "\n",
    "zero_array[::3] = array\n",
    "\n",
    "print(zero_array[:-2])"
   ]
  },
  {
   "cell_type": "code",
   "execution_count": 232,
   "metadata": {},
   "outputs": [
    {
     "data": {
      "text/plain": [
       "array([[2, 1, 1],\n",
       "       [0, 1, 1],\n",
       "       [3, 1, 1],\n",
       "       [1, 0, 0],\n",
       "       [0, 1, 0],\n",
       "       [0, 2, 2]])"
      ]
     },
     "execution_count": 232,
     "metadata": {},
     "output_type": "execute_result"
    }
   ],
   "source": [
    "nums = np.random.randint(0, 4, (6, 3))\n",
    "\n",
    "nums"
   ]
  },
  {
   "cell_type": "code",
   "execution_count": null,
   "metadata": {},
   "outputs": [],
   "source": []
  }
 ],
 "metadata": {
  "kernelspec": {
   "display_name": "base",
   "language": "python",
   "name": "python3"
  },
  "language_info": {
   "codemirror_mode": {
    "name": "ipython",
    "version": 3
   },
   "file_extension": ".py",
   "mimetype": "text/x-python",
   "name": "python",
   "nbconvert_exporter": "python",
   "pygments_lexer": "ipython3",
   "version": "3.12.7"
  }
 },
 "nbformat": 4,
 "nbformat_minor": 2
}
