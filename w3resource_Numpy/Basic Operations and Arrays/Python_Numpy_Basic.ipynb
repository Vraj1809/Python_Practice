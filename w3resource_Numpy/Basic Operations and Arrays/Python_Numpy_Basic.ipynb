{
 "cells": [
  {
   "cell_type": "code",
   "execution_count": 2,
   "metadata": {},
   "outputs": [],
   "source": [
    "import numpy as np"
   ]
  },
  {
   "cell_type": "code",
   "execution_count": 3,
   "metadata": {},
   "outputs": [
    {
     "name": "stdout",
     "output_type": "stream",
     "text": [
      "1.26.4\n",
      "Build Dependencies:\n",
      "  blas:\n",
      "    detection method: pkgconfig\n",
      "    found: true\n",
      "    include directory: C:/Users/VrajDesai/anaconda3/Library/include\n",
      "    lib directory: C:/Users/VrajDesai/anaconda3/Library/lib\n",
      "    name: mkl-sdl\n",
      "    openblas configuration: unknown\n",
      "    pc file directory: C:\\b\\abs_c1ywpu18ar\\croot\\numpy_and_numpy_base_1708638681471\\_h_env\\Library\\lib\\pkgconfig\n",
      "    version: '2023.1'\n",
      "  lapack:\n",
      "    detection method: internal\n",
      "    found: true\n",
      "    include directory: unknown\n",
      "    lib directory: unknown\n",
      "    name: dep1583119523984\n",
      "    openblas configuration: unknown\n",
      "    pc file directory: unknown\n",
      "    version: 1.26.4\n",
      "Compilers:\n",
      "  c:\n",
      "    commands: cl.exe\n",
      "    linker: link\n",
      "    name: msvc\n",
      "    version: 19.29.30154\n",
      "  c++:\n",
      "    commands: cl.exe\n",
      "    linker: link\n",
      "    name: msvc\n",
      "    version: 19.29.30154\n",
      "  cython:\n",
      "    commands: cython\n",
      "    linker: cython\n",
      "    name: cython\n",
      "    version: 3.0.8\n",
      "Machine Information:\n",
      "  build:\n",
      "    cpu: x86_64\n",
      "    endian: little\n",
      "    family: x86_64\n",
      "    system: windows\n",
      "  host:\n",
      "    cpu: x86_64\n",
      "    endian: little\n",
      "    family: x86_64\n",
      "    system: windows\n",
      "Python Information:\n",
      "  path: C:\\b\\abs_c1ywpu18ar\\croot\\numpy_and_numpy_base_1708638681471\\_h_env\\python.exe\n",
      "  version: '3.12'\n",
      "SIMD Extensions:\n",
      "  baseline:\n",
      "  - SSE\n",
      "  - SSE2\n",
      "  - SSE3\n",
      "  found:\n",
      "  - SSSE3\n",
      "  - SSE41\n",
      "  - POPCNT\n",
      "  - SSE42\n",
      "  - AVX\n",
      "  - F16C\n",
      "  - FMA3\n",
      "  - AVX2\n",
      "  not found:\n",
      "  - AVX512F\n",
      "  - AVX512CD\n",
      "  - AVX512_SKX\n",
      "  - AVX512_CLX\n",
      "  - AVX512_CNL\n",
      "  - AVX512_ICL\n",
      "\n",
      "None\n"
     ]
    }
   ],
   "source": [
    "print(np.__version__)\n",
    "\n",
    "print(np.show_config())"
   ]
  },
  {
   "cell_type": "code",
   "execution_count": 4,
   "metadata": {},
   "outputs": [
    {
     "name": "stdout",
     "output_type": "stream",
     "text": [
      "True\n",
      "False\n"
     ]
    }
   ],
   "source": [
    "# Write a NumPy program to test whether none of the elements of a given array are zero. \n",
    "\n",
    "arr = np.array([1,2,3,4,5,6])\n",
    "print(np.all(arr))\n",
    "arr[0] = 0\n",
    "print(np.all(arr))"
   ]
  },
  {
   "cell_type": "code",
   "execution_count": 5,
   "metadata": {},
   "outputs": [
    {
     "name": "stdout",
     "output_type": "stream",
     "text": [
      "True\n",
      "False\n"
     ]
    }
   ],
   "source": [
    "# Write a NumPy program to test if any of the elements of a given array are non-zero. \n",
    "\n",
    "print(np.any(arr))\n",
    "arr[:] = 0\n",
    "print(np.any(arr))"
   ]
  },
  {
   "cell_type": "code",
   "execution_count": 6,
   "metadata": {},
   "outputs": [
    {
     "name": "stdout",
     "output_type": "stream",
     "text": [
      "[False False  True  True]\n",
      "[False False  True  True]\n",
      "[ True  True False False]\n",
      "[ True  True False False]\n"
     ]
    }
   ],
   "source": [
    "# Write a NumPy program to create an element-wise comparison (greater, greater_equal, less and less_equal) of two given arrays\n",
    "\n",
    "arr1 = np.array([1,2,3,4])\n",
    "arr2 = np.array([3,4,1,2])\n",
    "\n",
    "print(np.greater(arr1,arr2))\n",
    "print(np.greater_equal(arr1,arr2))\n",
    "print(np.less(arr1,arr2))\n",
    "print(np.less_equal(arr1,arr2))"
   ]
  },
  {
   "cell_type": "code",
   "execution_count": 7,
   "metadata": {},
   "outputs": [
    {
     "name": "stdout",
     "output_type": "stream",
     "text": [
      "[ True  True  True  True  True  True  True  True  True False]\n",
      "True\n"
     ]
    }
   ],
   "source": [
    "# Creating NumPy arrays 'x' and 'y' containing numbers for comparison\n",
    "x = np.array([72, 79, 85, 90, 150, -135, 120, -10, 60, 100])\n",
    "y = np.array([72, 79, 85, 90, 150, -135, 120, -10, 60, 100.000001])\n",
    "\n",
    "print(np.equal(x,y))\n",
    "print(np.allclose(x,y))"
   ]
  },
  {
   "cell_type": "code",
   "execution_count": 8,
   "metadata": {},
   "outputs": [
    {
     "data": {
      "text/plain": [
       "16"
      ]
     },
     "execution_count": 8,
     "metadata": {},
     "output_type": "execute_result"
    }
   ],
   "source": [
    "# Write a NumPy program to create an array with the values 1, 7, 13, 105 and determine the size of the memory occupied by the array.\n",
    "arr = np.array([1, 7, 13, 105])\n",
    "arr.size * arr.itemsize\n"
   ]
  },
  {
   "cell_type": "code",
   "execution_count": 9,
   "metadata": {},
   "outputs": [
    {
     "name": "stdout",
     "output_type": "stream",
     "text": [
      "[0 0 0 0 0 0 0 0 0 0]\n",
      "[1. 1. 1. 1. 1. 1. 1. 1. 1. 1.]\n",
      "[5 5 5 5 5 5 5 5 5 5]\n"
     ]
    }
   ],
   "source": [
    "# Write a NumPy program to create an array of 10 zeros, 10 ones, and 10 fives. \n",
    "arr = np.zeros(10, dtype=int)\n",
    "print(arr)\n",
    "\n",
    "arr = np.ones(10)\n",
    "print(arr)\n",
    "\n",
    "arr = np.ones(10, dtype=int) * 5\n",
    "print(arr)"
   ]
  },
  {
   "cell_type": "code",
   "execution_count": 10,
   "metadata": {},
   "outputs": [
    {
     "name": "stdout",
     "output_type": "stream",
     "text": [
      "[30 31 32 33 34 35 36 37 38 39 40 41 42 43 44 45 46 47 48 49 50 51 52 53\n",
      " 54 55 56 57 58 59 60 61 62 63 64 65 66 67 68 69]\n",
      "[30 32 34 36 38 40 42 44 46 48 50 52 54 56 58 60 62 64 66 68]\n"
     ]
    }
   ],
   "source": [
    "# Write a NumPy program to create an array of integers from 30 to 70.\n",
    "\n",
    "arr = np.arange(30,70)\n",
    "print(arr)\n",
    "\n",
    "# Write a NumPy program to create an array of all even integers from 30 to 70.\n",
    "arr = np.arange(30,70,2)\n",
    "print(arr)\n"
   ]
  },
  {
   "cell_type": "code",
   "execution_count": 11,
   "metadata": {},
   "outputs": [
    {
     "name": "stdout",
     "output_type": "stream",
     "text": [
      "[[1. 0. 0.]\n",
      " [0. 1. 0.]\n",
      " [0. 0. 1.]]\n"
     ]
    }
   ],
   "source": [
    "# Write a NumPy program to create a 3x3 identity matrix.\n",
    "arr = np.identity(3)\n",
    "print(arr)"
   ]
  },
  {
   "cell_type": "code",
   "execution_count": 12,
   "metadata": {},
   "outputs": [
    {
     "name": "stdout",
     "output_type": "stream",
     "text": [
      "-1.2302914990795053\n"
     ]
    }
   ],
   "source": [
    "# Write a NumPy program to generate a random number between 0 and 1.\n",
    "arr = np.random.normal(0,1)\n",
    "print(arr)"
   ]
  },
  {
   "cell_type": "code",
   "execution_count": 13,
   "metadata": {},
   "outputs": [
    {
     "data": {
      "text/plain": [
       "array([ 0.97438559, -0.11763441, -0.90888918,  0.10314705,  2.7059253 ,\n",
       "       -1.17189692,  0.28949919,  1.46834785, -0.27623673, -1.12836737,\n",
       "       -0.36013537, -0.82129295, -0.13608503,  1.11892659,  0.77511315])"
      ]
     },
     "execution_count": 13,
     "metadata": {},
     "output_type": "execute_result"
    }
   ],
   "source": [
    "# Write a NumPy program to generate an array of 15 random numbers from a standard normal distribution.\n",
    "numbers = np.random.normal(0,1,15)\n",
    "numbers"
   ]
  },
  {
   "cell_type": "code",
   "execution_count": 14,
   "metadata": {},
   "outputs": [
    {
     "name": "stdout",
     "output_type": "stream",
     "text": [
      "original vector:  [15 16 17 18 19 20 21 22 23 24 25 26 27 28 29 30 31 32 33 34 35 36 37 38\n",
      " 39 40 41 42 43 44 45 46 47 48 49 50 51 52 53 54]\n",
      "Vector with first and last removed:  [16 17 18 19 20 21 22 23 24 25 26 27 28 29 30 31 32 33 34 35 36 37 38 39\n",
      " 40 41 42 43 44 45 46 47 48 49 50 51 52 53]\n"
     ]
    }
   ],
   "source": [
    "# Write a NumPy program to create a vector with values ​​ranging from 15 to 55 and print all values ​​except the first and last.\n",
    "\n",
    "vector = np.arange(15,55)\n",
    "\n",
    "print(\"original vector: \", vector)\n",
    "\n",
    "print(\"Vector with first and last removed: \", vector[1:-1])"
   ]
  },
  {
   "cell_type": "code",
   "execution_count": 15,
   "metadata": {},
   "outputs": [
    {
     "name": "stdout",
     "output_type": "stream",
     "text": [
      "1\n",
      "2\n",
      "3\n",
      "4\n",
      "5\n",
      "6\n",
      "7\n",
      "8\n",
      "9\n",
      "10\n",
      "11\n",
      "12\n"
     ]
    }
   ],
   "source": [
    "# Write a  NumPy program to create a 3X4 array and iterate over it.\n",
    "\n",
    "# first taking a single dimension array\n",
    "arr = np.arange(1,13)\n",
    "# now converting 1-D array to 3X4 array\n",
    "arr = arr.reshape(3,4)\n",
    "\n",
    "for elements in np.nditer(arr):\n",
    "  print(elements)"
   ]
  },
  {
   "cell_type": "code",
   "execution_count": 16,
   "metadata": {},
   "outputs": [
    {
     "data": {
      "text/plain": [
       "array([ 5., 10., 15., 20., 25., 30., 35., 40., 45., 50.])"
      ]
     },
     "execution_count": 16,
     "metadata": {},
     "output_type": "execute_result"
    }
   ],
   "source": [
    "# Write a  NumPy program to create a vector of length 10 with values ​​evenly distributed between 5 and 50.\n",
    "\n",
    "arr = np.linspace(5,50,10)\n",
    "\n",
    "arr"
   ]
  },
  {
   "cell_type": "code",
   "execution_count": 17,
   "metadata": {},
   "outputs": [
    {
     "data": {
      "text/plain": [
       "array([ 4, 10,  9,  8,  0])"
      ]
     },
     "execution_count": 17,
     "metadata": {},
     "output_type": "execute_result"
    }
   ],
   "source": [
    "# Write a NumPy program to create a vector of length 5 filled with arbitrary integers from 0 to 10.\n",
    "\n",
    "arr = np.random.randint(0,11,5)\n",
    "\n",
    "arr"
   ]
  },
  {
   "cell_type": "code",
   "execution_count": 18,
   "metadata": {},
   "outputs": [
    {
     "name": "stdout",
     "output_type": "stream",
     "text": [
      "Array 1:  [9 6 1 7 3]\n",
      "Array 2:  [13 18 16 17 20]\n",
      "Multiplication:  [117 108  16 119  60]\n"
     ]
    }
   ],
   "source": [
    "# Write a NumPy program to multiply the values of two given vectors.\n",
    "\n",
    "arr1 = np.random.randint(1,11,5)\n",
    "\n",
    "arr2 = np.random.randint(12,21,5)\n",
    "\n",
    "print(\"Array 1: \", arr1)\n",
    "print(\"Array 2: \", arr2)\n",
    "print(\"Multiplication: \", np.multiply(arr1,arr2))"
   ]
  },
  {
   "cell_type": "code",
   "execution_count": 19,
   "metadata": {},
   "outputs": [
    {
     "data": {
      "text/plain": [
       "array([[10, 11, 12, 13],\n",
       "       [14, 15, 16, 17],\n",
       "       [18, 19, 20, 21]])"
      ]
     },
     "execution_count": 19,
     "metadata": {},
     "output_type": "execute_result"
    }
   ],
   "source": [
    "# Write a NumPy program to create a 3x4 matrix filled with values from 10 to 21.\n",
    "\n",
    "arr = np.arange(10,22).reshape(3,4)\n",
    "\n",
    "arr"
   ]
  },
  {
   "cell_type": "code",
   "execution_count": 20,
   "metadata": {},
   "outputs": [
    {
     "data": {
      "text/plain": [
       "(3, 4)"
      ]
     },
     "execution_count": 20,
     "metadata": {},
     "output_type": "execute_result"
    }
   ],
   "source": [
    "# Write a NumPy program to find the number of rows and columns in a given matrix.\n",
    "\n",
    "arr.shape"
   ]
  },
  {
   "cell_type": "code",
   "execution_count": 21,
   "metadata": {},
   "outputs": [
    {
     "name": "stdout",
     "output_type": "stream",
     "text": [
      "First the array with all ones: \n",
      " [[1. 1. 1. 1. 1. 1. 1. 1. 1. 1.]\n",
      " [1. 1. 1. 1. 1. 1. 1. 1. 1. 1.]\n",
      " [1. 1. 1. 1. 1. 1. 1. 1. 1. 1.]\n",
      " [1. 1. 1. 1. 1. 1. 1. 1. 1. 1.]\n",
      " [1. 1. 1. 1. 1. 1. 1. 1. 1. 1.]\n",
      " [1. 1. 1. 1. 1. 1. 1. 1. 1. 1.]\n",
      " [1. 1. 1. 1. 1. 1. 1. 1. 1. 1.]\n",
      " [1. 1. 1. 1. 1. 1. 1. 1. 1. 1.]\n",
      " [1. 1. 1. 1. 1. 1. 1. 1. 1. 1.]\n",
      " [1. 1. 1. 1. 1. 1. 1. 1. 1. 1.]]\n",
      "\n",
      " Array according to the question: \n",
      " [[1. 1. 1. 1. 1. 1. 1. 1. 1. 1.]\n",
      " [1. 0. 0. 0. 0. 0. 0. 0. 0. 1.]\n",
      " [1. 0. 0. 0. 0. 0. 0. 0. 0. 1.]\n",
      " [1. 0. 0. 0. 0. 0. 0. 0. 0. 1.]\n",
      " [1. 0. 0. 0. 0. 0. 0. 0. 0. 1.]\n",
      " [1. 0. 0. 0. 0. 0. 0. 0. 0. 1.]\n",
      " [1. 0. 0. 0. 0. 0. 0. 0. 0. 1.]\n",
      " [1. 0. 0. 0. 0. 0. 0. 0. 0. 1.]\n",
      " [1. 0. 0. 0. 0. 0. 0. 0. 0. 1.]\n",
      " [1. 1. 1. 1. 1. 1. 1. 1. 1. 1.]]\n"
     ]
    }
   ],
   "source": [
    "# Write a NumPy program to create a 10x10 matrix, in which the elements on the borders will be equal to 1, and inside 0.\n",
    "arr = np.ones((10,10))\n",
    "\n",
    "print(\"First the array with all ones: \\n\", arr)\n",
    "\n",
    "arr[1:-1, 1:-1] = 0\n",
    "\n",
    "print(\"\\n Array according to the question: \\n\", arr)"
   ]
  },
  {
   "cell_type": "code",
   "execution_count": 22,
   "metadata": {},
   "outputs": [
    {
     "data": {
      "text/plain": [
       "array([[1, 0, 0, 0, 0],\n",
       "       [0, 2, 0, 0, 0],\n",
       "       [0, 0, 3, 0, 0],\n",
       "       [0, 0, 0, 4, 0],\n",
       "       [0, 0, 0, 0, 5]])"
      ]
     },
     "execution_count": 22,
     "metadata": {},
     "output_type": "execute_result"
    }
   ],
   "source": [
    "# Write a NumPy program to create a 5x5 zero matrix with elements on the main diagonal equal to 1, 2, 3, 4, 5.\n",
    "\n",
    "arr = np.diag([1,2,3,4,5])\n",
    "\n",
    "arr\n"
   ]
  },
  {
   "cell_type": "code",
   "execution_count": 23,
   "metadata": {},
   "outputs": [
    {
     "name": "stdout",
     "output_type": "stream",
     "text": [
      "[[0. 0. 0. 0.]\n",
      " [0. 0. 0. 0.]\n",
      " [0. 0. 0. 0.]\n",
      " [0. 0. 0. 0.]]\n",
      "[[0. 1. 0. 1.]\n",
      " [1. 0. 1. 0.]\n",
      " [0. 1. 0. 1.]\n",
      " [1. 0. 1. 0.]]\n"
     ]
    }
   ],
   "source": [
    "# Write a NumPy program to create a 4x4 matrix in which 0 and 1 are staggered, with zeros on the main diagonal.\n",
    "\n",
    "arr = np.zeros((4,4))\n",
    "print(arr)\n",
    "\n",
    "# getting the ones for the even rows\n",
    "arr[::2, 1::2] = 1\n",
    "\n",
    "# getting the ones for the odd rows\n",
    "arr[1::2, ::2] = 1\n",
    "print(arr)\n"
   ]
  },
  {
   "cell_type": "code",
   "execution_count": 24,
   "metadata": {},
   "outputs": [
    {
     "name": "stdout",
     "output_type": "stream",
     "text": [
      "Array:  [[ 1  2  3  4  5]\n",
      " [ 6  7  8  9 10]\n",
      " [11 12 13 14 15]\n",
      " [16 17 18 19 20]]\n",
      "Sum of all Elements:  210\n",
      "Sum of each Column:  [15 40 65 90]\n",
      "Sum of each Row:  [34 38 42 46 50]\n"
     ]
    }
   ],
   "source": [
    "# Write a NumPy program to compute the sum of all elements, the sum of each column and the sum of each row in a given array.\n",
    "\n",
    "arr = np.arange(1,21).reshape(4,5)\n",
    "\n",
    "print(\"Array: \", arr)\n",
    "\n",
    "print(\"Sum of all Elements: \", np.sum(arr))\n",
    "\n",
    "print(\"Sum of each Column: \", np.sum(arr, axis=1))\n",
    "\n",
    "print(\"Sum of each Row: \", np.sum(arr, axis=0))"
   ]
  },
  {
   "cell_type": "code",
   "execution_count": 25,
   "metadata": {},
   "outputs": [
    {
     "name": "stdout",
     "output_type": "stream",
     "text": [
      "Old array: \n",
      " [[1 2 3]\n",
      " [4 5 6]\n",
      " [7 8 9]]\n",
      "New Array: \n",
      " [[ 2  3  4]\n",
      " [ 5  6  7]\n",
      " [ 8  9 10]]\n"
     ]
    }
   ],
   "source": [
    "# Write a NumPy program to add a vector to each row of a given matrix.\n",
    "\n",
    "arr = np.array([[1,2,3],[4,5,6],[7,8,9]])\n",
    "\n",
    "vector = np.array([1,1,1])\n",
    "\n",
    "print(\"Old array: \\n\", arr)\n",
    "for i in range(3):\n",
    "  # print(arr[i,:])\n",
    "  arr[i,:] = arr[i,:] + vector[:]\n",
    "\n",
    "print(\"New Array: \\n\", arr)"
   ]
  },
  {
   "cell_type": "code",
   "execution_count": 26,
   "metadata": {},
   "outputs": [
    {
     "data": {
      "text/plain": [
       "array([ True,  True,  True,  True,  True])"
      ]
     },
     "execution_count": 26,
     "metadata": {},
     "output_type": "execute_result"
    }
   ],
   "source": [
    "# Write a NumPy program to convert a given list into an array, then again convert it into a list. Check initial list and final list are equal or not.\n",
    "\n",
    "list1 = [1,2,3,4,5]\n",
    "\n",
    "arr = np.array(list1)\n",
    "final_list = list(arr)\n",
    "\n",
    "np.equal(list1, final_list)"
   ]
  },
  {
   "cell_type": "code",
   "execution_count": 27,
   "metadata": {},
   "outputs": [
    {
     "data": {
      "text/plain": [
       "[<matplotlib.lines.Line2D at 0x23eaab767e0>]"
      ]
     },
     "execution_count": 27,
     "metadata": {},
     "output_type": "execute_result"
    },
    {
     "data": {
      "image/png": "[encoded data removed]",
      "text/plain": [
       "<Figure size 640x480 with 1 Axes>"
      ]
     },
     "metadata": {},
     "output_type": "display_data"
    }
   ],
   "source": [
    "# Write a NumPy program to compute the x and y coordinates for points on a sine curve and plot the points using matplotlib.\n",
    "from matplotlib import pyplot as plt\n",
    "import math\n",
    "x = np.arange(0,math.pi * 3)\n",
    "\n",
    "y = np.sin(x)\n",
    "\n",
    "plt.plot(x,y)"
   ]
  },
  {
   "cell_type": "code",
   "execution_count": 28,
   "metadata": {},
   "outputs": [
    {
     "name": "stdout",
     "output_type": "stream",
     "text": [
      "Original Array: \n",
      " [[0 2 0 0]\n",
      " [4 3 4 0]\n",
      " [1 1 1 1]\n",
      " [4 0 4 3]]\n",
      "\n",
      "New Array: \n",
      " [[0 2 0 0]\n",
      " [0 3 0 0]\n",
      " [0 1 0 0]\n",
      " [0 0 0 0]]\n",
      "Summation of the array after the update:  6\n"
     ]
    }
   ],
   "source": [
    "# Write a NumPy program to add elements to a matrix. If an element in the matrix is 0, we will not add the element below this element.\n",
    "arr1 = np.random.randint(0,5,16).reshape(4,4)\n",
    "print(\"Original Array: \\n\", arr1)\n",
    "\n",
    "for row in range(len(arr1)-1):\n",
    "  for col in range(len(arr1[row])):\n",
    "    if arr1[row][col] == 0 and row < len(arr1) - 1:\n",
    "      arr1[row+1][col] = 0\n",
    "\n",
    "print(\"\\nNew Array: \\n\", arr1)\n",
    "print(\"Summation of the array after the update: \", np.sum(arr1))"
   ]
  },
  {
   "cell_type": "code",
   "execution_count": 29,
   "metadata": {},
   "outputs": [
    {
     "data": {
      "text/plain": [
       "array([ 0.48110177, -0.15731419, -0.12215771, -0.31809144,  0.20870856,\n",
       "        0.90400107,  0.96207026,  0.12218941, -0.4564047 ,  0.27108557,\n",
       "        1.75171564, -1.5754545 ,  0.65023507,  0.71072212,  0.02670405,\n",
       "       -1.8306729 ,  1.49346813, -1.25973793,  0.95864284,  1.30003462,\n",
       "        1.04459241,  0.38385097,  1.59243492,  0.5452014 , -1.03315173,\n",
       "       -1.26095609, -1.56566749,  1.10852348,  0.59386609, -0.19508088,\n",
       "        1.16074036, -0.66245916,  0.51028048, -0.77331462,  0.86086516,\n",
       "       -0.59926925, -1.73593994,  0.03181585, -0.85562601, -0.74179191])"
      ]
     },
     "execution_count": 29,
     "metadata": {},
     "output_type": "execute_result"
    }
   ],
   "source": [
    "# Write a NumPy program to create a one-dimensional array of forty pseudo-randomly generated values. Select random numbers from a uniform distribution between 0 and 1.\n",
    "\n",
    "arr = np.random.normal(0,1,40)\n",
    "\n",
    "arr"
   ]
  },
  {
   "cell_type": "code",
   "execution_count": 30,
   "metadata": {},
   "outputs": [
    {
     "data": {
      "text/plain": [
       "array([[197.44580976, 198.28755955, 189.04375299, 206.64264028,\n",
       "        200.17225464],\n",
       "       [198.77461868, 197.49648318, 210.03911206, 188.24238762,\n",
       "        215.72386537],\n",
       "       [205.39618716, 188.94876066, 217.52154165, 204.39384547,\n",
       "        197.94582163],\n",
       "       [200.09835272, 202.50810352, 199.45982398, 207.16122545,\n",
       "        197.00240675],\n",
       "       [202.24741255, 213.6293284 , 193.37811585, 199.8664531 ,\n",
       "        206.17201981],\n",
       "       [186.79291128, 208.13001055, 205.0454798 , 203.76638144,\n",
       "        207.5060227 ],\n",
       "       [200.72461368, 184.33262349, 194.58862348, 209.96971234,\n",
       "        188.98111757],\n",
       "       [208.44340165, 196.1845884 , 205.22757242, 191.70103947,\n",
       "        201.57688431]])"
      ]
     },
     "execution_count": 30,
     "metadata": {},
     "output_type": "execute_result"
    }
   ],
   "source": [
    "# Write a NumPy program to create a two-dimensional array with shape (8,5) of random numbers. Select random numbers from a normal distribution (200,7).\n",
    "\n",
    "arr = np.random.normal(200,7,40).reshape(8,5)\n",
    "\n",
    "arr"
   ]
  },
  {
   "cell_type": "code",
   "execution_count": 31,
   "metadata": {},
   "outputs": [
    {
     "name": "stdout",
     "output_type": "stream",
     "text": [
      "Without Replacement:  [1 6 1 1 3]\n",
      "with Replacemet:  [1 6 0 3 5]\n"
     ]
    }
   ],
   "source": [
    "# Write a NumPy program to generate a uniform, non-uniform random sample from a given 1-D array with and without replacement.\n",
    "\n",
    "arr = np.random.choice(7,5)\n",
    "\n",
    "print(\"Without Replacement: \", arr)\n",
    "\n",
    "arr = np.random.choice(7,5,replace = False)\n",
    "\n",
    "print(\"with Replacemet: \", arr)\n"
   ]
  },
  {
   "cell_type": "code",
   "execution_count": 32,
   "metadata": {},
   "outputs": [
    {
     "name": "stdout",
     "output_type": "stream",
     "text": [
      "Original Array: \n",
      " [[ 0 12  8 14]\n",
      " [12 10 17 18]\n",
      " [ 5  5  8  5]\n",
      " [ 0  2  6 18]]\n",
      "\n",
      "\n",
      "first and last rows swapped array: \n",
      " [[ 0  2  6 18]\n",
      " [12 10 17 18]\n",
      " [ 5  5  8  5]\n",
      " [ 0 12  8 14]]\n"
     ]
    }
   ],
   "source": [
    "# Write a NumPy program to create a 4x4 array with random values. Create an array from the said array swapping first and last rows.\n",
    "\n",
    "arr = np.random.randint(0,20,16).reshape(4,4)\n",
    "\n",
    "print(\"Original Array: \\n\", arr)\n",
    "\n",
    "# creating hard copy\n",
    "temp = arr[0].copy()\n",
    "arr[0] = arr[-1]\n",
    "arr[-1] = temp\n",
    "\n",
    "print(\"\\n\\nfirst and last rows swapped array: \\n\", arr)"
   ]
  },
  {
   "cell_type": "code",
   "execution_count": 33,
   "metadata": {},
   "outputs": [
    {
     "name": "stdout",
     "output_type": "stream",
     "text": [
      "original Array: \n",
      " [[5.54 3.38 7.99]\n",
      " [3.54 8.32 6.99]\n",
      " [1.54 2.39 9.29]]\n",
      "\n",
      " [[ 5.54 18.    7.99]\n",
      " [18.    8.32  6.99]\n",
      " [18.   18.    9.29]]\n",
      "\n",
      " [[18.    3.38 18.  ]\n",
      " [ 3.54 18.   18.  ]\n",
      " [ 1.54  2.39 18.  ]]\n",
      "\n",
      " [[5.54 3.38 7.99]\n",
      " [3.54 8.32 6.99]\n",
      " [1.54 2.39 9.29]]\n"
     ]
    }
   ],
   "source": [
    "# Write a NumPy program to replace all numbers in a given array equal, less and greater than a given number.\n",
    "\n",
    "nums = np.array([[5.54, 3.38, 7.99],\n",
    "              [3.54, 8.32, 6.99],\n",
    "              [1.54, 2.39, 9.29]])\n",
    "\n",
    "print(\"original Array: \\n\", nums)\n",
    "\n",
    "print(\"\\n\",np.where(nums < 5, 18, nums))\n",
    "print(\"\\n\",np.where(nums > 5, 18, nums))\n",
    "print(\"\\n\",np.where(nums == 5, 18, nums))"
   ]
  },
  {
   "cell_type": "code",
   "execution_count": 34,
   "metadata": {},
   "outputs": [
    {
     "data": {
      "text/plain": [
       "array([[0., 0., 0.],\n",
       "       [0., 0., 0.],\n",
       "       [0., 0., 0.]])"
      ]
     },
     "execution_count": 34,
     "metadata": {},
     "output_type": "execute_result"
    }
   ],
   "source": [
    "# Write a NumPy program to create an array of equal shape and data type for a given array.\n",
    "\n",
    "same_array = np.zeros_like(nums)\n",
    "\n",
    "same_array"
   ]
  },
  {
   "cell_type": "code",
   "execution_count": 35,
   "metadata": {},
   "outputs": [
    {
     "data": {
      "text/plain": [
       "array([[[24, 47, 71, 85],\n",
       "        [13,  7, 66, 69],\n",
       "        [28, 78, 61, 68],\n",
       "        [78, 14, 43, 92],\n",
       "        [ 2, 76, 27, 68]],\n",
       "\n",
       "       [[41, 52, 34, 28],\n",
       "        [55, 52, 47, 64],\n",
       "        [81, 92, 78, 52],\n",
       "        [21, 29, 69, 58],\n",
       "        [39, 20,  3, 95]],\n",
       "\n",
       "       [[95, 25, 36, 38],\n",
       "        [48, 90, 59, 31],\n",
       "        [86, 74, 87, 66],\n",
       "        [85, 25, 83, 56],\n",
       "        [63, 66, 70, 37]]])"
      ]
     },
     "execution_count": 35,
     "metadata": {},
     "output_type": "execute_result"
    }
   ],
   "source": [
    "# Write a NumPy program to create a three-dimensional array with the shape (3,5,4) and set it to a variable.\n",
    "\n",
    "arr = np.random.randint(1,100,60).reshape(3,5,4)\n",
    "\n",
    "arr"
   ]
  },
  {
   "cell_type": "code",
   "execution_count": 36,
   "metadata": {},
   "outputs": [
    {
     "name": "stdout",
     "output_type": "stream",
     "text": [
      "Original Array: \n",
      " [[18  3 10  4]\n",
      " [ 8  6 15  6]\n",
      " [10 18  7  4]\n",
      " [16 17 18 11]]\n",
      "\n",
      "Final Array: \n",
      " [[ 4 10  3 18]\n",
      " [ 6 15  6  8]\n",
      " [ 4  7 18 10]\n",
      " [11 18 17 16]]\n"
     ]
    }
   ],
   "source": [
    "# Write a  NumPy program to create a 4x4 array. Create an array from said array by swapping first and last, second and third columns.\n",
    "\n",
    "nums = np.random.randint(1,20,16).reshape(4,4)\n",
    "\n",
    "print(\"Original Array: \\n\", nums)\n",
    "\n",
    "# swapping first and last column\n",
    "temp = nums[:, 0].copy()\n",
    "nums[:, 0] = nums[:, -1]\n",
    "nums[:, -1] = temp\n",
    "\n",
    "# swapping second and third column\n",
    "temp = nums[:, 1].copy()\n",
    "nums[:, 1] = nums[:, -2]\n",
    "nums[:, -2] = temp\n",
    "\n",
    "print(\"\\nFinal Array: \\n\", nums)"
   ]
  },
  {
   "cell_type": "code",
   "execution_count": 37,
   "metadata": {},
   "outputs": [
    {
     "data": {
      "text/plain": [
       "array([[[ 5,  0,  3,  2],\n",
       "        [90, 91, 93, 94],\n",
       "        [ 0,  1,  3,  4],\n",
       "        [ 1,  2,  3,  4]]])"
      ]
     },
     "execution_count": 37,
     "metadata": {},
     "output_type": "execute_result"
    }
   ],
   "source": [
    "# Write a  NumPy program to swap rows and columns of a given array in reverse order.\n",
    "\n",
    "nums = np.array([[[1, 2, 3, 4],\n",
    "               [0, 1, 3, 4],\n",
    "               [90, 91, 93, 94],\n",
    "               [5, 0, 3, 2]]])\n",
    "\n",
    "nums = nums[::-1, ::-1]\n",
    "\n",
    "nums"
   ]
  }
 ],
 "metadata": {
  "kernelspec": {
   "display_name": "base",
   "language": "python",
   "name": "python3"
  },
  "language_info": {
   "codemirror_mode": {
    "name": "ipython",
    "version": 3
   },
   "file_extension": ".py",
   "mimetype": "text/x-python",
   "name": "python",
   "nbconvert_exporter": "python",
   "pygments_lexer": "ipython3",
   "version": "3.12.7"
  }
 },
 "nbformat": 4,
 "nbformat_minor": 2
}
