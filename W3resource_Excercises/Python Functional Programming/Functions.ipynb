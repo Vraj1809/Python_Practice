{
 "cells": [
  {
   "cell_type": "code",
   "execution_count": 1,
   "metadata": {},
   "outputs": [
    {
     "name": "stdout",
     "output_type": "stream",
     "text": [
      "4.0\n",
      "10.0\n",
      "158.42979517754858\n"
     ]
    }
   ],
   "source": [
    "# Invoke a given function after specific milliseconds\n",
    "# Write a Python program that invokes a function after a specified period of time.\n",
    "# Sample Output:\n",
    "# Square root after specific miliseconds:\n",
    "# 4.0\n",
    "# 10.0\n",
    "# 158.42979517754858\n",
    "\n",
    "from math import sqrt\n",
    "from time import sleep\n",
    "def square_root(x):\n",
    "    return sqrt(x)\n",
    "\n",
    "# sleep takes argument into seconds\n",
    "sleep(1000/1000)\n",
    "print(square_root(16))\n",
    "\n",
    "sleep(10000/1000)\n",
    "print(square_root(100))\n",
    "\n",
    "sleep(10/1000)\n",
    "print(square_root(25100))\n"
   ]
  },
  {
   "cell_type": "code",
   "execution_count": 3,
   "metadata": {},
   "outputs": [
    {
     "name": "stdout",
     "output_type": "stream",
     "text": [
      "10 + 5 = 15\n",
      "10 - 5 = 5\n",
      "10 x 5 = 50\n",
      "10 / 5 = 2.0\n"
     ]
    }
   ],
   "source": [
    "# Write a Python program to access a function inside a function\n",
    "\n",
    "\n",
    "def add(num1, num2):\n",
    "    return num1 + num2\n",
    "\n",
    "def sub(num1, num2):\n",
    "    return num1 - num2\n",
    "\n",
    "def mul(num1, num2):\n",
    "    return num1 * num2\n",
    "\n",
    "def div(num1, num2):\n",
    "    return num1 / num2\n",
    "\n",
    "def calc(num1, num2):\n",
    "    print(f\"{num1} + {num2} = {add(num1,num2)}\")\n",
    "    print(f\"{num1} - {num2} = {sub(num1,num2)}\")\n",
    "    print(f\"{num1} x {num2} = {mul(num1,num2)}\")\n",
    "    print(f\"{num1} / {num2} = {div(num1,num2)}\")\n",
    "    \n",
    "calc(10,5)"
   ]
  }
 ],
 "metadata": {
  "kernelspec": {
   "display_name": "base",
   "language": "python",
   "name": "python3"
  },
  "language_info": {
   "codemirror_mode": {
    "name": "ipython",
    "version": 3
   },
   "file_extension": ".py",
   "mimetype": "text/x-python",
   "name": "python",
   "nbconvert_exporter": "python",
   "pygments_lexer": "ipython3",
   "version": "3.12.7"
  }
 },
 "nbformat": 4,
 "nbformat_minor": 2
}
