{
 "cells": [
  {
   "cell_type": "code",
   "execution_count": 15,
   "metadata": {},
   "outputs": [
    {
     "data": {
      "text/plain": [
       "[('New York', 8500000),\n",
       " ('Los Angeles', 4000000),\n",
       " ('Chicago', 2700000),\n",
       " ('Houston', 2300000)]"
      ]
     },
     "execution_count": 15,
     "metadata": {},
     "output_type": "execute_result"
    }
   ],
   "source": [
    "# Write a Python program that creates a list of tuples, each containing a city name and its population. Use the filter function to extract cities with a population greater than 2 million.\n",
    "\n",
    "cities = [\n",
    "    (\"New York\", 8500000),\n",
    "    (\"Los Angeles\", 4000000),\n",
    "    (\"Chicago\", 2700000),\n",
    "    (\"Houston\", 2300000),\n",
    "    (\"Phoenix\", 1600000),\n",
    "    (\"Philadelphia\", 1500000),\n",
    "    (\"San Antonio\", 1500000),\n",
    "]\n",
    "\n",
    "def filter_cities(cities):\n",
    "    return cities[1] > 2000000\n",
    "        \n",
    "result = list(filter(filter_cities, cities))\n",
    "result\n"
   ]
  },
  {
   "cell_type": "code",
   "execution_count": 27,
   "metadata": {},
   "outputs": [
    {
     "data": {
      "text/plain": [
       "['31-12-2025', '31-01-2025', '28-02-2025', '31-03-2025']"
      ]
     },
     "execution_count": 27,
     "metadata": {},
     "output_type": "execute_result"
    }
   ],
   "source": [
    "# Write a Python program that implements a Python program that filters out dates (in the format \"YYYY-MM-DD\") that are in the future using the filter function.\n",
    "\n",
    "from datetime import datetime\n",
    "date_strings = [\"2023-07-11\", \"2022-02-22\", \"2024-05-11\", \"2025-12-31\", \"2021-01-01\", \"2025-01-31\", \"2025-02-28\", \"2025-03-31\"]\n",
    "\n",
    "# converting the string dates into the real date objects\n",
    "dates = [datetime.strptime(date, \"%Y-%m-%d\") for date in date_strings]\n",
    "\n",
    "# current date\n",
    "curr_date = datetime.today()\n",
    "\n",
    "# filter function returning the dates bigger than current date\n",
    "def future_dates(dates):\n",
    "    return curr_date < dates\n",
    "\n",
    "# getting the the future dates but it is in the fact datetime format\n",
    "result = list(filter(future_dates, dates))\n",
    "\n",
    "# converting the datetime format to the string type and return the list\n",
    "result_list = [datetime.strftime(date, \"%d-%m-%Y\") for date in result]\n",
    "result_list\n",
    "\n"
   ]
  }
 ],
 "metadata": {
  "kernelspec": {
   "display_name": "base",
   "language": "python",
   "name": "python3"
  },
  "language_info": {
   "codemirror_mode": {
    "name": "ipython",
    "version": 3
   },
   "file_extension": ".py",
   "mimetype": "text/x-python",
   "name": "python",
   "nbconvert_exporter": "python",
   "pygments_lexer": "ipython3",
   "version": "3.12.7"
  }
 },
 "nbformat": 4,
 "nbformat_minor": 2
}
