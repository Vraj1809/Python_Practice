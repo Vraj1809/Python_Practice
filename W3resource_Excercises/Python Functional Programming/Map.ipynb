{
 "cells": [
  {
   "cell_type": "code",
   "execution_count": 2,
   "metadata": {},
   "outputs": [
    {
     "name": "stdout",
     "output_type": "stream",
     "text": [
      "Original list of tuples:\n",
      "[('red', 'pink'), ('white', 'black'), ('orange', 'green')]\n",
      "\n",
      "\n",
      "Convert the said list of tuples to a list of strings:\n",
      "['red pink', 'white black', 'orange green']\n"
     ]
    }
   ],
   "source": [
    "# Write a Python program to convert a given list of tuples to a list of strings using the map function.\n",
    "\n",
    "def tuple_strings(list1):\n",
    "    \n",
    "    result = list(map(' '.join, list1))\n",
    "    \n",
    "    return result\n",
    "\n",
    "colors = [('red', 'pink'), ('white', 'black'), ('orange', 'green')]\n",
    "\n",
    "print(\"Original list of tuples:\")\n",
    "print(colors)\n",
    "print(\"\\n\")\n",
    "print(\"Convert the said list of tuples to a list of strings:\")\n",
    "print(tuple_strings(colors))"
   ]
  },
  {
   "cell_type": "code",
   "execution_count": 5,
   "metadata": {},
   "outputs": [
    {
     "name": "stdout",
     "output_type": "stream",
     "text": [
      "Original list of Strings:\n",
      "['red', 'pink', 'white', 'black', 'orange', 'green']\n",
      "\n",
      "\n",
      "Convert the said list of strings to a list of lists:\n",
      "[['r', 'e', 'd'], ['p', 'i', 'n', 'k'], ['w', 'h', 'i', 't', 'e'], ['b', 'l', 'a', 'c', 'k'], ['o', 'r', 'a', 'n', 'g', 'e'], ['g', 'r', 'e', 'e', 'n']]\n"
     ]
    }
   ],
   "source": [
    "# Convert a given list of strings into list of lists using map function\n",
    "def tuple_strings(list1):\n",
    "    \n",
    "    result = list(map(list, list1))\n",
    "    \n",
    "    return result\n",
    "\n",
    "colors = ['red', 'pink', 'white', 'black', 'orange', 'green']\n",
    "\n",
    "print(\"Original list of Strings:\")\n",
    "print(colors)\n",
    "print(\"\\n\")\n",
    "print(\"Convert the said list of strings to a list of lists:\")\n",
    "print(tuple_strings(colors))"
   ]
  }
 ],
 "metadata": {
  "kernelspec": {
   "display_name": "base",
   "language": "python",
   "name": "python3"
  },
  "language_info": {
   "codemirror_mode": {
    "name": "ipython",
    "version": 3
   },
   "file_extension": ".py",
   "mimetype": "text/x-python",
   "name": "python",
   "nbconvert_exporter": "python",
   "pygments_lexer": "ipython3",
   "version": "3.12.7"
  }
 },
 "nbformat": 4,
 "nbformat_minor": 2
}
