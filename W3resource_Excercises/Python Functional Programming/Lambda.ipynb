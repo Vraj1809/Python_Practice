{
 "cells": [
  {
   "cell_type": "code",
   "execution_count": 2,
   "metadata": {},
   "outputs": [
    {
     "data": {
      "text/plain": [
       "[12, 0, 23, -55, 234, 89, 0, 6, -12]"
      ]
     },
     "execution_count": 2,
     "metadata": {},
     "output_type": "execute_result"
    }
   ],
   "source": [
    "# Write a  Python program to remove None values from a given list using the lambda function.\n",
    "# Original list:\n",
    "# [12, 0, None, 23, None, -55, 234, 89, None, 0, 6, -12]\n",
    "# Remove None value from the said list:\n",
    "# [12, 0, 23, -55, 234, 89, 0, 6, -12]\n",
    "\n",
    "list1 = [12, 0, None, 23, None, -55, 234, 89, None, 0, 6, -12]\n",
    "\n",
    "result = filter(lambda x : x is not None, list1)\n",
    "\n",
    "list(result)"
   ]
  },
  {
   "cell_type": "code",
   "execution_count": 20,
   "metadata": {},
   "outputs": [
    {
     "name": "stdout",
     "output_type": "stream",
     "text": [
      "Maximum: ('IX', 74)\n",
      "Minimum: ('V', 62)\n"
     ]
    }
   ],
   "source": [
    "# Write a Python program to find the maximum and minimum values in a given list of tuples using the lambda function.\n",
    "# Original list with tuples:\n",
    "# [('V', 62), ('VI', 68), ('VII', 72), ('VIII', 70), ('IX', 74), ('X', 65)]\n",
    "# Maximum and minimum values of the said list of tuples:\n",
    "# (74, 62)\n",
    "\n",
    "list1 = [('V', 62), ('VI', 68), ('VII', 72), ('VIII', 70), ('IX', 74), ('X', 65)]\n",
    "\n",
    "max_item = __builtins__.max(list1, key=lambda x: x[1])\n",
    "\n",
    "min_item = __builtins__.min(list1, key=lambda x: x[1])\n",
    "\n",
    "print(\"Maximum:\", max_item)\n",
    "print(\"Minimum:\", min_item)"
   ]
  }
 ],
 "metadata": {
  "kernelspec": {
   "display_name": "base",
   "language": "python",
   "name": "python3"
  },
  "language_info": {
   "codemirror_mode": {
    "name": "ipython",
    "version": 3
   },
   "file_extension": ".py",
   "mimetype": "text/x-python",
   "name": "python",
   "nbconvert_exporter": "python",
   "pygments_lexer": "ipython3",
   "version": "3.12.7"
  }
 },
 "nbformat": 4,
 "nbformat_minor": 2
}
