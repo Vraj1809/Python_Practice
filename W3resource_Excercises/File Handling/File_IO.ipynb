{
 "cells": [
  {
   "cell_type": "code",
   "execution_count": 1,
   "metadata": {},
   "outputs": [],
   "source": [
    "# Write a Python program to create a file where all letters of English alphabet are listed by specified number of letters on each line.\n",
    "import string\n",
    "\n",
    "\n",
    "def Write_file(n):\n",
    "    file = open('file1.txt', 'w')\n",
    "    alphabets = string.ascii_lowercase\n",
    "    new_line = 0\n",
    "    for char in alphabets:\n",
    "        if (new_line == n):\n",
    "            file.write(\"\\n\")\n",
    "            new_line = 0\n",
    "        file.write(char)\n",
    "        new_line += 1 \n",
    "    file.close()     \n",
    "Write_file(3)\n"
   ]
  },
  {
   "cell_type": "code",
   "execution_count": 2,
   "metadata": {},
   "outputs": [],
   "source": [
    "# Write a Python program to generate 26 text files named A.txt, B.txt, and so on up to Z.txt.\n",
    "import string\n",
    "\n",
    "alphabets = string.ascii_uppercase\n",
    "\n",
    "for char in alphabets:\n",
    "    file_name = f\"{char}.txt\"\n",
    "    file = open(file_name, 'w')\n",
    "    file.close()"
   ]
  }
 ],
 "metadata": {
  "kernelspec": {
   "display_name": "base",
   "language": "python",
   "name": "python3"
  },
  "language_info": {
   "codemirror_mode": {
    "name": "ipython",
    "version": 3
   },
   "file_extension": ".py",
   "mimetype": "text/x-python",
   "name": "python",
   "nbconvert_exporter": "python",
   "pygments_lexer": "ipython3",
   "version": "3.12.7"
  }
 },
 "nbformat": 4,
 "nbformat_minor": 2
}
