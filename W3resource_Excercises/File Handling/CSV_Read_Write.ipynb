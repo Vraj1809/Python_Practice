{
 "cells": [
  {
   "cell_type": "code",
   "execution_count": 30,
   "metadata": {},
   "outputs": [
    {
     "name": "stdout",
     "output_type": "stream",
     "text": [
      "['id', 'Column1', 'Column2', 'Column3', 'Column4', 'Column5']\n",
      "['1', '33', '35', '21', '71', '10']\n",
      "['2', '25', '30', '40', '25', '10']\n",
      "['3', '56', '30', '55', '55', '40']\n"
     ]
    }
   ],
   "source": [
    "# Python dictionary to a csv file and display the content\n",
    "import csv\n",
    "\n",
    "# Define the dictionary data\n",
    "dict_data = {\n",
    "    'id': ['1', '2', '3'],\n",
    "    'Column1': [33, 25, 56],\n",
    "    'Column2': [35, 30, 30],\n",
    "    'Column3': [21, 40, 55],\n",
    "    'Column4': [71, 25, 55],\n",
    "    'Column5': [10, 10, 40]\n",
    "}\n",
    "\n",
    "# Get the number of rows (assumes all columns have the same length)\n",
    "num_rows = len(dict_data['id'])\n",
    "\n",
    "# Write the dictionary data to a CSV file\n",
    "with open('test.csv', 'w', newline='') as csv_file:\n",
    "    writer = csv.writer(csv_file)\n",
    "    writer.writerow(dict_data.keys())  # Write the header\n",
    "    \n",
    "    # Write the data rows\n",
    "    for i in range(num_rows):\n",
    "        row = [dict_data[col][i] for col in dict_data]  # Create a row by selecting values for each column\n",
    "        writer.writerow(row)\n",
    "\n",
    "# Read the CSV file and display its content\n",
    "with open('test.csv', 'r') as csv_file:\n",
    "    reader = csv.reader(csv_file)\n",
    "    for row in reader:\n",
    "        print(row)"
   ]
  },
  {
   "cell_type": "code",
   "execution_count": 34,
   "metadata": {},
   "outputs": [
    {
     "name": "stdout",
     "output_type": "stream",
     "text": [
      "['10', 'a1', '1']\n",
      "['12', 'a2', '3']\n",
      "['14', 'a3', '5']\n",
      "['16', 'a4', '7']\n",
      "['18', 'a5', '9']\n"
     ]
    }
   ],
   "source": [
    "# Python list of lists to a csv file and display the content\n",
    "\n",
    "import csv\n",
    "data = [[10,'a1', 1], [12,'a2', 3], [14, 'a3', 5], [16, 'a4', 7], [18, 'a5', 9]]\n",
    "\n",
    "file = open(\"new_csv.csv\",'w', newline=\"\")\n",
    "\n",
    "try:\n",
    "    writer = csv.writer(file)\n",
    "    writer.writerows(data)\n",
    "except IOError as e:\n",
    "    print(e)\n",
    "file.close()\n",
    "\n",
    "file = open('new_csv.csv', 'r')\n",
    "\n",
    "try:\n",
    "    reader = csv.reader(file)\n",
    "    for data in reader:\n",
    "        print(data)\n",
    "except IOError as e:\n",
    "    print(e)"
   ]
  }
 ],
 "metadata": {
  "kernelspec": {
   "display_name": "base",
   "language": "python",
   "name": "python3"
  },
  "language_info": {
   "codemirror_mode": {
    "name": "ipython",
    "version": 3
   },
   "file_extension": ".py",
   "mimetype": "text/x-python",
   "name": "python",
   "nbconvert_exporter": "python",
   "pygments_lexer": "ipython3",
   "version": "3.12.7"
  }
 },
 "nbformat": 4,
 "nbformat_minor": 2
}
