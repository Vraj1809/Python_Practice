{
 "cells": [
  {
   "cell_type": "code",
   "execution_count": 2,
   "metadata": {},
   "outputs": [
    {
     "name": "stdout",
     "output_type": "stream",
     "text": [
      "VipulDesai VipulDesai VipulDesai\n",
      "None\n"
     ]
    }
   ],
   "source": [
    "# Write a Python function that replaces all occurrences of a substring in a string with another substring. Returns None if the original string is empty.\n",
    "\n",
    "def replace_occurance(og_string, og_subString, new_subString):\n",
    "    \n",
    "    if len(og_string) == 0:\n",
    "        return None\n",
    "    \n",
    "    return og_string.replace(og_subString, new_subString)\n",
    "    \n",
    "\n",
    "og_string = \"VrajDesai VrajDesai VrajDesai\"\n",
    "og_string1 = \"\"\n",
    "\n",
    "print(replace_occurance(og_string, \"Vraj\", \"Vipul\"))\n",
    "print(replace_occurance(og_string1, \"Vraj\", \"Vipul\"))"
   ]
  },
  {
   "cell_type": "code",
   "execution_count": 3,
   "metadata": {},
   "outputs": [
    {
     "data": {
      "text/plain": [
       "[1, None, 2, None, 3, None, 4, None, 5, None, 6]"
      ]
     },
     "execution_count": 3,
     "metadata": {},
     "output_type": "execute_result"
    }
   ],
   "source": [
    "# Write a Python function that takes a list and returns a new list with None inserted between each element.\n",
    "\n",
    "def none_inserted(list1):\n",
    "    new_list = []\n",
    "    for i in range(len(list1)-1):\n",
    "        new_list.append(list1[i])\n",
    "        new_list.append(None)\n",
    "        \n",
    "    new_list.append(list1[-1])\n",
    "    \n",
    "    return new_list\n",
    "\n",
    "none_inserted([1,2,3,4,5,6])"
   ]
  }
 ],
 "metadata": {
  "kernelspec": {
   "display_name": "base",
   "language": "python",
   "name": "python3"
  },
  "language_info": {
   "codemirror_mode": {
    "name": "ipython",
    "version": 3
   },
   "file_extension": ".py",
   "mimetype": "text/x-python",
   "name": "python",
   "nbconvert_exporter": "python",
   "pygments_lexer": "ipython3",
   "version": "3.12.7"
  }
 },
 "nbformat": 4,
 "nbformat_minor": 2
}
