{
 "cells": [
  {
   "cell_type": "code",
   "execution_count": 11,
   "metadata": {},
   "outputs": [
    {
     "name": "stdout",
     "output_type": "stream",
     "text": [
      "frozenset({1, 121, 225, 9, 169, 81, 49, 25})\n"
     ]
    }
   ],
   "source": [
    "# Write a Python program that generates a frozenset containing the squares of all odd numbers from 1 to 15 using set comprehension.\n",
    "\n",
    "odd_numbers = {x**2 for x in range(1,16) if x % 2 != 0}\n",
    "\n",
    "frozen_set = frozenset(odd_numbers)\n",
    "\n",
    "print(frozen_set)"
   ]
  },
  {
   "cell_type": "code",
   "execution_count": 14,
   "metadata": {},
   "outputs": [
    {
     "name": "stdout",
     "output_type": "stream",
     "text": [
      "frozenset({1, 2, 3, 4, 5, 6, 7})\n",
      "'frozenset' object does not support item assignment\n"
     ]
    }
   ],
   "source": [
    "# Write a Python program that demonstrates the immutability of a frozenset by attempting to add or remove elements from it.\n",
    "list1 = [1,2,3,4,5,6,7]\n",
    "\n",
    "frozen_set = frozenset(list1)\n",
    "print(frozen_set)\n",
    "\n",
    "try:\n",
    "    frozen_set[1] = 10\n",
    "except Exception as e:\n",
    "    print(e)"
   ]
  },
  {
   "cell_type": "code",
   "execution_count": 20,
   "metadata": {},
   "outputs": [
    {
     "name": "stdout",
     "output_type": "stream",
     "text": [
      "key:  frozenset({('name', 'Vraj Vipul Desai'), ('Age', 21)})\n",
      "Value:  dict_values(['Vraj Vipul Desai', 21])\n",
      "\n",
      "key:  frozenset({('name', 'Vipul Sharadbhai Desai'), ('Age', 48)})\n",
      "Value:  dict_values(['Vipul Sharadbhai Desai', 48])\n",
      "\n",
      "key:  frozenset({('Age', 44), ('name', 'Anuradha Vipul Desai')})\n",
      "Value:  dict_values(['Anuradha Vipul Desai', 44])\n",
      "\n"
     ]
    }
   ],
   "source": [
    "# Write a Python program that uses a frozenset as a key in a dictionary to create a hashable composite key for more complex data structures.\n",
    "\n",
    "emp1 = {\"name\" : \"Vraj Vipul Desai\", \"Age\" : 21}\n",
    "emp2 = {\"name\" : \"Vipul Sharadbhai Desai\", \"Age\" : 48}\n",
    "emp3 = {\"name\" : \"Anuradha Vipul Desai\", \"Age\" : 44}\n",
    "\n",
    "employee_dict = {\n",
    "    frozenset(emp1.items()) : emp1.values(),\n",
    "    frozenset(emp2.items()) : emp2.values(),\n",
    "    frozenset(emp3.items()) : emp3.values(),\n",
    "}\n",
    "\n",
    "for key, value in employee_dict.items():\n",
    "    print(\"key: \", key)\n",
    "    print(\"Value: \", value)\n",
    "    print()"
   ]
  }
 ],
 "metadata": {
  "kernelspec": {
   "display_name": "base",
   "language": "python",
   "name": "python3"
  },
  "language_info": {
   "codemirror_mode": {
    "name": "ipython",
    "version": 3
   },
   "file_extension": ".py",
   "mimetype": "text/x-python",
   "name": "python",
   "nbconvert_exporter": "python",
   "pygments_lexer": "ipython3",
   "version": "3.12.7"
  }
 },
 "nbformat": 4,
 "nbformat_minor": 2
}
