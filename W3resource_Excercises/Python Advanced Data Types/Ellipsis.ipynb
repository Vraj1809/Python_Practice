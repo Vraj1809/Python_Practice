{
 "cells": [
  {
   "cell_type": "code",
   "execution_count": 1,
   "metadata": {},
   "outputs": [
    {
     "name": "stdout",
     "output_type": "stream",
     "text": [
      "Without giving the attribute 2\n",
      "Attribute 1:  5\n",
      "Attribute 2:  Ellipsis\n",
      "With giving the attribute 2\n",
      "Attribute 1:  5\n",
      "Attribute 2:  2\n"
     ]
    }
   ],
   "source": [
    "# Write a Python program that creates a custom class with an 'init' method. Use 'ellipsis' to indicate that some attributes may be added dynamically.\n",
    "\n",
    "class EllipsisClass:\n",
    "    \n",
    "    def __init__ (self, attribute1, attribute2=...):\n",
    "        self.attribute1 = attribute1\n",
    "        self.attribute2 = attribute2\n",
    "\n",
    "print(\"Without giving the attribute 2\")\n",
    "epobject = EllipsisClass(5)\n",
    "print(\"Attribute 1: \", epobject.attribute1)\n",
    "print(\"Attribute 2: \", epobject.attribute2)\n",
    "\n",
    "print(\"With giving the attribute 2\")\n",
    "epobject = EllipsisClass(5,2)\n",
    "print(\"Attribute 1: \", epobject.attribute1)\n",
    "print(\"Attribute 2: \", epobject.attribute2)\n"
   ]
  },
  {
   "cell_type": "code",
   "execution_count": 2,
   "metadata": {},
   "outputs": [
    {
     "name": "stdout",
     "output_type": "stream",
     "text": [
      "[1, 2, 3, Ellipsis, 4, 5, 6, Ellipsis, 7, 8, 9]\n"
     ]
    }
   ],
   "source": [
    "# Write a Python program that uses Ellipsis to extend a sequence with another sequence\n",
    "\n",
    "sequence1 = [1, 2, 3]\n",
    "sequence2 = [4, 5, 6]\n",
    "sequence3 = [7, 8, 9]\n",
    "\n",
    "# Extend sequence1, sequence2 and sequence3 using ellipsis\n",
    "extended_sequence = sequence1 + [...] + sequence2 + [...] + sequence3\n",
    "\n",
    "# Print the extended sequence\n",
    "print(extended_sequence)"
   ]
  }
 ],
 "metadata": {
  "kernelspec": {
   "display_name": "base",
   "language": "python",
   "name": "python3"
  },
  "language_info": {
   "codemirror_mode": {
    "name": "ipython",
    "version": 3
   },
   "file_extension": ".py",
   "mimetype": "text/x-python",
   "name": "python",
   "nbconvert_exporter": "python",
   "pygments_lexer": "ipython3",
   "version": "3.12.7"
  }
 },
 "nbformat": 4,
 "nbformat_minor": 2
}
