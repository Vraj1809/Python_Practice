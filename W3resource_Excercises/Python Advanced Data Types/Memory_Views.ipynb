{
 "cells": [
  {
   "cell_type": "code",
   "execution_count": 7,
   "metadata": {},
   "outputs": [
    {
     "name": "stdout",
     "output_type": "stream",
     "text": [
      "The length of the momery view:  16\n",
      "First 8 bytes of the memory view:  <memory at 0x000001E6873490C0>\n",
      "First 8 bytes of the memory view:  b'Vraj Vip'\n",
      "Memory of the First 8 bytes of the memory view:  [86, 114, 97, 106, 32, 86, 105, 112]\n"
     ]
    }
   ],
   "source": [
    "# Write a Python program that creates a memory view on a bytes object and prints the length and first 8 bytes.\n",
    "\n",
    "byte_object = b\"Vraj Vipul Desai\"\n",
    "\n",
    "try:\n",
    "    \n",
    "    memory_view = memoryview(byte_object)\n",
    "    print(\"The length of the momery view: \", len(memory_view))\n",
    "    print(\"First 8 bytes of the memory view: \", memory_view[:8])\n",
    "    first_eight_bytes = memory_view[:8]\n",
    "    print(\"First 8 bytes of the memory view: \", first_eight_bytes.tobytes())\n",
    "    print(\"Memory of the First 8 bytes of the memory view: \", first_eight_bytes.tolist())\n",
    "except Exception as e:\n",
    "    print(e)"
   ]
  },
  {
   "cell_type": "code",
   "execution_count": 11,
   "metadata": {},
   "outputs": [
    {
     "name": "stdout",
     "output_type": "stream",
     "text": [
      "0x1\n",
      "0x2\n",
      "0x3\n",
      "0x4\n",
      "0x5\n",
      "0x6\n",
      "0x7\n",
      "0x8\n",
      "0x9\n",
      "0xa\n"
     ]
    }
   ],
   "source": [
    "#  Write a Python program that creates a memory view from a list of integers and print the hex values of each element.\n",
    "\n",
    "def print_hex(memory_view):\n",
    "    for memory in memory_view:\n",
    "        print(hex(memory))\n",
    "        \n",
    "list = [1,2,3,4,5,6,7,8,9,10]\n",
    "\n",
    "memory_view = memoryview(bytearray(list))\n",
    "\n",
    "print_hex(memory_view)"
   ]
  }
 ],
 "metadata": {
  "kernelspec": {
   "display_name": "base",
   "language": "python",
   "name": "python3"
  },
  "language_info": {
   "codemirror_mode": {
    "name": "ipython",
    "version": 3
   },
   "file_extension": ".py",
   "mimetype": "text/x-python",
   "name": "python",
   "nbconvert_exporter": "python",
   "pygments_lexer": "ipython3",
   "version": "3.12.7"
  }
 },
 "nbformat": 4,
 "nbformat_minor": 2
}
