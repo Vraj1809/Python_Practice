{
 "cells": [
  {
   "cell_type": "code",
   "execution_count": 3,
   "metadata": {},
   "outputs": [
    {
     "name": "stdout",
     "output_type": "stream",
     "text": [
      "Car(make='Honda', model='City', year=2020, engine=Engine(type='1.5L', cylinder=4))\n",
      "Car Make: Honda\n",
      "Car Model: City\n",
      "Car Year: 2020\n",
      "Car Engine: Engine(type='1.5L', cylinder=4)\n",
      "Car Engine Type: 1.5L\n",
      "Car Engine Cylinder: 4\n"
     ]
    }
   ],
   "source": [
    "# Write a Python program that defines a NamedTuple named \"Car\" with fields 'make', 'model', 'year', and 'engine' (a NamedTuple representing engine details). Create an instance of the \"Car\" NamedTuple and print its attributes.\n",
    "from collections import namedtuple\n",
    "\n",
    "Engine = namedtuple('Engine', ['type', 'cylinder'])\n",
    "\n",
    "Car = namedtuple('Car', ['make','model','year', 'engine'])\n",
    "\n",
    "engine = Engine('1.5L', 4)\n",
    "car1 = Car('Honda', 'City', 2020, engine)\n",
    "\n",
    "print(car1)\n",
    "print(f\"Car Make: {car1.make}\")\n",
    "print(f\"Car Model: {car1[1]}\")\n",
    "print(f\"Car Year: {car1.year}\")\n",
    "print(f\"Car Engine: {car1.engine}\")\n",
    "print(f\"Car Engine Type: {car1[3][0]}\")\n",
    "print(f\"Car Engine Cylinder: {car1.engine.cylinder}\")"
   ]
  },
  {
   "cell_type": "code",
   "execution_count": 1,
   "metadata": {},
   "outputs": [
    {
     "name": "stdout",
     "output_type": "stream",
     "text": [
      "Sides of the triangle: 4 , 5 , 7\n"
     ]
    },
    {
     "data": {
      "text/plain": [
       "9.797958971132712"
      ]
     },
     "execution_count": 1,
     "metadata": {},
     "output_type": "execute_result"
    }
   ],
   "source": [
    "# Write a Python program that defines a NamedTuple named \"Triangle\" with fields 'side1', 'side2', and 'side3'. Now write a function that takes a \"Triangle\" NamedTuple as input and calculates its area.\n",
    "\n",
    "from collections import namedtuple\n",
    "import math\n",
    "\n",
    "Triangle = namedtuple('Triangle', ['side1', 'side2', 'side3'])\n",
    "\n",
    "def Area(triangle):\n",
    "    print(\"Sides of the triangle:\",triangle.side1,',',triangle.side2,',',triangle.side3)\n",
    "    \n",
    "    s = (triangle.side1 + triangle.side2 + triangle.side3) / 2\n",
    "    \n",
    "    area = math.sqrt(s * (s - triangle.side1) * (s - triangle.side2) * (s - triangle.side3))\n",
    "    return area\n",
    "\n",
    "triangle = Triangle(4,5,7)\n",
    "\n",
    "Area(triangle)\n"
   ]
  }
 ],
 "metadata": {
  "kernelspec": {
   "display_name": "base",
   "language": "python",
   "name": "python3"
  },
  "language_info": {
   "codemirror_mode": {
    "name": "ipython",
    "version": 3
   },
   "file_extension": ".py",
   "mimetype": "text/x-python",
   "name": "python",
   "nbconvert_exporter": "python",
   "pygments_lexer": "ipython3",
   "version": "3.12.7"
  }
 },
 "nbformat": 4,
 "nbformat_minor": 2
}
