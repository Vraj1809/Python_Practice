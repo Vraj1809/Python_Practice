{
 "cells": [
  {
   "cell_type": "code",
   "execution_count": 2,
   "metadata": {},
   "outputs": [
    {
     "name": "stdout",
     "output_type": "stream",
     "text": [
      "True\n",
      "False\n",
      "False\n"
     ]
    }
   ],
   "source": [
    "# Write a Python program that checks a simple authentication system. The program verifies the provided username and password against predefined usernames and passwords by using boolean checks.\n",
    "def user_authentication(data):\n",
    "    \n",
    "    predefined_usernames = {\n",
    "        'vraj.d@gmail.com' : 'vrajdesai',\n",
    "        'vipul.d@gmail.com' : 'vipuldesai',\n",
    "        'anu.d@gmail.com' : 'anuradhadesai'\n",
    "    }\n",
    "    username, password = data\n",
    "    \n",
    "    if username in predefined_usernames and password == predefined_usernames[username]:\n",
    "        return True\n",
    "    else:\n",
    "        return False\n",
    "\n",
    "data1 = ('vraj.d@gmail.com', 'vrajdesai')\n",
    "data2 = ('viraj.d@gmail.com', 'vrajdesai')\n",
    "data3 = ('vraj.d@gmail.com', 'virajdesai')\n",
    "\n",
    "print(user_authentication(data1))  \n",
    "print(user_authentication(data2))   \n",
    "print(user_authentication(data3))     "
   ]
  },
  {
   "cell_type": "code",
   "execution_count": 8,
   "metadata": {},
   "outputs": [
    {
     "name": "stdout",
     "output_type": "stream",
     "text": [
      "True\n",
      "False\n"
     ]
    }
   ],
   "source": [
    "#  Write a Python program that implements a function to check if a given string is a valid email address format using boolean logic.\n",
    "import re\n",
    "def email_valid_format(email):\n",
    "    \n",
    "    pattern = r'^[a-zA-Z0-9_.+-]+@[a-zA-Z]+.[a-z]+$'\n",
    "    \n",
    "    return bool(re.match(pattern, email))\n",
    "\n",
    "print(email_valid_format(\"vraj.d@gmail.com\"))\n",
    "print(email_valid_format(\"vraj.d@gmail5.com\"))"
   ]
  }
 ],
 "metadata": {
  "kernelspec": {
   "display_name": "base",
   "language": "python",
   "name": "python3"
  },
  "language_info": {
   "codemirror_mode": {
    "name": "ipython",
    "version": 3
   },
   "file_extension": ".py",
   "mimetype": "text/x-python",
   "name": "python",
   "nbconvert_exporter": "python",
   "pygments_lexer": "ipython3",
   "version": "3.12.7"
  }
 },
 "nbformat": 4,
 "nbformat_minor": 2
}
