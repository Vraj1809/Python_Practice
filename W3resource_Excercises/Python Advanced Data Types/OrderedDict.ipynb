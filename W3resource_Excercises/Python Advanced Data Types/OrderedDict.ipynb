{
 "cells": [
  {
   "cell_type": "code",
   "execution_count": 1,
   "metadata": {},
   "outputs": [
    {
     "data": {
      "text/plain": [
       "OrderedDict([('Vraj', 4), ('Vipul', 5), ('Desai', 5), ('Anuradha', 8)])"
      ]
     },
     "execution_count": 1,
     "metadata": {},
     "output_type": "execute_result"
    }
   ],
   "source": [
    "# Write a Python function that takes a list of words and returns an OrderedDict where keys are the words and values are the lengths of the words.\n",
    "from collections import OrderedDict\n",
    "\n",
    "def make_ordered_dict(list1):\n",
    "    \n",
    "    od = OrderedDict()\n",
    "    \n",
    "    for word in list1:\n",
    "        od[word] = len(word)\n",
    "        \n",
    "    return od\n",
    "list1 = ['Vraj', 'Vipul', 'Desai', 'Anuradha']\n",
    "\n",
    "make_ordered_dict(list1)\n"
   ]
  },
  {
   "cell_type": "code",
   "execution_count": 4,
   "metadata": {},
   "outputs": [
    {
     "data": {
      "text/plain": [
       "OrderedDict([('m', 109),\n",
       "             ('\\x0f', 15),\n",
       "             ('!', 33),\n",
       "             ('\\x03', 3),\n",
       "             ('\\x99', 153),\n",
       "             ('\\x02', 2),\n",
       "             ('\\x0e', 14),\n",
       "             ('\\x94', 148),\n",
       "             ('1', 49),\n",
       "             ('ª', 170)])"
      ]
     },
     "execution_count": 4,
     "metadata": {},
     "output_type": "execute_result"
    }
   ],
   "source": [
    "# Write a Python program that creates an OrderedDict and populates it with random integer values as values and their ASCII characters as keys. Print the OrderedDict.\n",
    "from collections import OrderedDict\n",
    "import random\n",
    "od = OrderedDict()\n",
    "\n",
    "list = [random.randint(1,200) for x in range(10)]\n",
    "\n",
    "for num in list:\n",
    "    od[chr(num)] = num\n",
    "    \n",
    "od\n"
   ]
  }
 ],
 "metadata": {
  "kernelspec": {
   "display_name": "base",
   "language": "python",
   "name": "python3"
  },
  "language_info": {
   "codemirror_mode": {
    "name": "ipython",
    "version": 3
   },
   "file_extension": ".py",
   "mimetype": "text/x-python",
   "name": "python",
   "nbconvert_exporter": "python",
   "pygments_lexer": "ipython3",
   "version": "3.12.7"
  }
 },
 "nbformat": 4,
 "nbformat_minor": 2
}
