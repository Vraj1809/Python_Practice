{
 "cells": [
  {
   "cell_type": "code",
   "execution_count": 3,
   "metadata": {},
   "outputs": [
    {
     "name": "stdout",
     "output_type": "stream",
     "text": [
      "Before Dictionary Style Update:\n",
      "Red : 4\n",
      "Green : 1\n",
      "Black : 2\n",
      "Orange : 1\n",
      "Pink : 2\n",
      "White : 1\n",
      "After Dictionary Style Update:\n",
      "Red : 0\n",
      "Green : 4\n",
      "Black : 2\n",
      "Orange : 1\n",
      "Pink : 2\n",
      "White : 1\n",
      "Violet : 5\n"
     ]
    }
   ],
   "source": [
    "# Write a Python program that creates a 'Counter' for a list of items and uses dictionary-style access to update the count of specific items.\n",
    "\n",
    "from collections import Counter\n",
    "items = ['Red', 'Green', 'Black', 'Black', 'Red', 'Red', 'Orange', 'Pink', 'Pink', 'Red', 'White']\n",
    "\n",
    "counter_items = Counter(items)\n",
    "\n",
    "print(\"Before Dictionary Style Update:\")\n",
    "for item, count in counter_items.items():\n",
    "    print(f\"{item} : {count}\")\n",
    "    \n",
    "counter_items['Green'] = 4\n",
    "counter_items['Red'] = 0\n",
    "counter_items['Violet'] = 5\n",
    "\n",
    "print(\"After Dictionary Style Update:\")\n",
    "for item, count in counter_items.items():\n",
    "    print(f\"{item} : {count}\")\n",
    "    \n"
   ]
  },
  {
   "cell_type": "code",
   "execution_count": 6,
   "metadata": {},
   "outputs": [
    {
     "data": {
      "text/plain": [
       "{'Red': 3, 'Black': 2, 'Pink': 2}"
      ]
     },
     "execution_count": 6,
     "metadata": {},
     "output_type": "execute_result"
    }
   ],
   "source": [
    "# Write a Python program that creates a 'Counter' for a list of words and removes all items with a count less than a certain value..\n",
    "\n",
    "from collections import Counter\n",
    "\n",
    "colors = [\"Red\", \"Green\", \"Black\", \"Black\", \"Red\", \"red\", \"Orange\", \"Pink\", \"Pink\", \"Red\", \"White\"]\n",
    "\n",
    "def remove_less_items(colors, value):\n",
    "    \n",
    "    colors = Counter(colors)\n",
    "    dict_color = {}\n",
    "    for color, count in colors.items():\n",
    "        if count >= value:\n",
    "            dict_color[color] = count\n",
    "    return dict_color\n",
    "\n",
    "remove_less_items(colors, 2)"
   ]
  }
 ],
 "metadata": {
  "kernelspec": {
   "display_name": "base",
   "language": "python",
   "name": "python3"
  },
  "language_info": {
   "codemirror_mode": {
    "name": "ipython",
    "version": 3
   },
   "file_extension": ".py",
   "mimetype": "text/x-python",
   "name": "python",
   "nbconvert_exporter": "python",
   "pygments_lexer": "ipython3",
   "version": "3.12.7"
  }
 },
 "nbformat": 4,
 "nbformat_minor": 2
}
