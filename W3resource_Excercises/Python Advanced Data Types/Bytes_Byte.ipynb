{
 "cells": [
  {
   "cell_type": "code",
   "execution_count": 2,
   "metadata": {},
   "outputs": [
    {
     "name": "stdout",
     "output_type": "stream",
     "text": [
      "Original ByteArray Object:  bytearray(b'\\x01\\x02\\x03\\x04\\x05\\x06\\x07')\n",
      "Bytes Object:  b'\\x01\\x02\\x03\\x04\\x05\\x06\\x07'\n",
      "Decoded String:  \u0001\u0002\u0003\u0004\u0005\u0006\u0007\n"
     ]
    }
   ],
   "source": [
    "#  Write a Python function that converts a bytearray to a bytes object.\n",
    "\n",
    "def bytearray_to_bytes (bytearray_object):\n",
    "    \n",
    "    byte_obj = bytes(bytearray_object)\n",
    "    return byte_obj\n",
    "\n",
    "try:\n",
    "    bytearray_object = bytearray([1,2,3,4,5,6,7])\n",
    "    \n",
    "    print(\"Original ByteArray Object: \", bytearray_object)\n",
    "    \n",
    "    byte_result = bytearray_to_bytes(bytearray_object)\n",
    "    \n",
    "    print(\"Bytes Object: \", byte_result)\n",
    "    \n",
    "    print(\"Decoded String: \", byte_result.decode())\n",
    "\n",
    "except Exception as e:\n",
    "    print(e)"
   ]
  },
  {
   "cell_type": "code",
   "execution_count": 3,
   "metadata": {},
   "outputs": [
    {
     "name": "stdout",
     "output_type": "stream",
     "text": [
      "Byte Object 1:  b'Python'\n",
      "Byte Object 2:  b'pYThon'\n",
      "Byte Object 3:  b'PYThon'\n",
      "Byte Object 4:  b'Python'\n",
      "Are b'Python' and b'pYThon' equal??  False\n",
      "Are b'Python' and b'PYThon' equal??  False\n",
      "Are b'Python' and b'Python' equal??  True\n",
      "Are b'pYThon' and b'PYThon' equal??  False\n",
      "Are b'pYThon' and b'Python' equal??  False\n",
      "Are b'PYThon' and b'Python' equal??  False\n"
     ]
    }
   ],
   "source": [
    "# Write a Python program that checks if two bytes objects are equal.\n",
    "\n",
    "def equality_check(byte_object1, byte_object2):\n",
    "    return byte_object1 == byte_object2\n",
    "\n",
    "try:\n",
    "    byte_object1 = b\"Python\"\n",
    "    byte_object2 = b\"pYThon\"\n",
    "    byte_object3 = b\"PYThon\"\n",
    "    byte_object4 = b\"Python\"\n",
    "    \n",
    "    print(\"Byte Object 1: \", byte_object1)\n",
    "    print(\"Byte Object 2: \", byte_object2)\n",
    "    print(\"Byte Object 3: \", byte_object3)\n",
    "    print(\"Byte Object 4: \", byte_object4)\n",
    "    \n",
    "    print(f\"Are {byte_object1} and {byte_object2} equal??  {equality_check(byte_object1, byte_object2)}\")\n",
    "    print(f\"Are {byte_object1} and {byte_object3} equal??  {equality_check(byte_object1, byte_object3)}\")\n",
    "    print(f\"Are {byte_object1} and {byte_object4} equal??  {equality_check(byte_object1, byte_object4)}\")\n",
    "    print(f\"Are {byte_object2} and {byte_object3} equal??  {equality_check(byte_object2, byte_object3)}\")\n",
    "    print(f\"Are {byte_object2} and {byte_object4} equal??  {equality_check(byte_object2, byte_object4)}\")\n",
    "    print(f\"Are {byte_object3} and {byte_object4} equal??  {equality_check(byte_object3, byte_object4)}\")\n",
    "    \n",
    "except Exception as e:\n",
    "    print(e)"
   ]
  }
 ],
 "metadata": {
  "kernelspec": {
   "display_name": "base",
   "language": "python",
   "name": "python3"
  },
  "language_info": {
   "codemirror_mode": {
    "name": "ipython",
    "version": 3
   },
   "file_extension": ".py",
   "mimetype": "text/x-python",
   "name": "python",
   "nbconvert_exporter": "python",
   "pygments_lexer": "ipython3",
   "version": "3.12.7"
  }
 },
 "nbformat": 4,
 "nbformat_minor": 2
}
