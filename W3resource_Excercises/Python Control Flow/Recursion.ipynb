{
 "cells": [
  {
   "cell_type": "code",
   "execution_count": 3,
   "metadata": {},
   "outputs": [
    {
     "data": {
      "text/plain": [
       "27"
      ]
     },
     "execution_count": 3,
     "metadata": {},
     "output_type": "execute_result"
    }
   ],
   "source": [
    "# Write a Python program to sum recursion lists using recursion.\n",
    "# Test Data: [1, 2, [3,4], [5,6]]\n",
    "# Expected Result: 21\n",
    "\n",
    "def sum_recursion(list):\n",
    "    \n",
    "    total = 0\n",
    "    for element in list:\n",
    "        if type(element) == type([]):\n",
    "            total = total + sum_recursion(element)\n",
    "        else:\n",
    "            total = total + element\n",
    "    \n",
    "    return total \n",
    "\n",
    "sum_recursion([1, 2, [3,4,6], [5,6]])"
   ]
  },
  {
   "cell_type": "code",
   "execution_count": 11,
   "metadata": {},
   "outputs": [
    {
     "data": {
      "text/plain": [
       "36"
      ]
     },
     "execution_count": 11,
     "metadata": {},
     "output_type": "execute_result"
    }
   ],
   "source": [
    "# Write a Python program to calculate the sum of the positive integers of n+(n-2)+(n-4)... (until n-x =< 0) using recursion .\n",
    "# Test Data:\n",
    "# sum_series(6) -> 12\n",
    "# sum_series(10) -> 30\n",
    "\n",
    "def sum_series(num):\n",
    "    \n",
    "    if num - 2 <= 0:\n",
    "        return num\n",
    "    \n",
    "    return num + sum_series(num - 2)\n",
    "\n",
    "sum_series(11)"
   ]
  }
 ],
 "metadata": {
  "kernelspec": {
   "display_name": "base",
   "language": "python",
   "name": "python3"
  },
  "language_info": {
   "codemirror_mode": {
    "name": "ipython",
    "version": 3
   },
   "file_extension": ".py",
   "mimetype": "text/x-python",
   "name": "python",
   "nbconvert_exporter": "python",
   "pygments_lexer": "ipython3",
   "version": "3.12.7"
  }
 },
 "nbformat": 4,
 "nbformat_minor": 2
}
