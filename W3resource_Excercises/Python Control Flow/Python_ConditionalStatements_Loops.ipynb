{
 "cells": [
  {
   "cell_type": "code",
   "execution_count": null,
   "metadata": {},
   "outputs": [
    {
     "name": "stdout",
     "output_type": "stream",
     "text": [
      "2024-2-29\n"
     ]
    }
   ],
   "source": [
    "# Write a Python program to get the next day of a given date.\n",
    "# Expected Output:\n",
    "\n",
    "# Input a year: 2016                                                      \n",
    "# Input a month [1-12]: 08                                                \n",
    "# Input a day [1-31]: 23                                                  \n",
    "# The next date is [yyyy-mm-dd] 2016-8-24 \n",
    "\n",
    "year = int(input(\"Enter the year: \"))\n",
    "month = int(input(\"Enter the month: \"))\n",
    "day = int(input(\"Enter the day: \"))\n",
    "\n",
    "leap_year = 0\n",
    "if year % 400 == 0 or year % 4 == 0:\n",
    "    leap_year = 1\n",
    "\n",
    "if day == 30 or day == 31:\n",
    "    if month in [1,3,5,7,8,10]:\n",
    "        day = (day + 1) % 31 \n",
    "    elif month in [4,6,9,11]:\n",
    "        day = (day + 1) % 30 \n",
    "    elif month == 12:\n",
    "        day = (day + 1) % 31\n",
    "        year = year + 1\n",
    "    month = (month + 1) % 12\n",
    "          \n",
    "elif day == 28:\n",
    "    if leap_year == 1:\n",
    "        day = (day + 1)  \n",
    "    else:\n",
    "        day = (day + 1) % 28\n",
    "        month = month + 1 \n",
    "\n",
    "elif day == 29:\n",
    "    day = (day + 1) % 29\n",
    "    month = month + 1\n",
    "    \n",
    "else:\n",
    "    day = day + 1\n",
    "        \n",
    "print(f\"{year}-{month}-{day}\")"
   ]
  },
  {
   "cell_type": "code",
   "execution_count": 13,
   "metadata": {},
   "outputs": [
    {
     "name": "stdout",
     "output_type": "stream",
     "text": [
      "* \n",
      "* * \n",
      "* * * \n",
      "* * * * \n",
      "* * * * * \n",
      "* * * * * * \n",
      "* * * * * \n",
      "* * * * \n",
      "* * * \n",
      "* * \n",
      "* \n"
     ]
    }
   ],
   "source": [
    "# Write a Python program to construct the following pattern, using a nested for loop.\n",
    "# * \n",
    "# * * \n",
    "# * * * \n",
    "# * * * * \n",
    "# * * * * * \n",
    "# * * * * \n",
    "# * * * \n",
    "# * * \n",
    "# *\n",
    "\n",
    "for i in range(1,6):\n",
    "    for j in range(i):\n",
    "        print(\"*\", end=\" \")\n",
    "    print(\"\")\n",
    "for i in range(6,0,-1):\n",
    "    for j in range(i):\n",
    "        print(\"*\", end=\" \")\n",
    "    print(\"\")"
   ]
  }
 ],
 "metadata": {
  "kernelspec": {
   "display_name": "base",
   "language": "python",
   "name": "python3"
  },
  "language_info": {
   "codemirror_mode": {
    "name": "ipython",
    "version": 3
   },
   "file_extension": ".py",
   "mimetype": "text/x-python",
   "name": "python",
   "nbconvert_exporter": "python",
   "pygments_lexer": "ipython3",
   "version": "3.12.7"
  }
 },
 "nbformat": 4,
 "nbformat_minor": 2
}
