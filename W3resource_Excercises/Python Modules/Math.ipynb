{
 "cells": [
  {
   "cell_type": "code",
   "execution_count": 5,
   "metadata": {},
   "outputs": [
    {
     "data": {
      "text/plain": [
       "48"
      ]
     },
     "execution_count": 5,
     "metadata": {},
     "output_type": "execute_result"
    }
   ],
   "source": [
    "# Write a Python program to calculate the sum of all prime numbers in a given list of positive integers.\n",
    "# Sample Data:\n",
    "# ([1, 3, 4, 7, 9]) -> 10\n",
    "# ([]) -> Empty list!\n",
    "# ([11, 37, 444]) -> 48\n",
    "\n",
    "def check_prime(num):\n",
    "    if num == 0 or num == 1:\n",
    "        return False\n",
    "    for i in range (2,num):\n",
    "        if num % i == 0:\n",
    "            return False\n",
    "    return True\n",
    "\n",
    "def sm_of_even_numbers(list1):\n",
    "    if len(list1) == 0:\n",
    "        print(\"Empty list!\")\n",
    "        return\n",
    "    tsum = 0\n",
    "    for num in list1:\n",
    "        if check_prime(num):\n",
    "            tsum += num\n",
    "    \n",
    "    return tsum\n",
    "\n",
    "# list1 = [1, 3, 4, 7, 9]\n",
    "# list1 = []\n",
    "list1 = [11, 37, 444]\n",
    "sm_of_even_numbers(list1)"
   ]
  },
  {
   "cell_type": "code",
   "execution_count": 10,
   "metadata": {},
   "outputs": [
    {
     "data": {
      "text/plain": [
       "(921, 129)"
      ]
     },
     "execution_count": 10,
     "metadata": {},
     "output_type": "execute_result"
    }
   ],
   "source": [
    "# Write a Python program that takes an integer and rearranges the digits to create two maximum and minimum numbers.\n",
    "\n",
    "def rearrangement(num):\n",
    "    temp = []\n",
    "    for n in str(num):\n",
    "        temp.append(n)\n",
    "    \n",
    "    temp.sort()\n",
    "    min = int(\"\".join(temp))\n",
    "    \n",
    "    temp.sort(reverse=True)\n",
    "    max = int(\"\".join(temp))\n",
    "    \n",
    "    return max, min        \n",
    "rearrangement(192)"
   ]
  }
 ],
 "metadata": {
  "kernelspec": {
   "display_name": "base",
   "language": "python",
   "name": "python3"
  },
  "language_info": {
   "codemirror_mode": {
    "name": "ipython",
    "version": 3
   },
   "file_extension": ".py",
   "mimetype": "text/x-python",
   "name": "python",
   "nbconvert_exporter": "python",
   "pygments_lexer": "ipython3",
   "version": "3.12.7"
  }
 },
 "nbformat": 4,
 "nbformat_minor": 2
}
