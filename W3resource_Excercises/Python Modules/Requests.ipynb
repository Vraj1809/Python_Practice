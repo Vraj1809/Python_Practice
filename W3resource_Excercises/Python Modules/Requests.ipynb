{
 "cells": [
  {
   "cell_type": "code",
   "execution_count": 16,
   "metadata": {},
   "outputs": [
    {
     "name": "stderr",
     "output_type": "stream",
     "text": [
      "c:\\Users\\VrajDesai\\anaconda3\\Lib\\site-packages\\urllib3\\connectionpool.py:1099: InsecureRequestWarning: Unverified HTTPS request is being made to host 'www.w3resource.com'. Adding certificate verification is strongly advised. See: https://urllib3.readthedocs.io/en/latest/advanced-usage.html#tls-warnings\n",
      "  warnings.warn(\n"
     ]
    },
    {
     "name": "stdout",
     "output_type": "stream",
     "text": [
      "<Response [200]>\n",
      "\n",
      "<Response [200]>\n"
     ]
    }
   ],
   "source": [
    "# Write a Python program to verify the SSL certificate for a website that is certified.\n",
    "import requests\n",
    "\n",
    "# without verfiying the ceritificate\n",
    "response = requests.get('https://www.w3resource.com/python-exercises/requests/python-request-exercise-9.php', verify=False)\n",
    "print(response)\n",
    "\n",
    "print()\n",
    "# verifying the certificate\n",
    "response = requests.get('https://www.w3resource.com/python-exercises/requests/python-request-exercise-9.php', verify=True)\n",
    "print(response)\n",
    "\n"
   ]
  },
  {
   "cell_type": "code",
   "execution_count": 22,
   "metadata": {},
   "outputs": [
    {
     "name": "stdout",
     "output_type": "stream",
     "text": [
      "<RequestsCookieJar[]>\n"
     ]
    }
   ],
   "source": [
    "# Write a Python program to send cookies to a given server and access cookies from the response of a server.\n",
    "import requests\n",
    "\n",
    "url = 'https://www.w3resource.com/python-exercises/requests/python-request-exercise-8.php'\n",
    "\n",
    "my_cookies = dict(cookies_are = \"My Name is Vraj Vipul Desai\")\n",
    "reponse = requests.get(url, cookies=my_cookies)\n",
    "\n",
    "print(response.cookies)"
   ]
  }
 ],
 "metadata": {
  "kernelspec": {
   "display_name": "base",
   "language": "python",
   "name": "python3"
  },
  "language_info": {
   "codemirror_mode": {
    "name": "ipython",
    "version": 3
   },
   "file_extension": ".py",
   "mimetype": "text/x-python",
   "name": "python",
   "nbconvert_exporter": "python",
   "pygments_lexer": "ipython3",
   "version": "3.12.7"
  }
 },
 "nbformat": 4,
 "nbformat_minor": 2
}
