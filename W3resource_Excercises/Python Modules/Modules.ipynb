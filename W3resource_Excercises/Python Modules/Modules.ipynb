{
 "cells": [
  {
   "cell_type": "markdown",
   "metadata": {},
   "source": [
    "# Random"
   ]
  },
  {
   "cell_type": "code",
   "execution_count": 1,
   "metadata": {},
   "outputs": [
    {
     "name": "stdout",
     "output_type": "stream",
     "text": [
      "Random Numbr with seed 1: 0.13436424411240122\n",
      "Random Numbr with seed 2: 0.9560342718892494\n",
      "Random Numbr with seed 3: 0.23796462709189137\n",
      "Random Numbr with seed 4: 0.23604808973743452\n",
      "Random Numbr with seed 5: 0.6229016948897019\n",
      "Random Numbr with seed 6: 0.793340083761663\n",
      "Random Numbr with seed 7: 0.32383276483316237\n",
      "Random Numbr with seed 8: 0.2267058593810488\n",
      "Random Numbr with seed 9: 0.46300735781502145\n",
      "Random Numbr with seed 10: 0.5714025946899135\n"
     ]
    }
   ],
   "source": [
    "# Write a Python program to set a random seed and get a random number between 0 and 1. Use random.random.\n",
    "\n",
    "import random\n",
    "\n",
    "for i in range(1,11):\n",
    "    random.seed(i)\n",
    "    print(f\"Random Numbr with seed {i}: {random.random()}\")"
   ]
  },
  {
   "cell_type": "code",
   "execution_count": 3,
   "metadata": {},
   "outputs": [
    {
     "name": "stdout",
     "output_type": "stream",
     "text": [
      "Lists of Random Numbers:  [5, 67, 63, 42, 10, 32, 96, 47, 6, 54, 18, 78, 46, 49, 54, 37, 87, 34, 59, 23, 88, 39, 85, 47, 18, 59, 99, 31, 57, 79, 49, 6, 75, 1, 31, 18, 25, 39, 69, 47, 99, 31, 41, 86, 71, 58, 56, 61, 9, 84, 75, 42, 65, 21, 29, 53, 31, 5, 5, 64, 39, 78, 85, 10, 69, 11, 20, 50, 73, 48, 77, 20, 15, 100, 99, 13, 57, 22, 25, 45, 56, 54, 58, 32, 88, 36, 19, 80, 67, 23, 16, 35, 59, 39, 22, 85, 84, 23, 100, 23]\n",
      "Samples from the list of random numbers:  [78, 100, 71, 31, 53, 57, 5, 48, 35, 32]\n"
     ]
    }
   ],
   "source": [
    "# Write a Python program to create a list of random integers and randomly select multiple items from the said list. Use random.sample()\n",
    "import random \n",
    "\n",
    "list1 = [random.randint(1,100) for x in range(100)]\n",
    "sample = random.sample(list1, 10)\n",
    "\n",
    "print(\"Lists of Random Numbers: \", list1)\n",
    "print(\"Samples from the list of random numbers: \", sample)\n"
   ]
  },
  {
   "cell_type": "markdown",
   "metadata": {},
   "source": [
    "# Types"
   ]
  },
  {
   "cell_type": "code",
   "execution_count": 8,
   "metadata": {},
   "outputs": [
    {
     "name": "stdout",
     "output_type": "stream",
     "text": [
      "Check if a given value is compiled code:\n",
      "True\n",
      "False\n",
      "Check if the given value is Method\n",
      "False\n"
     ]
    }
   ],
   "source": [
    "# Write a Python program to check if a given value is compiled code or not. Also check if a given value is a module or not. Use types.CodeType, types.ModuleType()\n",
    "\n",
    "import types\n",
    "\n",
    "print(\"Check if a given value is compiled code:\")\n",
    "code = compile(\"print('Vraj Desai')\",\"sample\", \"exec\")\n",
    "print(isinstance(code, types.CodeType))\n",
    "print(isinstance(\"print('helllo wordl')\", types.CodeType))\n",
    "\n",
    "print(\"Check if the given value is Method\")\n",
    "print(isinstance(types, types.MethodType))"
   ]
  },
  {
   "cell_type": "markdown",
   "metadata": {},
   "source": [
    "# Decimal"
   ]
  },
  {
   "cell_type": "code",
   "execution_count": 11,
   "metadata": {},
   "outputs": [
    {
     "name": "stdout",
     "output_type": "stream",
     "text": [
      "3.141592653589793115997963468544185161590576171875\n",
      "DecimalTuple(sign=0, digits=(3, 1, 4, 1, 5, 9, 2, 6, 5, 3, 5, 8, 9, 7, 9, 3, 1, 1, 5, 9, 9, 7, 9, 6, 3, 4, 6, 8, 5, 4, 4, 1, 8, 5, 1, 6, 1, 5, 9, 0, 5, 7, 6, 1, 7, 1, 8, 7, 5), exponent=-48)\n",
      "1234.1234\n",
      "DecimalTuple(sign=0, digits=(1, 2, 3, 4, 1, 2, 3, 4), exponent=-4)\n",
      "(6170617, 5000)\n",
      "1234.1234\n"
     ]
    }
   ],
   "source": [
    "# Write a Python program to construct a Decimal from a float and a Decimal from a string. Also represent the decimal value as a tuple. Use decimal.Decimal\n",
    "import decimal\n",
    "from math import pi\n",
    "\n",
    "decimal_num = decimal.Decimal(pi)\n",
    "print(decimal_num)\n",
    "print(decimal_num.as_tuple())\n",
    "\n",
    "decimal_str = decimal.Decimal(\"1234.1234\")\n",
    "print(decimal_str)\n",
    "print(decimal_str.as_tuple())\n",
    "print(decimal_str.as_integer_ratio())"
   ]
  },
  {
   "cell_type": "markdown",
   "metadata": {},
   "source": [
    "# Copy"
   ]
  },
  {
   "cell_type": "code",
   "execution_count": 13,
   "metadata": {},
   "outputs": [
    {
     "name": "stdout",
     "output_type": "stream",
     "text": [
      "Original List:  [0, 1, 2, 3, 4, 5, 6, 7, 8, 9, 10]\n",
      "Original List:  [0, 1, 2, 3, 4, 5, 6, 7, 8, 9, 10, 100]\n",
      "Shallow Copy:  [0, 1, 2, 3, 4, 5, 6, 7, 8, 9, 10]\n",
      "Original List:  [0, 1, 2, 3, 4, 5, 6, 7, 8, 9, 10, 100]\n",
      "Deep Copy:  [0, 1, 2, 3, 4, 5, 6, 7, 8, 9, 10, 100, 88]\n"
     ]
    }
   ],
   "source": [
    "# Write a Python program to create a shallow and a deep copy of a given list. Use copy.copy\n",
    "\n",
    "import copy\n",
    "list1 = [x for x in range(11)]\n",
    "\n",
    "print(\"Original List: \", list1)\n",
    "shallow_copy = copy.copy(list1)\n",
    "list1.append(100)\n",
    "\n",
    "print(\"Original List: \", list1)\n",
    "print(\"Shallow Copy: \", shallow_copy)\n",
    "\n",
    "deep_copy = copy.deepcopy(list1)\n",
    "deep_copy.append(88)\n",
    "\n",
    "print(\"Original List: \", list1)\n",
    "print(\"Deep Copy: \", deep_copy)\n"
   ]
  }
 ],
 "metadata": {
  "kernelspec": {
   "display_name": "base",
   "language": "python",
   "name": "python3"
  },
  "language_info": {
   "codemirror_mode": {
    "name": "ipython",
    "version": 3
   },
   "file_extension": ".py",
   "mimetype": "text/x-python",
   "name": "python",
   "nbconvert_exporter": "python",
   "pygments_lexer": "ipython3",
   "version": "3.12.7"
  }
 },
 "nbformat": 4,
 "nbformat_minor": 2
}
