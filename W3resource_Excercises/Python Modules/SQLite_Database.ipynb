{
 "cells": [
  {
   "cell_type": "code",
   "execution_count": 21,
   "metadata": {},
   "outputs": [
    {
     "name": "stdout",
     "output_type": "stream",
     "text": [
      "Database Created and Connected to SQLite\n",
      "The Version of SQLite Database is:  [('3.45.3',)]\n",
      "The SQLite connection is closed\n"
     ]
    }
   ],
   "source": [
    "# Create a SQLite database and connect with the database and print the version of the SQLite database\n",
    "import sqlite3\n",
    "\n",
    "try:\n",
    "    sql_connection = sqlite3.connect('SQLite_database.db')\n",
    "    connection = sql_connection.cursor()\n",
    "    \n",
    "    print(\"Database Created and Connected to SQLite\")\n",
    "    \n",
    "    query = \"select sqlite_version();\"\n",
    "    connection.execute(query)\n",
    "    record = connection.fetchall()\n",
    "    print(\"The Version of SQLite Database is: \", record)\n",
    "    connection.close()\n",
    "    \n",
    "except sqlite3.Error as e:\n",
    "    print(e)\n",
    "    \n",
    "finally:\n",
    "    if sql_connection :\n",
    "        sql_connection.close()\n",
    "        print(\"The SQLite connection is closed\")"
   ]
  },
  {
   "cell_type": "code",
   "execution_count": 22,
   "metadata": {},
   "outputs": [
    {
     "name": "stdout",
     "output_type": "stream",
     "text": [
      "Connected with the database\n",
      "The Table:  [('student',)]\n",
      "Connection is closed\n"
     ]
    }
   ],
   "source": [
    "# Write a Python program to connect a database and create a SQLite table within the database.\n",
    "\n",
    "import sqlite3\n",
    "\n",
    "try:\n",
    "    SQL_connection = sqlite3.connect('SQLite_database.db')\n",
    "    connection = SQL_connection.cursor()\n",
    "    \n",
    "    print(\"Connected with the database\")\n",
    "    \n",
    "    query = \"CREATE TABLE student (S_ID INTEGER PRIMARY KEY, S_NAME TEXT, S_AGE INTEGER);\"\n",
    "    connection.execute(query)\n",
    "    SQL_connection.commit()\n",
    "    \n",
    "    query2 = \"SELECT name FROM SQLITE_MASTER WHERE type = 'table';\"\n",
    "    connection.execute(query2)\n",
    "    print(\"The Table: \", connection.fetchall())\n",
    "    connection.close()\n",
    "    \n",
    "except sqlite3.Error as e:\n",
    "    print(e)\n",
    "    \n",
    "finally:\n",
    "    if SQL_connection:\n",
    "        SQL_connection.close()\n",
    "        print(\"Connection is closed\")\n",
    "    "
   ]
  },
  {
   "cell_type": "code",
   "execution_count": null,
   "metadata": {},
   "outputs": [
    {
     "name": "stdout",
     "output_type": "stream",
     "text": [
      "Connection Established\n",
      "All of the data in Student Table: [(32, 'VRAJ DESAI', 21), (33, 'VIPUL DESAI', 48), (34, 'ANURADHA DESAI', 45)]\n",
      "SQL connection closed\n"
     ]
    }
   ],
   "source": [
    "# Write a Python program to create a table and insert some records in that table. Finally selects all rows from the table and display the records.\n",
    "\n",
    "import sqlite3\n",
    "\n",
    "try:\n",
    "    SQL_connection = sqlite3.connect('SQLite_database.db')\n",
    "    connection = SQL_connection.cursor()\n",
    "    \n",
    "    print(\"Connection Established\")\n",
    "    \n",
    "    connection.executescript(\"\"\"\n",
    "    \n",
    "    INSERT INTO student VALUES (32, \"VRAJ DESAI\", 21);\n",
    "    INSERT INTO student VALUES (33, \"VIPUL DESAI\", 48);\n",
    "    INSERT INTO student VALUES (34, \"ANURADHA DESAI\", 45);\n",
    "    \n",
    "                             \"\"\")\n",
    "    \n",
    "    SQL_connection.commit()\n",
    "\n",
    "    connection.execute(\" SELECT * FROM student;\")\n",
    "    result = connection.fetchall()\n",
    "    \n",
    "    print(\"All of the data in Student Table:\", result)\n",
    "    \n",
    "    connection.close()    \n",
    "except sqlite3.Error as e:\n",
    "    print(e)\n",
    "    \n",
    "finally:\n",
    "    if SQL_connection:\n",
    "        SQL_connection.close()\n",
    "        print(\"SQL connection closed\")"
   ]
  },
  {
   "cell_type": "code",
   "execution_count": 25,
   "metadata": {},
   "outputs": [
    {
     "name": "stdout",
     "output_type": "stream",
     "text": [
      "connection established\n",
      "[(32, 'VRAJ DESAI', 21), (33, 'VIPUL DESAI', 48), (34, 'ANURADHA DESAI', 45), (35, 'ANSUYA DESAI', 75), (36, 'VEER DESAI', 18), (37, 'RASHI DESAI', 24), (38, 'KINNARI DESAI', 50), (39, 'RAJESH DESAI', 52)]\n",
      "SQL Connection is closed\n"
     ]
    }
   ],
   "source": [
    "# Write a Python program to insert a list of records into a given SQLite table.\n",
    "\n",
    "import sqlite3\n",
    "\n",
    "try:\n",
    "    SQL_connection = sqlite3.connect('SQLite_database.db')\n",
    "    connection = SQL_connection.cursor()\n",
    "    \n",
    "    print(\"connection established\")\n",
    "    \n",
    "    # query = \"\"\"\n",
    "    # INSERT INTO student (S_ID, S_NAME, S_AGE) VALUES (?,?,?);\n",
    "    # \"\"\"\n",
    "    # records = [\n",
    "    #     (35, 'ANSUYA DESAI', 75),\n",
    "    #     (36, 'VEER DESAI', 18),\n",
    "    #     (37, 'RASHI DESAI', 24),\n",
    "    #     (38, 'KINNARI DESAI', 50),\n",
    "    #     (39, 'RAJESH DESAI', 52)\n",
    "    # ]\n",
    "    \n",
    "    # connection.executemany(query, records)\n",
    "    # SQL_connection.commit()\n",
    "    \n",
    "    connection.execute(\"SELECT * FROM student;\")\n",
    "    result = connection.fetchall()\n",
    "    print(result)\n",
    "    \n",
    "    connection.close()\n",
    "    \n",
    "except sqlite3.Error as e:\n",
    "    print(e)\n",
    "    \n",
    "finally:\n",
    "    if SQL_connection:\n",
    "        SQL_connection.close()\n",
    "        print(\"SQL Connection is closed\")\n",
    "        \n",
    "    "
   ]
  },
  {
   "cell_type": "code",
   "execution_count": 28,
   "metadata": {},
   "outputs": [
    {
     "name": "stdout",
     "output_type": "stream",
     "text": [
      "connection established\n",
      "before Database Update:\n",
      "(32, 'VRAJ DESAI', 21)\n",
      "(33, 'VIPUL DESAI', 48)\n",
      "(34, 'ANURADHA DESAI', 45)\n",
      "(35, 'ANSUYA DESAI', 75)\n",
      "(36, 'VEER DESAI', 18)\n",
      "(37, 'RASHI DESAI', 24)\n",
      "(38, 'KINNARI DESAI', 50)\n",
      "(39, 'RAJESH DESAI', 52)\n",
      "\n",
      "\n",
      "After Database Update:\n",
      "(32, 'VRAJ DESAI', 30)\n",
      "(33, 'VIPUL DESAI', 48)\n",
      "(34, 'ANURADHA DESAI', 45)\n",
      "(35, 'ANSUYA DESAI', 75)\n",
      "(36, 'VEER DESAI', 18)\n",
      "(37, 'RASHI DESAI', 24)\n",
      "(38, 'KINNARI DESAI', 50)\n",
      "(39, 'RAJESH DESAI', 52)\n",
      "SQL Connection is closed\n"
     ]
    }
   ],
   "source": [
    "# Write a Python program to update a specific column value of a given table and select all rows before and after updating the said table.\n",
    "import sqlite3\n",
    "\n",
    "try:\n",
    "    SQL_connection = sqlite3.connect('SQLite_database.db')\n",
    "    connection = SQL_connection.cursor()\n",
    "    \n",
    "    print(\"connection established\")\n",
    "\n",
    "    connection.execute(\"SELECT * FROM student;\")\n",
    "    result = connection.fetchall()\n",
    "    \n",
    "    print(\"before Database Update:\")\n",
    "    for data in result:    \n",
    "        print(data)    \n",
    "    query = \"\"\"\n",
    "    UPDATE student SET S_AGE = 30 WHERE S_ID = 32;\n",
    "    \"\"\"\n",
    "    connection.execute(query)\n",
    "    SQL_connection.commit()\n",
    "    \n",
    "    connection.execute(\"SELECT * FROM student;\")\n",
    "    result = connection.fetchall()\n",
    "    \n",
    "    print(\"\\n\\nAfter Database Update:\")\n",
    "    for data in result:    \n",
    "        print(data) \n",
    "    \n",
    "    connection.close()\n",
    "    \n",
    "except sqlite3.Error as e:\n",
    "    print(e)\n",
    "    \n",
    "finally:\n",
    "    if SQL_connection:\n",
    "        SQL_connection.close()\n",
    "        print(\"SQL Connection is closed\")\n",
    "\n"
   ]
  },
  {
   "cell_type": "code",
   "execution_count": 29,
   "metadata": {},
   "outputs": [
    {
     "name": "stdout",
     "output_type": "stream",
     "text": [
      "connection established\n",
      "before Database Update:\n",
      "(32, 'VRAJ DESAI', 30)\n",
      "(33, 'VIPUL DESAI', 48)\n",
      "(34, 'ANURADHA DESAI', 45)\n",
      "(35, 'ANSUYA DESAI', 75)\n",
      "(36, 'VEER DESAI', 18)\n",
      "(37, 'RASHI DESAI', 24)\n",
      "(38, 'KINNARI DESAI', 50)\n",
      "(39, 'RAJESH DESAI', 52)\n",
      "\n",
      "\n",
      "After Database Update:\n",
      "(33, 'VIPUL DESAI', 48)\n",
      "(34, 'ANURADHA DESAI', 45)\n",
      "(35, 'ANSUYA DESAI', 75)\n",
      "(36, 'VEER DESAI', 18)\n",
      "(37, 'RASHI DESAI', 24)\n",
      "(38, 'KINNARI DESAI', 50)\n",
      "(39, 'RAJESH DESAI', 52)\n",
      "SQL Connection is closed\n"
     ]
    }
   ],
   "source": [
    "# Write a Python program to delete a specific row from a given SQLite table.\n",
    "# Write a Python program to update a specific column value of a given table and select all rows before and after updating the said table.\n",
    "import sqlite3\n",
    "\n",
    "try:\n",
    "    SQL_connection = sqlite3.connect('SQLite_database.db')\n",
    "    connection = SQL_connection.cursor()\n",
    "    \n",
    "    print(\"connection established\")\n",
    "\n",
    "    connection.execute(\"SELECT * FROM student;\")\n",
    "    result = connection.fetchall()\n",
    "    \n",
    "    print(\"before Database Update:\")\n",
    "    for data in result:    \n",
    "        print(data)    \n",
    "    query = \"\"\"\n",
    "    DELETE FROM student WHERE S_ID = 32;\n",
    "    \"\"\"\n",
    "    connection.execute(query)\n",
    "    SQL_connection.commit()\n",
    "    \n",
    "    connection.execute(\"SELECT * FROM student;\")\n",
    "    result = connection.fetchall()\n",
    "    \n",
    "    print(\"\\n\\nAfter Database Update:\")\n",
    "    for data in result:    \n",
    "        print(data) \n",
    "    \n",
    "    connection.close()\n",
    "    \n",
    "except sqlite3.Error as e:\n",
    "    print(e)\n",
    "    \n",
    "finally:\n",
    "    if SQL_connection:\n",
    "        SQL_connection.close()\n",
    "        print(\"SQL Connection is closed\")\n",
    "\n"
   ]
  }
 ],
 "metadata": {
  "kernelspec": {
   "display_name": "base",
   "language": "python",
   "name": "python3"
  },
  "language_info": {
   "codemirror_mode": {
    "name": "ipython",
    "version": 3
   },
   "file_extension": ".py",
   "mimetype": "text/x-python",
   "name": "python",
   "nbconvert_exporter": "python",
   "pygments_lexer": "ipython3",
   "version": "3.12.7"
  }
 },
 "nbformat": 4,
 "nbformat_minor": 2
}
