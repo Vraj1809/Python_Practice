{
 "cells": [
  {
   "cell_type": "code",
   "execution_count": null,
   "metadata": {},
   "outputs": [
    {
     "data": {
      "text/plain": [
       "1"
      ]
     },
     "execution_count": 4,
     "metadata": {},
     "output_type": "execute_result"
    }
   ],
   "source": [
    "# Write a Python program to run an operating system command using the  OS module.\n",
    "\n",
    "import os\n",
    "command = 'ls'\n",
    "os.system(command)"
   ]
  },
  {
   "cell_type": "code",
   "execution_count": 9,
   "metadata": {},
   "outputs": [
    {
     "name": "stdout",
     "output_type": "stream",
     "text": [
      "Name of the Opearting System:  nt\n",
      "Current Working Directory:  c:\\Users\\VrajDesai\\Desktop\\ML_AI_Course\\Python_Practice\\W3resource_Excercises\\Python Modules\n",
      "Files in the current working directory:\n",
      "['Math.ipynb', 'Modules.ipynb', 'Operating_System_Services.ipynb', 'Requests.ipynb', 'SQLite_Database.ipynb']\n"
     ]
    }
   ],
   "source": [
    "# Write a Python program to get the name of the operating system (Platform independent), information of the current operating system, current working directory, print files and directories in the current directory, and raise errors if the path or file name is invalid.\n",
    "\n",
    "import os\n",
    "\n",
    "print(\"Name of the Opearting System: \", os.name)\n",
    "print(\"Current Working Directory: \", os.getcwd())\n",
    "\n",
    "print(\"Files in the current working directory:\")\n",
    "print(os.listdir())"
   ]
  },
  {
   "cell_type": "code",
   "execution_count": 12,
   "metadata": {},
   "outputs": [
    {
     "name": "stdout",
     "output_type": "stream",
     "text": [
      "Hello, This is Vraj Desai\n"
     ]
    },
    {
     "ename": "ValueError",
     "evalue": "I/O operation on closed file",
     "output_type": "error",
     "traceback": [
      "\u001b[1;31m---------------------------------------------------------------------------\u001b[0m",
      "\u001b[1;31mValueError\u001b[0m                                Traceback (most recent call last)",
      "Cell \u001b[1;32mIn[12], line 10\u001b[0m\n\u001b[0;32m      7\u001b[0m \u001b[38;5;28mprint\u001b[39m(output\u001b[38;5;241m.\u001b[39mgetvalue())\n\u001b[0;32m      8\u001b[0m output\u001b[38;5;241m.\u001b[39mclose()\n\u001b[1;32m---> 10\u001b[0m \u001b[38;5;28mprint\u001b[39m(output\u001b[38;5;241m.\u001b[39mgetvalue())\n",
      "\u001b[1;31mValueError\u001b[0m: I/O operation on closed file"
     ]
    }
   ],
   "source": [
    "# Write a Python program to write a string to a buffer and retrieve the value written, at the end discard buffer memory.\n",
    "\n",
    "import io\n",
    "\n",
    "output = io.StringIO()\n",
    "output.write(\"Hello, This is Vraj Desai\")\n",
    "print(output.getvalue())\n",
    "output.close()\n",
    "\n",
    "print(output.getvalue())\n"
   ]
  }
 ],
 "metadata": {
  "kernelspec": {
   "display_name": "base",
   "language": "python",
   "name": "python3"
  },
  "language_info": {
   "codemirror_mode": {
    "name": "ipython",
    "version": 3
   },
   "file_extension": ".py",
   "mimetype": "text/x-python",
   "name": "python",
   "nbconvert_exporter": "python",
   "pygments_lexer": "ipython3",
   "version": "3.12.7"
  }
 },
 "nbformat": 4,
 "nbformat_minor": 2
}
