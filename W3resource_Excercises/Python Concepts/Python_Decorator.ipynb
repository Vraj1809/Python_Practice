{
 "cells": [
  {
   "cell_type": "code",
   "execution_count": 3,
   "metadata": {},
   "outputs": [
    {
     "name": "stdout",
     "output_type": "stream",
     "text": [
      "1\n",
      "2\n",
      "3\n",
      "4\n",
      "5\n",
      "6\n",
      "7\n",
      "Error!!!!! list index out of range\n"
     ]
    },
    {
     "data": {
      "text/plain": [
       "<function __main__.print_list(list1)>"
      ]
     },
     "execution_count": 3,
     "metadata": {},
     "output_type": "execute_result"
    }
   ],
   "source": [
    "# Write a Python program that implements a decorator to handle exceptions raised by a function and provide a default response.\n",
    " \n",
    "def handle_exception(func):\n",
    "    def inner(list):\n",
    "        try:\n",
    "            func(list)\n",
    "        except IndexError as e:\n",
    "            print(\"Error!!!!!\", e)\n",
    "        except Exception as e:\n",
    "            print(\"Error!!!!!\", e)\n",
    "        \n",
    "        return func\n",
    "    return inner\n",
    "\n",
    "list1 = [1,2,3,4,5,6,7]\n",
    "\n",
    "@handle_exception\n",
    "def print_list(list1):\n",
    "    for i in range(len(list1) + 1):\n",
    "        print(list1[i])\n",
    "        \n",
    "print_list(list1)\n"
   ]
  },
  {
   "cell_type": "code",
   "execution_count": 9,
   "metadata": {},
   "outputs": [
    {
     "name": "stdout",
     "output_type": "stream",
     "text": [
      "Type of Input before decorator: <class 'str'>\n",
      "The data entered is invalid!!! Please Enter Again!!!!\n",
      "Type of Input after decorator:  <class 'str'>\n"
     ]
    }
   ],
   "source": [
    "# Write a Python program that implements a decorator to validate function arguments based on a given condition and to convert the return value of a function to a specified data type.\n",
    "\n",
    "def validate_convert(func):\n",
    "    \n",
    "    def inner(string1):\n",
    "        if string1.isnumeric():\n",
    "            print(\"The Entered is Valid\")\n",
    "            string1 = int(string1)\n",
    "            return func(string1)\n",
    "        else:\n",
    "            print(\"The data entered is invalid!!! Please Enter Again!!!!\")\n",
    "            return func(string1)\n",
    "    return inner\n",
    "\n",
    "string1 = input(\"Enter the only numerical Data...\")\n",
    "print(\"Type of Input before decorator:\", type(string1))\n",
    "\n",
    "@validate_convert\n",
    "def take_input(string1):\n",
    "    print(\"Type of Input after decorator: \",type(string1))\n",
    "    \n",
    "take_input(string1)"
   ]
  }
 ],
 "metadata": {
  "kernelspec": {
   "display_name": "base",
   "language": "python",
   "name": "python3"
  },
  "language_info": {
   "codemirror_mode": {
    "name": "ipython",
    "version": 3
   },
   "file_extension": ".py",
   "mimetype": "text/x-python",
   "name": "python",
   "nbconvert_exporter": "python",
   "pygments_lexer": "ipython3",
   "version": "3.12.7"
  }
 },
 "nbformat": 4,
 "nbformat_minor": 2
}
