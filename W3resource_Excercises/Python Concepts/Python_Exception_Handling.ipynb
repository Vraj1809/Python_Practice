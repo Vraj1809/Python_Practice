{
 "cells": [
  {
   "cell_type": "code",
   "execution_count": 1,
   "metadata": {},
   "outputs": [
    {
     "name": "stdout",
     "output_type": "stream",
     "text": [
      "List does not contain this Attribute\n",
      "'list' object has no attribute 'intersection_update'\n"
     ]
    }
   ],
   "source": [
    "# Write a Python program that executes a list operation and handles an AttributeError exception if the attribute does not exist.\n",
    "\n",
    "def list_intersection(list1, list2):\n",
    "    return list1.intersection_update(list2)\n",
    "\n",
    "list1 = [1,2,3,4,5]\n",
    "list2 = [4,5,6,7,8]\n",
    "\n",
    "try:\n",
    "    list_intersection(list1, list2)\n",
    "except AttributeError as e:\n",
    "    print(\"List does not contain this Attribute\")\n",
    "    print(e)\n",
    "except Exception as e:\n",
    "    print(e)\n",
    " \n"
   ]
  },
  {
   "cell_type": "code",
   "execution_count": 6,
   "metadata": {},
   "outputs": [
    {
     "name": "stdout",
     "output_type": "stream",
     "text": [
      "1\n",
      "2\n",
      "3\n",
      "4\n",
      "45\n",
      "5\n",
      "6\n",
      "67\n",
      "Error!!! list index out of range\n"
     ]
    }
   ],
   "source": [
    "# Write a Python program that executes an operation on a list and handles an IndexError exception if the index is out of range.\n",
    "\n",
    "list1 = [1,2,3,4,45,5,6,67]\n",
    "try:\n",
    "    for i in range(len(list1) + 1):\n",
    "        print(list1[i])\n",
    "except IndexError as e:\n",
    "    print(\"Error!!!\", e)\n",
    "except Exception as e:\n",
    "    print(e)"
   ]
  }
 ],
 "metadata": {
  "kernelspec": {
   "display_name": "base",
   "language": "python",
   "name": "python3"
  },
  "language_info": {
   "codemirror_mode": {
    "name": "ipython",
    "version": 3
   },
   "file_extension": ".py",
   "mimetype": "text/x-python",
   "name": "python",
   "nbconvert_exporter": "python",
   "pygments_lexer": "ipython3",
   "version": "3.12.7"
  }
 },
 "nbformat": 4,
 "nbformat_minor": 2
}
