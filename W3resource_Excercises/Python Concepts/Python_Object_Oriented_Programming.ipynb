{
 "cells": [
  {
   "cell_type": "code",
   "execution_count": 3,
   "metadata": {},
   "outputs": [
    {
     "name": "stdout",
     "output_type": "stream",
     "text": [
      "[1, 2, 3, 4, 5, 6] are added in to the queue\n",
      "The length of the Queue: 6\n",
      "The Queue is:\n",
      "[1, 2, 3, 4, 5, 6]\n",
      "1 is removed from the queue.\n",
      "The length of the Queue: 5\n",
      "The Queue is:\n",
      "[2, 3, 4, 5, 6]\n",
      "10 is added in to the queue\n",
      "The length of the Queue: 6\n",
      "The Queue is:\n",
      "[2, 3, 4, 5, 6, 10]\n"
     ]
    }
   ],
   "source": [
    "# Write a Python program to create a class representing a queue data structure. Include methods for enqueueing and dequeueing elements.\n",
    "\n",
    "class Queue:\n",
    "    \n",
    "    def __init__(self):\n",
    "        self.queue_list = []\n",
    "        \n",
    "    def enqueue(self, items):\n",
    "        if type(items) == type([]):\n",
    "            self.queue_list.extend(items)\n",
    "            print(f\"{items} are added in to the queue\")\n",
    "        else:\n",
    "            self.queue_list.append(items)\n",
    "            print(f\"{items} is added in to the queue\")\n",
    "        \n",
    "    \n",
    "    def dequeue(self):\n",
    "        print(f\"{self.queue_list[0]} is removed from the queue.\")\n",
    "        self.queue_list.pop(0)\n",
    "    \n",
    "    def __str__(self):\n",
    "        return f\"The Queue is:\\n{self.queue_list}\"\n",
    "    \n",
    "    def __len__(self):\n",
    "        return len(self.queue_list)\n",
    "        \n",
    "queue1 = Queue()\n",
    "\n",
    "queue1.enqueue([1,2,3,4,5,6])\n",
    "print(f\"The length of the Queue: {len(queue1)}\")\n",
    "print(queue1)\n",
    "\n",
    "queue1.dequeue()\n",
    "print(f\"The length of the Queue: {len(queue1)}\")\n",
    "print(queue1)\n",
    "\n",
    "queue1.enqueue(10)\n",
    "print(f\"The length of the Queue: {len(queue1)}\")\n",
    "print(queue1)"
   ]
  },
  {
   "cell_type": "code",
   "execution_count": 8,
   "metadata": {},
   "outputs": [
    {
     "name": "stdout",
     "output_type": "stream",
     "text": [
      "[1, 2, 3, 4, 5, 6] are added in to the queue\n",
      "The length of the Stack: 6\n",
      "The Stack is:\n",
      "[1, 2, 3, 4, 5, 6]\n",
      "6 is removed from the queue.\n",
      "The length of the Stack: 5\n",
      "The Stack is:\n",
      "[1, 2, 3, 4, 5]\n",
      "10 is added in to the queue\n",
      "The length of the Stack: 6\n",
      "The Stack is:\n",
      "[1, 2, 3, 4, 5, 10]\n"
     ]
    }
   ],
   "source": [
    "# Write a Python program to create a class representing a stack data structure. Include methods for pushing, popping and displaying elements.\n",
    "class Stack:\n",
    "    \n",
    "    def __init__(self):\n",
    "        self.stack_list = []\n",
    "        \n",
    "    def push(self, items):\n",
    "        if type(items) == type([]):\n",
    "            self.stack_list.extend(items)\n",
    "            print(f\"{items} are added in to the queue\")\n",
    "        else:\n",
    "            self.stack_list.append(items)\n",
    "            print(f\"{items} is added in to the queue\")\n",
    "        \n",
    "    def pop(self):\n",
    "        print(f\"{self.stack_list[-1]} is removed from the queue.\")\n",
    "        self.stack_list.pop(-1)\n",
    "    \n",
    "    def __str__(self):\n",
    "        return f\"The Stack is:\\n{self.stack_list}\"\n",
    "    \n",
    "    def __len__(self):\n",
    "        return len(self.stack_list)\n",
    "        \n",
    "stack1 = Stack()\n",
    "\n",
    "stack1.push([1,2,3,4,5,6])\n",
    "print(f\"The length of the Stack: {len(stack1)}\")\n",
    "print(stack1)\n",
    "\n",
    "stack1.pop()\n",
    "print(f\"The length of the Stack: {len(stack1)}\")\n",
    "print(stack1)\n",
    "\n",
    "stack1.push(10)\n",
    "print(f\"The length of the Stack: {len(stack1)}\")\n",
    "print(stack1)\n"
   ]
  }
 ],
 "metadata": {
  "kernelspec": {
   "display_name": "base",
   "language": "python",
   "name": "python3"
  },
  "language_info": {
   "codemirror_mode": {
    "name": "ipython",
    "version": 3
   },
   "file_extension": ".py",
   "mimetype": "text/x-python",
   "name": "python",
   "nbconvert_exporter": "python",
   "pygments_lexer": "ipython3",
   "version": "3.12.7"
  }
 },
 "nbformat": 4,
 "nbformat_minor": 2
}
