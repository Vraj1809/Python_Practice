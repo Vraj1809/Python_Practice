{
 "cells": [
  {
   "cell_type": "markdown",
   "metadata": {},
   "source": [
    "## Check file existence in a directory"
   ]
  },
  {
   "cell_type": "code",
   "execution_count": 1,
   "metadata": {},
   "outputs": [],
   "source": [
    "# function to check whether the file exists\n",
    "from os import path\n",
    "def file_exist(directory, file_name):\n",
    "    file_location = path.join(directory, file_name)    \n",
    "    return path.exists(file_location)"
   ]
  },
  {
   "cell_type": "code",
   "execution_count": 10,
   "metadata": {},
   "outputs": [
    {
     "name": "stderr",
     "output_type": "stream",
     "text": [
      ".F\n",
      "======================================================================\n",
      "FAIL: test_file_not_exists (__main__.Test_File_Exists.test_file_not_exists)\n",
      "----------------------------------------------------------------------\n",
      "Traceback (most recent call last):\n",
      "  File \"C:\\Users\\VrajDesai\\AppData\\Local\\Temp\\ipykernel_2372\\770807461.py\", line 13, in test_file_not_exists\n",
      "    self.assertTrue(file_exist(directory, file_name))\n",
      "AssertionError: False is not true\n",
      "\n",
      "----------------------------------------------------------------------\n",
      "Ran 2 tests in 0.004s\n",
      "\n",
      "FAILED (failures=1)\n"
     ]
    },
    {
     "data": {
      "text/plain": [
       "<unittest.main.TestProgram at 0x1f736906de0>"
      ]
     },
     "execution_count": 10,
     "metadata": {},
     "output_type": "execute_result"
    }
   ],
   "source": [
    "# Testing the function file_exists using unittest\n",
    "import unittest\n",
    "\n",
    "class Test_File_Exists(unittest.TestCase):\n",
    "    def test_file_exists(self):\n",
    "        directory = 'C://Users//VrajDesai//Desktop//ML_AI_Course//Python_Practice//W3resource_Excercises//Python Control Flow'\n",
    "        file_name = 'Recursion.ipynb'\n",
    "        self.assertTrue(file_exist(directory, file_name))\n",
    "    \n",
    "    def test_file_not_exists(self):\n",
    "        directory = 'C://Users//VrajDesai//Desktop//ML_AI_Course//Python_Practice//W3resource_Excercises//Python Control Flow'\n",
    "        file_name = 'Recursion.pynb'\n",
    "        self.assertTrue(file_exist(directory, file_name))\n",
    "        \n",
    "unittest.main(argv=[''], exit=False)"
   ]
  },
  {
   "cell_type": "markdown",
   "metadata": {},
   "source": [
    "## Write a Python unit test program to check if a function correctly parses and validates input data."
   ]
  },
  {
   "cell_type": "code",
   "execution_count": 13,
   "metadata": {},
   "outputs": [],
   "source": [
    "# function to get the input data\n",
    "\n",
    "def check_input_data(input_data):\n",
    "    if input_data.isnumeric() and int(input_data) > 0:\n",
    "        return True\n",
    "    return False"
   ]
  },
  {
   "cell_type": "code",
   "execution_count": 15,
   "metadata": {},
   "outputs": [
    {
     "name": "stderr",
     "output_type": "stream",
     "text": [
      ".F..\n",
      "======================================================================\n",
      "FAIL: test_file_not_exists (__main__.Test_File_Exists.test_file_not_exists)\n",
      "----------------------------------------------------------------------\n",
      "Traceback (most recent call last):\n",
      "  File \"C:\\Users\\VrajDesai\\AppData\\Local\\Temp\\ipykernel_2372\\770807461.py\", line 13, in test_file_not_exists\n",
      "    self.assertTrue(file_exist(directory, file_name))\n",
      "AssertionError: False is not true\n",
      "\n",
      "----------------------------------------------------------------------\n",
      "Ran 4 tests in 5.032s\n",
      "\n",
      "FAILED (failures=1)\n"
     ]
    },
    {
     "data": {
      "text/plain": [
       "<unittest.main.TestProgram at 0x1f7368df950>"
      ]
     },
     "execution_count": 15,
     "metadata": {},
     "output_type": "execute_result"
    }
   ],
   "source": [
    "# Test Fucntion to check the input_data function\n",
    "\n",
    "import unittest\n",
    "\n",
    "class Test_Input_Data(unittest.TestCase):\n",
    "    \n",
    "    def test_valid_input_data(self):\n",
    "        input_data = input(\"Please Enter only Numbers that are above the Zero\")\n",
    "        self.assertTrue(check_input_data(input_data), \"The input is valid!!!!\")\n",
    "        \n",
    "    def test_invalid_input_data(self):\n",
    "        input_data = input(\"Please Enter only Numbers that are above the Zero\")\n",
    "        self.assertFalse(check_input_data(input_data), \"The input is not valid!, Please Enter again!!!!!!\")\n",
    "        \n",
    "unittest.main(argv=[''], exit = False)"
   ]
  }
 ],
 "metadata": {
  "kernelspec": {
   "display_name": "base",
   "language": "python",
   "name": "python3"
  },
  "language_info": {
   "codemirror_mode": {
    "name": "ipython",
    "version": 3
   },
   "file_extension": ".py",
   "mimetype": "text/x-python",
   "name": "python",
   "nbconvert_exporter": "python",
   "pygments_lexer": "ipython3",
   "version": "3.12.7"
  }
 },
 "nbformat": 4,
 "nbformat_minor": 2
}
