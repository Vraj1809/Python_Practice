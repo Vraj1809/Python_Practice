{
 "cells": [
  {
   "cell_type": "code",
   "execution_count": 16,
   "metadata": {},
   "outputs": [
    {
     "name": "stdout",
     "output_type": "stream",
     "text": [
      "Hello \n",
      "Python Excercises!!! Hello Python Excercises!!! Hello Python Excercises!!! Hello Python Excercises!!! Hello Python Excercises!!! Hello Python Excercises!!! Hello Python Excercises!!! Hello Python Excercises!!! Hello Python Excercises!!! Hello Python Excercises!!! Hello Python Excercises!!! Hello Python Excercises!!! Hello Python Excercises!!! Hello Python Excercises!!! Hello Python Excercises!!! Hello Python Excercises!!! Hello Python Excercises!!! Hello Python Excercises!!! Hello Python Excercises!!! Hello Python Excercises!!! Hello Python Excercises!!! Hello Python Excercises!!! Hello Python Excercises!!! Hello Python Excercises!!! Hello Python Excercises!!! Hello Python Excercises!!! Hello Python Excercises!!! Hello Python Excercises!!! Hello Python Excercises!!! Hello Python Excercises!!! Hello Python Excercises!!! Hello Python Excercises!!! Hello Python Excercises!!! Hello Python Excercises!!! Hello Python Excercises!!! Hello Python Excercises!!! Hello Python Excercises!!! Hello Python Excercises!!! Hello Python Excercises!!! Hello Python Excercises!!! Hello Python Excercises!!! Hello Python Excercises!!! Hello Python Excercises!!! Hello Python Excercises!!! Hello Python Excercises!!! Hello Python Excercises!!! Hello Python Excercises!!! Hello Python Excercises!!! Hello Python Excercises!!! Hello Python Excercises!!! "
     ]
    },
    {
     "data": {
      "text/plain": [
       "[None, None]"
      ]
     },
     "execution_count": 16,
     "metadata": {},
     "output_type": "execute_result"
    }
   ],
   "source": [
    "# Write a Python program that creates an asynchronous function to print \"Python Exercises!\" with a two second delay.\n",
    "import asyncio\n",
    "import time\n",
    "async def print_hello():\n",
    "    # time.sleep(1)\n",
    "    for i in range(50):\n",
    "        print(\"Hello\", end=\" \")\n",
    "        await asyncio.sleep(0.2)\n",
    "    \n",
    "async def print_string():\n",
    "    # time.sleep(1)\n",
    "    print()\n",
    "    for i in range(50):\n",
    "        print(\"Python Excercises!!!\", end=\" \")\n",
    "        await asyncio.sleep(0.2)\n",
    "\n",
    "    \n",
    "await asyncio.gather(\n",
    "    print_hello(),\n",
    "    print_string()\n",
    ")       "
   ]
  },
  {
   "cell_type": "code",
   "execution_count": 14,
   "metadata": {},
   "outputs": [
    {
     "name": "stdout",
     "output_type": "stream",
     "text": [
      "Task-1 started\n",
      "Task-2 started\n",
      "Task-3 started\n",
      "\n",
      "Task-2 completed\n",
      "Task-3 completed\n",
      "Task-1 completed\n",
      "Task completed in:  4.008776300121099\n"
     ]
    }
   ],
   "source": [
    "# Write a Python program that runs multiple asynchronous tasks concurrently using asyncio.gather() and measures the time taken.\n",
    "\n",
    "# using async-await\n",
    "import asyncio\n",
    "import time\n",
    "async def task1():\n",
    "    print(\"Task-1 started\")\n",
    "    await asyncio.sleep(4)\n",
    "    print(\"Task-1 completed\")\n",
    "async def task2():\n",
    "    print(\"Task-2 started\")\n",
    "    await asyncio.sleep(1)\n",
    "    print(\"Task-2 completed\")\n",
    "async def task3():\n",
    "    print(\"Task-3 started\\n\")\n",
    "    await asyncio.sleep(2)\n",
    "    print(\"Task-3 completed\")\n",
    "        \n",
    "start_time = time.perf_counter()\n",
    "await asyncio.gather(\n",
    "    task1(),\n",
    "    task2(),\n",
    "    task3()\n",
    ")\n",
    "\n",
    "end_time = time.perf_counter()\n",
    "print(\"Task completed in: \", end_time - start_time)\n"
   ]
  },
  {
   "cell_type": "code",
   "execution_count": 15,
   "metadata": {},
   "outputs": [
    {
     "name": "stdout",
     "output_type": "stream",
     "text": [
      "Task-1 started\n",
      "Task-1 completed\n",
      "Task-2 started\n",
      "Task-2 completed\n",
      "Task-3 started\n",
      "\n",
      "Task-3 completed\n",
      "Task completed in:  7.003978099906817\n"
     ]
    }
   ],
   "source": [
    "# without async-await to check the elapsed time difference between this and async-await\n",
    "def task1():\n",
    "    print(\"Task-1 started\")\n",
    "    time.sleep(4)\n",
    "    print(\"Task-1 completed\")\n",
    "def task2():\n",
    "    print(\"Task-2 started\")\n",
    "    time.sleep(1)\n",
    "    print(\"Task-2 completed\")\n",
    "def task3():\n",
    "    print(\"Task-3 started\\n\")\n",
    "    time.sleep(2)\n",
    "    print(\"Task-3 completed\")\n",
    "        \n",
    "start_time = time.perf_counter()\n",
    "task1(),\n",
    "task2(),\n",
    "task3()\n",
    "end_time = time.perf_counter()\n",
    "print(\"Task completed in: \", end_time - start_time)"
   ]
  },
  {
   "cell_type": "code",
   "execution_count": null,
   "metadata": {},
   "outputs": [],
   "source": []
  }
 ],
 "metadata": {
  "kernelspec": {
   "display_name": "base",
   "language": "python",
   "name": "python3"
  },
  "language_info": {
   "codemirror_mode": {
    "name": "ipython",
    "version": 3
   },
   "file_extension": ".py",
   "mimetype": "text/x-python",
   "name": "python",
   "nbconvert_exporter": "python",
   "pygments_lexer": "ipython3",
   "version": "3.12.7"
  }
 },
 "nbformat": 4,
 "nbformat_minor": 2
}
