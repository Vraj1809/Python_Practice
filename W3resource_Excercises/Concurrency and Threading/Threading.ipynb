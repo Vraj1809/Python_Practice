{
 "cells": [
  {
   "cell_type": "code",
   "execution_count": 17,
   "metadata": {},
   "outputs": [
    {
     "name": "stdout",
     "output_type": "stream",
     "text": [
      "0 1 4 9 16 25 36 49 64 81 \n",
      "0 1 8 27 64 125 216 343 512 729 \n",
      "Total time:  4.010341200046241\n"
     ]
    }
   ],
   "source": [
    "# Basic Program to print values using loop and calculating how much time it takes\n",
    "import time\n",
    "def square_num(numbers):\n",
    "    for num in numbers:\n",
    "        print(num**2, end=\" \")\n",
    "        time.sleep(0.2)\n",
    "        \n",
    "def cube_num(numbers):\n",
    "    for num in numbers:\n",
    "        print(num**3, end=\" \")\n",
    "        time.sleep(0.2)\n",
    "\n",
    "numbers = [x for x in range(10)]    \n",
    "initial_time = time.perf_counter()       \n",
    "square_num(numbers)\n",
    "print()\n",
    "cube_num(numbers)\n",
    "final_time = time.perf_counter()\n",
    "\n",
    "print(\"\\nTotal time: \", final_time - initial_time)"
   ]
  },
  {
   "cell_type": "code",
   "execution_count": 18,
   "metadata": {},
   "outputs": [
    {
     "name": "stdout",
     "output_type": "stream",
     "text": [
      "0 0 1 1 4 8 9 27 16 64 25 125 36 216 49 343 64 512 81 729 All done\n",
      "\n",
      "Total time:  2.010812799911946\n"
     ]
    }
   ],
   "source": [
    "# using threading to perform the functions simultaneuosly even though having sleep time of 4 seconds\n",
    "import threading\n",
    "import time\n",
    "\n",
    "def square_num(numbers):\n",
    "    for num in numbers:\n",
    "        print(num**2, end=\" \")\n",
    "        time.sleep(0.2)\n",
    "        \n",
    "def cube_num(numbers):\n",
    "    for num in numbers:\n",
    "        print(num**3, end=\" \")\n",
    "        time.sleep(0.2)\n",
    "\n",
    "numbers = [x for x in range(10)]    \n",
    "initial_time = time.perf_counter()       \n",
    "thread1 = threading.Thread(target=square_num, args=(numbers,))\n",
    "thread2 = threading.Thread(target=cube_num, args=(numbers,))\n",
    "\n",
    "thread1.start()\n",
    "thread2.start()\n",
    "\n",
    "thread1.join()\n",
    "thread2.join()\n",
    "# now if we don't use the .join() method here before print then, this print would be implemented while the execution of the functions is going on, what is happening is that while two threads are created for fuunction the main method is sitting idle so if we are specifying join method that implies that the code after would only execute after that thread is completed otherwise won't be executed\n",
    "print(\"All done\")\n",
    "final_time = time.perf_counter()\n",
    "print(\"\\nTotal time: \", final_time - initial_time)"
   ]
  },
  {
   "cell_type": "code",
   "execution_count": null,
   "metadata": {},
   "outputs": [
    {
     "name": "stdout",
     "output_type": "stream",
     "text": [
      "0 0 11  8 4 27 9 64 16 12525  216 36 49 343 64 512 72981  None\n",
      "None\n"
     ]
    }
   ],
   "source": [
    "# ThreadPooolExecutor\n",
    "\n",
    "from concurrent.futures import ThreadPoolExecutor\n",
    "def poolingdemo():\n",
    "    with ThreadPoolExecutor() as executor:\n",
    "        \n",
    "        future1 = executor.submit(square_num, numbers)\n",
    "        future2 = executor.submit(cube_num, numbers)\n",
    "        print(future1.result())\n",
    "        print(future2.result())\n",
    "        \n",
    "poolingdemo()"
   ]
  },
  {
   "cell_type": "code",
   "execution_count": 25,
   "metadata": {},
   "outputs": [
    {
     "name": "stdout",
     "output_type": "stream",
     "text": [
      "Hello Hi Hello Hi Hello Hi Hello Hi Hello Hi Hello Hi Hello Hi Hello Hi Hello Hi Hello Hi "
     ]
    }
   ],
   "source": [
    "# Threading in Class Implementation\n",
    "import time\n",
    "from threading import *\n",
    "\n",
    "class Hello(Thread):\n",
    "    def run(self):\n",
    "        for i in range(10):\n",
    "            print(\"Hello\", end=\" \")\n",
    "            time.sleep(0.2)\n",
    "            \n",
    "class Hi(Thread):\n",
    "    def run(self):\n",
    "        for i in range(10):\n",
    "            print(\"Hi\", end=\" \")\n",
    "            time.sleep(0.2)\n",
    "            \n",
    "hello = Hello()\n",
    "hi = Hi()\n",
    "# since it is inheriting the the Thread class, the Thread class already have run method so if we here use run method it the run method in the class would overwrite the run in the Thread Class\n",
    "hello.start()\n",
    "time.sleep(0.2)\n",
    "hi.start()\n",
    "\n",
    "hello.join()\n",
    "hi.join()"
   ]
  },
  {
   "cell_type": "code",
   "execution_count": 26,
   "metadata": {},
   "outputs": [
    {
     "name": "stdout",
     "output_type": "stream",
     "text": [
      "Current thread name:  Thread-363 (print_thread_names)\n",
      "Current thread name:  Thread-364 (print_thread_names)\n",
      "Current thread name:  Thread-365 (print_thread_names)\n",
      "Current thread name:  Thread-366 (print_thread_names)\n",
      "Current thread name:  Thread-367 (print_thread_names)\n",
      "Current thread name:  Thread-368 (print_thread_names)\n",
      "Current thread name:  Thread-369 (print_thread_names)\n"
     ]
    }
   ],
   "source": [
    "# Write a Python program to create multiple threads and print their names.\n",
    "\n",
    "import threading\n",
    "\n",
    "def print_thread_names():\n",
    "    print(\"Current thread name: \", threading.current_thread().name)\n",
    "    \n",
    "threads = []\n",
    "\n",
    "for i in range(7):\n",
    "    thread = threading.Thread(target = print_thread_names)\n",
    "    threads.append(thread)\n",
    "    thread.start()\n",
    "    \n",
    "for thread in threads:\n",
    "    thread.join()"
   ]
  },
  {
   "cell_type": "code",
   "execution_count": 27,
   "metadata": {},
   "outputs": [
    {
     "name": "stderr",
     "output_type": "stream",
     "text": [
      "<>:11: SyntaxWarning: invalid escape sequence '\\w'\n",
      "<>:12: SyntaxWarning: invalid escape sequence '\\G'\n",
      "<>:13: SyntaxWarning: invalid escape sequence '\\e'\n",
      "<>:11: SyntaxWarning: invalid escape sequence '\\w'\n",
      "<>:12: SyntaxWarning: invalid escape sequence '\\G'\n",
      "<>:13: SyntaxWarning: invalid escape sequence '\\e'\n",
      "C:\\Users\\VrajDesai\\AppData\\Local\\Temp\\ipykernel_5408\\3671099415.py:11: SyntaxWarning: invalid escape sequence '\\w'\n",
      "  {\"url\": \"https://en.wikipedia.org/wiki/British_logistics_in_the_Normandy_campaign\", \"filename\": \"i:\\wfile1\"},\n",
      "C:\\Users\\VrajDesai\\AppData\\Local\\Temp\\ipykernel_5408\\3671099415.py:12: SyntaxWarning: invalid escape sequence '\\G'\n",
      "  {\"url\": \"https://en.wikipedia.org/wiki/Graph_(abstract_data_type)\", \"filename\": \"i:\\Graph_abstract_data_type\"},\n",
      "C:\\Users\\VrajDesai\\AppData\\Local\\Temp\\ipykernel_5408\\3671099415.py:13: SyntaxWarning: invalid escape sequence '\\e'\n",
      "  {\"url\": \"https://example.com/\", \"filename\": \"i:\\example\"}\n"
     ]
    },
    {
     "name": "stdout",
     "output_type": "stream",
     "text": [
      "\n",
      "Downloading i:\\wfile1 from https://en.wikipedia.org/wiki/British_logistics_in_the_Normandy_campaign...\n",
      "\n",
      "Downloading i:\\Graph_abstract_data_type from https://en.wikipedia.org/wiki/Graph_(abstract_data_type)...\n",
      "\n",
      "Downloading i:\\example from https://example.com/...\n"
     ]
    },
    {
     "name": "stderr",
     "output_type": "stream",
     "text": [
      "Exception in thread Thread-442 (download_file):\n",
      "Traceback (most recent call last):\n",
      "  File \"c:\\Users\\VrajDesai\\anaconda3\\Lib\\threading.py\", line 1075, in _bootstrap_inner\n",
      "    self.run()\n",
      "  File \"c:\\Users\\VrajDesai\\anaconda3\\Lib\\threading.py\", line 1012, in run\n",
      "    self._target(*self._args, **self._kwargs)\n",
      "  File \"C:\\Users\\VrajDesai\\AppData\\Local\\Temp\\ipykernel_5408\\3671099415.py\", line 6, in download_file\n",
      "  File \"c:\\Users\\VrajDesai\\anaconda3\\Lib\\urllib\\request.py\", line 250, in urlretrieve\n",
      "    tfp = open(filename, 'wb')\n",
      "          ^^^^^^^^^^^^^^^^^^^^\n",
      "FileNotFoundError: [Errno 2] No such file or directory: 'i:\\\\wfile1'\n",
      "Exception in thread Thread-443 (download_file):\n",
      "Traceback (most recent call last):\n",
      "  File \"c:\\Users\\VrajDesai\\anaconda3\\Lib\\threading.py\", line 1075, in _bootstrap_inner\n",
      "    self.run()\n",
      "  File \"c:\\Users\\VrajDesai\\anaconda3\\Lib\\threading.py\", line 1012, in run\n",
      "    self._target(*self._args, **self._kwargs)\n",
      "  File \"C:\\Users\\VrajDesai\\AppData\\Local\\Temp\\ipykernel_5408\\3671099415.py\", line 6, in download_file\n",
      "  File \"c:\\Users\\VrajDesai\\anaconda3\\Lib\\urllib\\request.py\", line 250, in urlretrieve\n",
      "    tfp = open(filename, 'wb')\n",
      "          ^^^^^^^^^^^^^^^^^^^^\n",
      "FileNotFoundError: [Errno 2] No such file or directory: 'i:\\\\Graph_abstract_data_type'\n",
      "Exception in thread Thread-444 (download_file):\n",
      "Traceback (most recent call last):\n",
      "  File \"c:\\Users\\VrajDesai\\anaconda3\\Lib\\threading.py\", line 1075, in _bootstrap_inner\n",
      "    self.run()\n",
      "  File \"c:\\Users\\VrajDesai\\anaconda3\\Lib\\threading.py\", line 1012, in run\n",
      "    self._target(*self._args, **self._kwargs)\n",
      "  File \"C:\\Users\\VrajDesai\\AppData\\Local\\Temp\\ipykernel_5408\\3671099415.py\", line 6, in download_file\n",
      "  File \"c:\\Users\\VrajDesai\\anaconda3\\Lib\\urllib\\request.py\", line 250, in urlretrieve\n",
      "    tfp = open(filename, 'wb')\n",
      "          ^^^^^^^^^^^^^^^^^^^^\n",
      "FileNotFoundError: [Errno 2] No such file or directory: 'i:\\\\example'\n"
     ]
    }
   ],
   "source": [
    "# Write a Python program to download multiple files concurrently using threads.\n",
    "import threading \n",
    "import urllib.request\n",
    "def download_file(url, filename):\n",
    "    print(f\"\\nDownloading {filename} from {url}...\")\n",
    "    urllib.request.urlretrieve(url, filename)\n",
    "    print(f\"\\n{filename} downloaded successfully.\")\n",
    "\n",
    "# Create a list of files to download\n",
    "files_to_download = [\n",
    "    {\"url\": \"https://en.wikipedia.org/wiki/British_logistics_in_the_Normandy_campaign\", \"filename\": \"i:\\wfile1\"},\n",
    "    {\"url\": \"https://en.wikipedia.org/wiki/Graph_(abstract_data_type)\", \"filename\": \"i:\\Graph_abstract_data_type\"},\n",
    "    {\"url\": \"https://example.com/\", \"filename\": \"i:\\example\"}\n",
    "]\n",
    "\n",
    "threads = []\n",
    "\n",
    "\n",
    "for files in files_to_download:\n",
    "    thread1 = threading.Thread(target = download_file, args=(files['url'], files['filename']))\n",
    "    threads.append(thread1)\n",
    "    thread1.start()\n",
    "    \n",
    "for thread in threads:\n",
    "    thread.join()\n"
   ]
  },
  {
   "cell_type": "code",
   "execution_count": 37,
   "metadata": {},
   "outputs": [
    {
     "name": "stdout",
     "output_type": "stream",
     "text": [
      "31 30 33 32 3435  3637  3839  4041  43 42 45 44 47 46 49 48 None\n",
      "50 None\n",
      "The End!!!\n"
     ]
    }
   ],
   "source": [
    "# Write a Python program that creates two threads to find and print even and odd numbers from 30 to 50.\n",
    "from concurrent.futures import ThreadPoolExecutor\n",
    "import time \n",
    "\n",
    "def print_odd():\n",
    "    for num in range(30,51):\n",
    "        if num % 2 != 0:\n",
    "            print(num, end=\" \")\n",
    "            time.sleep(1)\n",
    "            \n",
    "def print_even():\n",
    "    for num in range(30,51):\n",
    "        if num % 2 == 0:\n",
    "            print(num, end= \" \")\n",
    "            time.sleep(1)\n",
    "            \n",
    "with ThreadPoolExecutor() as executer:\n",
    "    future1 = executer.submit(print_odd)\n",
    "    future2 = executer.submit(print_even)\n",
    "    \n",
    "    print(future1.result())\n",
    "    print(future2.result())\n",
    "    \n",
    "print(\"The End!!!\")"
   ]
  },
  {
   "cell_type": "code",
   "execution_count": 38,
   "metadata": {},
   "outputs": [
    {
     "name": "stdout",
     "output_type": "stream",
     "text": [
      "Request from https://www.python.org : 200\n",
      "Request from https://www.google.com : 200\n",
      "Request from https://www.wikipedia.org : 200\n",
      "Request from https://www.example.com : 200\n"
     ]
    }
   ],
   "source": [
    "# Write a Python program that performs concurrent HTTP requests using threads.\n",
    "\n",
    "import time\n",
    "import threading \n",
    "import requests\n",
    "\n",
    "def make_request(url):\n",
    "    response = requests.get(url)\n",
    "    print(f\"Request from {url} : {response.status_code}\")\n",
    "\n",
    "urls = [\n",
    "    'https://www.example.com',\n",
    "    'https://www.google.com',\n",
    "    'https://www.wikipedia.org',\n",
    "    'https://www.python.org'\n",
    "]\n",
    "\n",
    "threads = []\n",
    "\n",
    "for url in urls:\n",
    "    thread = threading.Thread(target = make_request, args=(url,))\n",
    "    threads.append(thread)\n",
    "    thread.start()\n",
    "    \n",
    "for thread in threads:\n",
    "    thread.join()"
   ]
  }
 ],
 "metadata": {
  "kernelspec": {
   "display_name": "base",
   "language": "python",
   "name": "python3"
  },
  "language_info": {
   "codemirror_mode": {
    "name": "ipython",
    "version": 3
   },
   "file_extension": ".py",
   "mimetype": "text/x-python",
   "name": "python",
   "nbconvert_exporter": "python",
   "pygments_lexer": "ipython3",
   "version": "3.12.7"
  }
 },
 "nbformat": 4,
 "nbformat_minor": 2
}
