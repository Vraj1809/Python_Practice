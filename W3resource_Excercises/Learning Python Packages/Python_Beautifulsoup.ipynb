{
 "cells": [
  {
   "cell_type": "code",
   "execution_count": 1,
   "metadata": {},
   "outputs": [
    {
     "name": "stdout",
     "output_type": "stream",
     "text": [
      "Original markup:\n",
      "<a href=\"https://w3resource.com/\">Python exercises.<i>w3resource.com</i></a>\n",
      "\n",
      "After unwrapping:\n",
      "<a href=\"https://w3resource.com/\">Python exercises.w3resource.com</a>\n"
     ]
    }
   ],
   "source": [
    "# Write a Python program to replace a given tag with whatever's inside a given tag.\n",
    "\n",
    "from bs4 import BeautifulSoup\n",
    "\n",
    "markup = '<a href=\"https://w3resource.com/\">Python exercises.<i>w3resource.com</i></a>'\n",
    "\n",
    "soup = BeautifulSoup(markup, \"lxml\")\n",
    "\n",
    "a_tag = soup.a\n",
    "\n",
    "print(\"Original markup:\")\n",
    "print(a_tag)\n",
    "\n",
    "a_tag.i.unwrap()\n",
    "\n",
    "print(\"\\nAfter unwrapping:\")\n",
    "print(a_tag)"
   ]
  }
 ],
 "metadata": {
  "kernelspec": {
   "display_name": "base",
   "language": "python",
   "name": "python3"
  },
  "language_info": {
   "codemirror_mode": {
    "name": "ipython",
    "version": 3
   },
   "file_extension": ".py",
   "mimetype": "text/x-python",
   "name": "python",
   "nbconvert_exporter": "python",
   "pygments_lexer": "ipython3",
   "version": "3.12.7"
  }
 },
 "nbformat": 4,
 "nbformat_minor": 2
}
