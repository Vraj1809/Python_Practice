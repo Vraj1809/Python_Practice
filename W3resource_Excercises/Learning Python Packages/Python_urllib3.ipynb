{
 "cells": [
  {
   "cell_type": "code",
   "execution_count": 2,
   "metadata": {},
   "outputs": [],
   "source": [
    "import urllib3"
   ]
  },
  {
   "cell_type": "code",
   "execution_count": 3,
   "metadata": {},
   "outputs": [
    {
     "name": "stdout",
     "output_type": "stream",
     "text": [
      "Response Data:\n",
      "{\n",
      "  \"userId\": 1,\n",
      "  \"id\": 1,\n",
      "  \"title\": \"sunt aut facere repellat provident occaecati excepturi optio reprehenderit\",\n",
      "  \"body\": \"quia et suscipit\\nsuscipit recusandae consequuntur expedita et cum\\nreprehenderit molestiae ut ut quas totam\\nnostrum rerum est autem sunt rem eveniet architecto\"\n",
      "}\n"
     ]
    }
   ],
   "source": [
    "# Write a  Python program that performs a simple HTTP GET request to a public  API (e.g., JSONPlaceholder) and prints the response.\n",
    "\n",
    "http = urllib3.PoolManager()\n",
    "\n",
    "api_url = 'https://jsonplaceholder.typicode.com/posts/1'\n",
    "\n",
    "response = http.request('GET', api_url)\n",
    "\n",
    "if response.status == 200:\n",
    "    print(\"Response Data:\")\n",
    "    print(response.data.decode('utf-8'))\n",
    "else:\n",
    "    print(f\"Error: Unable to fetch data. Status Code: {response.status}\")\n"
   ]
  },
  {
   "cell_type": "code",
   "execution_count": 4,
   "metadata": {},
   "outputs": [
    {
     "name": "stdout",
     "output_type": "stream",
     "text": [
      "Response Data:\n",
      "{\n",
      "  \"userId\": 1,\n",
      "  \"id\": 1,\n",
      "  \"title\": \"sunt aut facere repellat provident occaecati excepturi optio reprehenderit\",\n",
      "  \"body\": \"quia et suscipit\\nsuscipit recusandae consequuntur expedita et cum\\nreprehenderit molestiae ut ut quas totam\\nnostrum rerum est autem sunt rem eveniet architecto\"\n",
      "}\n"
     ]
    }
   ],
   "source": [
    "# Write a  Python program that makes a GET request with custom headers, such as  User-Agent and Authorization.\n",
    "\n",
    "http = urllib3.PoolManager()\n",
    "\n",
    "api_url = 'https://jsonplaceholder.typicode.com/posts/1'\n",
    "\n",
    "custom_headers = {\n",
    "    'User-Agent': 'MyCustomUserAgent',\n",
    "    'Authorization': 'Bearer YourAccessTokenHere'\n",
    "}\n",
    "\n",
    "response = http.request('GET', api_url, headers=custom_headers)\n",
    "\n",
    "if response.status == 200:\n",
    "    print(\"Response Data:\")\n",
    "    print(response.data.decode('utf-8'))\n",
    "else:\n",
    "    print(f\"Error: Unable to fetch data. Status Code: {response.status}\")\n"
   ]
  }
 ],
 "metadata": {
  "kernelspec": {
   "display_name": "base",
   "language": "python",
   "name": "python3"
  },
  "language_info": {
   "codemirror_mode": {
    "name": "ipython",
    "version": 3
   },
   "file_extension": ".py",
   "mimetype": "text/x-python",
   "name": "python",
   "nbconvert_exporter": "python",
   "pygments_lexer": "ipython3",
   "version": "3.12.7"
  }
 },
 "nbformat": 4,
 "nbformat_minor": 2
}
