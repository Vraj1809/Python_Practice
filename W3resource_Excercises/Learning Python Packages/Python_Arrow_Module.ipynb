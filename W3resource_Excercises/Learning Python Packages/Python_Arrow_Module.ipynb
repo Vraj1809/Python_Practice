{
 "cells": [
  {
   "cell_type": "code",
   "execution_count": 1,
   "metadata": {},
   "outputs": [
    {
     "name": "stdout",
     "output_type": "stream",
     "text": [
      "Current datetime:\n",
      "2025-01-16T10:33:09.349688+00:00\n",
      "\n",
      "String representing the date, controlled by an explicit format string:\n",
      "16-01-2025 10:33:09\n",
      "2025-01-16 10:33:09\n",
      "2025-16-01 10:33:09\n"
     ]
    }
   ],
   "source": [
    "\n",
    "# Write a Python program to get hourly datetime between two hours.\n",
    "\n",
    "import arrow\n",
    "\n",
    "a = arrow.utcnow()\n",
    "\n",
    "print(\"Current datetime:\")\n",
    "print(a)\n",
    "\n",
    "print(\"\\nString representing the date, controlled by an explicit format string:\")\n",
    "print(arrow.utcnow().strftime('%d-%m-%Y %H:%M:%S'))\n",
    "print(arrow.utcnow().strftime('%Y-%m-%d %H:%M:%S'))\n",
    "print(arrow.utcnow().strftime('%Y-%d-%m %H:%M:%S'))"
   ]
  }
 ],
 "metadata": {
  "kernelspec": {
   "display_name": "base",
   "language": "python",
   "name": "python3"
  },
  "language_info": {
   "codemirror_mode": {
    "name": "ipython",
    "version": 3
   },
   "file_extension": ".py",
   "mimetype": "text/x-python",
   "name": "python",
   "nbconvert_exporter": "python",
   "pygments_lexer": "ipython3",
   "version": "3.12.7"
  }
 },
 "nbformat": 4,
 "nbformat_minor": 2
}
