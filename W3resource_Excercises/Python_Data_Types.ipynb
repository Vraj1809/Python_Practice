{
 "cells": [
  {
   "cell_type": "markdown",
   "metadata": {},
   "source": [
    "# String"
   ]
  },
  {
   "cell_type": "code",
   "execution_count": 2,
   "metadata": {},
   "outputs": [
    {
     "data": {
      "text/plain": [
       "1"
      ]
     },
     "execution_count": 2,
     "metadata": {},
     "output_type": "execute_result"
    }
   ],
   "source": [
    "# Write a Python program that takes two strings. Count the number of times each string contains the same three letters at the same index.\n",
    "# Sample Data:\n",
    "# (\"Red RedGreen\") -> 1\n",
    "# (\"Red White Red White) -> 7\n",
    "# (\"Red White White Red\") -> 0\n",
    "\n",
    "def three_letter_same(string1, string2):\n",
    "    if len(string1) < len(string2):\n",
    "        length = len(string1)\n",
    "    else:\n",
    "        length = len(string2)\n",
    "      \n",
    "    count = 0  \n",
    "    for i in range(length-2):\n",
    "        if string1[i:i+3] == string2[i:i+3]:\n",
    "            count += 1\n",
    "            \n",
    "    return count\n",
    "\n",
    "three_letter_same(\"Red\", \"Red White\")"
   ]
  },
  {
   "cell_type": "code",
   "execution_count": 13,
   "metadata": {},
   "outputs": [
    {
     "data": {
      "text/plain": [
       "'Python  Exercises'"
      ]
     },
     "execution_count": 13,
     "metadata": {},
     "output_type": "execute_result"
    }
   ],
   "source": [
    "# Insert space before capital letters.\n",
    "\n",
    "# Write a Python program to insert space before every capital letter appears in a given word.\n",
    "# Sample Data:\n",
    "# (\"PythonExercises\") -> \"Python Exercises\"\n",
    "# (\"Python\") -> \"Python\"\n",
    "# (\"PythonExercisesPracticeSolution\") -> \"Python Exercises Practice Solution\"\n",
    "\n",
    "def space_before_capital(string1):\n",
    "    \n",
    "    return_string = \"\"\n",
    "    for i in range(0,len(string1)):\n",
    "        if i == 0:\n",
    "            return_string = return_string + string1[i]\n",
    "        elif 'A' <= string1[i] <= 'Z':\n",
    "            return_string = return_string + \" \" + string1[i]\n",
    "        else:\n",
    "            return_string = return_string + string1[i]\n",
    "            \n",
    "    return return_string   \n",
    "\n",
    "space_before_capital(\"Python Exercises\")"
   ]
  },
  {
   "cell_type": "markdown",
   "metadata": {},
   "source": [
    "# JSON"
   ]
  },
  {
   "cell_type": "code",
   "execution_count": 17,
   "metadata": {},
   "outputs": [
    {
     "name": "stdout",
     "output_type": "stream",
     "text": [
      "{'Name': 'Vraj', 'Age': 21, 'Marks': 100}\n"
     ]
    }
   ],
   "source": [
    "# Write a Python program to create a new JSON file from an existing JSON file.\n",
    "import json\n",
    "# creating dictionary and dumping into the json file\n",
    "dict1 = {\"Name\" : \"Vraj\", \"Age\" : 21, \"Marks\" : 100}\n",
    "json_file = open(\"json_file.json\", 'w')\n",
    "json.dump(dict1, json_file)\n",
    "json_file.close()\n",
    "\n",
    "# getting the data from the existing json file\n",
    "exist_file = open(\"json_file.json\", 'r')\n",
    "json_data = json.load(exist_file)\n",
    "print(json_data)\n",
    "exist_file.close()\n",
    "\n",
    "#dumping the json data into another json file\n",
    "another_file = open(\"json_another.json\", 'w')\n",
    "json.dump(json_data, another_file)\n",
    "another_file.close()\n"
   ]
  },
  {
   "cell_type": "markdown",
   "metadata": {},
   "source": [
    "# LIST"
   ]
  },
  {
   "cell_type": "code",
   "execution_count": 25,
   "metadata": {},
   "outputs": [
    {
     "data": {
      "text/plain": [
       "[(),\n",
       " (10,),\n",
       " (20,),\n",
       " (30,),\n",
       " (40,),\n",
       " (50,),\n",
       " (60,),\n",
       " (70,),\n",
       " (80,),\n",
       " (10, 20),\n",
       " (10, 30),\n",
       " (10, 40),\n",
       " (10, 50),\n",
       " (10, 60),\n",
       " (10, 70),\n",
       " (10, 80),\n",
       " (20, 30),\n",
       " (20, 40),\n",
       " (20, 50),\n",
       " (20, 60),\n",
       " (20, 70),\n",
       " (20, 80),\n",
       " (30, 40),\n",
       " (30, 50),\n",
       " (30, 60),\n",
       " (30, 70),\n",
       " (30, 80),\n",
       " (40, 50),\n",
       " (40, 60),\n",
       " (40, 70),\n",
       " (40, 80),\n",
       " (50, 60),\n",
       " (50, 70),\n",
       " (50, 80),\n",
       " (60, 70),\n",
       " (60, 80),\n",
       " (70, 80),\n",
       " (10, 20, 30),\n",
       " (10, 20, 40),\n",
       " (10, 20, 50),\n",
       " (10, 20, 60),\n",
       " (10, 20, 70),\n",
       " (10, 20, 80),\n",
       " (10, 30, 40),\n",
       " (10, 30, 50),\n",
       " (10, 30, 60),\n",
       " (10, 30, 70),\n",
       " (10, 30, 80),\n",
       " (10, 40, 50),\n",
       " (10, 40, 60),\n",
       " (10, 40, 70),\n",
       " (10, 40, 80),\n",
       " (10, 50, 60),\n",
       " (10, 50, 70),\n",
       " (10, 50, 80),\n",
       " (10, 60, 70),\n",
       " (10, 60, 80),\n",
       " (10, 70, 80),\n",
       " (20, 30, 40),\n",
       " (20, 30, 50),\n",
       " (20, 30, 60),\n",
       " (20, 30, 70),\n",
       " (20, 30, 80),\n",
       " (20, 40, 50),\n",
       " (20, 40, 60),\n",
       " (20, 40, 70),\n",
       " (20, 40, 80),\n",
       " (20, 50, 60),\n",
       " (20, 50, 70),\n",
       " (20, 50, 80),\n",
       " (20, 60, 70),\n",
       " (20, 60, 80),\n",
       " (20, 70, 80),\n",
       " (30, 40, 50),\n",
       " (30, 40, 60),\n",
       " (30, 40, 70),\n",
       " (30, 40, 80),\n",
       " (30, 50, 60),\n",
       " (30, 50, 70),\n",
       " (30, 50, 80),\n",
       " (30, 60, 70),\n",
       " (30, 60, 80),\n",
       " (30, 70, 80),\n",
       " (40, 50, 60),\n",
       " (40, 50, 70),\n",
       " (40, 50, 80),\n",
       " (40, 60, 70),\n",
       " (40, 60, 80),\n",
       " (40, 70, 80),\n",
       " (50, 60, 70),\n",
       " (50, 60, 80),\n",
       " (50, 70, 80),\n",
       " (60, 70, 80),\n",
       " (10, 20, 30, 40),\n",
       " (10, 20, 30, 50),\n",
       " (10, 20, 30, 60),\n",
       " (10, 20, 30, 70),\n",
       " (10, 20, 30, 80),\n",
       " (10, 20, 40, 50),\n",
       " (10, 20, 40, 60),\n",
       " (10, 20, 40, 70),\n",
       " (10, 20, 40, 80),\n",
       " (10, 20, 50, 60),\n",
       " (10, 20, 50, 70),\n",
       " (10, 20, 50, 80),\n",
       " (10, 20, 60, 70),\n",
       " (10, 20, 60, 80),\n",
       " (10, 20, 70, 80),\n",
       " (10, 30, 40, 50),\n",
       " (10, 30, 40, 60),\n",
       " (10, 30, 40, 70),\n",
       " (10, 30, 40, 80),\n",
       " (10, 30, 50, 60),\n",
       " (10, 30, 50, 70),\n",
       " (10, 30, 50, 80),\n",
       " (10, 30, 60, 70),\n",
       " (10, 30, 60, 80),\n",
       " (10, 30, 70, 80),\n",
       " (10, 40, 50, 60),\n",
       " (10, 40, 50, 70),\n",
       " (10, 40, 50, 80),\n",
       " (10, 40, 60, 70),\n",
       " (10, 40, 60, 80),\n",
       " (10, 40, 70, 80),\n",
       " (10, 50, 60, 70),\n",
       " (10, 50, 60, 80),\n",
       " (10, 50, 70, 80),\n",
       " (10, 60, 70, 80),\n",
       " (20, 30, 40, 50),\n",
       " (20, 30, 40, 60),\n",
       " (20, 30, 40, 70),\n",
       " (20, 30, 40, 80),\n",
       " (20, 30, 50, 60),\n",
       " (20, 30, 50, 70),\n",
       " (20, 30, 50, 80),\n",
       " (20, 30, 60, 70),\n",
       " (20, 30, 60, 80),\n",
       " (20, 30, 70, 80),\n",
       " (20, 40, 50, 60),\n",
       " (20, 40, 50, 70),\n",
       " (20, 40, 50, 80),\n",
       " (20, 40, 60, 70),\n",
       " (20, 40, 60, 80),\n",
       " (20, 40, 70, 80),\n",
       " (20, 50, 60, 70),\n",
       " (20, 50, 60, 80),\n",
       " (20, 50, 70, 80),\n",
       " (20, 60, 70, 80),\n",
       " (30, 40, 50, 60),\n",
       " (30, 40, 50, 70),\n",
       " (30, 40, 50, 80),\n",
       " (30, 40, 60, 70),\n",
       " (30, 40, 60, 80),\n",
       " (30, 40, 70, 80),\n",
       " (30, 50, 60, 70),\n",
       " (30, 50, 60, 80),\n",
       " (30, 50, 70, 80),\n",
       " (30, 60, 70, 80),\n",
       " (40, 50, 60, 70),\n",
       " (40, 50, 60, 80),\n",
       " (40, 50, 70, 80),\n",
       " (40, 60, 70, 80),\n",
       " (50, 60, 70, 80),\n",
       " (10, 20, 30, 40, 50),\n",
       " (10, 20, 30, 40, 60),\n",
       " (10, 20, 30, 40, 70),\n",
       " (10, 20, 30, 40, 80),\n",
       " (10, 20, 30, 50, 60),\n",
       " (10, 20, 30, 50, 70),\n",
       " (10, 20, 30, 50, 80),\n",
       " (10, 20, 30, 60, 70),\n",
       " (10, 20, 30, 60, 80),\n",
       " (10, 20, 30, 70, 80),\n",
       " (10, 20, 40, 50, 60),\n",
       " (10, 20, 40, 50, 70),\n",
       " (10, 20, 40, 50, 80),\n",
       " (10, 20, 40, 60, 70),\n",
       " (10, 20, 40, 60, 80),\n",
       " (10, 20, 40, 70, 80),\n",
       " (10, 20, 50, 60, 70),\n",
       " (10, 20, 50, 60, 80),\n",
       " (10, 20, 50, 70, 80),\n",
       " (10, 20, 60, 70, 80),\n",
       " (10, 30, 40, 50, 60),\n",
       " (10, 30, 40, 50, 70),\n",
       " (10, 30, 40, 50, 80),\n",
       " (10, 30, 40, 60, 70),\n",
       " (10, 30, 40, 60, 80),\n",
       " (10, 30, 40, 70, 80),\n",
       " (10, 30, 50, 60, 70),\n",
       " (10, 30, 50, 60, 80),\n",
       " (10, 30, 50, 70, 80),\n",
       " (10, 30, 60, 70, 80),\n",
       " (10, 40, 50, 60, 70),\n",
       " (10, 40, 50, 60, 80),\n",
       " (10, 40, 50, 70, 80),\n",
       " (10, 40, 60, 70, 80),\n",
       " (10, 50, 60, 70, 80),\n",
       " (20, 30, 40, 50, 60),\n",
       " (20, 30, 40, 50, 70),\n",
       " (20, 30, 40, 50, 80),\n",
       " (20, 30, 40, 60, 70),\n",
       " (20, 30, 40, 60, 80),\n",
       " (20, 30, 40, 70, 80),\n",
       " (20, 30, 50, 60, 70),\n",
       " (20, 30, 50, 60, 80),\n",
       " (20, 30, 50, 70, 80),\n",
       " (20, 30, 60, 70, 80),\n",
       " (20, 40, 50, 60, 70),\n",
       " (20, 40, 50, 60, 80),\n",
       " (20, 40, 50, 70, 80),\n",
       " (20, 40, 60, 70, 80),\n",
       " (20, 50, 60, 70, 80),\n",
       " (30, 40, 50, 60, 70),\n",
       " (30, 40, 50, 60, 80),\n",
       " (30, 40, 50, 70, 80),\n",
       " (30, 40, 60, 70, 80),\n",
       " (30, 50, 60, 70, 80),\n",
       " (40, 50, 60, 70, 80),\n",
       " (10, 20, 30, 40, 50, 60),\n",
       " (10, 20, 30, 40, 50, 70),\n",
       " (10, 20, 30, 40, 50, 80),\n",
       " (10, 20, 30, 40, 60, 70),\n",
       " (10, 20, 30, 40, 60, 80),\n",
       " (10, 20, 30, 40, 70, 80),\n",
       " (10, 20, 30, 50, 60, 70),\n",
       " (10, 20, 30, 50, 60, 80),\n",
       " (10, 20, 30, 50, 70, 80),\n",
       " (10, 20, 30, 60, 70, 80),\n",
       " (10, 20, 40, 50, 60, 70),\n",
       " (10, 20, 40, 50, 60, 80),\n",
       " (10, 20, 40, 50, 70, 80),\n",
       " (10, 20, 40, 60, 70, 80),\n",
       " (10, 20, 50, 60, 70, 80),\n",
       " (10, 30, 40, 50, 60, 70),\n",
       " (10, 30, 40, 50, 60, 80),\n",
       " (10, 30, 40, 50, 70, 80),\n",
       " (10, 30, 40, 60, 70, 80),\n",
       " (10, 30, 50, 60, 70, 80),\n",
       " (10, 40, 50, 60, 70, 80),\n",
       " (20, 30, 40, 50, 60, 70),\n",
       " (20, 30, 40, 50, 60, 80),\n",
       " (20, 30, 40, 50, 70, 80),\n",
       " (20, 30, 40, 60, 70, 80),\n",
       " (20, 30, 50, 60, 70, 80),\n",
       " (20, 40, 50, 60, 70, 80),\n",
       " (30, 40, 50, 60, 70, 80),\n",
       " (10, 20, 30, 40, 50, 60, 70),\n",
       " (10, 20, 30, 40, 50, 60, 80),\n",
       " (10, 20, 30, 40, 50, 70, 80),\n",
       " (10, 20, 30, 40, 60, 70, 80),\n",
       " (10, 20, 30, 50, 60, 70, 80),\n",
       " (10, 20, 40, 50, 60, 70, 80),\n",
       " (10, 30, 40, 50, 60, 70, 80),\n",
       " (20, 30, 40, 50, 60, 70, 80),\n",
       " (10, 20, 30, 40, 50, 60, 70, 80)]"
      ]
     },
     "execution_count": 25,
     "metadata": {},
     "output_type": "execute_result"
    }
   ],
   "source": [
    "# Generate All Sublists\n",
    "\n",
    "from itertools import combinations\n",
    "\n",
    "def generate_substrings(string1):\n",
    "    \n",
    "    return_list = []\n",
    "    \n",
    "    for i in range(0, len(string1) + 1):\n",
    "        temp_list = [tuple(x) for x in combinations(string1, i)]\n",
    "        return_list.extend(temp_list)\n",
    "    \n",
    "    return return_list\n",
    "    \n",
    "next_list_tuples = generate_substrings([10, 20, 30, 40, 50, 60, 70, 80]) \n",
    "next_list_tuples    \n",
    "        "
   ]
  },
  {
   "cell_type": "code",
   "execution_count": 29,
   "metadata": {},
   "outputs": [
    {
     "data": {
      "text/plain": [
       "[10, 20, 30, 40, 50, 60, 70, 80]"
      ]
     },
     "execution_count": 29,
     "metadata": {},
     "output_type": "execute_result"
    }
   ],
   "source": [
    "# Convert a pair of values into a sorted unique array\n",
    "def unique_array(list1):\n",
    "    \n",
    "    set1 = set({})\n",
    "    for tuples in list1:\n",
    "        for tuple1 in tuples:\n",
    "            set1.add(tuple1)\n",
    "    \n",
    "    return sorted(list(set1))\n",
    "\n",
    "unique_array(next_list_tuples)  "
   ]
  },
  {
   "cell_type": "markdown",
   "metadata": {},
   "source": [
    "# List Advanced"
   ]
  },
  {
   "cell_type": "code",
   "execution_count": 41,
   "metadata": {},
   "outputs": [
    {
     "data": {
      "text/plain": [
       "[-4, -3, -5]"
      ]
     },
     "execution_count": 41,
     "metadata": {},
     "output_type": "execute_result"
    }
   ],
   "source": [
    "# Write a Python a function to find the maximum and minimum sum sub-sequence in a list. Return the maximum value.\n",
    "from itertools import combinations\n",
    "# using Kadane's Algorithm\n",
    "def kadane_max(nums):\n",
    "    maxSum = nums[0]\n",
    "    curSum = 0\n",
    "    for num in nums:\n",
    "        curSum = max(curSum, 0)\n",
    "        curSum += num\n",
    "        maxSum = max(maxSum, curSum) \n",
    "    return maxSum\n",
    "\n",
    "def kadane_min(nums):\n",
    "    minSum = nums[0]\n",
    "    curSum = 0\n",
    "    for num in nums:\n",
    "        curSum = min(curSum, 0)\n",
    "        curSum += num\n",
    "        minSum = min(minSum, curSum) \n",
    "    return minSum\n",
    "\n",
    "def kadane_min_subsequence(lst):\n",
    "    result =[]\n",
    "    final=[]\n",
    "    sum = 0\n",
    "    mini=999999999\n",
    "    for i in lst:\n",
    "        sum+=i \n",
    "        result.append(i)\n",
    "        if sum<mini:\n",
    "            mini = sum\n",
    "            final= result.copy()\n",
    "        if sum>0:\n",
    "            sum=0\n",
    "            result.clear()\n",
    "    return final\n",
    "    \n",
    "kadane_max([1, 2, -4, 3, 5, 4, 6, 9, 2, -10])\n",
    "kadane_min([1, 2, -4, 3, 5, 4, 6, 9, 2, -10])\n",
    "kadane_min_subsequence([1, 2, -4, -3, -5, 4, 6, 9, 2, -10])\n",
    "\n"
   ]
  },
  {
   "cell_type": "markdown",
   "metadata": {},
   "source": [
    "# Dictionary"
   ]
  },
  {
   "cell_type": "code",
   "execution_count": 49,
   "metadata": {},
   "outputs": [
    {
     "data": {
      "text/plain": [
       "{'item1': 1150, 'item2': 300}"
      ]
     },
     "execution_count": 49,
     "metadata": {},
     "output_type": "execute_result"
    }
   ],
   "source": [
    "# Write a Python program to combine values in a list of dictionaries.\n",
    "# Sample data: [{'item': 'item1', 'amount': 400}, {'item': 'item2', 'amount': 300}, {'item': 'item1', 'amount': 750}]\n",
    "# Expected Output: Counter({'item1': 1150, 'item2': 300})\n",
    "item_list = [{'item': 'item1', 'amount': 400}, {'item': 'item2', 'amount': 300}, {'item': 'item1', 'amount': 750}]\n",
    "\n",
    "dict1 = {}\n",
    "for item in item_list:\n",
    "    dict1[item['item']] = 0\n",
    "\n",
    "for item in item_list:\n",
    "    dict1[item['item']] += item['amount']    \n",
    "\n",
    "dict1"
   ]
  },
  {
   "cell_type": "code",
   "execution_count": 62,
   "metadata": {},
   "outputs": [
    {
     "name": "stdout",
     "output_type": "stream",
     "text": [
      "Cierra Vega  is  6.2  and  70\n",
      "Alden Cantrell  is  5.9  and  65\n",
      "Kierra Gentry  is  6.0  and  68\n"
     ]
    }
   ],
   "source": [
    "# Write a Python program to filter the height and width of students, which are stored in a dictionary.\n",
    "# Original Dictionary:\n",
    "# {'Cierra Vega': (6.2, 70), 'Alden Cantrell': (5.9, 65), 'Kierra Gentry': (6.0, 68), 'Pierre Cox': (5.8, 66)}\n",
    "# Height > 6ft and Weight> 70kg:\n",
    "# {'Cierra Vega': (6.2, 70)}\n",
    "\n",
    "student = {'Cierra Vega': (6.2, 70), 'Alden Cantrell': (5.9, 65), 'Kierra Gentry': (6.0, 68), 'Pierre Cox': (5.8, 66)}\n",
    "\n",
    "for name, tuples in student.items():\n",
    "    if tuples[0] > 5.8 and tuples[1] >= 65:\n",
    "        print(name, \" is \" , tuples[0], \" and \", tuples[1])\n",
    "\n"
   ]
  },
  {
   "cell_type": "markdown",
   "metadata": {},
   "source": [
    "# Tuple"
   ]
  },
  {
   "cell_type": "code",
   "execution_count": 77,
   "metadata": {},
   "outputs": [
    {
     "data": {
      "text/plain": [
       "{'x': [1, 2, 3], 'y': [1, 2], 'z': [1]}"
      ]
     },
     "execution_count": 77,
     "metadata": {},
     "output_type": "execute_result"
    }
   ],
   "source": [
    "# Converting a list of tuples into a dictionary\n",
    "l = [(\"x\", 1), (\"x\", 2), (\"x\", 3), (\"y\", 1), (\"y\", 2), (\"z\", 1)]\n",
    "\n",
    "def list_to_dictionary(list1):\n",
    "    dict1 = {}\n",
    "    for tuples in list1:\n",
    "        dict1[tuples[0]] = []\n",
    "    \n",
    "    for tuples in list1:\n",
    "        dict1[tuples[0]].append(tuples[1])  \n",
    "    return dict1\n",
    "list_to_dictionary(l)"
   ]
  },
  {
   "cell_type": "code",
   "execution_count": 80,
   "metadata": {},
   "outputs": [
    {
     "name": "stdout",
     "output_type": "stream",
     "text": [
      "10.5\n",
      "44.0\n",
      "58.0\n",
      "2.5\n"
     ]
    }
   ],
   "source": [
    "tuple1 = ((10, 10, 10, 12), (30, 45, 56, 45), (81, 80, 39, 32), (1, 2, 3, 4))\n",
    "\n",
    "for tuples in tuple1:\n",
    "    print(sum(tuples) / len(tuples))"
   ]
  },
  {
   "cell_type": "markdown",
   "metadata": {},
   "source": [
    "# Set"
   ]
  },
  {
   "cell_type": "code",
   "execution_count": 94,
   "metadata": {},
   "outputs": [
    {
     "data": {
      "text/plain": [
       "{(1, 7, 9), (2, 6, 9), (2, 7, 8), (3, 5, 9), (3, 6, 8), (4, 5, 8), (4, 6, 7)}"
      ]
     },
     "execution_count": 94,
     "metadata": {},
     "output_type": "execute_result"
    }
   ],
   "source": [
    "# Combine three numbers to get the target number\n",
    "\n",
    "list1 = [1, 2, 3, 4, 5, 6, 7, 8, 9]\n",
    "def three_numbers(list1, target):\n",
    "    set1 = set()\n",
    "    \n",
    "    for i in range(len(list1)):\n",
    "        for j in range(i+1, len(list1)):\n",
    "            if(target - list1[i] - list1[j]) in list1[j+1:]:\n",
    "                third = target-list1[i]-list1[j]\n",
    "                tuple1 = tuple(sorted((list1[i],list1[j],third)))\n",
    "                set1.add(tuple1)\n",
    "    \n",
    "    return set1\n",
    "\n",
    "three_numbers(list1, 17)   "
   ]
  },
  {
   "cell_type": "code",
   "execution_count": 124,
   "metadata": {},
   "outputs": [
    {
     "name": "stdout",
     "output_type": "stream",
     "text": [
      "Original list of strings:\n",
      "dict_values([['eat', 'tae'], ['cba', 'abc'], ['xyz']])\n"
     ]
    }
   ],
   "source": [
    "def group_anagrams(strings):\n",
    "    # Create an empty dictionary 'result' to store grouped anagrams.\n",
    "    result = {}\n",
    "    \n",
    "    # Iterate over each string 's' in the input list 'strs'.\n",
    "    for s in strings:\n",
    "        # Sort the characters of the string 's' and join them to create a sorted string.\n",
    "        sorted_string = ''.join(sorted(s))\n",
    "        \n",
    "        # Check if the sorted string exists as a key in 'result'.\n",
    "        if sorted_string in result.keys():\n",
    "            # If it exists, append the original string 's' to the existing list of anagrams.\n",
    "            result[sorted_string].append(s)\n",
    "        else:\n",
    "            # If it doesn't exist, create a new entry with the sorted string as the key and a list containing 's' as the value.\n",
    "            result[sorted_string] = [s]\n",
    "    \n",
    "    # Convert the values of the 'result' dictionary (lists of anagrams) to a list and return it.\n",
    "    return result.values()\n",
    "\n",
    "# Define a list of strings 'strs' for testing.\n",
    "strs = ['eat', 'cba', 'tae', 'abc', 'xyz']\n",
    "print(\"Original list of strings:\")\n",
    "print(group_anagrams(strs))"
   ]
  },
  {
   "cell_type": "markdown",
   "metadata": {},
   "source": [
    "# Collections Module"
   ]
  },
  {
   "cell_type": "code",
   "execution_count": 128,
   "metadata": {},
   "outputs": [
    {
     "name": "stdout",
     "output_type": "stream",
     "text": [
      "False\n"
     ]
    }
   ],
   "source": [
    "# Compare two unordered lists\n",
    "from collections import Counter\n",
    "def compare_lists(list1, list2):\n",
    "    return Counter(list1) == Counter(list2)\n",
    "\n",
    "# Create two lists 'n1' and 'n2' containing integer values\n",
    "n1 = [20, 10, 30, 10, 20, 30, 50]\n",
    "n2 = [30, 20, 10, 30, 20, 50]\n",
    "\n",
    "# Call the 'compare_lists' function with 'n1' and 'n2' as arguments and print the result\n",
    "print(compare_lists(n1, n2)) "
   ]
  },
  {
   "cell_type": "code",
   "execution_count": 140,
   "metadata": {},
   "outputs": [
    {
     "data": {
      "text/plain": [
       "defaultdict(None, {'v': [1, 3], 'vi': [2, 4], 'vii': [1]})"
      ]
     },
     "execution_count": 140,
     "metadata": {},
     "output_type": "execute_result"
    }
   ],
   "source": [
    "# Group a sequence of key-value pairs into a dictionary of lists\n",
    "# Import the defaultdict class from the collections module\n",
    "from collections import defaultdict\n",
    "\n",
    "# Create a list 'class_roll' containing tuples with class names and roll numbers\n",
    "class_roll = [('v', 1), ('vi', 2), ('v', 3), ('vi', 4), ('vii', 1)]\n",
    "\n",
    "d = defaultdict() \n",
    "\n",
    "for k,v in class_roll:\n",
    "    if k in d:\n",
    "        d[k].append(v)\n",
    "    else:\n",
    "        d[k] = [v]    \n",
    "\n",
    "d\n"
   ]
  },
  {
   "cell_type": "markdown",
   "metadata": {},
   "source": [
    "# Array"
   ]
  },
  {
   "cell_type": "code",
   "execution_count": 144,
   "metadata": {},
   "outputs": [
    {
     "name": "stdout",
     "output_type": "stream",
     "text": [
      "Missing number in the said array (1-10): 5\n"
     ]
    }
   ],
   "source": [
    "# Write a  Python program to find the missing number in a given array of numbers between 10 and 20.\n",
    "# Sample Output:\n",
    "# Original array: 10 11 12 13 14 16 17 18 19 20\n",
    "# Missing number in the said array (10-20): 15\n",
    "# Original array: 10 11 12 13 14 15 16 17 18 19\n",
    "# Missing number in the said array (10-20): 20\n",
    "\n",
    "import array as arr\n",
    "num_array = arr.array('i',[1,2,3,4,6,7,8,9,10])\n",
    "\n",
    "def missing_number(num_array):\n",
    "    for i in range(1,11):\n",
    "        if i not in num_array:\n",
    "            print(f\"Missing number in the said array (1-10): {i}\")\n",
    "            break\n",
    "missing_number(num_array)"
   ]
  },
  {
   "cell_type": "code",
   "execution_count": 152,
   "metadata": {},
   "outputs": [
    {
     "name": "stdout",
     "output_type": "stream",
     "text": [
      "1 3 5 7 9 "
     ]
    }
   ],
   "source": [
    "# Write a Python program that removes all duplicate elements from an array and returns a new array.\n",
    "# Sample Output:\n",
    "# Original array: 1 3 5 1 3 7 9\n",
    "# After removing duplicate elements from the said array: 1 3 5 7 9\n",
    "# Original array: 2 4 2 6 4 8\n",
    "# After removing duplicate elements from the said array: 2 4 6 8\n",
    "\n",
    "num_array = arr.array('i',[1,3,5,1,3,7,9])\n",
    "\n",
    "def remove_duplicate(num_array):\n",
    "    set1 = set(num_array)\n",
    "    for num in arr.array('i',set1):\n",
    "        print(num, end=\" \")\n",
    "\n",
    "remove_duplicate(num_array)"
   ]
  },
  {
   "cell_type": "markdown",
   "metadata": {},
   "source": [
    "# ENUM"
   ]
  },
  {
   "cell_type": "code",
   "execution_count": 156,
   "metadata": {},
   "outputs": [
    {
     "name": "stdout",
     "output_type": "stream",
     "text": [
      "Afghanistan - 93\n",
      "Albania - 355\n",
      "Algeria - 213\n",
      "Andorra - 376\n",
      "Angola - 244\n"
     ]
    }
   ],
   "source": [
    "# Write a Python program to get unique enumeration values.\n",
    "# Expected Output:\n",
    "# Afghanistan = 93\n",
    "# Albania = 355\n",
    "# Algeria = 213\n",
    "# Andorra = 376\n",
    "# Angola = 244\n",
    "\n",
    "import enum\n",
    "class Countries(enum.Enum):\n",
    "    Afghanistan = 93\n",
    "    Albania = 355\n",
    "    Algeria = 213\n",
    "    Andorra = 376\n",
    "    Angola = 244\n",
    "    \n",
    "for countries in Countries:\n",
    "    print(f\"{countries.name} - {countries.value}\")"
   ]
  },
  {
   "cell_type": "code",
   "execution_count": 160,
   "metadata": {},
   "outputs": [
    {
     "name": "stdout",
     "output_type": "stream",
     "text": [
      "Antarctica  -  1\n",
      "Afghanistan  -  93\n",
      "Algeria  -  213\n",
      "Angola  -  244\n",
      "Albania  -  355\n",
      "Andorra  -  376\n"
     ]
    }
   ],
   "source": [
    "# Write a Python program to display all the member names of an enum class ordered by their values.\n",
    "# Expected Output:\n",
    "# Country Name ordered by Country Code:\n",
    "# Afghanistan\n",
    "# Algeria\n",
    "# Angola\n",
    "# Albania\n",
    "# Andorra\n",
    "# Antarctica\n",
    "\n",
    "class Countries(enum.IntEnum):\n",
    "    Afghanistan = 93\n",
    "    Algeria = 213\n",
    "    Angola = 244\n",
    "    Albania = 355\n",
    "    Andorra = 376\n",
    "    Antarctica = 1\n",
    "    \n",
    "for country in sorted(Countries):\n",
    "    print(country.name, \" - \", country.value)\n"
   ]
  },
  {
   "cell_type": "code",
   "execution_count": null,
   "metadata": {},
   "outputs": [],
   "source": []
  }
 ],
 "metadata": {
  "kernelspec": {
   "display_name": "base",
   "language": "python",
   "name": "python3"
  },
  "language_info": {
   "codemirror_mode": {
    "name": "ipython",
    "version": 3
   },
   "file_extension": ".py",
   "mimetype": "text/x-python",
   "name": "python",
   "nbconvert_exporter": "python",
   "pygments_lexer": "ipython3",
   "version": "3.12.7"
  }
 },
 "nbformat": 4,
 "nbformat_minor": 2
}
