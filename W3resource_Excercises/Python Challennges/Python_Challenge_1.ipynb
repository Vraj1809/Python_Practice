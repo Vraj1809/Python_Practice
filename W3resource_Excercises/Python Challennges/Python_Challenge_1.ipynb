{
 "cells": [
  {
   "cell_type": "code",
   "execution_count": 8,
   "metadata": {},
   "outputs": [
    {
     "name": "stdout",
     "output_type": "stream",
     "text": [
      "Summation of all Positive Numbers:  9046\n",
      "summation of all Negative Numbers:  -120\n"
     ]
    }
   ],
   "source": [
    "# # Write a Python program to calculate sum of all positive, negative integers present in a given string.\n",
    "# Original string:\n",
    "# -100#^sdfkj8902w3ir021@swf-20\n",
    "# Sum of all positive, negative integers present in the said string:\n",
    "# Positive values: 9046\n",
    "# Negative values: -120\n",
    "\n",
    "import re\n",
    "def getting_num_list(string1):\n",
    "    \n",
    "    pos_pattern = r\"[0-9]+\"\n",
    "    pos_result = re.findall(pos_pattern, string1)\n",
    "    \n",
    "    neg_pattern = r\"-[0-9]+\"\n",
    "    neg_result = re.findall(neg_pattern, string1)\n",
    "    \n",
    "    return pos_result, neg_result\n",
    "\n",
    "string = \"-100#^sdfkj8902w3ir021@swf-20\"\n",
    "pos_result, neg_result = getting_num_list(string)\n",
    "\n",
    "pos_sum = 0\n",
    "for pos_num in pos_result:\n",
    "    pos_sum += int(pos_num)\n",
    " \n",
    "neg_sum = 0   \n",
    "for neg_num in neg_result:\n",
    "    neg_sum += int(neg_num)\n",
    "    \n",
    "print(\"Summation of all Positive Numbers: \", pos_sum)\n",
    "print(\"summation of all Negative Numbers: \", neg_sum)"
   ]
  },
  {
   "cell_type": "code",
   "execution_count": 23,
   "metadata": {},
   "outputs": [
    {
     "data": {
      "text/plain": [
       "['9', '6', '4', '1', '2']"
      ]
     },
     "execution_count": 23,
     "metadata": {},
     "output_type": "execute_result"
    }
   ],
   "source": [
    "# There are two non-empty linked lists where every  node contains non-negative single digit. Write a Python program to reverse and add the numbers of the two linked lists.\n",
    "# Input:\n",
    "# First linked list: 4->3->2 // represents number 234\n",
    "# Second linked list: 7>2->5 // represents number 527\n",
    "# Output: 167\n",
    "# [ 234 + 527 = 761]\n",
    "# Explanation: 234 + 527 = 761\n",
    "\n",
    "class Node:\n",
    "    def __init__(self,data):\n",
    "        self.data = data\n",
    "        self.next = None\n",
    "    \n",
    "class SSL:\n",
    "    def __init__ (self):\n",
    "        self.head = None\n",
    "        \n",
    "    def insertAtLast(self, data):\n",
    "        new_node = Node(data)\n",
    "        if self.head == None:\n",
    "            self.head = new_node\n",
    "            return\n",
    "    \n",
    "        temp_node = self.head\n",
    "        while temp_node.next is not None:\n",
    "            temp_node = temp_node.next\n",
    "        \n",
    "        temp_node.next = new_node\n",
    "        \n",
    "    def reverse_linked_list(self):\n",
    "        \n",
    "        prev_node = None\n",
    "        curr_node = self.head\n",
    "        \n",
    "        while curr_node is not None:\n",
    "            next_node = curr_node.next\n",
    "            curr_node.next = prev_node\n",
    "            prev_node = curr_node\n",
    "            curr_node = next_node\n",
    "            \n",
    "        self.head = prev_node\n",
    "    \n",
    "    def printLL(self):\n",
    "        list_items = []\n",
    "        temp_node = self.head\n",
    "        \n",
    "        while temp_node is not None:\n",
    "            # print(temp_node.data)\n",
    "            list_items.append(temp_node.data)\n",
    "            temp_node = temp_node.next\n",
    "            \n",
    "        return list_items\n",
    "list1 = SSL()\n",
    "list1.insertAtLast(5)\n",
    "list1.insertAtLast(4)\n",
    "list1.insertAtLast(3)\n",
    "list1.insertAtLast(1)\n",
    "list1.insertAtLast(2)\n",
    "\n",
    "list1.reverse_linked_list()\n",
    "number_1 = \"\"\n",
    "for num in list1.printLL():\n",
    "    number_1 = number_1 + str(num)\n",
    "number_1 = int(number_1)\n",
    "\n",
    "list2 = SSL()\n",
    "list2.insertAtLast(4)\n",
    "list2.insertAtLast(2)\n",
    "list2.insertAtLast(1)\n",
    "\n",
    "list2.reverse_linked_list()\n",
    "number_2 = \"\"\n",
    "for num in list2.printLL():\n",
    "    number_2 = number_2 + str(num)\n",
    "number_2 = int(number_2)\n",
    "\n",
    "final_sum = number_1 + number_2\n",
    "\n",
    "result_list = []\n",
    "\n",
    "for num in str(final_sum):\n",
    "    result_list.insert(0, num)\n",
    "    \n",
    "result_list"
   ]
  }
 ],
 "metadata": {
  "kernelspec": {
   "display_name": "base",
   "language": "python",
   "name": "python3"
  },
  "language_info": {
   "codemirror_mode": {
    "name": "ipython",
    "version": 3
   },
   "file_extension": ".py",
   "mimetype": "text/x-python",
   "name": "python",
   "nbconvert_exporter": "python",
   "pygments_lexer": "ipython3",
   "version": "3.12.7"
  }
 },
 "nbformat": 4,
 "nbformat_minor": 2
}
