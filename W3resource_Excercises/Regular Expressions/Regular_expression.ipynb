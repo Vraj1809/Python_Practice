{
 "cells": [
  {
   "cell_type": "code",
   "execution_count": 8,
   "metadata": {},
   "outputs": [
    {
     "name": "stdout",
     "output_type": "stream",
     "text": [
      "\"These exercises can be used for practice.\" follows the pattern\n",
      "\"Following exercises should be removed for practice.\" doesn't follow the pattern\n",
      "\"I use these stories in my classroom.\" follows the pattern\n"
     ]
    }
   ],
   "source": [
    "# Write a Python program that takes a string with some words. For two consecutive words in the said string, check whether the first word ends with a vowel and the next word begins with a vowel. If the program meets the condition, return true, otherwise false. Only one space is allowed between the words.\n",
    "# Sample Data:\n",
    "# (\"These exercises can be used for practice.\") -> True\n",
    "# (\"Following exercises should be removed for practice.\") -> False\n",
    "# (\"I use these stories in my classroom.\") -> True\n",
    "\n",
    "import re\n",
    "def check_string(string1):\n",
    "    return re.findall(r'[AEIOUaeiou]\\s[AEIOUaeiou]', string1)\n",
    "\n",
    "string1 = \"These exercises can be used for practice.\"\n",
    "string2 = \"Following exercises should be removed for practice.\"\n",
    "string3 = \"I use these stories in my classroom.\"\n",
    "\n",
    "if check_string(string1):\n",
    "    print(f'\"{string1}\" follows the pattern')\n",
    "else:\n",
    "    print(f'\"{string1}\" doesn\\'t follow the pattern')\n",
    "if check_string(string2):\n",
    "    print(f'\"{string2}\" follows the pattern')\n",
    "else:\n",
    "    print(f'\"{string2}\" doesn\\'t follow the pattern')\n",
    "if check_string(string3):\n",
    "    print(f'\"{string3}\" follows the pattern')\n",
    "else:\n",
    "    print(f'\"{string3}\" doesn\\'t follow the pattern')"
   ]
  },
  {
   "cell_type": "code",
   "execution_count": 17,
   "metadata": {},
   "outputs": [
    {
     "name": "stdout",
     "output_type": "stream",
     "text": [
      "\"Red Orange White\" follows the pattern\n",
      "\"Red White Black\" doesn't follow the pattern\n",
      "\"abcd dkise eosksu\" follows the pattern\n"
     ]
    }
   ],
   "source": [
    "# Write a Python program that checks whether a word starts and ends with a vowel in a given string. Return true if a word matches the condition; otherwise, return false.\n",
    "\n",
    "import re\n",
    "def check_string(string1):\n",
    "    words = string1.split()\n",
    "    for word in words:\n",
    "        if re.match(r'^[AEIOUaeiou][A-Za-z0-9]+[AEIOUaeiou]$', word):\n",
    "            return True\n",
    "    return False\n",
    "        \n",
    "string1 = \"Red Orange White\"\n",
    "string2 = \"Red White Black\"\n",
    "string3 = \"abcd dkise eosksu\"\n",
    "\n",
    "if check_string(string1):\n",
    "    print(f'\"{string1}\" follows the pattern')\n",
    "else:\n",
    "    print(f'\"{string1}\" doesn\\'t follow the pattern')\n",
    "if check_string(string2):\n",
    "    print(f'\"{string2}\" follows the pattern')\n",
    "else:\n",
    "    print(f'\"{string2}\" doesn\\'t follow the pattern')\n",
    "if check_string(string3):\n",
    "    print(f'\"{string3}\" follows the pattern')\n",
    "else:\n",
    "    print(f'\"{string3}\" doesn\\'t follow the pattern')"
   ]
  },
  {
   "cell_type": "code",
   "execution_count": null,
   "metadata": {},
   "outputs": [],
   "source": []
  }
 ],
 "metadata": {
  "kernelspec": {
   "display_name": "base",
   "language": "python",
   "name": "python3"
  },
  "language_info": {
   "codemirror_mode": {
    "name": "ipython",
    "version": 3
   },
   "file_extension": ".py",
   "mimetype": "text/x-python",
   "name": "python",
   "nbconvert_exporter": "python",
   "pygments_lexer": "ipython3",
   "version": "3.12.7"
  }
 },
 "nbformat": 4,
 "nbformat_minor": 2
}
