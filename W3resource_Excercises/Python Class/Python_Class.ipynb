{
 "cells": [
  {
   "cell_type": "markdown",
   "metadata": {},
   "source": [
    "# Basic Excercise"
   ]
  },
  {
   "cell_type": "code",
   "execution_count": 11,
   "metadata": {},
   "outputs": [
    {
     "name": "stdout",
     "output_type": "stream",
     "text": [
      "32\n",
      "Vraj\n",
      "Student id:  32\n",
      "Student name:  Vraj\n",
      "Student class:  Not Given\n",
      "Student id:  32\n",
      "Student name:  Vraj\n",
      "Student class:  A\n"
     ]
    }
   ],
   "source": [
    "# Write a Python class named Student with two attributes: student_id, student_name. Add a new attribute: student_class. Create a function to display all attributes and their values in the Student class.\n",
    "\n",
    "class Student:\n",
    "    def __init__(self,student_id, student_name, student_class = \"Not Given\"):\n",
    "        self.student_id = student_id\n",
    "        self.student_name = student_name\n",
    "        self.student_class = student_class\n",
    "    \n",
    "    def display (self):\n",
    "        print(\"Student id: \", self.student_id)\n",
    "        print(\"Student name: \", self.student_name)\n",
    "        print(\"Student class: \", self.student_class)\n",
    "        \n",
    "s1 = Student(\"32\", \"Vraj\")\n",
    "\n",
    "print(s1.student_id)\n",
    "print(s1.student_name)\n",
    "s1.display()\n",
    "\n",
    "s1.student_class = 'A'\n",
    "s1.display()"
   ]
  },
  {
   "cell_type": "code",
   "execution_count": 12,
   "metadata": {},
   "outputs": [
    {
     "name": "stdout",
     "output_type": "stream",
     "text": [
      "32\n",
      "A\n",
      "Student id:  32\n"
     ]
    },
    {
     "ename": "AttributeError",
     "evalue": "'Student' object has no attribute 'student_name'",
     "output_type": "error",
     "traceback": [
      "\u001b[1;31m---------------------------------------------------------------------------\u001b[0m",
      "\u001b[1;31mAttributeError\u001b[0m                            Traceback (most recent call last)",
      "Cell \u001b[1;32mIn[12], line 7\u001b[0m\n\u001b[0;32m      5\u001b[0m \u001b[38;5;28mprint\u001b[39m(s1\u001b[38;5;241m.\u001b[39mstudent_id)\n\u001b[0;32m      6\u001b[0m \u001b[38;5;28mprint\u001b[39m(s1\u001b[38;5;241m.\u001b[39mstudent_class)\n\u001b[1;32m----> 7\u001b[0m s1\u001b[38;5;241m.\u001b[39mdisplay()\n",
      "Cell \u001b[1;32mIn[11], line 11\u001b[0m, in \u001b[0;36mStudent.display\u001b[1;34m(self)\u001b[0m\n\u001b[0;32m      9\u001b[0m \u001b[38;5;28;01mdef\u001b[39;00m \u001b[38;5;21mdisplay\u001b[39m (\u001b[38;5;28mself\u001b[39m):\n\u001b[0;32m     10\u001b[0m     \u001b[38;5;28mprint\u001b[39m(\u001b[38;5;124m\"\u001b[39m\u001b[38;5;124mStudent id: \u001b[39m\u001b[38;5;124m\"\u001b[39m, \u001b[38;5;28mself\u001b[39m\u001b[38;5;241m.\u001b[39mstudent_id)\n\u001b[1;32m---> 11\u001b[0m     \u001b[38;5;28mprint\u001b[39m(\u001b[38;5;124m\"\u001b[39m\u001b[38;5;124mStudent name: \u001b[39m\u001b[38;5;124m\"\u001b[39m, \u001b[38;5;28mself\u001b[39m\u001b[38;5;241m.\u001b[39mstudent_name)\n\u001b[0;32m     12\u001b[0m     \u001b[38;5;28mprint\u001b[39m(\u001b[38;5;124m\"\u001b[39m\u001b[38;5;124mStudent class: \u001b[39m\u001b[38;5;124m\"\u001b[39m, \u001b[38;5;28mself\u001b[39m\u001b[38;5;241m.\u001b[39mstudent_class)\n",
      "\u001b[1;31mAttributeError\u001b[0m: 'Student' object has no attribute 'student_name'"
     ]
    }
   ],
   "source": [
    "# Now remove the student_name attribute and display the entire attribute with values.\n",
    "\n",
    "del s1.student_name\n",
    "\n",
    "print(s1.student_id)\n",
    "print(s1.student_class)\n",
    "s1.display()\n"
   ]
  },
  {
   "cell_type": "markdown",
   "metadata": {},
   "source": [
    "# Basic Application"
   ]
  },
  {
   "cell_type": "code",
   "execution_count": 13,
   "metadata": {},
   "outputs": [
    {
     "name": "stdout",
     "output_type": "stream",
     "text": [
      "The String in Upper Case: VRAJ VIPUL SHARADBHAI DESAI\n"
     ]
    }
   ],
   "source": [
    "# Write a Python class that has two methods: get_String and print_String , get_String accept a string from the user and print_String prints the string in upper case.\n",
    "class PrintString:\n",
    "    def get_String(self):\n",
    "        string = input(\"User, Please Enter the String: \")\n",
    "        self.string = string\n",
    "    \n",
    "    def put_String(self):\n",
    "        print(f\"The String in Upper Case: {self.string.upper()}\")\n",
    "        \n",
    "ps = PrintString()\n",
    "\n",
    "ps.get_String()\n",
    "ps.put_String()"
   ]
  },
  {
   "cell_type": "markdown",
   "metadata": {},
   "source": [
    "# Real Life Problems"
   ]
  },
  {
   "cell_type": "code",
   "execution_count": 18,
   "metadata": {},
   "outputs": [
    {
     "name": "stdout",
     "output_type": "stream",
     "text": [
      "Account Holder Name: Vraj Vipul Desai\n",
      "        Account Number: AC12345AC\n",
      "        Bank Account Opening Date: 2025-01-07\n",
      "        Balance: 1000000000\n",
      "10000 is deposited in the account.\n",
      "Your balance currentlly is: 1000010000\n",
      "30000 is withdrawn from the account.\n",
      "Your balance currentlly is: 999980000\n"
     ]
    }
   ],
   "source": [
    "# Write a  Python class BankAccount with attributes like account_number, balance, date_of_opening and customer_name, and methods like deposit, withdraw, and check_balance.\n",
    "import datetime\n",
    "class BankAccount:\n",
    "    def __init__(self,account_number, balance, date_of_opening, customer_name):\n",
    "        self.account_number = account_number\n",
    "        self.balance = balance\n",
    "        self.date_of_opening = date_of_opening\n",
    "        self.customer_name = customer_name\n",
    "    \n",
    "    def deposit(self,amount):\n",
    "        self.balance = self.balance + amount\n",
    "        print(f\"{amount} is deposited in the account.\")\n",
    "        self.check_balance()\n",
    "        \n",
    "    def withdraw(self,amount):\n",
    "        self.balance = self.balance - amount\n",
    "        print(f\"{amount} is withdrawn from the account.\")\n",
    "        self.check_balance()\n",
    "        \n",
    "    def check_balance(self):\n",
    "        print(f\"Your balance currentlly is: {self.balance}\")\n",
    "    \n",
    "    def __str__(self):\n",
    "        return f\"Account Holder Name: {self.customer_name}\\n\\\n",
    "        Account Number: {self.account_number}\\n\\\n",
    "        Bank Account Opening Date: {self.date_of_opening}\\n\\\n",
    "        Balance: {self.balance}\"\n",
    "        \n",
    "customer1 = BankAccount(\"AC12345AC\", 1000000000, datetime.date.today(), \"Vraj Vipul Desai\")\n",
    "\n",
    "print(customer1)\n",
    "\n",
    "customer1.deposit(10000)\n",
    "\n",
    "customer1.withdraw(30000)"
   ]
  },
  {
   "cell_type": "code",
   "execution_count": 4,
   "metadata": {},
   "outputs": [
    {
     "name": "stdout",
     "output_type": "stream",
     "text": [
      "Item Id: ['Table', 10, 100]\n",
      "Item Name Table\n",
      "Item Stock: 10\n",
      "Item Price: 100\n",
      "Item Id: ['TABLE', 100, 1000]\n",
      "Item Name TABLE\n",
      "Item Stock: 100\n",
      "Item Price: 1000\n"
     ]
    }
   ],
   "source": [
    "# Write a Python class Inventory with attributes like item_id, item_name, stock_count, and price, and methods like add_item, update_item, and check_item_details.\n",
    "# Use a dictionary to store the item details, where the key is the item_id and the value is a dictionary containing the item_name, stock_count, and price.\n",
    "\n",
    "class Inventory:\n",
    "    def __init__(self):\n",
    "        self.Item_dict = {}\n",
    "        \n",
    "    def add_item(self, item_id, item_name, stock_count, price):\n",
    "        self.Item_dict[item_id] = [item_name, stock_count, price]\n",
    "        \n",
    "    def update_item(self, item_id, item_name, stock_count, price):\n",
    "        if item_id in self.Item_dict:\n",
    "            self.Item_dict[item_id][0] = item_name\n",
    "            self.Item_dict[item_id][1] = stock_count\n",
    "            self.Item_dict[item_id][2] = price\n",
    "        else:\n",
    "            print(\"Item not found in the Inventory\")\n",
    "            \n",
    "    def check_item_details(self, item_id):\n",
    "        if item_id in self.Item_dict:\n",
    "            print(f\"Item Id: {self.Item_dict[item_id]}\")\n",
    "            print(f\"Item Name {self.Item_dict[item_id][0]}\")\n",
    "            print(f\"Item Stock: {self.Item_dict[item_id][1]}\")\n",
    "            print(f\"Item Price: {self.Item_dict[item_id][2]}\")\n",
    "        \n",
    "i1 = Inventory()\n",
    "\n",
    "i1.add_item(1, \"Table\", 10, 100)\n",
    "i1.check_item_details(1)\n",
    "\n",
    "i1.update_item(1, \"TABLE\", 100, 1000)\n",
    "i1.check_item_details(1)\n",
    "    "
   ]
  }
 ],
 "metadata": {
  "kernelspec": {
   "display_name": "base",
   "language": "python",
   "name": "python3"
  },
  "language_info": {
   "codemirror_mode": {
    "name": "ipython",
    "version": 3
   },
   "file_extension": ".py",
   "mimetype": "text/x-python",
   "name": "python",
   "nbconvert_exporter": "python",
   "pygments_lexer": "ipython3",
   "version": "3.12.7"
  }
 },
 "nbformat": 4,
 "nbformat_minor": 2
}
