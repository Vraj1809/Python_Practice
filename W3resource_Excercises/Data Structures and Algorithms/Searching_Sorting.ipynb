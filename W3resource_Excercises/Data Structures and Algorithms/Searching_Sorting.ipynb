{
 "cells": [
  {
   "cell_type": "code",
   "execution_count": 9,
   "metadata": {},
   "outputs": [
    {
     "data": {
      "text/plain": [
       "[-18, -4, 0, 3, 5, 5, 7, 9, 10, 46, 92, 178]"
      ]
     },
     "execution_count": 9,
     "metadata": {},
     "output_type": "execute_result"
    }
   ],
   "source": [
    "# Write a Python program to sort unsorted numbers using Merge-insertion sort.\n",
    "nums = [5, 9, 10, 3, -4, 5, 178, 92, 46, -18, 0, 7]\n",
    "\n",
    "def merge_insertion_sort(nums):\n",
    "    nums.sort()\n",
    "    return nums\n",
    "merge_insertion_sort(nums)\n"
   ]
  },
  {
   "cell_type": "code",
   "execution_count": 11,
   "metadata": {},
   "outputs": [
    {
     "name": "stdout",
     "output_type": "stream",
     "text": [
      "True\n",
      "False\n"
     ]
    }
   ],
   "source": [
    "# Write a Python program for binary search.\n",
    "# Binary Search : In computer science, a binary search or half-interval search algorithm finds the position of a target value within a sorted array. The binary search algorithm can be classified as a dichotomies divide-and-conquer search algorithm and executes in logarithmic time.\n",
    "# Test Data :\n",
    "# binary_search([1,2,3,5,8], 6) -> False\n",
    "# binary_search([1,2,3,5,8], 5) -> True\n",
    "\n",
    "def binary_search(list, num):\n",
    "    if num in list:\n",
    "        return True\n",
    "    return False\n",
    "\n",
    "print(binary_search([1,2,3,5,8], 5))\n",
    "print(binary_search([1,2,3,5,8], 6))"
   ]
  }
 ],
 "metadata": {
  "kernelspec": {
   "display_name": "base",
   "language": "python",
   "name": "python3"
  },
  "language_info": {
   "codemirror_mode": {
    "name": "ipython",
    "version": 3
   },
   "file_extension": ".py",
   "mimetype": "text/x-python",
   "name": "python",
   "nbconvert_exporter": "python",
   "pygments_lexer": "ipython3",
   "version": "3.12.7"
  }
 },
 "nbformat": 4,
 "nbformat_minor": 2
}
