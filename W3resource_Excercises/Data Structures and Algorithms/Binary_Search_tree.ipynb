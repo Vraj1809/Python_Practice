{
 "cells": [
  {
   "cell_type": "code",
   "execution_count": 2,
   "metadata": {},
   "outputs": [
    {
     "name": "stdout",
     "output_type": "stream",
     "text": [
      "4\n",
      "2\n",
      "1\n",
      "3\n",
      "6\n",
      "5\n",
      "7\n"
     ]
    }
   ],
   "source": [
    "# Write a Python program to create a Balanced Binary Search Tree (BST) using an array of elements where array elements are sorted in ascending order.\n",
    "\n",
    "class TreeNode(object):\n",
    "    def __init__(self, x):\n",
    "        self.val = x\n",
    "        self.left = None\n",
    "        self.right = None\n",
    "\n",
    "def sorted_array_to_bst(nums):\n",
    "    \n",
    "        if not nums:\n",
    "            return None\n",
    "        \n",
    "        mid_val = len(nums)//2\n",
    "        node = TreeNode(nums[mid_val])\n",
    "        node.left = sorted_array_to_bst(nums[:mid_val])\n",
    "        node.right = sorted_array_to_bst(nums[mid_val+1:])\n",
    "        return node\n",
    "\n",
    "def preOrder(node): \n",
    "        if not node: \n",
    "            return      \n",
    "        print(node.val)\n",
    "        preOrder(node.left) \n",
    "        preOrder(node.right)   \n",
    "    \n",
    "result = sorted_array_to_bst([1, 2, 3, 4, 5, 6, 7])\n",
    "preOrder(result)\n"
   ]
  }
 ],
 "metadata": {
  "kernelspec": {
   "display_name": "base",
   "language": "python",
   "name": "python3"
  },
  "language_info": {
   "codemirror_mode": {
    "name": "ipython",
    "version": 3
   },
   "file_extension": ".py",
   "mimetype": "text/x-python",
   "name": "python",
   "nbconvert_exporter": "python",
   "pygments_lexer": "ipython3",
   "version": "3.12.7"
  }
 },
 "nbformat": 4,
 "nbformat_minor": 2
}
