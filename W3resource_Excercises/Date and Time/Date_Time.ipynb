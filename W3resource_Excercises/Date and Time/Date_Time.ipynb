{
 "cells": [
  {
   "cell_type": "code",
   "execution_count": 4,
   "metadata": {},
   "outputs": [
    {
     "name": "stdout",
     "output_type": "stream",
     "text": [
      "time.struct_time(tm_year=2020, tm_mon=1, tm_mday=22, tm_hour=0, tm_min=0, tm_sec=0, tm_wday=2, tm_yday=22, tm_isdst=-1)\n",
      "time.struct_time(tm_year=2000, tm_mon=11, tm_mday=30, tm_hour=0, tm_min=0, tm_sec=0, tm_wday=3, tm_yday=335, tm_isdst=-1)\n",
      "time.struct_time(tm_year=2015, tm_mon=11, tm_mday=4, tm_hour=11, tm_min=55, tm_sec=23, tm_wday=2, tm_yday=308, tm_isdst=-1)\n",
      "time.struct_time(tm_year=2019, tm_mon=11, tm_mday=12, tm_hour=0, tm_min=0, tm_sec=0, tm_wday=1, tm_yday=316, tm_isdst=-1)\n",
      "time.struct_time(tm_year=1900, tm_mon=1, tm_mday=1, tm_hour=13, tm_min=55, tm_sec=26, tm_wday=0, tm_yday=1, tm_isdst=-1)\n"
     ]
    }
   ],
   "source": [
    "# Parse the following strings representing time and returns the structure time\n",
    "# time_string = \"22 January, 2020\"\n",
    "# time_string = \"30 Nov 00\"\n",
    "# time_string = '04/11/15 11:55:23'\n",
    "# time_string = '12-11-2019'\n",
    "# time_string = '13::55::26'\n",
    "\n",
    "# from datetime import datetime --> for dates\n",
    "import time # for time\n",
    "\n",
    "\n",
    "# Formatting tips\n",
    "    # date -> %d\n",
    "    # month (short form) -> %b\n",
    "    # month (long form) -> %B\n",
    "    # year (short form) -> %y\n",
    "    # year (long form) -> %Y\n",
    "    # hour -> %H\n",
    "    # minute -> %M\n",
    "    # second -> %S\n",
    "    # day(full form) -> %A\n",
    "    # day(short form) -> %a \n",
    "    \n",
    "time_string = \"22 January, 2020\"\n",
    "result_time = time.strptime(time_string, \"%d %B, %Y\")\n",
    "print(result_time)\n",
    "\n",
    "time_string = \"30 Nov 00\"\n",
    "result_time = time.strptime(time_string, \"%d %b %y\")\n",
    "print(result_time)\n",
    "\n",
    "time_string = '04/11/15 11:55:23'\n",
    "result_time = time.strptime(time_string, \"%d/%m/%y %H:%M:%S\")\n",
    "print(result_time)\n",
    "\n",
    "time_string = '12-11-2019'\n",
    "result_time = time.strptime(time_string, \"%d-%m-%Y\")\n",
    "print(result_time)\n",
    "\n",
    "time_string = '13::55::26'\n",
    "result_time = time.strptime(time_string, \"%H::%M::%S\")\n",
    "print(result_time)\n"
   ]
  },
  {
   "cell_type": "code",
   "execution_count": 8,
   "metadata": {},
   "outputs": [
    {
     "data": {
      "text/plain": [
       "'Fri Sep 18 12:12:12 2025'"
      ]
     },
     "execution_count": 8,
     "metadata": {},
     "output_type": "execute_result"
    }
   ],
   "source": [
    "# A tuple containing 9 elements corresponding to structure time as an argument and returns a string representing it\n",
    "\n",
    "import time\n",
    "\n",
    "#   a tuple 't' representing a specific time: (year, month, day, hour, minute, second, day of the week, day of the year, daylight saving time)\n",
    "t = (2025, 9, 18, 12, 12, 12, 4, 260, 1)\n",
    "\n",
    "result = time.asctime(t)\n",
    "\n",
    "result"
   ]
  }
 ],
 "metadata": {
  "kernelspec": {
   "display_name": "base",
   "language": "python",
   "name": "python3"
  },
  "language_info": {
   "codemirror_mode": {
    "name": "ipython",
    "version": 3
   },
   "file_extension": ".py",
   "mimetype": "text/x-python",
   "name": "python",
   "nbconvert_exporter": "python",
   "pygments_lexer": "ipython3",
   "version": "3.12.7"
  }
 },
 "nbformat": 4,
 "nbformat_minor": 2
}
