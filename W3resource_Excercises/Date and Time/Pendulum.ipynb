{
 "cells": [
  {
   "cell_type": "code",
   "execution_count": 2,
   "metadata": {},
   "outputs": [
    {
     "name": "stdout",
     "output_type": "stream",
     "text": [
      "2025-01-08 14:57:38.617823+05:30\n",
      "2025-01-09 14:57:38.617823+05:30\n",
      "2025-01-08 13:57:38.617823+05:30\n"
     ]
    }
   ],
   "source": [
    "import pendulum\n",
    "# Current Date and Time\n",
    "current_date_time = pendulum.now()\n",
    "print(current_date_time)\n",
    "\n",
    "# Manipulate Date annd time\n",
    "one_day_ahead = current_date_time.add(days = 1)\n",
    "print(one_day_ahead)\n",
    "one_hour_back = current_date_time.subtract(hours = 1)\n",
    "print(one_hour_back)\n"
   ]
  },
  {
   "cell_type": "code",
   "execution_count": 3,
   "metadata": {},
   "outputs": [
    {
     "data": {
      "text/plain": [
       "'08-01 04-01'"
      ]
     },
     "execution_count": 3,
     "metadata": {},
     "output_type": "execute_result"
    }
   ],
   "source": [
    "# Date Formatting\n",
    "formatted_date = current_date_time.format(\"DD-MM-YY\")\n",
    "formatted_date\n",
    "\n",
    "# changing time zone\n",
    "american_time = pendulum.now('America/New_York')\n",
    "american_time.format(\"DD-MM HH-MM\")"
   ]
  },
  {
   "cell_type": "code",
   "execution_count": 4,
   "metadata": {},
   "outputs": [
    {
     "name": "stdout",
     "output_type": "stream",
     "text": [
      "2018-03-15 00:00:00+00:00\n",
      "2018-04-20 00:00:00+00:00\n",
      "36 Days Difference\n",
      "1 Months difference\n",
      "1 month after\n"
     ]
    }
   ],
   "source": [
    "# parsing the string dates to the pendulums dates\n",
    "date_str1 = \"2018-03-15\"\n",
    "date_str2 = \"2018-04-20\"\n",
    "\n",
    "date1 = pendulum.parse(date_str1)\n",
    "date2 = pendulum.parse(date_str2)\n",
    "\n",
    "print(date1)\n",
    "print(date2)\n",
    "\n",
    "# Difference in dates\n",
    "diff_days = date1.diff(date2).in_days()\n",
    "print(diff_days, \"Days Difference\")\n",
    "diff_month = date1.diff(date2).in_months()\n",
    "print(diff_month, \"Months difference\")\n",
    "\n",
    "# human readable difference\n",
    "diff_human_understand = date2.diff_for_humans(date1)\n",
    "print(diff_human_understand)"
   ]
  },
  {
   "cell_type": "code",
   "execution_count": 5,
   "metadata": {},
   "outputs": [
    {
     "name": "stdout",
     "output_type": "stream",
     "text": [
      "1 Days\n",
      "1 day after\n"
     ]
    }
   ],
   "source": [
    "# Write a Python program to calculate and print the travel time between two given dates and times them using Pendulum module.\n",
    "\n",
    "start_datetime_str = \"2023-06-01 12:30:00\"\n",
    "end_datetime_str = \"2023-06-02 15:45:00\"\n",
    "\n",
    "start_datetime = pendulum.parse(start_datetime_str)\n",
    "end_datetime = pendulum.parse(end_datetime_str)\n",
    "\n",
    "diff_normal = end_datetime.diff(start_datetime).in_days()\n",
    "print(diff_normal, \"Days\")\n",
    "\n",
    "diff_human_understand = end_datetime.diff_for_humans(start_datetime)\n",
    "print(diff_human_understand)"
   ]
  },
  {
   "cell_type": "code",
   "execution_count": 11,
   "metadata": {},
   "outputs": [
    {
     "name": "stdout",
     "output_type": "stream",
     "text": [
      "10 seconds remaining.......\n",
      "8 seconds remaining.......\n",
      "7 seconds remaining.......\n",
      "6 seconds remaining.......\n",
      "5 seconds remaining.......\n",
      "4 seconds remaining.......\n",
      "3 seconds remaining.......\n",
      "2 seconds remaining.......\n",
      "1 seconds remaining.......\n",
      "Times Up!!!!!!!!\n"
     ]
    }
   ],
   "source": [
    "# Write a Python program that creates a countdown timer that prints the remaining time in seconds every second until reaching zero using Pendulum module.\n",
    "import time\n",
    "def countdown(end_datetime):\n",
    "    current_time = pendulum.now('local')\n",
    "    \n",
    "    remaining_time = end_datetime.diff(current_time).in_seconds()\n",
    "    \n",
    "    while remaining_time > 0:\n",
    "        print(f\"{remaining_time} seconds remaining.......\")\n",
    "        time.sleep(1)\n",
    "        \n",
    "        current_time = pendulum.now('local')\n",
    "        remaining_time = end_datetime.diff(current_time).in_seconds()\n",
    "        \n",
    "    print(\"Times Up!!!!!!!!\")        \n",
    "    \n",
    "    \n",
    "# end_datetime_str = \"2025-01-08 14:23:00\"\n",
    "end_datetime = pendulum.now().add(seconds=10)\n",
    "countdown(end_datetime)\n",
    "\n",
    "\n",
    "\n"
   ]
  }
 ],
 "metadata": {
  "kernelspec": {
   "display_name": "base",
   "language": "python",
   "name": "python3"
  },
  "language_info": {
   "codemirror_mode": {
    "name": "ipython",
    "version": 3
   },
   "file_extension": ".py",
   "mimetype": "text/x-python",
   "name": "python",
   "nbconvert_exporter": "python",
   "pygments_lexer": "ipython3",
   "version": "3.12.7"
  }
 },
 "nbformat": 4,
 "nbformat_minor": 2
}
