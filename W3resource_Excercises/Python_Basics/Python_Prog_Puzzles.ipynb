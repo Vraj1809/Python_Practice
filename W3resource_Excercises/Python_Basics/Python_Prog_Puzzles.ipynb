{
 "cells": [
  {
   "cell_type": "code",
   "execution_count": 16,
   "metadata": {},
   "outputs": [
    {
     "name": "stdout",
     "output_type": "stream",
     "text": [
      "[2, 2, 7, 0, 3]\n"
     ]
    }
   ],
   "source": [
    "# Depth of Matched Parentheses Groups\n",
    "\n",
    "# Given a string consisting of groups of matched nested parentheses separated by parentheses, write a Python program to compute the depth of each group.\n",
    "# Input: (()) (()) () ((()()()))\n",
    "# Output:\n",
    "# [2, 2, 1, 3]\n",
    "\n",
    "string = '(()) (()) ((((((()()()()())))))) ) ((()()()))'\n",
    "num_list = []\n",
    "flag = 0\n",
    "for braces in string.split(\" \"):\n",
    "    for brace in braces:\n",
    "        if brace != '(':\n",
    "            num_list.append(flag)\n",
    "            flag = 0\n",
    "            break\n",
    "        flag += 1\n",
    "    \n",
    "print(num_list)\n",
    "            "
   ]
  },
  {
   "cell_type": "code",
   "execution_count": 31,
   "metadata": {},
   "outputs": [
    {
     "name": "stdout",
     "output_type": "stream",
     "text": [
      "madammadam\n"
     ]
    }
   ],
   "source": [
    "# Generate Palindrome of Specific Length\n",
    "\n",
    "# Write a Python program to generate a palindrome of a given length from a string.\n",
    "# Input: madam , 7\n",
    "# Output:\n",
    "# madaadam\n",
    "\n",
    "\n",
    "def Generate_Palindrome(string, length):\n",
    "    return_string = \"\"\n",
    "    \n",
    "    mid = int(length/2)\n",
    "    \n",
    "    # print(\"Mid:\", mid)\n",
    "    return_string = string[:mid]\n",
    "    back_string = return_string[::-1]\n",
    "    \n",
    "    if length != 2*mid:\n",
    "        for i in range(length-2*mid +1):\n",
    "            return_string = return_string + 'a'\n",
    "        \n",
    "    return_string = return_string + back_string\n",
    "    \n",
    "    print(return_string)\n",
    "    \n",
    "Generate_Palindrome(\"madam\", 12)"
   ]
  }
 ],
 "metadata": {
  "kernelspec": {
   "display_name": "base",
   "language": "python",
   "name": "python3"
  },
  "language_info": {
   "codemirror_mode": {
    "name": "ipython",
    "version": 3
   },
   "file_extension": ".py",
   "mimetype": "text/x-python",
   "name": "python",
   "nbconvert_exporter": "python",
   "pygments_lexer": "ipython3",
   "version": "3.12.7"
  }
 },
 "nbformat": 4,
 "nbformat_minor": 2
}
