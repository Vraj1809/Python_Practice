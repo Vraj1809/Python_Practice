{
 "cells": [
  {
   "cell_type": "code",
   "execution_count": 6,
   "metadata": {},
   "outputs": [
    {
     "name": "stdout",
     "output_type": "stream",
     "text": [
      "Equal\n"
     ]
    }
   ],
   "source": [
    "# Sum of the digits in each number in a list is equal\n",
    "list1 = [44, 62, 89]\n",
    "\n",
    "flag = 0\n",
    "sum = list1[0] % 9\n",
    "for num in list1:\n",
    "    if num % 9 != sum:\n",
    "        print(\"Not Equal\")\n",
    "        flag = 1\n",
    "        break\n",
    "    \n",
    "if flag != 1:\n",
    "    print(\"Equal\")"
   ]
  },
  {
   "cell_type": "code",
   "execution_count": 12,
   "metadata": {},
   "outputs": [
    {
     "name": "stdout",
     "output_type": "stream",
     "text": [
      "Largest Digit is:  7\n",
      "Smallest Digit is:  1\n"
     ]
    }
   ],
   "source": [
    "# Largest and smallest digit of a given number\n",
    "\n",
    "def Large_Small_Digit(num):\n",
    "    largest = 0\n",
    "    smallest = 9\n",
    "    while num > 0:\n",
    "        rem = num % 10\n",
    "        # print(rem)\n",
    "        if rem > largest:\n",
    "            largest = rem\n",
    "        elif rem < smallest:\n",
    "            smallest = rem\n",
    "        num = int(num / 10)\n",
    "    \n",
    "    return largest, smallest\n",
    "\n",
    "largest, smallest = Large_Small_Digit(1345637643)\n",
    "\n",
    "print(\"Largest Digit is: \",largest)\n",
    "print(\"Smallest Digit is: \",smallest)\n",
    "        "
   ]
  }
 ],
 "metadata": {
  "kernelspec": {
   "display_name": "base",
   "language": "python",
   "name": "python3"
  },
  "language_info": {
   "codemirror_mode": {
    "name": "ipython",
    "version": 3
   },
   "file_extension": ".py",
   "mimetype": "text/x-python",
   "name": "python",
   "nbconvert_exporter": "python",
   "pygments_lexer": "ipython3",
   "version": "3.12.7"
  }
 },
 "nbformat": 4,
 "nbformat_minor": 2
}
