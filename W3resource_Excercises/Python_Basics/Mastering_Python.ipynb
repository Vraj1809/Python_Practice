{
 "cells": [
  {
   "cell_type": "code",
   "execution_count": 18,
   "metadata": {},
   "outputs": [
    {
     "name": "stdout",
     "output_type": "stream",
     "text": [
      "[1, 3, 9, 27]\n",
      "[1, 2, 3, 6, 9]\n"
     ]
    },
    {
     "data": {
      "text/plain": [
       "9"
      ]
     },
     "execution_count": 18,
     "metadata": {},
     "output_type": "execute_result"
    }
   ],
   "source": [
    "# Find the greatest common divisor (GCD) of two numbers.\n",
    "def GCD (num1, num2):\n",
    "    num1_list = []\n",
    "    num2_list = []\n",
    "    for i in range(1,int(num1/2) + 1):\n",
    "        if num1 % i == 0:\n",
    "            num1_list.append(i)\n",
    "    for i in range(1,int(num2/2) + 1):\n",
    "        if num2 % i == 0:\n",
    "            num2_list.append(i)\n",
    "    \n",
    "    gcd = 1\n",
    "    print(num1_list)\n",
    "    print(num2_list)     \n",
    "    for num in num1_list:\n",
    "        if num in num2_list and num > gcd:\n",
    "            gcd = num\n",
    "            \n",
    "    return gcd \n",
    "    \n",
    "GCD(81, 18)           "
   ]
  },
  {
   "cell_type": "code",
   "execution_count": 19,
   "metadata": {},
   "outputs": [
    {
     "name": "stdout",
     "output_type": "stream",
     "text": [
      "[1, 3, 9]\n",
      "[1, 3, 11]\n"
     ]
    },
    {
     "data": {
      "text/plain": [
       "297.0"
      ]
     },
     "execution_count": 19,
     "metadata": {},
     "output_type": "execute_result"
    }
   ],
   "source": [
    "# Find the least common multiple (LCM) of two numbers.\n",
    "def LCM (num1, num2):\n",
    "    gcd = GCD(num1, num2)\n",
    "    lcm = num1 * num2 / gcd\n",
    "    return lcm\n",
    "\n",
    "LCM(27,33)"
   ]
  }
 ],
 "metadata": {
  "kernelspec": {
   "display_name": "base",
   "language": "python",
   "name": "python3"
  },
  "language_info": {
   "codemirror_mode": {
    "name": "ipython",
    "version": 3
   },
   "file_extension": ".py",
   "mimetype": "text/x-python",
   "name": "python",
   "nbconvert_exporter": "python",
   "pygments_lexer": "ipython3",
   "version": "3.12.7"
  }
 },
 "nbformat": 4,
 "nbformat_minor": 2
}
