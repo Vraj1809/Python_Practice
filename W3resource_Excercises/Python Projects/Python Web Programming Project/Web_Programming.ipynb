{
 "cells": [
  {
   "cell_type": "code",
   "execution_count": 43,
   "metadata": {},
   "outputs": [],
   "source": [
    "# importing the libraries\n",
    "import requests\n",
    "from bs4 import BeautifulSoup"
   ]
  },
  {
   "cell_type": "code",
   "execution_count": 44,
   "metadata": {},
   "outputs": [
    {
     "name": "stdout",
     "output_type": "stream",
     "text": [
      "Formatted company search: mesh\n"
     ]
    }
   ],
   "source": [
    "# Prompt user for input\n",
    "rashi_name = input(\"Enter Rashi Name: \")\n",
    "\n",
    "# Output the formatted name\n",
    "print(\"Formatted company search:\", rashi_name)"
   ]
  },
  {
   "cell_type": "code",
   "execution_count": 53,
   "metadata": {},
   "outputs": [
    {
     "name": "stdout",
     "output_type": "stream",
     "text": [
      "कामकाज में व्यस्तता के चलते, इस सप्ताह आपके प्रेम संबंधों में रोमांस को दरकिनार होना पड़ेगा। जिससे आपका प्रेमी आपसे झगड़ा कर सकता है। ऐसे में उनसे लड़ने की जगह, उनकी ज़रूरतों को समझते हुए उन्हें समय दें। इस सप्ताह आपको अपने वैवाहिक जीवन में, कुछ प्रतिकूल फलों की प्राप्ति हो सकती है। क्योंकि संभव है कि जीवनसाथी के साथ किसी बड़ी और गर्मागर्म बहस के बाद, आपका मन करे कि आप अपना सर फ़ोड़ लें या घर से कही दूर भाग जाएं। परंतु ये समझना होगा कि खराब परिस्थितियों से भागना उनका हल नहीं होता।\n"
     ]
    }
   ],
   "source": [
    "response = requests.get(f'https://www.astrosage.com/rashifal/saptahik-prem/{rashi_name}-rashifal.asp')\n",
    "# response.text\n",
    "# print(response.text)\n",
    "soup = BeautifulSoup(response.text, 'html.parser')\n",
    "result = soup.select('.ui-large-content')\n",
    "# If result is not empty, proceed with splitting and printing\n",
    "if result:\n",
    "    # The content you want to split is inside the first element\n",
    "    content = result[0].text.strip()  # .strip() removes extra spaces at the ends\n",
    "    \n",
    "    # Split the content based on '|' or any other character as needed\n",
    "    for part in content.split(\"|\"):\n",
    "        print(part.strip())  # Strip any leading/trailing spaces\n",
    "else:\n",
    "    print(\"No content found\")"
   ]
  },
  {
   "cell_type": "code",
   "execution_count": null,
   "metadata": {},
   "outputs": [],
   "source": []
  }
 ],
 "metadata": {
  "kernelspec": {
   "display_name": "base",
   "language": "python",
   "name": "python3"
  },
  "language_info": {
   "codemirror_mode": {
    "name": "ipython",
    "version": 3
   },
   "file_extension": ".py",
   "mimetype": "text/x-python",
   "name": "python",
   "nbconvert_exporter": "python",
   "pygments_lexer": "ipython3",
   "version": "3.12.7"
  }
 },
 "nbformat": 4,
 "nbformat_minor": 2
}
