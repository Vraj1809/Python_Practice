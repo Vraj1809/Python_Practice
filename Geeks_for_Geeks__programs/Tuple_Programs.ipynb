{
 "cells": [
  {
   "cell_type": "markdown",
   "metadata": {},
   "source": [
    "# Find the size of a Tuple in Python"
   ]
  },
  {
   "cell_type": "code",
   "execution_count": 1,
   "metadata": {},
   "outputs": [
    {
     "name": "stdout",
     "output_type": "stream",
     "text": [
      "6\n"
     ]
    }
   ],
   "source": [
    "Tuple1 = (\"A\", 1, \"B\", 2, \"C\", 3)\n",
    "Tuple2 = (\"Geek1\", \"Raju\", \"Geek2\", \"Nikhil\", \"Geek3\", \"Deepanshu\")\n",
    "Tuple3 = ((1, \"Lion\"), ( 2, \"Tiger\"), (3, \"Fox\"), (4, \"Wolf\"))\n",
    "\n",
    "print(len(Tuple1))"
   ]
  },
  {
   "cell_type": "markdown",
   "metadata": {},
   "source": [
    "# Maximum and Minimum K elements in Tuple"
   ]
  },
  {
   "cell_type": "code",
   "execution_count": null,
   "metadata": {},
   "outputs": [
    {
     "data": {
      "text/plain": [
       "[3, 5, 8, 20]"
      ]
     },
     "execution_count": 15,
     "metadata": {},
     "output_type": "execute_result"
    }
   ],
   "source": [
    "test_tup = (5, 20, 3, 7, 6, 8)\n",
    "\n",
    "n = int(input(\"Enter the K elemment\"))\n",
    "\n",
    "test_tup = list(sorted(test_tup))\n",
    "return_tup = list(test_tup[:n])\n",
    "return_tup.extend(test_tup[-n:])\n",
    "return_tup"
   ]
  },
  {
   "cell_type": "markdown",
   "metadata": {},
   "source": [
    "# Sum of tuple elements"
   ]
  },
  {
   "cell_type": "code",
   "execution_count": 18,
   "metadata": {},
   "outputs": [
    {
     "data": {
      "text/plain": [
       "42"
      ]
     },
     "execution_count": 18,
     "metadata": {},
     "output_type": "execute_result"
    }
   ],
   "source": [
    "# for single dimension\n",
    "test_tup = (7, 8, 9, 1, 10, 7)\n",
    "test_list = list(test_tup)\n",
    "sum(test_list)\n",
    "\n",
    "# for muli dimension\n",
    "test_tup = ([7, 8], [9, 1], [10, 7])\n",
    "\n",
    "sumtup = 0\n",
    "for tup in test_tup:\n",
    "    sumtup += sum(tup)\n",
    "    \n",
    "sumtup"
   ]
  },
  {
   "cell_type": "markdown",
   "metadata": {},
   "source": [
    "# Row-wise element Addition in Tuple Matrix"
   ]
  },
  {
   "cell_type": "code",
   "execution_count": 35,
   "metadata": {},
   "outputs": [
    {
     "name": "stdout",
     "output_type": "stream",
     "text": [
      "[('Gfg', 3), ('is', 3)]\n",
      "[('Gfg', 3, 6), ('is', 3)]\n",
      "[('best', 1)]\n",
      "[('for', 5), ('geeks', 1)]\n",
      "[('for', 5, 8), ('geeks', 1)]\n"
     ]
    },
    {
     "data": {
      "text/plain": [
       "[[('Gfg', 3, 6), ('is', 3, 6)],\n",
       " [('best', 1, 7)],\n",
       " [('for', 5, 8), ('geeks', 1, 8)]]"
      ]
     },
     "execution_count": 35,
     "metadata": {},
     "output_type": "execute_result"
    }
   ],
   "source": [
    "test_list = [[('Gfg', 3), ('is', 3)], [('best', 1)], [('for', 5), ('geeks', 1)]]\n",
    "cus_eles = [6, 7, 8]\n",
    "\n",
    "for index, tup_list in enumerate(test_list):\n",
    "    for i, tuples in enumerate(tup_list):\n",
    "        # print(tup_list)\n",
    "        list1 = list(tuples)\n",
    "        list1.append(cus_eles[index])\n",
    "        tup_list[i] = tuple(list1)\n",
    "    \n",
    "test_list"
   ]
  },
  {
   "cell_type": "markdown",
   "metadata": {},
   "source": [
    "# Python program to create a list of tuples from given list having number and its cube in each tuple"
   ]
  },
  {
   "cell_type": "code",
   "execution_count": 42,
   "metadata": {},
   "outputs": [
    {
     "data": {
      "text/plain": [
       "[(1, 1), (2, 8), (5, 125), (6, 216)]"
      ]
     },
     "execution_count": 42,
     "metadata": {},
     "output_type": "execute_result"
    }
   ],
   "source": [
    "# creating a list\n",
    "list1 = [1, 2, 5, 6]\n",
    "\n",
    "# using enumerate \n",
    "for index, num in enumerate(list1):\n",
    "    tuple = (num, num**3)\n",
    "    list1[index] = tuple\n",
    "list1\n"
   ]
  }
 ],
 "metadata": {
  "kernelspec": {
   "display_name": "base",
   "language": "python",
   "name": "python3"
  },
  "language_info": {
   "codemirror_mode": {
    "name": "ipython",
    "version": 3
   },
   "file_extension": ".py",
   "mimetype": "text/x-python",
   "name": "python",
   "nbconvert_exporter": "python",
   "pygments_lexer": "ipython3",
   "version": "3.12.7"
  }
 },
 "nbformat": 4,
 "nbformat_minor": 2
}
