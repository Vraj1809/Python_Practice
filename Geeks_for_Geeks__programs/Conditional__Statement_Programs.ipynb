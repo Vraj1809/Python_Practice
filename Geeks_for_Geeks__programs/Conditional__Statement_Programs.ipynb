{
 "cells": [
  {
   "cell_type": "markdown",
   "metadata": {},
   "source": [
    "# Python Program to Check Prime Number"
   ]
  },
  {
   "cell_type": "code",
   "execution_count": 2,
   "metadata": {},
   "outputs": [
    {
     "name": "stdout",
     "output_type": "stream",
     "text": [
      "1331 is not a prime number\n"
     ]
    }
   ],
   "source": [
    "num = int(input(\"Enter the number you want to check if it is primme: \"))\n",
    "\n",
    "def Check_Prime(num):\n",
    "    if num == 0 or num == 1:\n",
    "        print(f\"{num} is neither prime nor not prime\")\n",
    "        return \n",
    "    \n",
    "    flag = 0\n",
    "    for i in range (2, num):\n",
    "        if num % i == 0:\n",
    "            print(f\"{num} is not a prime number\")\n",
    "            flag = 1\n",
    "            return\n",
    "    \n",
    "    if(flag == 0):\n",
    "        print(f\"{num} is a prime number\")\n",
    "    \n",
    "Check_Prime(num)\n",
    "        \n"
   ]
  },
  {
   "cell_type": "markdown",
   "metadata": {},
   "source": [
    "# Python Program to Print the Natural Numbers Summation Pattern"
   ]
  },
  {
   "cell_type": "code",
   "execution_count": 18,
   "metadata": {},
   "outputs": [
    {
     "name": "stdout",
     "output_type": "stream",
     "text": [
      "1 = 1\n",
      "1 + 2 = 3\n",
      "1 + 2 + 3 = 6\n",
      "1 + 2 + 3 + 4 = 10\n",
      "1 + 2 + 3 + 4 + 5 = 15\n"
     ]
    }
   ],
   "source": [
    "num = int(input(\"Enter first n for the Natural Number: \"))\n",
    "\n",
    "for i in range(1,num+1):\n",
    "    \n",
    "    flag = 0\n",
    "    number = []\n",
    "    \n",
    "    for j in range(1, i+1):\n",
    "        print(j, end=\" \")\n",
    "        if (j < i):\n",
    "            print(\"+\", end= \" \")\n",
    "        number.append(j)\n",
    "    print(f\"= {sum(number)}\")           "
   ]
  },
  {
   "cell_type": "markdown",
   "metadata": {},
   "source": [
    "# Full Pyramid Patterns in Python"
   ]
  },
  {
   "cell_type": "code",
   "execution_count": 22,
   "metadata": {},
   "outputs": [
    {
     "name": "stdout",
     "output_type": "stream",
     "text": [
      "    *\n",
      "   ***\n",
      "  *****\n",
      " *******\n",
      "*********\n"
     ]
    }
   ],
   "source": [
    "# Full Pyramid Patterns in Python using Loop\n",
    "\n",
    "def full_pyramid(num):\n",
    "    for i in range(1, num + 1):\n",
    "        for j in range(num - i):\n",
    "            print(\" \", end=\"\")\n",
    "        \n",
    "        for j in range(1,2*i):\n",
    "            print(\"*\", end=\"\")\n",
    "            \n",
    "        print()\n",
    "    \n",
    "full_pyramid(5)\n",
    "    "
   ]
  },
  {
   "cell_type": "code",
   "execution_count": null,
   "metadata": {},
   "outputs": [],
   "source": []
  }
 ],
 "metadata": {
  "kernelspec": {
   "display_name": "base",
   "language": "python",
   "name": "python3"
  },
  "language_info": {
   "codemirror_mode": {
    "name": "ipython",
    "version": 3
   },
   "file_extension": ".py",
   "mimetype": "text/x-python",
   "name": "python",
   "nbconvert_exporter": "python",
   "pygments_lexer": "ipython3",
   "version": "3.12.7"
  }
 },
 "nbformat": 4,
 "nbformat_minor": 2
}
