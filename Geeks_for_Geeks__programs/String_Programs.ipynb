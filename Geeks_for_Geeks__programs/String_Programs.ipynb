{
 "cells": [
  {
   "cell_type": "markdown",
   "metadata": {},
   "source": [
    "# Reverse Words in a Given String in Python"
   ]
  },
  {
   "cell_type": "code",
   "execution_count": 7,
   "metadata": {},
   "outputs": [
    {
     "data": {
      "text/plain": [
       "'code practice quiz geeks'"
      ]
     },
     "execution_count": 7,
     "metadata": {},
     "output_type": "execute_result"
    }
   ],
   "source": [
    "string = input(\"Enter the String\")\n",
    "\n",
    "list1 = string.split(\" \")\n",
    "\n",
    "# string = \"\"\n",
    "# list1.reverse()\n",
    "# for word in list1:\n",
    "#     string = string + \" \" + word\n",
    "    \n",
    "# string.strip()\n",
    "\n",
    "list1 =  list1[::-1]\n",
    "string = \" \".join(list1)\n",
    "string"
   ]
  },
  {
   "cell_type": "markdown",
   "metadata": {},
   "source": [
    "# Python program to print even length words in a string"
   ]
  },
  {
   "cell_type": "code",
   "execution_count": null,
   "metadata": {},
   "outputs": [
    {
     "name": "stdout",
     "output_type": "stream",
     "text": [
      "am "
     ]
    }
   ],
   "source": [
    "\n",
    "string = input(\"Enter the String\")\n",
    "\n",
    "for words in string.split(\" \"):\n",
    "    if len(words) % 2 == 0:\n",
    "        print(words, end= \" \")\n"
   ]
  },
  {
   "cell_type": "markdown",
   "metadata": {},
   "source": [
    "# Python program to check whether the string is Symmetrical or Palindrome"
   ]
  },
  {
   "cell_type": "code",
   "execution_count": 12,
   "metadata": {},
   "outputs": [
    {
     "name": "stdout",
     "output_type": "stream",
     "text": [
      "amaama is Symmetric and Palindrome\n"
     ]
    }
   ],
   "source": [
    "string = input(\"Enter the String\")\n",
    "\n",
    "def sym_palin_func(string):\n",
    "    symmetric = \"Not Symmetric\"\n",
    "    palindrome = \"Not Palindrome\"\n",
    "    \n",
    "    mid = int(len(string)/2)\n",
    "    sym1 = string[:mid]\n",
    "    sym2 = string[mid:]\n",
    "    \n",
    "    if sym1 == sym2:\n",
    "        symmetric = \"Symmetric\"\n",
    "    \n",
    "    if string == string[::-1]:\n",
    "        palindrome = \"Palindrome\"\n",
    "    \n",
    "    print(f\"{string} is {symmetric} and {palindrome}\")\n",
    "    \n",
    "sym_palin_func(string)\n",
    "    "
   ]
  }
 ],
 "metadata": {
  "kernelspec": {
   "display_name": "base",
   "language": "python",
   "name": "python3"
  },
  "language_info": {
   "codemirror_mode": {
    "name": "ipython",
    "version": 3
   },
   "file_extension": ".py",
   "mimetype": "text/x-python",
   "name": "python",
   "nbconvert_exporter": "python",
   "pygments_lexer": "ipython3",
   "version": "3.12.7"
  }
 },
 "nbformat": 4,
 "nbformat_minor": 2
}
