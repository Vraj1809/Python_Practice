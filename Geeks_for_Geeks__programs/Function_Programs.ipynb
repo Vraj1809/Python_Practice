{
 "cells": [
  {
   "cell_type": "markdown",
   "metadata": {},
   "source": [
    "# Python program to find the power of a number using recursion"
   ]
  },
  {
   "cell_type": "code",
   "execution_count": 5,
   "metadata": {},
   "outputs": [
    {
     "name": "stdout",
     "output_type": "stream",
     "text": [
      "8\n"
     ]
    }
   ],
   "source": [
    "def power_num(power, number):\n",
    "    \n",
    "    if power == 0:\n",
    "        return 1\n",
    "    \n",
    "    return number * power_num(power-1, number)\n",
    "\n",
    "number = int(input(\"Enter Number: \"))\n",
    "power = int(input(\"Enter Power: \"))\n",
    "\n",
    "print(power_num(power, number))"
   ]
  },
  {
   "cell_type": "markdown",
   "metadata": {},
   "source": [
    "# Sorting objects of User Defined Class"
   ]
  },
  {
   "cell_type": "code",
   "execution_count": 7,
   "metadata": {},
   "outputs": [
    {
     "name": "stdout",
     "output_type": "stream",
     "text": [
      "[('geeks', 1), ('for', 2), ('computer', 3), ('science', 3), ('geeks', 4)]\n",
      "[('computer', 3), ('for', 2), ('geeks', 1), ('geeks', 4), ('science', 3)]\n"
     ]
    }
   ],
   "source": [
    "class GFG:\n",
    "    def __init__(self, a, b):\n",
    "        self.a = a\n",
    "        self.b = b\n",
    "\n",
    "    def __repr__(self):\n",
    "        return str((self.a, self.b))\n",
    "\n",
    "\n",
    "# list of objects\n",
    "gfg = [GFG(\"geeks\", 1),\n",
    "       GFG(\"computer\", 3),\n",
    "       GFG(\"for\", 2),\n",
    "       GFG(\"geeks\", 4),\n",
    "       GFG(\"science\", 3)]\n",
    "\n",
    "\n",
    "print(sorted(gfg, key = lambda x : x.b))\n",
    "\n",
    "print(sorted(gfg, key = lambda x : x.a))"
   ]
  },
  {
   "cell_type": "markdown",
   "metadata": {},
   "source": [
    "# Functions that accept variable length key value pair as arguments"
   ]
  },
  {
   "cell_type": "code",
   "execution_count": 8,
   "metadata": {},
   "outputs": [
    {
     "name": "stdout",
     "output_type": "stream",
     "text": [
      "{'Argument_1': 'gfg', 'Argument_2': 'GFG'}\n"
     ]
    }
   ],
   "source": [
    "def printKwargs(**kwargs):\n",
    "    print(kwargs)\n",
    " \n",
    " \n",
    "# driver code\n",
    "if __name__ == \"__main__\":\n",
    "    printKwargs(Argument_1='gfg', Argument_2='GFG')"
   ]
  }
 ],
 "metadata": {
  "kernelspec": {
   "display_name": "base",
   "language": "python",
   "name": "python3"
  },
  "language_info": {
   "codemirror_mode": {
    "name": "ipython",
    "version": 3
   },
   "file_extension": ".py",
   "mimetype": "text/x-python",
   "name": "python",
   "nbconvert_exporter": "python",
   "pygments_lexer": "ipython3",
   "version": "3.12.7"
  }
 },
 "nbformat": 4,
 "nbformat_minor": 2
}
