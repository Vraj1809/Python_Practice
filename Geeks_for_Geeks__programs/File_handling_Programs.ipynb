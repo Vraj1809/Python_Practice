{
 "cells": [
  {
   "cell_type": "markdown",
   "metadata": {},
   "source": [
    "# Read content from one file and write it into another file"
   ]
  },
  {
   "cell_type": "code",
   "execution_count": 4,
   "metadata": {},
   "outputs": [
    {
     "name": "stdout",
     "output_type": "stream",
     "text": [
      "Hello, My name is Vraj.\n",
      "I am 32 years old."
     ]
    }
   ],
   "source": [
    "file = open('test.txt','r')\n",
    "data = file.readlines()\n",
    "for line in data:\n",
    "    print(line, end=\"\")\n",
    "file.close()\n",
    "\n",
    "file2 = open('another_file.txt', 'a')\n",
    "file2.writelines(data)\n",
    "file2.close()\n"
   ]
  },
  {
   "cell_type": "markdown",
   "metadata": {},
   "source": [
    "# Write a dictionary to a file in Python"
   ]
  },
  {
   "cell_type": "code",
   "execution_count": 10,
   "metadata": {},
   "outputs": [],
   "source": [
    "import json\n",
    "details = {'Name': \"Bob\", \n",
    "          'Age' :28}\n",
    "\n",
    "file = open('another_file.txt','a')\n",
    "file.write(json.dumps(details))\n",
    "file.close()"
   ]
  },
  {
   "cell_type": "markdown",
   "metadata": {},
   "source": [
    "# How to check file size in Python?"
   ]
  },
  {
   "cell_type": "code",
   "execution_count": 12,
   "metadata": {},
   "outputs": [
    {
     "name": "stdout",
     "output_type": "stream",
     "text": [
      "76\n"
     ]
    }
   ],
   "source": [
    "import os \n",
    "sz = os.path.getsize(\"another_file.txt\") \n",
    "print(sz)"
   ]
  },
  {
   "cell_type": "markdown",
   "metadata": {},
   "source": [
    "# Find the most repeated word in a text file"
   ]
  },
  {
   "cell_type": "code",
   "execution_count": 26,
   "metadata": {},
   "outputs": [
    {
     "name": "stdout",
     "output_type": "stream",
     "text": [
      "Most repeated word: I\n",
      "Frequency: 15\n"
     ]
    }
   ],
   "source": [
    "file = open('another_file.txt')\n",
    "\n",
    "words = []\n",
    "frequency = 0\n",
    "frequence_word = \"\"\n",
    "for line in file.readlines():\n",
    "    # print(line)\n",
    "    line_words = line.replace(\",\",\"\").replace(\".\",\"\").split(\" \")\n",
    "    \n",
    "    for word in line_words:\n",
    "        words.append(word)\n",
    "        \n",
    "for i in range(0, len(words)):\n",
    "    \n",
    "    count = 1\n",
    "    \n",
    "    for j in range(i+1, len(words)):\n",
    "        \n",
    "        if(words[i] == words[j]):\n",
    "            count +=1\n",
    "        \n",
    "    if count > frequency:\n",
    "        frequency = count\n",
    "        frequence_word = words[i]\n",
    "\n",
    "print(\"Most repeated word: \" + frequence_word)\n",
    "print(\"Frequency: \" + str(frequency))\n",
    "file.close()"
   ]
  },
  {
   "cell_type": "code",
   "execution_count": null,
   "metadata": {},
   "outputs": [],
   "source": []
  }
 ],
 "metadata": {
  "kernelspec": {
   "display_name": "base",
   "language": "python",
   "name": "python3"
  },
  "language_info": {
   "codemirror_mode": {
    "name": "ipython",
    "version": 3
   },
   "file_extension": ".py",
   "mimetype": "text/x-python",
   "name": "python",
   "nbconvert_exporter": "python",
   "pygments_lexer": "ipython3",
   "version": "3.12.7"
  }
 },
 "nbformat": 4,
 "nbformat_minor": 2
}
