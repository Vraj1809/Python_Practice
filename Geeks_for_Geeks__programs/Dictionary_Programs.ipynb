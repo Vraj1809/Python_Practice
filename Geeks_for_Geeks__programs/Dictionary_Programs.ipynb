{
 "cells": [
  {
   "cell_type": "markdown",
   "metadata": {},
   "source": [
    "# Sort Python Dictionary by Key or Value"
   ]
  },
  {
   "cell_type": "code",
   "execution_count": 1,
   "metadata": {},
   "outputs": [
    {
     "name": "stdout",
     "output_type": "stream",
     "text": [
      "rajnish : 9\n",
      "ravi : 10\n",
      "sanjeev : 15\n"
     ]
    }
   ],
   "source": [
    "d = {'ravi': 10, 'rajnish': 9, 'sanjeev': 15}\n",
    "\n",
    "for keys in sorted(d.keys()):\n",
    "    print(f\"{keys} : {d[keys]}\")"
   ]
  },
  {
   "cell_type": "markdown",
   "metadata": {},
   "source": [
    "# Handling missing keys in Python dictionaries"
   ]
  },
  {
   "cell_type": "code",
   "execution_count": 2,
   "metadata": {},
   "outputs": [
    {
     "name": "stdout",
     "output_type": "stream",
     "text": [
      "Not Found\n",
      "Not Found\n"
     ]
    }
   ],
   "source": [
    "# if it has to be user input\n",
    "d = {'ravi': 10, 'rajnish': 9, 'sanjeev': 15}\n",
    "\n",
    "key = input(\"Enter the key for which you want the value:\")\n",
    "if key in d.keys():\n",
    "    print(d[key])\n",
    "else:\n",
    "    print(\"Not Found\")\n",
    "    \n",
    "# f in the code then \n",
    "try:\n",
    "    print(d[\"Vraj\"])\n",
    "except:\n",
    "    print(\"Not Found\")"
   ]
  },
  {
   "cell_type": "markdown",
   "metadata": {},
   "source": [
    "# Python program to find the sum of all items in a dictionary"
   ]
  },
  {
   "cell_type": "code",
   "execution_count": 4,
   "metadata": {},
   "outputs": [
    {
     "data": {
      "text/plain": [
       "600"
      ]
     },
     "execution_count": 4,
     "metadata": {},
     "output_type": "execute_result"
    }
   ],
   "source": [
    "dict = {'a': 100, 'b': 200, 'c': 300}\n",
    "sum = 0\n",
    "\n",
    "for val in dict.values():\n",
    "    sum += val\n",
    "\n",
    "sum"
   ]
  }
 ],
 "metadata": {
  "kernelspec": {
   "display_name": "base",
   "language": "python",
   "name": "python3"
  },
  "language_info": {
   "codemirror_mode": {
    "name": "ipython",
    "version": 3
   },
   "file_extension": ".py",
   "mimetype": "text/x-python",
   "name": "python",
   "nbconvert_exporter": "python",
   "pygments_lexer": "ipython3",
   "version": "3.12.7"
  }
 },
 "nbformat": 4,
 "nbformat_minor": 2
}
