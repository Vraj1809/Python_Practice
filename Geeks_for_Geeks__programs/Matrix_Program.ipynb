{
 "cells": [
  {
   "cell_type": "markdown",
   "metadata": {},
   "source": [
    "#  Assigning Subsequent Rows to Matrix first row elements"
   ]
  },
  {
   "cell_type": "code",
   "execution_count": 11,
   "metadata": {},
   "outputs": [
    {
     "data": {
      "text/plain": [
       "{5: [2, 0, 9], 8: [5, 4, 2], 9: [2, 3, 9]}"
      ]
     },
     "execution_count": 11,
     "metadata": {},
     "output_type": "execute_result"
    }
   ],
   "source": [
    "# initializing list\n",
    "test_list = [[5, 8, 9], [2, 0, 9], [5, 4, 2], [2, 3, 9]]\n",
    "\n",
    "dict1 = {}\n",
    "for index in range(len(test_list[0])):\n",
    "    dict1[test_list[0][index]] = test_list[index+1]\n",
    "    \n",
    "dict1"
   ]
  },
  {
   "cell_type": "markdown",
   "metadata": {},
   "source": [
    "# Adding and Subtracting Matrices in Python"
   ]
  },
  {
   "cell_type": "code",
   "execution_count": 12,
   "metadata": {},
   "outputs": [
    {
     "name": "stdout",
     "output_type": "stream",
     "text": [
      "Addition of matrix is: [[ 5  7]\n",
      " [ 9 11]]\n",
      "Subtraction of matrix is: [[-3 -3]\n",
      " [-3 -3]]\n"
     ]
    }
   ],
   "source": [
    "import numpy as np\n",
    "A = np.array([[1,2],[3,4]])\n",
    "B = np.array([[4,5],[6,7]])\n",
    "\n",
    "print(f\"Addition of matrix is: {np.add(A,B)}\")\n",
    "print(f\"Subtraction of matrix is: {np.subtract(A,B)}\")"
   ]
  },
  {
   "cell_type": "markdown",
   "metadata": {},
   "source": [
    "# Group similar elements into Matrix"
   ]
  },
  {
   "cell_type": "code",
   "execution_count": 26,
   "metadata": {},
   "outputs": [
    {
     "data": {
      "text/plain": [
       "[[1], [3, 3], [4, 4, 4, 4, 4]]"
      ]
     },
     "execution_count": 26,
     "metadata": {},
     "output_type": "execute_result"
    }
   ],
   "source": [
    "test_list = [1, 3, 4, 4, 4,4,4,3]\n",
    "\n",
    "test_list.sort()\n",
    "return_list = []\n",
    "append_list = []\n",
    "for index in range(len(test_list)):\n",
    "    append_list.append(test_list[index])\n",
    "    if index == len(test_list) - 1 or test_list[index] != test_list[index+1]:\n",
    "        return_list.append(append_list)\n",
    "        append_list = []    \n",
    "        \n",
    "return_list     "
   ]
  },
  {
   "cell_type": "markdown",
   "metadata": {},
   "source": [
    "# Row-wise element Addition in Tuple Matrix"
   ]
  },
  {
   "cell_type": "code",
   "execution_count": 33,
   "metadata": {},
   "outputs": [
    {
     "data": {
      "text/plain": [
       "[[('Gfg', 3, 6), ('is', 3, 6)],\n",
       " [('best', 1, 7)],\n",
       " [('for', 5, 8), ('geeks', 1, 8)]]"
      ]
     },
     "execution_count": 33,
     "metadata": {},
     "output_type": "execute_result"
    }
   ],
   "source": [
    "test_list = [[('Gfg', 3), ('is', 3)], [('best', 1)], [('for', 5), ('geeks', 1)]]\n",
    "\n",
    "cus_eles = [6, 7, 8]\n",
    "\n",
    "# print(f\"The Original List: {test_list}\")\n",
    "\n",
    "for index, value in enumerate(test_list):\n",
    "    for i, each_value in enumerate(value):\n",
    "        each_value = list(each_value)\n",
    "        each_value.append(cus_eles[index])\n",
    "        value[i] = tuple(each_value)\n",
    "        \n",
    "test_list\n",
    "        "
   ]
  },
  {
   "cell_type": "markdown",
   "metadata": {},
   "source": [
    "# Create an n x n square matrix, where all the sub-matrix have the sum of opposite corner elements as even"
   ]
  },
  {
   "cell_type": "code",
   "execution_count": 42,
   "metadata": {},
   "outputs": [
    {
     "name": "stdout",
     "output_type": "stream",
     "text": [
      "[[1, 2, 3, 4], [8, 7, 6, 5], [9, 10, 11, 12], [16, 15, 14, 13]]\n"
     ]
    }
   ],
   "source": [
    "def Matrix_creation(n):\n",
    "    \n",
    "    matrix = []\n",
    "    flag = 1\n",
    "    \n",
    "    if n % 2 != 0:\n",
    "        for i in range(n):\n",
    "            a = []\n",
    "            for j in range(n):\n",
    "                a.append(flag)\n",
    "                flag += 1\n",
    "            matrix.append(a)\n",
    "    else:\n",
    "        for i in range(n):\n",
    "            a = []\n",
    "            for j in range(n):\n",
    "                a.append(flag)\n",
    "                flag += 1\n",
    "            if i % 2 != 0:\n",
    "                a.reverse()\n",
    "            matrix.append(a)\n",
    "    print(matrix)\n",
    "    \n",
    "        \n",
    "Matrix_creation(4)   \n",
    "    \n"
   ]
  },
  {
   "cell_type": "code",
   "execution_count": null,
   "metadata": {},
   "outputs": [],
   "source": []
  }
 ],
 "metadata": {
  "kernelspec": {
   "display_name": "base",
   "language": "python",
   "name": "python3"
  },
  "language_info": {
   "codemirror_mode": {
    "name": "ipython",
    "version": 3
   },
   "file_extension": ".py",
   "mimetype": "text/x-python",
   "name": "python",
   "nbconvert_exporter": "python",
   "pygments_lexer": "ipython3",
   "version": "3.12.7"
  }
 },
 "nbformat": 4,
 "nbformat_minor": 2
}
