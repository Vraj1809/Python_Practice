{
 "cells": [
  {
   "cell_type": "markdown",
   "metadata": {},
   "source": [
    " # Python program to find Indices of Overlapping Substrings"
   ]
  },
  {
   "cell_type": "code",
   "execution_count": 1,
   "metadata": {},
   "outputs": [
    {
     "name": "stdout",
     "output_type": "stream",
     "text": [
      "[0, 8]\n",
      "[3, 9, 15, 21]\n"
     ]
    }
   ],
   "source": [
    "# Import required module\n",
    "import re\n",
    " \n",
    "# Explicit function to Count\n",
    "# Indices of Overlapping Substrings\n",
    "def CntSubstr(pattern, string):\n",
    "    a = [m.start() for m in re.finditer(\n",
    "        '(?={0})'.format(re.escape(pattern)), string)]\n",
    "    return a\n",
    " \n",
    " \n",
    "# Driver Code\n",
    "string1 = 'geeksforgeeksforgeeks'\n",
    "pattern1 = 'geeksforgeeks'\n",
    " \n",
    "string2 = 'barfoobarfoobarfoobarfoobarfoo'\n",
    "pattern2 = 'foobarfoo'\n",
    " \n",
    " \n",
    "# Calling the function\n",
    "print(CntSubstr(pattern1, string1))\n",
    "print(CntSubstr(pattern2, string2))"
   ]
  },
  {
   "cell_type": "markdown",
   "metadata": {},
   "source": [
    "# Python program to extract Strings between HTML Tags"
   ]
  },
  {
   "cell_type": "code",
   "execution_count": 23,
   "metadata": {},
   "outputs": [
    {
     "name": "stdout",
     "output_type": "stream",
     "text": [
      "Gfg\n",
      "Best\n",
      "Reading CS\n"
     ]
    }
   ],
   "source": [
    "# importing re module\n",
    "import re\n",
    " \n",
    "# initializing string\n",
    "test_str = '<b>Gfg</b> is <b>Best</b>. I love <b>Reading CS</b> from it.'\n",
    "\n",
    "regular_expression = r'<([a-z]+)>(.*?)</([a-z]+)>'\n",
    "\n",
    "res = re.findall(regular_expression, test_str)\n",
    "\n",
    "for text in res:\n",
    "    print(text[1])"
   ]
  },
  {
   "cell_type": "markdown",
   "metadata": {},
   "source": [
    "# Python – Check if String Contain Only Defined Characters using Regex"
   ]
  },
  {
   "cell_type": "code",
   "execution_count": 25,
   "metadata": {},
   "outputs": [
    {
     "name": "stdout",
     "output_type": "stream",
     "text": [
      "Valid\n"
     ]
    }
   ],
   "source": [
    "defined = int(input(\"Enter the numbers from which only the string should contain\"))\n",
    "\n",
    "number = input(\"Enter the number you want to check\")\n",
    "\n",
    "pattern = rf'^[{defined}]+$'\n",
    "if re.search(pattern, number):\n",
    "    print(\"Valid\")\n",
    "else:\n",
    "    print(\"Invalid\")"
   ]
  },
  {
   "cell_type": "markdown",
   "metadata": {},
   "source": [
    "# Python program to find files having a particular extension using RegEx"
   ]
  },
  {
   "cell_type": "code",
   "execution_count": 26,
   "metadata": {},
   "outputs": [
    {
     "name": "stdout",
     "output_type": "stream",
     "text": [
      "abc.pdf is Valid\n",
      "xyz.png is Invalid\n",
      "mno.pdf is Valid\n",
      "oph.jpg is Invalid\n"
     ]
    }
   ],
   "source": [
    "defined = input(\"Enter the extension you want to have in the file\")\n",
    "\n",
    "filenames = input(\"Enter the file names with extension and files separated by commma\")\n",
    "\n",
    "pattern = rf'\\.{defined}$'\n",
    "\n",
    "for files in filenames.split(\",\"):\n",
    "    if re.search(pattern, files):\n",
    "        print(f\"{files} is Valid\")\n",
    "    else:\n",
    "        print(f\"{files} is Invalid\")"
   ]
  }
 ],
 "metadata": {
  "kernelspec": {
   "display_name": "base",
   "language": "python",
   "name": "python3"
  },
  "language_info": {
   "codemirror_mode": {
    "name": "ipython",
    "version": 3
   },
   "file_extension": ".py",
   "mimetype": "text/x-python",
   "name": "python",
   "nbconvert_exporter": "python",
   "pygments_lexer": "ipython3",
   "version": "3.12.7"
  }
 },
 "nbformat": 4,
 "nbformat_minor": 2
}
