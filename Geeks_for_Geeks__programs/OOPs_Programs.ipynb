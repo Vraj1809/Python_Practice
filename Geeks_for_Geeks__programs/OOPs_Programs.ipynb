{
 "cells": [
  {
   "cell_type": "markdown",
   "metadata": {},
   "source": [
    "# Python program to build flashcard using class in Python"
   ]
  },
  {
   "cell_type": "code",
   "execution_count": 1,
   "metadata": {},
   "outputs": [
    {
     "name": "stdout",
     "output_type": "stream",
     "text": [
      "Welcome to Flashcard Application:\n",
      "\n",
      " Your FlashCards:\n",
      "> Vraj Desai [ My name is Vraj Desai ]\n",
      "> Vipul Desai [ My name is Vipul Desai ]\n",
      "> Anuradha Desai [ My name is Anuradha Desai ]\n"
     ]
    }
   ],
   "source": [
    "class FlashCards:\n",
    "    def __init__(self, word, meaning):\n",
    "        self.word = word\n",
    "        self.meaning = meaning\n",
    "        \n",
    "    def __str__(self):\n",
    "        return self.word + ' [ ' + self.meaning + ' ]'\n",
    "    \n",
    "flash = []\n",
    "\n",
    "print(\"Welcome to Flashcard Application:\")\n",
    "\n",
    "while(True):\n",
    "    word = input(\"Enter the Word for the Flash Card: \")\n",
    "    meaning = input(\"Enter the mmeaning of that flash card:\")\n",
    "    \n",
    "    flash.append(FlashCards(word, meaning))\n",
    "    \n",
    "    y_n = input(\"Enter yes or no, whether you want to add another card??\")\n",
    "    \n",
    "    if y_n.lower()[0] == 'y':\n",
    "        continue\n",
    "    else:\n",
    "        break\n",
    "    \n",
    "    \n",
    "print(\"\\n Your FlashCards:\")\n",
    "\n",
    "for cards in flash:\n",
    "    print(f\"> {cards}\")"
   ]
  },
  {
   "cell_type": "markdown",
   "metadata": {},
   "source": [
    "# Shuffle a deck of card with OOPS in Python"
   ]
  },
  {
   "cell_type": "code",
   "execution_count": 14,
   "metadata": {},
   "outputs": [
    {
     "name": "stdout",
     "output_type": "stream",
     "text": [
      "Player 1 Cards:\n",
      "\n",
      "Two Hearts,Three Hearts,Four Hearts,Five Hearts,Six Hearts,Seven Hearts,Eight Hearts,Nine Hearts,Ten Hearts,Jack Hearts,Queen Hearts,King Hearts,Ace Hearts,Two Clubs,Three Clubs,Four Clubs,Five Clubs,Six Clubs,Seven Clubs,Eight Clubs,Nine Clubs,Ten Clubs,Jack Clubs,Queen Clubs,King Clubs,Ace Clubs,Two Spade,Three Spade,Four Spade,Five Spade,Six Spade,Seven Spade,Eight Spade,Nine Spade,Ten Spade,Jack Spade,Queen Spade,King Spade,Ace Spade,Two Diamonds,Three Diamonds,Four Diamonds,Five Diamonds,Six Diamonds,Seven Diamonds,Eight Diamonds,Nine Diamonds,Ten Diamonds,Jack Diamonds,Queen Diamonds,King Diamonds,Ace Diamonds,Two Hearts,Three Hearts,Four Hearts,Five Hearts,Six Hearts,Seven Hearts,Eight Hearts,Nine Hearts,Ten Hearts,Jack Hearts,Queen Hearts,King Hearts,Ace Hearts,Two Clubs,Three Clubs,Four Clubs,Five Clubs,Six Clubs,Seven Clubs,Eight Clubs,Nine Clubs,Ten Clubs,Jack Clubs,Queen Clubs,King Clubs,Ace Clubs,Two Spade,Three Spade,Four Spade,Five Spade,Six Spade,Seven Spade,Eight Spade,Nine Spade,Ten Spade,Jack Spade,Queen Spade,King Spade,Ace Spade,Two Diamonds,Three Diamonds,Four Diamonds,Five Diamonds,Six Diamonds,Seven Diamonds,Eight Diamonds,Nine Diamonds,Ten Diamonds,Jack Diamonds,Queen Diamonds,King Diamonds,Ace Diamonds,\n",
      "\n",
      "Player 2 Cards:\n",
      "\n",
      "Four Hearts,Six Clubs,Eight Clubs,King Hearts,Queen Hearts,Nine Hearts,Jack Spade,Four Diamonds,Ace Spade,King Spade,Five Clubs,Seven Hearts,Five Diamonds,Queen Clubs,Ten Clubs,Ten Spade,Five Spade,Nine Clubs,Nine Hearts,Eight Diamonds,Jack Hearts,Queen Diamonds,Three Spade,Nine Diamonds,Ten Hearts,Five Hearts,Three Diamonds,Five Diamonds,Three Diamonds,King Clubs,Four Spade,King Diamonds,Eight Spade,Two Clubs,Eight Spade,King Diamonds,Two Spade,Two Spade,Ace Diamonds,Ace Hearts,Jack Clubs,Ten Spade,Queen Spade,King Hearts,Jack Clubs,Queen Diamonds,Two Hearts,Six Hearts,Two Hearts,Eight Hearts,Six Spade,Five Hearts,Six Diamonds,Jack Hearts,Six Hearts,Four Clubs,Three Clubs,Ace Diamonds,Eight Diamonds,Two Diamonds,Seven Spade,Jack Diamonds,Three Clubs,Ace Clubs,Eight Hearts,Ten Diamonds,Queen Spade,Nine Clubs,Nine Spade,Six Diamonds,Six Spade,Jack Spade,Two Diamonds,Queen Clubs,Four Clubs,Three Hearts,Five Spade,Seven Diamonds,King Clubs,Queen Hearts,Five Clubs,Ace Clubs,Two Clubs,Ten Diamonds,Seven Spade,Four Diamonds,Three Spade,Jack Diamonds,Ten Clubs,Three Hearts,Ace Hearts,Nine Spade,Nine Diamonds,Seven Clubs,Eight Clubs,Ace Spade,Seven Clubs,Four Spade,Seven Hearts,Six Clubs,Seven Diamonds,Ten Hearts,King Spade,Four Hearts,\n"
     ]
    }
   ],
   "source": [
    "from random import shuffle\n",
    "\n",
    "suits = [\"Hearts\", \"Clubs\", \"Spade\", \"Diamonds\"]\n",
    "\n",
    "ranks = [\"Two\", \"Three\", \"Four\", \"Five\", \"Six\", \"Seven\", \"Eight\", \"Nine\", \"Ten\", \"Jack\", \"Queen\", \"King\", \"Ace\"]\n",
    "\n",
    "values = {\"Two\" : 2, \"Three\": 3, \"Four\" : 4, \"Five\": 5, \"Six\" : 6, \"Seven\" : 7, \"Eight\" : 8, \"Nine\" : 9, \"Ten\" : 10, \"Jack\" : 11, \"Queen\" : 12, \"King\" : 13, \"Ace\" : 14}\n",
    "\n",
    "class Card:\n",
    "    def __init__ (self, suit, rank):\n",
    "        self.suit = suit\n",
    "        self.rank = rank\n",
    "        self.value = values[rank]\n",
    "    \n",
    "    def __str__ (self):\n",
    "        return self.rank + \" \" + self.suit\n",
    "    \n",
    "class Deck:\n",
    "    Cards = []\n",
    "    def __init__ (self):\n",
    "        for suit in suits:\n",
    "            for rank in ranks:\n",
    "                self.Cards.append(Card(suit, rank))\n",
    "    \n",
    "    @classmethod        \n",
    "    def shuffle(self):\n",
    "        shuffle(self.Cards)\n",
    "        \n",
    "    def pop(self):\n",
    "        if(len(self.Cards) == 0):\n",
    "            print(\"No Cards to pop\")\n",
    "            return\n",
    "        return self.Cards[0]\n",
    "    \n",
    "    def __str__(self):\n",
    "        cards = \"\"\n",
    "        for card in self.Cards:\n",
    "            cards = cards + str(card) + \",\"\n",
    "        \n",
    "        return cards\n",
    "    \n",
    "player1cards = Deck()\n",
    "player2cards = Deck()\n",
    "\n",
    "print(\"Player 1 Cards:\\n\")\n",
    "print(player1cards)\n",
    "\n",
    "Deck.shuffle()\n",
    "\n",
    "print(\"\\nPlayer 2 Cards:\\n\")\n",
    "print(player2cards)\n",
    "\n",
    "            "
   ]
  },
  {
   "cell_type": "markdown",
   "metadata": {},
   "source": [
    "# How to create an empty class in Python?"
   ]
  },
  {
   "cell_type": "code",
   "execution_count": 20,
   "metadata": {},
   "outputs": [
    {
     "name": "stdout",
     "output_type": "stream",
     "text": [
      "<__main__.Student object at 0x000002271FEF36B0>\n",
      "<__main__.Student object at 0x000002271FEF2CC0>\n",
      "Vraj\n",
      "18\n",
      "Vipul\n",
      "college\n"
     ]
    },
    {
     "ename": "AttributeError",
     "evalue": "'Student' object has no attribute 'age'",
     "output_type": "error",
     "traceback": [
      "\u001b[1;31m---------------------------------------------------------------------------\u001b[0m",
      "\u001b[1;31mAttributeError\u001b[0m                            Traceback (most recent call last)",
      "Cell \u001b[1;32mIn[20], line 21\u001b[0m\n\u001b[0;32m     19\u001b[0m \u001b[38;5;28mprint\u001b[39m(s2\u001b[38;5;241m.\u001b[39mname)\n\u001b[0;32m     20\u001b[0m \u001b[38;5;28mprint\u001b[39m(s2\u001b[38;5;241m.\u001b[39mstd)\n\u001b[1;32m---> 21\u001b[0m \u001b[38;5;28mprint\u001b[39m(s2\u001b[38;5;241m.\u001b[39mage)\n",
      "\u001b[1;31mAttributeError\u001b[0m: 'Student' object has no attribute 'age'"
     ]
    }
   ],
   "source": [
    "class Student:\n",
    "    pass\n",
    "\n",
    "s1 = Student()\n",
    "\n",
    "s1.name = \"Vraj\"\n",
    "s1.age = 18\n",
    "\n",
    "s2 = Student()\n",
    "\n",
    "s2.name = \"Vipul\"\n",
    "s2.std = \"college\"\n",
    "\n",
    "print(s1)\n",
    "print(s2)\n",
    "\n",
    "print(s1.name)\n",
    "print(s1.age)\n",
    "print(s2.name)\n",
    "print(s2.std)\n",
    "print(s2.age)\n",
    "# print(s1.std)"
   ]
  },
  {
   "cell_type": "markdown",
   "metadata": {},
   "source": [
    "Student management system in Python"
   ]
  },
  {
   "cell_type": "code",
   "execution_count": 24,
   "metadata": {},
   "outputs": [],
   "source": [
    "class Student:\n",
    "    student_list = []\n",
    "    def __init__(self, name, rollno, marks):\n",
    "        self.name = name\n",
    "        self.rollno = rollno\n",
    "        self.marks = marks\n",
    "        \n",
    "    def Accept(self) : \n",
    "        self.student_list.append([self.name, self.rollno, self.marks])\n",
    "        \n",
    "    def Display(self):\n",
    "        for student in self.student_list:\n",
    "            print(f\"Name: {student[0]}\")\n",
    "            print(f\"Name: {student[1]}\")\n",
    "            print(f\"Name: {student[2]}\")\n",
    "            \n",
    "    def Search(self):\n",
    "        for student in self.student_list:\n",
    "            if (self.rollno in student):\n",
    "                print(f\"{self.name} is found and marks are {self.marks}\")\n",
    "            else:\n",
    "                print(\"Student not Found\")\n",
    "    \n",
    "    def Update(self, marks):\n",
    "        for student in self.student_list:\n",
    "            if (self.rollno in student):\n",
    "                student[2] = marks\n",
    "                print(\"Updated Student Information:\")\n",
    "                self.Display()\n",
    "            else:\n",
    "                print(\"Student not Found\")\n",
    "                \n",
    "    def Delete(self):\n",
    "        for student in self.student_list:\n",
    "            if (self.rollno in student):\n",
    "                del student\n",
    "                print(\"Student Successfully Deleted\")\n",
    "            else:\n",
    "                print(\"Student not Found\")"
   ]
  },
  {
   "cell_type": "code",
   "execution_count": 25,
   "metadata": {},
   "outputs": [
    {
     "name": "stdout",
     "output_type": "stream",
     "text": [
      "Name: Vraj\n",
      "Name: 32\n",
      "Name: 100\n",
      "Vraj is found and marks are 100\n",
      "Updated Student Information:\n",
      "Name: Vraj\n",
      "Name: 32\n",
      "Name: 101\n",
      "Student Successfully Deleted\n"
     ]
    }
   ],
   "source": [
    "s1 = Student(\"Vraj\", 32, 100)\n",
    "\n",
    "s1.Accept()\n",
    "s1.Display()\n",
    "\n",
    "s1.Search()\n",
    "\n",
    "s1.Update(101)\n",
    "\n",
    "s1.Delete()\n"
   ]
  }
 ],
 "metadata": {
  "kernelspec": {
   "display_name": "base",
   "language": "python",
   "name": "python3"
  },
  "language_info": {
   "codemirror_mode": {
    "name": "ipython",
    "version": 3
   },
   "file_extension": ".py",
   "mimetype": "text/x-python",
   "name": "python",
   "nbconvert_exporter": "python",
   "pygments_lexer": "ipython3",
   "version": "3.12.7"
  }
 },
 "nbformat": 4,
 "nbformat_minor": 2
}
