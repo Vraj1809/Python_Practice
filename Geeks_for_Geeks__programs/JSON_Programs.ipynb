{
 "cells": [
  {
   "cell_type": "markdown",
   "metadata": {},
   "source": [
    "# Converting Python Object (dictionary) to JSON"
   ]
  },
  {
   "cell_type": "code",
   "execution_count": 1,
   "metadata": {},
   "outputs": [
    {
     "name": "stdout",
     "output_type": "stream",
     "text": [
      "This is Python Dictionary:  {'id': 32, 'name': 'Vraj', 'age': 21}\n",
      "Converting the Dictionary to JSON\n",
      "This is the JSON data: <class 'str'>\n",
      "{\n",
      "    \"id\": 32,\n",
      "    \"name\": \"Vraj\",\n",
      "    \"age\": 21\n",
      "}\n"
     ]
    }
   ],
   "source": [
    "# converting\n",
    "\n",
    "import json\n",
    "student_dict = {\n",
    "    'id' : 32,\n",
    "    'name' : 'Vraj',\n",
    "    'age' : 21\n",
    "}\n",
    "\n",
    "print(\"This is Python Dictionary: \", student_dict)\n",
    "\n",
    "print(\"Converting the Dictionary to JSON\")\n",
    "\n",
    "# json.dumps --> convert python object to json\n",
    "# json.dump --> writing to the json file\n",
    "json_object = json.dumps(student_dict, indent = 4)\n",
    "print(\"This is the JSON data:\", type(json_object))\n",
    "print(json_object)\n"
   ]
  },
  {
   "cell_type": "code",
   "execution_count": 3,
   "metadata": {},
   "outputs": [],
   "source": [
    "# writing into the json file\n",
    "file = open('json_file.json', 'w')\n",
    "json.dump(student_dict, file) # we have to pass the dictionary here , not the converted json object\n",
    "file.close()"
   ]
  },
  {
   "cell_type": "markdown",
   "metadata": {},
   "source": [
    "# Converting JSON to Python object"
   ]
  },
  {
   "cell_type": "code",
   "execution_count": 4,
   "metadata": {},
   "outputs": [
    {
     "name": "stdout",
     "output_type": "stream",
     "text": [
      "This is JSON {\n",
      "    \"id\": 32,\n",
      "    \"name\": \"Vraj\",\n",
      "    \"age\": 21\n",
      "}\n",
      "Converting the JSON to Python Object\n",
      "Converted to Python <class 'dict'>\n",
      "{'id': 32, 'name': 'Vraj', 'age': 21}\n"
     ]
    }
   ],
   "source": [
    "# json string --> json_object\n",
    "\n",
    "# using json.loads to convert the json to python object\n",
    "print(f\"This is JSON {json_object}\")\n",
    "print(\"Converting the JSON to Python Object\")\n",
    "\n",
    "student_converted_dict = json.loads(json_object)\n",
    "print(\"Converted to Python\", type(student_converted_dict))\n",
    "print(student_converted_dict)\n",
    "\n"
   ]
  },
  {
   "cell_type": "code",
   "execution_count": 6,
   "metadata": {},
   "outputs": [
    {
     "name": "stdout",
     "output_type": "stream",
     "text": [
      "{'id': 32, 'name': 'Vraj', 'age': 21}\n"
     ]
    }
   ],
   "source": [
    "# using json.load to read data from a file and convert it too the python dictionary\n",
    "file = open('json_file.json', 'r')\n",
    "\n",
    "print(json.load(file))"
   ]
  },
  {
   "cell_type": "markdown",
   "metadata": {},
   "source": [
    "# Converting Class Object to JSON "
   ]
  },
  {
   "cell_type": "code",
   "execution_count": 16,
   "metadata": {},
   "outputs": [
    {
     "name": "stdout",
     "output_type": "stream",
     "text": [
      "{\"name\": \"Vraj\", \"age\": 21}\n",
      "{\"name\": \"Vipul\", \"age\": 49}\n",
      "{\"name\": \"Anuradha\", \"age\": 44}\n",
      "{\"name\": [\"Discover\"], \"price\": 5600000}\n",
      "{\"name\": [\"CR-V\"], \"price\": 1400000}\n"
     ]
    }
   ],
   "source": [
    "class Student:\n",
    "    def __init__(self, name, age):\n",
    "        self.name = name\n",
    "        self.age = age\n",
    "        \n",
    "class Car:\n",
    "    def __init__(self, name, price):\n",
    "        self.name = name,\n",
    "        self.price = price\n",
    "\n",
    "s1 = Student(\"Vraj\", 21)\n",
    "s2 = Student(\"Vipul\", 49)\n",
    "s3 = Student(\"Anuradha\", 44)\n",
    "\n",
    "c1 = Car(\"Discover\", 5600000)\n",
    "c2 = Car(\"CR-V\", 1400000)\n",
    "\n",
    "# convert to JSON format \n",
    "jsonstr1 = json.dumps(s1.__dict__) \n",
    "jsonstr2 = json.dumps(s2.__dict__)\n",
    "jsonstr3 = json.dumps(s3.__dict__)  \n",
    "jsonstr4 = json.dumps(c1.__dict__) \n",
    "jsonstr5 = json.dumps(c2.__dict__) \n",
    "  \n",
    "# print created JSON objects \n",
    "print(jsonstr1) \n",
    "print(jsonstr2) \n",
    "print(jsonstr3) \n",
    "print(jsonstr4)\n",
    "print(jsonstr5)"
   ]
  },
  {
   "cell_type": "markdown",
   "metadata": {},
   "source": [
    "# Convert JSON data Into a Custom Python Object"
   ]
  },
  {
   "cell_type": "code",
   "execution_count": 18,
   "metadata": {},
   "outputs": [
    {
     "name": "stdout",
     "output_type": "stream",
     "text": [
      "Vraj 32 21\n"
     ]
    }
   ],
   "source": [
    "from collections import namedtuple\n",
    "\n",
    "# json_object used as json data\n",
    "\n",
    "def Dict_to_Tuple(Dict):\n",
    "    return namedtuple('X', Dict.keys())(*Dict.values())\n",
    "\n",
    "x = json.loads(json_object, object_hook = Dict_to_Tuple)\n",
    "\n",
    "print(x.name, x.id, x.age)"
   ]
  },
  {
   "cell_type": "markdown",
   "metadata": {},
   "source": [
    "# Flatten JSON objects"
   ]
  },
  {
   "cell_type": "code",
   "execution_count": 20,
   "metadata": {},
   "outputs": [
    {
     "name": "stdout",
     "output_type": "stream",
     "text": [
      "{'user_Rachel_UserID': 1717171717, 'user_Rachel_Email': 'rachel1999@gmail.com', 'user_Rachel_friends_0': 'John', 'user_Rachel_friends_1': 'Jeremy', 'user_Rachel_friends_2': 'Emily'}\n"
     ]
    }
   ],
   "source": [
    "from flatten_json import flatten\n",
    " \n",
    "unflat_json = {'user':\n",
    "               {'Rachel':\n",
    "                {'UserID': 1717171717,\n",
    "                 'Email': 'rachel1999@gmail.com',\n",
    "                 'friends': ['John', 'Jeremy', 'Emily']\n",
    "                 }\n",
    "                }\n",
    "               }\n",
    " \n",
    "flat_json = flatten(unflat_json)\n",
    " \n",
    "print(flat_json)"
   ]
  }
 ],
 "metadata": {
  "kernelspec": {
   "display_name": "base",
   "language": "python",
   "name": "python3"
  },
  "language_info": {
   "codemirror_mode": {
    "name": "ipython",
    "version": 3
   },
   "file_extension": ".py",
   "mimetype": "text/x-python",
   "name": "python",
   "nbconvert_exporter": "python",
   "pygments_lexer": "ipython3",
   "version": "3.12.7"
  }
 },
 "nbformat": 4,
 "nbformat_minor": 2
}
